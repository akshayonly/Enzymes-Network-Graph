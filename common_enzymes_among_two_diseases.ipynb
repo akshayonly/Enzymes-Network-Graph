{
  "nbformat": 4,
  "nbformat_minor": 0,
  "metadata": {
    "colab": {
      "name": "common_enzymes_among_two_diseases.ipynb",
      "provenance": [],
      "collapsed_sections": [],
      "mount_file_id": "1P306nTf93huQcNPRbBWbRjYBOabM1QhZ",
      "authorship_tag": "ABX9TyNKV1+ZEg/LzrH9Teyrfnl3"
    },
    "kernelspec": {
      "name": "python3",
      "display_name": "Python 3"
    },
    "language_info": {
      "name": "python"
    }
  },
  "cells": [
    {
      "cell_type": "markdown",
      "source": [
        "1. What is bibliographic and citation data?\n",
        "2. What can we do with it?\n",
        "  - MeSH & Abstract\n",
        "  - Small Dashboard\n",
        "  - Comparison\n",
        "    - Mesh \n",
        "    - RN/ SB Enzymes "
      ],
      "metadata": {
        "id": "z3B9o6TJRs3E"
      }
    },
    {
      "cell_type": "markdown",
      "source": [
        "# Common Enzymes Among Two Diseases\n",
        "\n",
        "The main goal of this project is to search and find common enzymes from bibliographic data of any two query terms. These search terms can be two distinct or similar oncogenic diseases, viral or bacterial pathogens, or any biomedical terms for that matter. As long as there is scientific literature for these two query terms, this code can fetch their bibliographic and citation data.\n",
        "\n",
        "Below I have used two diseases with different origins, **Cancer** & **SARS CoV 2** as two query terms examples. We'd first fetch the bibliographic data from the Entrez database of NCBI. Then we'd process the data to extract only enzymes. Using these enzymes as Nodes we'd then construct a network graph. The layout of the graph is shown below.\n",
        "\n",
        "**FAQs**\n",
        "1. Why bibliographic data?\n",
        "- Frankly I don't know how we can fetch this information from another method or database. In the future, if I found out there is a better way of doing this, I'll update the code.\n",
        "\n",
        "2. Why bother to find common enzymes among two diseases?\n",
        "- I get curious about the commonality aspect of two distinct things or even topics. I wanted to create a custom script that can return a list of common enzymes between two scientific terms or phenomena. \n",
        "  \n",
        "3. Does every article's citation & bibliographic data has enzymes list?\n",
        "- Not necessarily. If enzyme(s) are mentioned in the article and its identifier(s) is included in the MeSH record."
      ],
      "metadata": {
        "id": "vPGvXGkAN3NO"
      }
    },
    {
      "cell_type": "code",
      "source": [
        "! pip install -q biopython\n",
        "\n",
        "! pip install -q pyvis\n"
      ],
      "metadata": {
        "colab": {
          "base_uri": "https://localhost:8080/"
        },
        "id": "VWhAeSZVN41V",
        "outputId": "396c8b0a-b9e3-40b2-e2cc-6afa3c4546d3"
      },
      "execution_count": null,
      "outputs": [
        {
          "output_type": "stream",
          "name": "stdout",
          "text": [
            "\u001b[?25l\r\u001b[K     |▏                               | 10 kB 4.0 MB/s eta 0:00:01\r\u001b[K     |▎                               | 20 kB 4.8 MB/s eta 0:00:01\r\u001b[K     |▍                               | 30 kB 4.5 MB/s eta 0:00:01\r\u001b[K     |▋                               | 40 kB 3.6 MB/s eta 0:00:01\r\u001b[K     |▊                               | 51 kB 3.0 MB/s eta 0:00:01\r\u001b[K     |▉                               | 61 kB 3.6 MB/s eta 0:00:01\r\u001b[K     |█                               | 71 kB 3.8 MB/s eta 0:00:01\r\u001b[K     |█▏                              | 81 kB 4.3 MB/s eta 0:00:01\r\u001b[K     |█▎                              | 92 kB 4.5 MB/s eta 0:00:01\r\u001b[K     |█▍                              | 102 kB 3.8 MB/s eta 0:00:01\r\u001b[K     |█▋                              | 112 kB 3.8 MB/s eta 0:00:01\r\u001b[K     |█▊                              | 122 kB 3.8 MB/s eta 0:00:01\r\u001b[K     |█▉                              | 133 kB 3.8 MB/s eta 0:00:01\r\u001b[K     |██                              | 143 kB 3.8 MB/s eta 0:00:01\r\u001b[K     |██▏                             | 153 kB 3.8 MB/s eta 0:00:01\r\u001b[K     |██▎                             | 163 kB 3.8 MB/s eta 0:00:01\r\u001b[K     |██▍                             | 174 kB 3.8 MB/s eta 0:00:01\r\u001b[K     |██▋                             | 184 kB 3.8 MB/s eta 0:00:01\r\u001b[K     |██▊                             | 194 kB 3.8 MB/s eta 0:00:01\r\u001b[K     |██▉                             | 204 kB 3.8 MB/s eta 0:00:01\r\u001b[K     |███                             | 215 kB 3.8 MB/s eta 0:00:01\r\u001b[K     |███▏                            | 225 kB 3.8 MB/s eta 0:00:01\r\u001b[K     |███▎                            | 235 kB 3.8 MB/s eta 0:00:01\r\u001b[K     |███▌                            | 245 kB 3.8 MB/s eta 0:00:01\r\u001b[K     |███▋                            | 256 kB 3.8 MB/s eta 0:00:01\r\u001b[K     |███▊                            | 266 kB 3.8 MB/s eta 0:00:01\r\u001b[K     |███▉                            | 276 kB 3.8 MB/s eta 0:00:01\r\u001b[K     |████                            | 286 kB 3.8 MB/s eta 0:00:01\r\u001b[K     |████▏                           | 296 kB 3.8 MB/s eta 0:00:01\r\u001b[K     |████▎                           | 307 kB 3.8 MB/s eta 0:00:01\r\u001b[K     |████▌                           | 317 kB 3.8 MB/s eta 0:00:01\r\u001b[K     |████▋                           | 327 kB 3.8 MB/s eta 0:00:01\r\u001b[K     |████▊                           | 337 kB 3.8 MB/s eta 0:00:01\r\u001b[K     |████▉                           | 348 kB 3.8 MB/s eta 0:00:01\r\u001b[K     |█████                           | 358 kB 3.8 MB/s eta 0:00:01\r\u001b[K     |█████▏                          | 368 kB 3.8 MB/s eta 0:00:01\r\u001b[K     |█████▎                          | 378 kB 3.8 MB/s eta 0:00:01\r\u001b[K     |█████▌                          | 389 kB 3.8 MB/s eta 0:00:01\r\u001b[K     |█████▋                          | 399 kB 3.8 MB/s eta 0:00:01\r\u001b[K     |█████▊                          | 409 kB 3.8 MB/s eta 0:00:01\r\u001b[K     |██████                          | 419 kB 3.8 MB/s eta 0:00:01\r\u001b[K     |██████                          | 430 kB 3.8 MB/s eta 0:00:01\r\u001b[K     |██████▏                         | 440 kB 3.8 MB/s eta 0:00:01\r\u001b[K     |██████▎                         | 450 kB 3.8 MB/s eta 0:00:01\r\u001b[K     |██████▌                         | 460 kB 3.8 MB/s eta 0:00:01\r\u001b[K     |██████▋                         | 471 kB 3.8 MB/s eta 0:00:01\r\u001b[K     |██████▊                         | 481 kB 3.8 MB/s eta 0:00:01\r\u001b[K     |███████                         | 491 kB 3.8 MB/s eta 0:00:01\r\u001b[K     |███████                         | 501 kB 3.8 MB/s eta 0:00:01\r\u001b[K     |███████▏                        | 512 kB 3.8 MB/s eta 0:00:01\r\u001b[K     |███████▎                        | 522 kB 3.8 MB/s eta 0:00:01\r\u001b[K     |███████▌                        | 532 kB 3.8 MB/s eta 0:00:01\r\u001b[K     |███████▋                        | 542 kB 3.8 MB/s eta 0:00:01\r\u001b[K     |███████▊                        | 552 kB 3.8 MB/s eta 0:00:01\r\u001b[K     |████████                        | 563 kB 3.8 MB/s eta 0:00:01\r\u001b[K     |████████                        | 573 kB 3.8 MB/s eta 0:00:01\r\u001b[K     |████████▏                       | 583 kB 3.8 MB/s eta 0:00:01\r\u001b[K     |████████▍                       | 593 kB 3.8 MB/s eta 0:00:01\r\u001b[K     |████████▌                       | 604 kB 3.8 MB/s eta 0:00:01\r\u001b[K     |████████▋                       | 614 kB 3.8 MB/s eta 0:00:01\r\u001b[K     |████████▊                       | 624 kB 3.8 MB/s eta 0:00:01\r\u001b[K     |█████████                       | 634 kB 3.8 MB/s eta 0:00:01\r\u001b[K     |█████████                       | 645 kB 3.8 MB/s eta 0:00:01\r\u001b[K     |█████████▏                      | 655 kB 3.8 MB/s eta 0:00:01\r\u001b[K     |█████████▍                      | 665 kB 3.8 MB/s eta 0:00:01\r\u001b[K     |█████████▌                      | 675 kB 3.8 MB/s eta 0:00:01\r\u001b[K     |█████████▋                      | 686 kB 3.8 MB/s eta 0:00:01\r\u001b[K     |█████████▊                      | 696 kB 3.8 MB/s eta 0:00:01\r\u001b[K     |██████████                      | 706 kB 3.8 MB/s eta 0:00:01\r\u001b[K     |██████████                      | 716 kB 3.8 MB/s eta 0:00:01\r\u001b[K     |██████████▏                     | 727 kB 3.8 MB/s eta 0:00:01\r\u001b[K     |██████████▍                     | 737 kB 3.8 MB/s eta 0:00:01\r\u001b[K     |██████████▌                     | 747 kB 3.8 MB/s eta 0:00:01\r\u001b[K     |██████████▋                     | 757 kB 3.8 MB/s eta 0:00:01\r\u001b[K     |██████████▉                     | 768 kB 3.8 MB/s eta 0:00:01\r\u001b[K     |███████████                     | 778 kB 3.8 MB/s eta 0:00:01\r\u001b[K     |███████████                     | 788 kB 3.8 MB/s eta 0:00:01\r\u001b[K     |███████████▏                    | 798 kB 3.8 MB/s eta 0:00:01\r\u001b[K     |███████████▍                    | 808 kB 3.8 MB/s eta 0:00:01\r\u001b[K     |███████████▌                    | 819 kB 3.8 MB/s eta 0:00:01\r\u001b[K     |███████████▋                    | 829 kB 3.8 MB/s eta 0:00:01\r\u001b[K     |███████████▉                    | 839 kB 3.8 MB/s eta 0:00:01\r\u001b[K     |████████████                    | 849 kB 3.8 MB/s eta 0:00:01\r\u001b[K     |████████████                    | 860 kB 3.8 MB/s eta 0:00:01\r\u001b[K     |████████████▏                   | 870 kB 3.8 MB/s eta 0:00:01\r\u001b[K     |████████████▍                   | 880 kB 3.8 MB/s eta 0:00:01\r\u001b[K     |████████████▌                   | 890 kB 3.8 MB/s eta 0:00:01\r\u001b[K     |████████████▋                   | 901 kB 3.8 MB/s eta 0:00:01\r\u001b[K     |████████████▉                   | 911 kB 3.8 MB/s eta 0:00:01\r\u001b[K     |█████████████                   | 921 kB 3.8 MB/s eta 0:00:01\r\u001b[K     |█████████████                   | 931 kB 3.8 MB/s eta 0:00:01\r\u001b[K     |█████████████▎                  | 942 kB 3.8 MB/s eta 0:00:01\r\u001b[K     |█████████████▍                  | 952 kB 3.8 MB/s eta 0:00:01\r\u001b[K     |█████████████▌                  | 962 kB 3.8 MB/s eta 0:00:01\r\u001b[K     |█████████████▋                  | 972 kB 3.8 MB/s eta 0:00:01\r\u001b[K     |█████████████▉                  | 983 kB 3.8 MB/s eta 0:00:01\r\u001b[K     |██████████████                  | 993 kB 3.8 MB/s eta 0:00:01\r\u001b[K     |██████████████                  | 1.0 MB 3.8 MB/s eta 0:00:01\r\u001b[K     |██████████████▎                 | 1.0 MB 3.8 MB/s eta 0:00:01\r\u001b[K     |██████████████▍                 | 1.0 MB 3.8 MB/s eta 0:00:01\r\u001b[K     |██████████████▌                 | 1.0 MB 3.8 MB/s eta 0:00:01\r\u001b[K     |██████████████▋                 | 1.0 MB 3.8 MB/s eta 0:00:01\r\u001b[K     |██████████████▉                 | 1.1 MB 3.8 MB/s eta 0:00:01\r\u001b[K     |███████████████                 | 1.1 MB 3.8 MB/s eta 0:00:01\r\u001b[K     |███████████████                 | 1.1 MB 3.8 MB/s eta 0:00:01\r\u001b[K     |███████████████▎                | 1.1 MB 3.8 MB/s eta 0:00:01\r\u001b[K     |███████████████▍                | 1.1 MB 3.8 MB/s eta 0:00:01\r\u001b[K     |███████████████▌                | 1.1 MB 3.8 MB/s eta 0:00:01\r\u001b[K     |███████████████▊                | 1.1 MB 3.8 MB/s eta 0:00:01\r\u001b[K     |███████████████▉                | 1.1 MB 3.8 MB/s eta 0:00:01\r\u001b[K     |████████████████                | 1.1 MB 3.8 MB/s eta 0:00:01\r\u001b[K     |████████████████                | 1.1 MB 3.8 MB/s eta 0:00:01\r\u001b[K     |████████████████▎               | 1.2 MB 3.8 MB/s eta 0:00:01\r\u001b[K     |████████████████▍               | 1.2 MB 3.8 MB/s eta 0:00:01\r\u001b[K     |████████████████▌               | 1.2 MB 3.8 MB/s eta 0:00:01\r\u001b[K     |████████████████▊               | 1.2 MB 3.8 MB/s eta 0:00:01\r\u001b[K     |████████████████▉               | 1.2 MB 3.8 MB/s eta 0:00:01\r\u001b[K     |█████████████████               | 1.2 MB 3.8 MB/s eta 0:00:01\r\u001b[K     |█████████████████               | 1.2 MB 3.8 MB/s eta 0:00:01\r\u001b[K     |█████████████████▎              | 1.2 MB 3.8 MB/s eta 0:00:01\r\u001b[K     |█████████████████▍              | 1.2 MB 3.8 MB/s eta 0:00:01\r\u001b[K     |█████████████████▌              | 1.2 MB 3.8 MB/s eta 0:00:01\r\u001b[K     |█████████████████▊              | 1.3 MB 3.8 MB/s eta 0:00:01\r\u001b[K     |█████████████████▉              | 1.3 MB 3.8 MB/s eta 0:00:01\r\u001b[K     |██████████████████              | 1.3 MB 3.8 MB/s eta 0:00:01\r\u001b[K     |██████████████████▏             | 1.3 MB 3.8 MB/s eta 0:00:01\r\u001b[K     |██████████████████▎             | 1.3 MB 3.8 MB/s eta 0:00:01\r\u001b[K     |██████████████████▍             | 1.3 MB 3.8 MB/s eta 0:00:01\r\u001b[K     |██████████████████▌             | 1.3 MB 3.8 MB/s eta 0:00:01\r\u001b[K     |██████████████████▊             | 1.3 MB 3.8 MB/s eta 0:00:01\r\u001b[K     |██████████████████▉             | 1.3 MB 3.8 MB/s eta 0:00:01\r\u001b[K     |███████████████████             | 1.4 MB 3.8 MB/s eta 0:00:01\r\u001b[K     |███████████████████▏            | 1.4 MB 3.8 MB/s eta 0:00:01\r\u001b[K     |███████████████████▎            | 1.4 MB 3.8 MB/s eta 0:00:01\r\u001b[K     |███████████████████▍            | 1.4 MB 3.8 MB/s eta 0:00:01\r\u001b[K     |███████████████████▌            | 1.4 MB 3.8 MB/s eta 0:00:01\r\u001b[K     |███████████████████▊            | 1.4 MB 3.8 MB/s eta 0:00:01\r\u001b[K     |███████████████████▉            | 1.4 MB 3.8 MB/s eta 0:00:01\r\u001b[K     |████████████████████            | 1.4 MB 3.8 MB/s eta 0:00:01\r\u001b[K     |████████████████████▏           | 1.4 MB 3.8 MB/s eta 0:00:01\r\u001b[K     |████████████████████▎           | 1.4 MB 3.8 MB/s eta 0:00:01\r\u001b[K     |████████████████████▍           | 1.5 MB 3.8 MB/s eta 0:00:01\r\u001b[K     |████████████████████▋           | 1.5 MB 3.8 MB/s eta 0:00:01\r\u001b[K     |████████████████████▊           | 1.5 MB 3.8 MB/s eta 0:00:01\r\u001b[K     |████████████████████▉           | 1.5 MB 3.8 MB/s eta 0:00:01\r\u001b[K     |█████████████████████           | 1.5 MB 3.8 MB/s eta 0:00:01\r\u001b[K     |█████████████████████▏          | 1.5 MB 3.8 MB/s eta 0:00:01\r\u001b[K     |█████████████████████▎          | 1.5 MB 3.8 MB/s eta 0:00:01\r\u001b[K     |█████████████████████▍          | 1.5 MB 3.8 MB/s eta 0:00:01\r\u001b[K     |█████████████████████▋          | 1.5 MB 3.8 MB/s eta 0:00:01\r\u001b[K     |█████████████████████▊          | 1.5 MB 3.8 MB/s eta 0:00:01\r\u001b[K     |█████████████████████▉          | 1.6 MB 3.8 MB/s eta 0:00:01\r\u001b[K     |██████████████████████          | 1.6 MB 3.8 MB/s eta 0:00:01\r\u001b[K     |██████████████████████▏         | 1.6 MB 3.8 MB/s eta 0:00:01\r\u001b[K     |██████████████████████▎         | 1.6 MB 3.8 MB/s eta 0:00:01\r\u001b[K     |██████████████████████▍         | 1.6 MB 3.8 MB/s eta 0:00:01\r\u001b[K     |██████████████████████▋         | 1.6 MB 3.8 MB/s eta 0:00:01\r\u001b[K     |██████████████████████▊         | 1.6 MB 3.8 MB/s eta 0:00:01\r\u001b[K     |██████████████████████▉         | 1.6 MB 3.8 MB/s eta 0:00:01\r\u001b[K     |███████████████████████         | 1.6 MB 3.8 MB/s eta 0:00:01\r\u001b[K     |███████████████████████▏        | 1.6 MB 3.8 MB/s eta 0:00:01\r\u001b[K     |███████████████████████▎        | 1.7 MB 3.8 MB/s eta 0:00:01\r\u001b[K     |███████████████████████▍        | 1.7 MB 3.8 MB/s eta 0:00:01\r\u001b[K     |███████████████████████▋        | 1.7 MB 3.8 MB/s eta 0:00:01\r\u001b[K     |███████████████████████▊        | 1.7 MB 3.8 MB/s eta 0:00:01\r\u001b[K     |███████████████████████▉        | 1.7 MB 3.8 MB/s eta 0:00:01\r\u001b[K     |████████████████████████        | 1.7 MB 3.8 MB/s eta 0:00:01\r\u001b[K     |████████████████████████▏       | 1.7 MB 3.8 MB/s eta 0:00:01\r\u001b[K     |████████████████████████▎       | 1.7 MB 3.8 MB/s eta 0:00:01\r\u001b[K     |████████████████████████▍       | 1.7 MB 3.8 MB/s eta 0:00:01\r\u001b[K     |████████████████████████▋       | 1.8 MB 3.8 MB/s eta 0:00:01\r\u001b[K     |████████████████████████▊       | 1.8 MB 3.8 MB/s eta 0:00:01\r\u001b[K     |████████████████████████▉       | 1.8 MB 3.8 MB/s eta 0:00:01\r\u001b[K     |█████████████████████████       | 1.8 MB 3.8 MB/s eta 0:00:01\r\u001b[K     |█████████████████████████▏      | 1.8 MB 3.8 MB/s eta 0:00:01\r\u001b[K     |█████████████████████████▎      | 1.8 MB 3.8 MB/s eta 0:00:01\r\u001b[K     |█████████████████████████▌      | 1.8 MB 3.8 MB/s eta 0:00:01\r\u001b[K     |█████████████████████████▋      | 1.8 MB 3.8 MB/s eta 0:00:01\r\u001b[K     |█████████████████████████▊      | 1.8 MB 3.8 MB/s eta 0:00:01\r\u001b[K     |█████████████████████████▉      | 1.8 MB 3.8 MB/s eta 0:00:01\r\u001b[K     |██████████████████████████      | 1.9 MB 3.8 MB/s eta 0:00:01\r\u001b[K     |██████████████████████████▏     | 1.9 MB 3.8 MB/s eta 0:00:01\r\u001b[K     |██████████████████████████▎     | 1.9 MB 3.8 MB/s eta 0:00:01\r\u001b[K     |██████████████████████████▌     | 1.9 MB 3.8 MB/s eta 0:00:01\r\u001b[K     |██████████████████████████▋     | 1.9 MB 3.8 MB/s eta 0:00:01\r\u001b[K     |██████████████████████████▊     | 1.9 MB 3.8 MB/s eta 0:00:01\r\u001b[K     |██████████████████████████▉     | 1.9 MB 3.8 MB/s eta 0:00:01\r\u001b[K     |███████████████████████████     | 1.9 MB 3.8 MB/s eta 0:00:01\r\u001b[K     |███████████████████████████▏    | 1.9 MB 3.8 MB/s eta 0:00:01\r\u001b[K     |███████████████████████████▎    | 1.9 MB 3.8 MB/s eta 0:00:01\r\u001b[K     |███████████████████████████▌    | 2.0 MB 3.8 MB/s eta 0:00:01\r\u001b[K     |███████████████████████████▋    | 2.0 MB 3.8 MB/s eta 0:00:01\r\u001b[K     |███████████████████████████▊    | 2.0 MB 3.8 MB/s eta 0:00:01\r\u001b[K     |████████████████████████████    | 2.0 MB 3.8 MB/s eta 0:00:01\r\u001b[K     |████████████████████████████    | 2.0 MB 3.8 MB/s eta 0:00:01\r\u001b[K     |████████████████████████████▏   | 2.0 MB 3.8 MB/s eta 0:00:01\r\u001b[K     |████████████████████████████▎   | 2.0 MB 3.8 MB/s eta 0:00:01\r\u001b[K     |████████████████████████████▌   | 2.0 MB 3.8 MB/s eta 0:00:01\r\u001b[K     |████████████████████████████▋   | 2.0 MB 3.8 MB/s eta 0:00:01\r\u001b[K     |████████████████████████████▊   | 2.0 MB 3.8 MB/s eta 0:00:01\r\u001b[K     |█████████████████████████████   | 2.1 MB 3.8 MB/s eta 0:00:01\r\u001b[K     |█████████████████████████████   | 2.1 MB 3.8 MB/s eta 0:00:01\r\u001b[K     |█████████████████████████████▏  | 2.1 MB 3.8 MB/s eta 0:00:01\r\u001b[K     |█████████████████████████████▎  | 2.1 MB 3.8 MB/s eta 0:00:01\r\u001b[K     |█████████████████████████████▌  | 2.1 MB 3.8 MB/s eta 0:00:01\r\u001b[K     |█████████████████████████████▋  | 2.1 MB 3.8 MB/s eta 0:00:01\r\u001b[K     |█████████████████████████████▊  | 2.1 MB 3.8 MB/s eta 0:00:01\r\u001b[K     |██████████████████████████████  | 2.1 MB 3.8 MB/s eta 0:00:01\r\u001b[K     |██████████████████████████████  | 2.1 MB 3.8 MB/s eta 0:00:01\r\u001b[K     |██████████████████████████████▏ | 2.2 MB 3.8 MB/s eta 0:00:01\r\u001b[K     |██████████████████████████████▍ | 2.2 MB 3.8 MB/s eta 0:00:01\r\u001b[K     |██████████████████████████████▌ | 2.2 MB 3.8 MB/s eta 0:00:01\r\u001b[K     |██████████████████████████████▋ | 2.2 MB 3.8 MB/s eta 0:00:01\r\u001b[K     |██████████████████████████████▊ | 2.2 MB 3.8 MB/s eta 0:00:01\r\u001b[K     |███████████████████████████████ | 2.2 MB 3.8 MB/s eta 0:00:01\r\u001b[K     |███████████████████████████████ | 2.2 MB 3.8 MB/s eta 0:00:01\r\u001b[K     |███████████████████████████████▏| 2.2 MB 3.8 MB/s eta 0:00:01\r\u001b[K     |███████████████████████████████▍| 2.2 MB 3.8 MB/s eta 0:00:01\r\u001b[K     |███████████████████████████████▌| 2.2 MB 3.8 MB/s eta 0:00:01\r\u001b[K     |███████████████████████████████▋| 2.3 MB 3.8 MB/s eta 0:00:01\r\u001b[K     |███████████████████████████████▊| 2.3 MB 3.8 MB/s eta 0:00:01\r\u001b[K     |████████████████████████████████| 2.3 MB 3.8 MB/s eta 0:00:01\r\u001b[K     |████████████████████████████████| 2.3 MB 3.8 MB/s \n",
            "\u001b[?25h"
          ]
        }
      ]
    },
    {
      "cell_type": "code",
      "source": [
        "# Fetching PubMed article metadata\n",
        "from Bio import Entrez, Medline\n",
        "\n",
        "# Graph creation and visualisation\n",
        "from pyvis.network import Network\n",
        "import networkx as nx \n",
        "\n",
        "import time\n",
        "import os \n",
        "from operator import itemgetter"
      ],
      "metadata": {
        "id": "tq25ZE21OBew"
      },
      "execution_count": null,
      "outputs": []
    },
    {
      "cell_type": "markdown",
      "source": [
        "## Manual Text File"
      ],
      "metadata": {
        "id": "kZ_xIWW_PV7s"
      }
    },
    {
      "cell_type": "code",
      "source": [
        "def process_pmid_txt(text_file_path):\n",
        "\n",
        "  pmids = list()\n",
        "\n",
        "  f = open(text_file_path, \"r\")\n",
        "\n",
        "  for pmid in f.read().split('\\n'):\n",
        "    pmids.append(pmid.strip())  \n",
        "  \n",
        "  f.close()\n",
        "  \n",
        "  return pmids"
      ],
      "metadata": {
        "id": "JZiTWxEkQb1s"
      },
      "execution_count": null,
      "outputs": []
    },
    {
      "cell_type": "code",
      "source": [
        "def fetch_data(pmids):\n",
        "    \"\"\"Returns MEDLINE/pubmed record associated with the PMID(s)\"\"\"\n",
        "    \n",
        "    Entrez.email = 'akishirsath@gmail.com'\n",
        "\n",
        "    handle = Entrez.efetch(db=\"pubmed\", \n",
        "                           id=pmids, \n",
        "                           rettype=\"medline\", \n",
        "                           retmode=\"text\")\n",
        "\n",
        "    records = Medline.parse(handle)    \n",
        "    \n",
        "    return list(records)"
      ],
      "metadata": {
        "id": "5F_DNn5LSKfd"
      },
      "execution_count": null,
      "outputs": []
    },
    {
      "cell_type": "code",
      "source": [
        "first_file = \"/content/drive/MyDrive/05-Data/PubMed-Common-Enzymes/pmid-Dementia-set.txt\"\n",
        "\n",
        "second_file = \"/content/drive/MyDrive/05-Data/PubMed-Common-Enzymes/pmid-Schizophre-set.txt\""
      ],
      "metadata": {
        "id": "ZCFUm_-1Th3T"
      },
      "execution_count": null,
      "outputs": []
    },
    {
      "cell_type": "code",
      "source": [
        "first_pmids = process_pmid_txt(first_file)\n",
        "\n",
        "first_data = fetch_data(\",\".join(first_pmids))\n",
        "\n",
        "time.sleep(10)\n",
        "\n",
        "second_pmids = process_pmid_txt(second_file)\n",
        "\n",
        "second_data = fetch_data(\",\".join(second_pmids))"
      ],
      "metadata": {
        "id": "yj1jg2SpT-Yq"
      },
      "execution_count": null,
      "outputs": []
    },
    {
      "cell_type": "code",
      "source": [
        "first_data[10]"
      ],
      "metadata": {
        "colab": {
          "base_uri": "https://localhost:8080/"
        },
        "id": "EaQH3oF2UxDy",
        "outputId": "c661b628-a026-4e3a-ab53-7379d62eaf66"
      },
      "execution_count": null,
      "outputs": [
        {
          "output_type": "execute_result",
          "data": {
            "text/plain": [
              "{'AB': \"Dementia raises many ethical issues. The present review, taking note of the fact that the stages of dementia raise distinct ethical issues, focuses on three issues associated with stages of dementia's progression: (1) how the emergence of preclinical and asymptomatic but at-risk categories for dementia creates complex questions about preventive measures, risk disclosure, and protection from stigma and discrimination; (2) how despite efforts at dementia prevention, important research continues to investigate ways to alleviate clinical dementia's symptoms, and requires additional human subjects protections to ethically enroll persons with dementia; and (3) how in spite of research and prevention efforts, persons continue to need to live with dementia. This review highlights two major themes. First is how expanding the boundaries of dementias such as Alzheimer's to include asymptomatic but at-risk persons generate new ethical questions. One promising way to address these questions is to take an integrated approach to dementia ethics, which can include incorporating ethics-related data collection into the design of a dementia research study itself. Second is the interdisciplinary nature of ethical questions related to dementia, from health policy questions about insurance coverage for long-term care to political questions about voting, driving, and other civic rights and privileges to economic questions about balancing an employer's right to a safe and productive workforce with an employee's rights to avoid discrimination on the basis of their dementia risk. The review highlights these themes and emerging ethical issues in dementia.\",\n",
              " 'AD': ['Department of Sociology,Princeton University,106 Wallace Hall,Princeton,New Jersey,USA.',\n",
              "  'Department of Medicine,Perelman School of Medicine,University of Pennsylvania,3615 Chestnut Street,Philadelphia,Pennsylvania,USA.'],\n",
              " 'AID': ['S1041610215000848 [pii]', '10.1017/S1041610215000848 [doi]'],\n",
              " 'AU': ['Johnson RA', 'Karlawish J'],\n",
              " 'CRDT': ['2015/06/11 06:00'],\n",
              " 'DCOM': '20160603',\n",
              " 'DEP': '20150610',\n",
              " 'DP': '2015 Oct',\n",
              " 'EDAT': '2015/06/11 06:00',\n",
              " 'FAU': ['Johnson, Rebecca A', 'Karlawish, Jason'],\n",
              " 'GR': ['AG01024/AG/NIA NIH HHS/United States',\n",
              "  'U48-DP-00553-01S3/DP/NCCDPHP CDC HHS/United States'],\n",
              " 'IP': '10',\n",
              " 'IS': '1741-203X (Electronic) 1041-6102 (Linking)',\n",
              " 'JID': '9007918',\n",
              " 'JT': 'International psychogeriatrics',\n",
              " 'LA': ['eng'],\n",
              " 'LID': '10.1017/S1041610215000848 [doi]',\n",
              " 'LR': '20161020',\n",
              " 'MH': ['Dementia/diagnosis/*therapy',\n",
              "  'Disclosure/*ethics',\n",
              "  '*Ethics, Research',\n",
              "  'Human Rights',\n",
              "  'Humans',\n",
              "  'Patient Care/*ethics',\n",
              "  'Social Discrimination',\n",
              "  'Social Stigma'],\n",
              " 'MHDA': '2016/06/04 06:00',\n",
              " 'OT': [\"Alzheimer's disease\",\n",
              "  'dementia',\n",
              "  'ethics',\n",
              "  'medical-legal issues',\n",
              "  'stigma'],\n",
              " 'OTO': ['NOTNLM'],\n",
              " 'OWN': 'NLM',\n",
              " 'PG': '1635-47',\n",
              " 'PHST': ['2015/06/11 06:00 [entrez]',\n",
              "  '2015/06/11 06:00 [pubmed]',\n",
              "  '2016/06/04 06:00 [medline]'],\n",
              " 'PL': 'England',\n",
              " 'PMID': '26061118',\n",
              " 'PST': 'ppublish',\n",
              " 'PT': ['Journal Article',\n",
              "  'Research Support, N.I.H., Extramural',\n",
              "  \"Research Support, Non-U.S. Gov't\",\n",
              "  \"Research Support, U.S. Gov't, P.H.S.\",\n",
              "  'Review'],\n",
              " 'SB': 'IM',\n",
              " 'SO': 'Int Psychogeriatr. 2015 Oct;27(10):1635-47. doi: 10.1017/S1041610215000848. Epub 2015 Jun 10.',\n",
              " 'STAT': 'MEDLINE',\n",
              " 'TA': 'Int Psychogeriatr',\n",
              " 'TI': 'A review of ethical issues in dementia.',\n",
              " 'VI': '27'}"
            ]
          },
          "metadata": {},
          "execution_count": 8
        }
      ]
    },
    {
      "cell_type": "code",
      "source": [
        "D = nx.Graph()\n",
        "\n",
        "for record in first_data:\n",
        "  substances = record.get('RN', \"NONE\")\n",
        "  if substances != \"NONE\":\n",
        "    for molecule in substances:\n",
        "      if molecule.startswith('EC'):\n",
        "\n",
        "        # Primary PMID node\n",
        "        main_node = str(record.get('PMID', \"NONE\")).strip()\n",
        "        D.add_node(main_node, ntype='Dementia_Primary')\n",
        "\n",
        "        # Secondary Enzyme node\n",
        "        D.add_node(molecule, ntype='Dementia_Secondary')\n",
        "        D.add_edge(main_node, molecule)"
      ],
      "metadata": {
        "id": "qmf60thjVbEa"
      },
      "execution_count": null,
      "outputs": []
    },
    {
      "cell_type": "code",
      "source": [
        "D.number_of_nodes()"
      ],
      "metadata": {
        "colab": {
          "base_uri": "https://localhost:8080/"
        },
        "id": "mD4fONqlXgQk",
        "outputId": "db7d8daf-da9f-4294-b500-cbece8638c92"
      },
      "execution_count": null,
      "outputs": [
        {
          "output_type": "execute_result",
          "data": {
            "text/plain": [
              "128"
            ]
          },
          "metadata": {},
          "execution_count": 28
        }
      ]
    },
    {
      "cell_type": "code",
      "source": [
        "S = nx.Graph()\n",
        "\n",
        "for record in second_data:\n",
        "  substances = record.get('RN', \"NONE\")\n",
        "  if substances != \"NONE\":\n",
        "    for molecule in substances:\n",
        "      if molecule.startswith('EC'):\n",
        "\n",
        "        # Primary PMID node\n",
        "        main_node = str(record.get('PMID', \"NONE\")).strip()\n",
        "        S.add_node(main_node, ntype='Schizophrenia_Primary')\n",
        "\n",
        "        # Secondary Enzyme node\n",
        "        S.add_node(molecule, ntype='Schizophrenia_Secondary')\n",
        "        S.add_edge(main_node, molecule)"
      ],
      "metadata": {
        "id": "pbuL7sZaWYzT"
      },
      "execution_count": null,
      "outputs": []
    },
    {
      "cell_type": "code",
      "source": [
        "S.number_of_nodes()"
      ],
      "metadata": {
        "colab": {
          "base_uri": "https://localhost:8080/"
        },
        "id": "ODqrCg4bXiUI",
        "outputId": "4dfb8974-341a-425a-e21e-7100a28273e6"
      },
      "execution_count": null,
      "outputs": [
        {
          "output_type": "execute_result",
          "data": {
            "text/plain": [
              "263"
            ]
          },
          "metadata": {},
          "execution_count": 30
        }
      ]
    },
    {
      "cell_type": "code",
      "source": [
        "# Combing graph \n",
        "compose_graph = nx.compose(D, S)"
      ],
      "metadata": {
        "id": "l4qjX-tnWutR"
      },
      "execution_count": null,
      "outputs": []
    },
    {
      "cell_type": "code",
      "source": [
        "compose_graph.number_of_nodes()"
      ],
      "metadata": {
        "colab": {
          "base_uri": "https://localhost:8080/"
        },
        "id": "o9jjYC_UW274",
        "outputId": "dfa9c38c-4531-48b8-b626-cdc612d0f408"
      },
      "execution_count": null,
      "outputs": [
        {
          "output_type": "execute_result",
          "data": {
            "text/plain": [
              "375"
            ]
          },
          "metadata": {},
          "execution_count": 32
        }
      ]
    },
    {
      "cell_type": "code",
      "source": [
        "compose_graph.nodes()"
      ],
      "metadata": {
        "colab": {
          "base_uri": "https://localhost:8080/"
        },
        "id": "iRlAp7IcXUQS",
        "outputId": "4a183149-a420-4d8c-d386-fd357eb857b7"
      },
      "execution_count": null,
      "outputs": [
        {
          "output_type": "execute_result",
          "data": {
            "text/plain": [
              "NodeView(('22840750', 'EC 2.7.11.13 (Protein Kinase C)', '15265275', 'EC 1.14.13.39 (Nitric Oxide Synthase)', '6130593', 'EC 2.3.1.6 (Choline O-Acetyltransferase)', 'EC 3.1.1.7 (Acetylcholinesterase)', 'EC 4.1.1.15 (Glutamate Decarboxylase)', '16924032', 'EC 3.4.- (Amyloid Precursor Protein Secretases)', 'EC 3.4.- (Endopeptidases)', 'EC 3.4.23.- (Aspartic Acid Endopeptidases)', 'EC 3.4.23.46 (BACE1 protein, human)', '14739545', 'EC 1.1.1.27 (L-Lactate Dehydrogenase)', '26450764', 'EC 2.3.2.- (Aminoacyltransferases)', 'EC 2.3.2.5 (glutaminyl-peptide cyclotransferase)', '12938732', 'EC 1.6.3.- (NADPH Oxidases)', '21648315', 'EC 2.1.1.6 (Catechol O-Methyltransferase)', '8951800', 'EC 3.1.1.8 (Butyrylcholinesterase)', 'EC 3.1.1.8 (Cholinesterases)', '18525128', 'EC 3.4.21.- (KLK6 protein, human)', 'EC 3.4.21.- (Kallikreins)', '20405665', 'EC 3.6.1.- (Adenosine Triphosphatases)', 'EC 3.6.4.6 (Valosin Containing Protein)', '16190916', 'EC 3.6.1.- (TTF2 protein, human)', '10582609', 'EC 1.14.16.2 (Tyrosine 3-Monooxygenase)', '27662332', 'EC 3.6.1.- (GTP-Binding Proteins)', '17023628', '26251072', 'EC 5.2.1.- (Tacrolimus Binding Proteins)', 'EC 5.2.1.- (tacrolimus binding protein 4)', '25797282', '9796365', '2567794', 'EC 2.7.7.7 (DNA-Directed DNA Polymerase)', '34340718', 'EC 2.7.10.1 (Receptor, Platelet-Derived Growth Factor beta)', '27979354', '12388551', 'EC 3.4.21.47 (Complement C3 Convertase, Alternative Pathway)', '11402110', '14759628', 'EC 1.15.1.1 (Superoxide Dismutase)', '15015009', '141671', '34272732', '6142096', '3727926', 'EC 1.11.1.9 (Glutathione Peroxidase)', '31967744', 'EC 3.1.8.1 (Aryldialkylphosphatase)', 'EC 3.1.8.1 (PON1 protein, human)', '11803456', 'EC 3.1.- (Esterases)', 'EC 3.1.8.1 (PON2 protein, human)', '2812184', '28458525', '19359103', '32559242', 'EC 3.4.24.82 (ADAMTS4 Protein)', '23217200', 'EC 3.4.22.- (Caspase 9)', '15474361', 'EC 5.2.1.8 (PIN1 protein, human)', 'EC 5.2.1.8 (Peptidylprolyl Isomerase)', '8468588', '22269890', 'EC 2.7.1.- (Dyrk kinase)', 'EC 2.7.10.1 (Protein-Tyrosine Kinases)', 'EC 2.7.11.1 (Protein Serine-Threonine Kinases)', '10705716', 'EC 1.11.1.6 (Catalase)', '15677868', '8782499', '32274757', 'EC 3.4.25.1 (Proteasome Endopeptidase Complex)', '18210807', '16447254', 'EC 2.7.- (Protein Kinases)', '912232', '12038595', '31996112', '24262158', 'EC 3.2.1.45 (Glucosylceramidase)', '10581227', '25347241', '2939202', '18796596', 'EC 3.6.4.6 (VCP protein, human)', '30636741', 'EC 3.4.- (Metalloproteases)', '11805026', 'EC 6.3.1.2 (Glutamate-Ammonia Ligase)', '11283461', '22170863', '17627485', '66473', '32917964', '12224048', 'EC 5.3.- (Intramolecular Oxidoreductases)', 'EC 5.3.99.2 (prostaglandin R2 D-isomerase)', '1520404', 'EC 1.4.3.4 (Monoamine Oxidase)', '6123633', '32936778', 'EC 2.7.10.1 (EGFR protein, human)', 'EC 2.7.10.1 (ErbB Receptors)', '17555915', '10068289', 'EC 1.14.14.1 (Cytochrome P-450 CYP2D6)', '31955208', 'EC 2.3.2.2 (gamma-Glutamyltransferase)', '34854612', '3653707', '11094098', '6162062', 'EC 2.7.7.49 (RNA-Directed DNA Polymerase)', '12668920', '24995521', 'EC 4.4.1.5 (Lactoylglutathione Lyase)', '22426120', '6096682', 'EC 7.2.2.13 (Sodium-Potassium-Exchanging ATPase)', '298347', '1197451', 'EC 2.7.3.2 (Creatine Kinase)', '6996081', '16823382', '21194354', '29921201', 'EC 1.14.14.1 (Aryl Hydrocarbon Hydroxylases)', '5702543', '17719205', 'EC 5.3.4.- (Ca2+-binding protein-1)', '32323943', 'EC 1.5.1.20 (Methylenetetrahydrofolate Reductase (NADPH2))', '17417055', \"EC 3.1.4.17 (3',5'-Cyclic-AMP Phosphodiesterases)\", 'EC 3.1.4.17 (Cyclic Nucleotide Phosphodiesterases, Type 4)', 'EC 3.1.4.17 (PDE4B protein, human)', '766651', '4687789', '4025599', 'EC 1.4.3.21 (Amine Oxidase (Copper-Containing))', 'EC 1.5.- (Oxidoreductases Acting on CH-NH Group Donors)', '779018', '5654386', 'EC 1.16.3.1 (Ceruloplasmin)', '12815736', '10621776', 'EC 3.1.1.32 (Phospholipases A)', '5198672', 'EC 3.1.3.1 (Alkaline Phosphatase)', '28667376', 'EC 2.1.1.6 (COMT protein, human)', '16005613', '5777309', 'EC 2.- (Transferases)', '25214056', 'EC 3.4.24.- (Matrix Metalloproteinases)', '31794779', 'EC 3.4.- (Peptide Hydrolases)', 'EC 3.4.- (oligopeptidase)', '5140106', '6140867', '48904', 'EC 1.1.- (Alcohol Oxidoreductases)', '4794244', '7261730', '24399714', '19148781', 'EC 2.5.1.- (glutathione S-transferase T1)', 'EC 2.5.1.18 (Glutathione Transferase)', '619236', '18777850', '6587413', '6747911', '27434078', 'EC 3.1.1.4 (Phospholipases A2)', '7527632', '4761285', '25863100', '16426720', '17982252', 'EC 3.4.21.- (RELN protein, human)', '7232634', '1356426', '17363840', '4773488', 'EC 4.1.2.13 (Fructose-Bisphosphate Aldolase)', '9707387', '936850', 'EC 1.11.1.- (Peroxidases)', '298348', '20516168', 'EC 2.7.1.- (Phosphatidylinositol 3-Kinases)', '25748092', '6211', '6996079', '21270541', '10889537', '18635704', 'EC 2.7.11.1 (AKT1 protein, human)', 'EC 2.7.11.1 (Proto-Oncogene Proteins c-akt)', '561501', '19907', '7009783', '25714971', 'EC 3.4.21.- (Plasminogen Activators)', '6106516', 'EC 1.14.17.1 (Dopamine beta-Hydroxylase)', '1591962', '21386123', '20797839', 'EC 2.5.1.18 (glutathione S-transferase M1)', '6830927', 'EC 3.5.1.1 (Asparaginase)', '19491819', '21402125', '22992330', '7679891', 'EC 1.6.99.1 (NADPH Dehydrogenase)', '18677906', '26051411', 'EC 2.6.1.- (Transaminases)', 'EC 2.6.1.7 (kynurenine-oxoglutarate transaminase)', '87594', '2859981', '28028641', 'EC 3.4.15.1 (Peptidyl-Dipeptidase A)', '15613777', 'EC 3.5.- (Amidohydrolases)', 'EC 3.5.1.- (fatty-acid amide hydrolase)', '16997000', 'EC 2.3.- (Acyltransferases)', 'EC 2.3.1.42 (glycerone-phosphate O-acyltransferase)', '12374853', 'EC 1.4.3.3 (D-Amino-Acid Oxidase)', '17503472', '30357655', '17653577', 'EC 1.14.16.4 (Tryptophan Hydroxylase)', '24782165', '24656901', '22367838', '14714044', '12750000', 'EC 2.7.10.2 (FYN protein, human)', 'EC 2.7.10.2 (Proto-Oncogene Proteins c-fyn)', '24859147', 'EC 2.1.1.37 (DNA (Cytosine-5-)-Methyltransferases)', '12399953', 'EC 1.6.- (NADH, NADPH Oxidoreductases)', 'EC 7.1.1.2 (Electron Transport Complex I)', '11495353', 'EC 1.5.3.- (polyamine oxidase)', '83211', '3987248', '17728674', 'EC 2.6.1.1 (Aspartate Aminotransferases)', '25933951', 'EC 3.4.24.35 (MMP9 protein, human)', 'EC 3.4.24.35 (Matrix Metalloproteinase 9)', '6734176', '22658981', '7115010', '9388648', '23107768', '33081452', '19483194', 'EC 5.1.- (Racemases and Epimerases)', 'EC 5.1.1.16 (serine racemase)', '22123563', '23318463', 'EC 1.5.1.20 (MTHFR protein, human)', '17503482', '7375851', '26208850', '28913946', '21093223', '26154813', 'EC 2.1.1.4 (ASMT protein, human)', 'EC 2.1.1.4 (Acetylserotonin O-Methyltransferase)', '16969279', '16741719', '21158679', '6661478', '21882541', '21860037', '21532553', 'EC 3.1.4.17 (Cyclic Nucleotide Phosphodiesterases, Type 1)', '3880103', '30590179', 'EC 2.3.1.48 (Histone Acetyltransferases)', '32896003', '18186075', 'EC 3.1.3.48 (PTPRZ1 protein, human)', 'EC 3.1.3.48 (Receptor-Like Protein Tyrosine Phosphatases, Class 5)', '24266366', 'EC 2.7.11.1 (TOR Serine-Threonine Kinases)', '19689332', '7969852', '21462137', '18620336', '3989738', '16389584', 'EC 1.5.3.- (Proline Oxidase)', '5720610', 'EC 3.2.1.17 (Muramidase)', '21233783', '4915174', '1056684', '9564683', 'EC 3.1.21.4 (Deoxyribonucleases, Type II Site-Specific)', 'EC 3.1.21.4 (TCGA-specific type II deoxyribonucleases)', '6934558', '26999687', '7465698', 'EC 1.2.- (Aldehyde Oxidoreductases)', '30901725', 'EC 2.3.2.23 (UBE2K protein, human)', 'EC 2.3.2.23 (Ubiquitin-Conjugating Enzymes)', '12802784', '7377409', '32009493', '14639047', 'EC 1.6.99.- (NRH - quinone oxidoreductase2)', 'EC 1.6.99.- (Quinone Reductases)', '27028544', 'EC 2.7.10.1 (Receptor, EphB1)', '21960278', '16725119', '6134515', '4989450', '29634613', '12531993', '15822742', 'EC 3.4.21.37 (Leukocyte Elastase)', '32724114', '34982515', '22875507', 'EC 1.14.13.39 (NOS1 protein, human)', 'EC 1.14.13.39 (Nitric Oxide Synthase Type I)', '14421602', '21455971', 'EC 1.14.14.1 (CYP1A2 protein, human)', 'EC 1.14.14.1 (Cytochrome P-450 CYP1A2)', '11368843', '17230547', 'EC 3.4.- (Cathepsins)', 'EC 3.4.22.38 (CTSK protein, human)', 'EC 3.4.22.38 (Cathepsin K)', 'EC 3.4.22.38 (Ctsk protein, rat)', '15861039', '21999147', '3515330', '25676667', '15006489', 'EC 2.7.11.24 (Mitogen-Activated Protein Kinases)', '19560328', 'EC 1.14.99.1 (Cyclooxygenase 2)', 'EC 1.14.99.1 (PTGS2 protein, human)', 'EC 3.1.1.4 (Group IV Phospholipases A2)', 'EC 3.1.1.4 (PLA2G4A protein, human)', '17413455'))"
            ]
          },
          "metadata": {},
          "execution_count": 33
        }
      ]
    },
    {
      "cell_type": "code",
      "source": [
        "nx.write_graphml_lxml(compose_graph, \"common_dim_sch_enzyme.graphml\")"
      ],
      "metadata": {
        "id": "r4QV-wckW5t4"
      },
      "execution_count": null,
      "outputs": []
    },
    {
      "cell_type": "code",
      "source": [
        "from pyvis.network import Network\n",
        "\n",
        "nt = Network(height='700px', width='81%', bgcolor='#222222', font_color='#ecf0f1')\n",
        "\n",
        "nt.from_nx(compose_graph)"
      ],
      "metadata": {
        "id": "NI72Hp3YZ64Q"
      },
      "execution_count": null,
      "outputs": []
    },
    {
      "cell_type": "code",
      "source": [
        "nt.set_options(\"\"\"\n",
        "var options = {\n",
        "\"edges\": {\n",
        "    \"arrows\": {\n",
        "    \"to\": {\n",
        "        \"enabled\": true,\n",
        "        \"scaleFactor\": 0.5\n",
        "    }\n",
        "    },\n",
        "    \"color\": {\n",
        "    \"inherit\": true\n",
        "    },\n",
        "    \"smooth\": {\n",
        "    \"forceDirection\": \"none\"\n",
        "    }\n",
        "},\n",
        "\"physics\": {\n",
        "    \"barnesHut\": {\n",
        "    \"gravitationalConstant\": -17350,\n",
        "    \"springLength\": 210,\n",
        "    \"springConstant\": 0.055,\n",
        "    \"avoidOverlap\": 0.53\n",
        "    },\n",
        "    \"minVelocity\": 0.75\n",
        "}\n",
        "}\n",
        "\"\"\")"
      ],
      "metadata": {
        "id": "HBGcMFPdbjZy"
      },
      "execution_count": null,
      "outputs": []
    },
    {
      "cell_type": "code",
      "source": [
        "nt.write_html(\"bi_enzyme_graph.html\")"
      ],
      "metadata": {
        "id": "enCmpMuGbxHv"
      },
      "execution_count": null,
      "outputs": []
    },
    {
      "cell_type": "code",
      "source": [
        ""
      ],
      "metadata": {
        "id": "a4pzAXuwbzcn"
      },
      "execution_count": null,
      "outputs": []
    }
  ]
}