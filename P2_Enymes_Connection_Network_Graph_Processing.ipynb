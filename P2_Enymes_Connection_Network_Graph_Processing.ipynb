{
  "nbformat": 4,
  "nbformat_minor": 0,
  "metadata": {
    "colab": {
      "name": "P2-Enymes-Connection-Network-Graph-Processing.ipynb",
      "provenance": [],
      "collapsed_sections": [],
      "mount_file_id": "1UgXv5AtPicF24ISz0-S2Dcu1Vzu1mzk6",
      "authorship_tag": "ABX9TyMNdOgBhCvJd93E4JTLdGTB"
    },
    "kernelspec": {
      "name": "python3",
      "display_name": "Python 3"
    },
    "language_info": {
      "name": "python"
    }
  },
  "cells": [
    {
      "cell_type": "code",
      "execution_count": 15,
      "metadata": {
        "id": "FgNZe5AxOI9p"
      },
      "outputs": [],
      "source": [
        "import pandas as pd\n",
        "import numpy as np\n",
        "\n",
        "import matplotlib.pyplot as plt\n",
        "import seaborn as sns\n",
        "\n",
        "from pprint import pprint\n",
        "from tqdm import tqdm\n",
        "import time\n",
        "from collections import Counter"
      ]
    },
    {
      "cell_type": "code",
      "source": [
        "path = \"/content/drive/MyDrive/05-Data/enzyme-network/10k-combine-pubmed-metadata.csv\"\n",
        "\n",
        "data = pd.read_csv(path)"
      ],
      "metadata": {
        "id": "PcJNCmsSOTch"
      },
      "execution_count": 2,
      "outputs": []
    },
    {
      "cell_type": "code",
      "source": [
        "data.info()"
      ],
      "metadata": {
        "colab": {
          "base_uri": "https://localhost:8080/"
        },
        "id": "6YSEJ-U4OZo_",
        "outputId": "f0b36da9-ea4b-4ae6-91b0-f33c63253eb3"
      },
      "execution_count": 4,
      "outputs": [
        {
          "output_type": "stream",
          "name": "stdout",
          "text": [
            "<class 'pandas.core.frame.DataFrame'>\n",
            "RangeIndex: 30000 entries, 0 to 29999\n",
            "Data columns (total 18 columns):\n",
            " #   Column  Non-Null Count  Dtype \n",
            "---  ------  --------------  ----- \n",
            " 0   PMID    30000 non-null  int64 \n",
            " 1   TI      30000 non-null  object\n",
            " 2   AB      30000 non-null  object\n",
            " 3   AD      30000 non-null  object\n",
            " 4   FAU     30000 non-null  object\n",
            " 5   DP      30000 non-null  object\n",
            " 6   TA      30000 non-null  object\n",
            " 7   JT      30000 non-null  object\n",
            " 8   LA      30000 non-null  object\n",
            " 9   MH      30000 non-null  object\n",
            " 10  OAB     30000 non-null  object\n",
            " 11  OT      29999 non-null  object\n",
            " 12  PL      30000 non-null  object\n",
            " 13  PST     30000 non-null  object\n",
            " 14  PT      30000 non-null  object\n",
            " 15  RN      30000 non-null  object\n",
            " 16  SI      30000 non-null  object\n",
            " 17  Class   30000 non-null  object\n",
            "dtypes: int64(1), object(17)\n",
            "memory usage: 4.1+ MB\n"
          ]
        }
      ]
    },
    {
      "cell_type": "code",
      "source": [
        "rn_present_data = data[data['RN']!='NONE']"
      ],
      "metadata": {
        "id": "qaT808ZyOawf"
      },
      "execution_count": 6,
      "outputs": []
    },
    {
      "cell_type": "code",
      "source": [
        "rn_present_data['RN']"
      ],
      "metadata": {
        "colab": {
          "base_uri": "https://localhost:8080/"
        },
        "id": "Ncq8k9BoOn4-",
        "outputId": "c760cb05-e071-4eec-9bd4-323d494453dc"
      },
      "execution_count": 8,
      "outputs": [
        {
          "output_type": "execute_result",
          "data": {
            "text/plain": [
              "3                                0 (Antineoplastic Agents)\n",
              "6            0 (Biomarkers, Tumor);0 (Heat-Shock Proteins)\n",
              "8        0 (Cancer Vaccines);1406-18-4 (Vitamin E);H624...\n",
              "16       0 (Biomarkers, Tumor);0 (MicroRNAs);0 (MIRN29a...\n",
              "17                                           0 (Cytokines)\n",
              "                               ...                        \n",
              "29993             0 (RNA, Messenger);0 (COVID-19 Vaccines)\n",
              "29994                   0 (Vaccines);0 (COVID-19 Vaccines)\n",
              "29995                                0 (COVID-19 Vaccines)\n",
              "29998                                0 (COVID-19 Vaccines)\n",
              "29999           0 (Antiviral Agents);0 (COVID-19 Vaccines)\n",
              "Name: RN, Length: 15405, dtype: object"
            ]
          },
          "metadata": {},
          "execution_count": 8
        }
      ]
    },
    {
      "cell_type": "code",
      "source": [
        "rn_present_data['Class'].value_counts()"
      ],
      "metadata": {
        "colab": {
          "base_uri": "https://localhost:8080/"
        },
        "id": "zMnt-0eHPL0v",
        "outputId": "cf702f90-1629-45ac-db01-dc443bb44a0f"
      },
      "execution_count": 9,
      "outputs": [
        {
          "output_type": "execute_result",
          "data": {
            "text/plain": [
              "COVID     7531\n",
              "CANCER    3963\n",
              "EBOLA     3911\n",
              "Name: Class, dtype: int64"
            ]
          },
          "metadata": {},
          "execution_count": 9
        }
      ]
    },
    {
      "cell_type": "code",
      "source": [
        "rn_cancer = rn_present_data[rn_present_data['Class']=='CANCER']\n",
        "rn_ebola = rn_present_data[rn_present_data['Class']=='EBOLA']\n",
        "rn_covid = rn_present_data[rn_present_data['Class']=='COVID']"
      ],
      "metadata": {
        "id": "BifXEe08PDYT"
      },
      "execution_count": 11,
      "outputs": []
    },
    {
      "cell_type": "code",
      "source": [
        "covid_enzymes = list()\n",
        "\n",
        "for ec_number_molecules in (rn_covid.RN):\n",
        "  if isinstance(ec_number_molecules, str):\n",
        "    for molecule in ec_number_molecules.split(';'):\n",
        "      if molecule.startswith('EC'):\n",
        "        covid_enzymes.append(molecule)"
      ],
      "metadata": {
        "id": "3TYaXVjeOw0P"
      },
      "execution_count": 12,
      "outputs": []
    },
    {
      "cell_type": "code",
      "source": [
        "ebola_enzymes = list()\n",
        "\n",
        "for ec_number_molecules in (rn_ebola.RN):\n",
        "  if isinstance(ec_number_molecules, str):\n",
        "    for molecule in ec_number_molecules.split(';'):\n",
        "      if molecule.startswith('EC'):\n",
        "        ebola_enzymes.append(molecule)"
      ],
      "metadata": {
        "id": "wSyr2OHmPmIR"
      },
      "execution_count": 13,
      "outputs": []
    },
    {
      "cell_type": "code",
      "source": [
        "cancer_enzymes = list()\n",
        "\n",
        "for ec_number_molecules in (rn_cancer.RN):\n",
        "  if isinstance(ec_number_molecules, str):\n",
        "    for molecule in ec_number_molecules.split(';'):\n",
        "      if molecule.startswith('EC'):\n",
        "        cancer_enzymes.append(molecule)"
      ],
      "metadata": {
        "id": "Vyneq8ijPqcX"
      },
      "execution_count": 14,
      "outputs": []
    },
    {
      "cell_type": "code",
      "source": [
        "cancer_enzymes_count = Counter(cancer_enzymes, )\n",
        "ebola_enzymes_count = Counter(ebola_enzymes, )\n",
        "covid_enzymes_count = Counter(covid_enzymes, )"
      ],
      "metadata": {
        "id": "igDz8GunPuEi"
      },
      "execution_count": 16,
      "outputs": []
    },
    {
      "cell_type": "code",
      "source": [
        "covid_enzymes_count.most_common()[:10]"
      ],
      "metadata": {
        "colab": {
          "base_uri": "https://localhost:8080/"
        },
        "id": "yJab_y-fP-UZ",
        "outputId": "b6d9f74c-dcdf-4686-868b-d1c4af6e9887"
      },
      "execution_count": 18,
      "outputs": [
        {
          "output_type": "execute_result",
          "data": {
            "text/plain": [
              "[('EC 3.4.17.23 (Angiotensin-Converting Enzyme 2)', 106),\n",
              " ('EC 3.4.17.23 (ACE2 protein, human)', 78),\n",
              " ('EC 2.7.7.48 (Coronavirus RNA-Dependent RNA Polymerase)', 15),\n",
              " ('EC 2.7.7.48 (RNA-Dependent RNA Polymerase)', 15),\n",
              " ('EC 2.7.7.48 (NSP12 protein, SARS-CoV-2)', 12),\n",
              " ('EC 3.4.21.- (Serine Endopeptidases)', 10),\n",
              " ('EC 3.4.21.- (TMPRSS2 protein, human)', 9),\n",
              " ('EC 3.4.15.1 (Peptidyl-Dipeptidase A)', 9),\n",
              " ('EC 3.1.26.5 (Ribonuclease P)', 8),\n",
              " ('EC 3.4.22.28 (Coronavirus 3C Proteases)', 6)]"
            ]
          },
          "metadata": {},
          "execution_count": 18
        }
      ]
    },
    {
      "cell_type": "code",
      "source": [
        "ebola_enzymes_count.most_common()[:10]"
      ],
      "metadata": {
        "colab": {
          "base_uri": "https://localhost:8080/"
        },
        "id": "0ilVu25pQIRA",
        "outputId": "e34c2fa5-4896-4cd4-e347-9cf9e3a6812c"
      },
      "execution_count": 19,
      "outputs": [
        {
          "output_type": "execute_result",
          "data": {
            "text/plain": [
              "[('EC 2.7.7.48 (RNA-Dependent RNA Polymerase)', 30),\n",
              " ('EC 2.3.2.27 (Ubiquitin-Protein Ligases)', 20),\n",
              " ('EC 3.4.22.15 (Cathepsin L)', 18),\n",
              " ('EC 3.4.22.1 (Cathepsin B)', 17),\n",
              " ('EC 3.4.- (Cathepsins)', 16),\n",
              " ('EC 2.7.7.6 (DNA-Directed RNA Polymerases)', 16),\n",
              " ('EC 1.13.12.- (Luciferases)', 14),\n",
              " ('EC 3.6.4.13 (DEAD Box Protein 58)', 12),\n",
              " ('EC 3.6.4.13 (DEAD-box RNA Helicases)', 12),\n",
              " ('EC 3.6.1.- (DDX58 protein, human)', 11)]"
            ]
          },
          "metadata": {},
          "execution_count": 19
        }
      ]
    },
    {
      "cell_type": "code",
      "source": [
        "cancer_enzymes_count.most_common()[:10]"
      ],
      "metadata": {
        "colab": {
          "base_uri": "https://localhost:8080/"
        },
        "id": "FSpW1ZLFQXxJ",
        "outputId": "96232bfb-18ed-4954-b7af-ffa28530608a"
      },
      "execution_count": 20,
      "outputs": [
        {
          "output_type": "execute_result",
          "data": {
            "text/plain": [
              "[('EC 2.7.7.49 (Telomerase)', 39),\n",
              " ('EC 2.7.10.1 (ErbB Receptors)', 24),\n",
              " ('EC 2.7.10.1 (Receptor, ErbB-2)', 21),\n",
              " ('EC 2.7.11.1 (Protein Serine-Threonine Kinases)', 20),\n",
              " ('EC 1.14.99.1 (Cyclooxygenase 2)', 18),\n",
              " ('EC 3.4.21.77 (Prostate-Specific Antigen)', 17),\n",
              " ('EC 1.14.99.1 (Prostaglandin-Endoperoxide Synthases)', 15),\n",
              " ('EC 3.1.3.2 (Phosphoric Monoester Hydrolases)', 14),\n",
              " ('EC 1.14.99.1 (PTGS2 protein, human)', 14),\n",
              " ('EC 3.6.5.2 (Proto-Oncogene Proteins p21(ras))', 13)]"
            ]
          },
          "metadata": {},
          "execution_count": 20
        }
      ]
    },
    {
      "cell_type": "code",
      "source": [
        "cancer_enzymes[1].replace('(', '').replace(')', '')"
      ],
      "metadata": {
        "colab": {
          "base_uri": "https://localhost:8080/",
          "height": 35
        },
        "id": "JDsiMhPqQabX",
        "outputId": "e6d5928c-c04b-4d99-b7c6-22865cf58142"
      },
      "execution_count": 26,
      "outputs": [
        {
          "output_type": "execute_result",
          "data": {
            "application/vnd.google.colaboratory.intrinsic+json": {
              "type": "string"
            },
            "text/plain": [
              "'EC 4.2.1.2 Fumarate Hydratase'"
            ]
          },
          "metadata": {},
          "execution_count": 26
        }
      ]
    },
    {
      "cell_type": "code",
      "source": [
        "cancer_enzymes_set = set(cancer_enzymes)\n",
        "ebola_enzymes_set = set(ebola_enzymes)\n",
        "covid_enzymes_set = set(covid_enzymes)"
      ],
      "metadata": {
        "id": "eigxgZgSQb5e"
      },
      "execution_count": 28,
      "outputs": []
    },
    {
      "cell_type": "code",
      "source": [
        "covid_ebola_common_enzymes = covid_enzymes_set & ebola_enzymes_set\n",
        "len(covid_ebola_common_enzymes)"
      ],
      "metadata": {
        "colab": {
          "base_uri": "https://localhost:8080/"
        },
        "id": "O1PFzG7aRNSp",
        "outputId": "05d6cc7c-8be6-4d0d-a848-d974846a9e4e"
      },
      "execution_count": 38,
      "outputs": [
        {
          "output_type": "execute_result",
          "data": {
            "text/plain": [
              "35"
            ]
          },
          "metadata": {},
          "execution_count": 38
        }
      ]
    },
    {
      "cell_type": "code",
      "source": [
        "list(covid_ebola_common_enzymes)[:10]"
      ],
      "metadata": {
        "colab": {
          "base_uri": "https://localhost:8080/"
        },
        "id": "Z8DEBe73SgHZ",
        "outputId": "133ec47d-13e2-4ea3-80a6-ca6ae6968e39"
      },
      "execution_count": 40,
      "outputs": [
        {
          "output_type": "execute_result",
          "data": {
            "text/plain": [
              "['EC 2.7.7.48 (NSP12 protein, SARS-CoV-2)',\n",
              " 'EC 3.4.22.- (Cysteine Endopeptidases)',\n",
              " 'EC 3.5.4.37 (ADAR protein, human)',\n",
              " 'EC 2.7.3.2 (Creatine Kinase)',\n",
              " 'EC 2.6.1.1 (Aspartate Aminotransferases)',\n",
              " 'EC 3.4.21.64 (Endopeptidase K)',\n",
              " 'EC 3.4.17.23 (Angiotensin-Converting Enzyme 2)',\n",
              " 'EC 3.1.- (CRISPR-Associated Protein 9)',\n",
              " 'EC 2.7.7.49 (RNA-Directed DNA Polymerase)',\n",
              " 'EC 3.4.- (Serine Proteases)']"
            ]
          },
          "metadata": {},
          "execution_count": 40
        }
      ]
    },
    {
      "cell_type": "code",
      "source": [
        "len(cancer_enzymes_set & covid_enzymes_set)"
      ],
      "metadata": {
        "colab": {
          "base_uri": "https://localhost:8080/"
        },
        "id": "S5Vob-OgRzE5",
        "outputId": "f7364bf4-1694-4b47-b37f-cf08ea9e2fce"
      },
      "execution_count": 36,
      "outputs": [
        {
          "output_type": "execute_result",
          "data": {
            "text/plain": [
              "32"
            ]
          },
          "metadata": {},
          "execution_count": 36
        }
      ]
    },
    {
      "cell_type": "code",
      "source": [
        "len(cancer_enzymes_set & ebola_enzymes_set)"
      ],
      "metadata": {
        "colab": {
          "base_uri": "https://localhost:8080/"
        },
        "id": "M5QT0EhRRDkX",
        "outputId": "6bc4591c-e3ee-4cdc-e32e-b9050fff54c8"
      },
      "execution_count": 32,
      "outputs": [
        {
          "output_type": "execute_result",
          "data": {
            "text/plain": [
              "95"
            ]
          },
          "metadata": {},
          "execution_count": 32
        }
      ]
    },
    {
      "cell_type": "code",
      "source": [
        "len(cancer_enzymes_set)"
      ],
      "metadata": {
        "colab": {
          "base_uri": "https://localhost:8080/"
        },
        "id": "5hnuj7RYRqxf",
        "outputId": "830f1c0f-c2d4-4fbe-fd82-2379dd0d950f"
      },
      "execution_count": 33,
      "outputs": [
        {
          "output_type": "execute_result",
          "data": {
            "text/plain": [
              "527"
            ]
          },
          "metadata": {},
          "execution_count": 33
        }
      ]
    },
    {
      "cell_type": "code",
      "source": [
        "len(ebola_enzymes_set)"
      ],
      "metadata": {
        "colab": {
          "base_uri": "https://localhost:8080/"
        },
        "id": "u0su9TnVRt7m",
        "outputId": "82fd05c0-9781-4e6d-e48f-b967837977e7"
      },
      "execution_count": 34,
      "outputs": [
        {
          "output_type": "execute_result",
          "data": {
            "text/plain": [
              "270"
            ]
          },
          "metadata": {},
          "execution_count": 34
        }
      ]
    }
  ]
}