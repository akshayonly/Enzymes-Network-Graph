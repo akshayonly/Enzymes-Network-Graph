{
  "nbformat": 4,
  "nbformat_minor": 0,
  "metadata": {
    "colab": {
      "name": "Automate-common_enzymes_among_two_diseases.ipynb",
      "provenance": [],
      "collapsed_sections": [],
      "mount_file_id": "1P306nTf93huQcNPRbBWbRjYBOabM1QhZ",
      "authorship_tag": "ABX9TyP6ME3FObTJpWv35D6PqM3M"
    },
    "kernelspec": {
      "name": "python3",
      "display_name": "Python 3"
    },
    "language_info": {
      "name": "python"
    }
  },
  "cells": [
    {
      "cell_type": "markdown",
      "source": [
        "# Common Enzymes Among Two Diseases\n",
        "\n",
        "The main goal of this project is to search and find common enzymes from bibliographic data of any two query terms. These search terms can be two distinct or similar oncogenic diseases, viral or bacterial pathogens, or any biomedical terms for that matter. As long as there is scientific literature for these two query terms, this code can fetch their bibliographic and citation data.\n",
        "\n",
        "Below I have used two diseases with different origins, **Cancer** & **SARS CoV 2** as two query terms examples. We'd first fetch the bibliographic data from the Entrez database of NCBI. Then we'd process the data to extract only enzymes. Using these enzymes as Nodes we'd then construct a network graph. The layout of the graph is shown below.\n",
        "\n",
        "**FAQs**\n",
        "1. Why bibliographic data?\n",
        "- Frankly I don't know how we can fetch this information from another method or database. In the future, if I found out there is a better way of doing this, I'll update the code.\n",
        "\n",
        "2. Why bother to find common enzymes among two diseases?\n",
        "- I get curious about the commonality aspect of two distinct things or even topics. I wanted to create a custom script that can return a list of common enzymes between two scientific terms or phenomena. \n",
        "  \n",
        "3. Does every article's citation & bibliographic data has enzymes list?\n",
        "- Not necessarily. If enzyme(s) are mentioned in the article and its identifier(s) is included in the MeSH record."
      ],
      "metadata": {
        "id": "vPGvXGkAN3NO"
      }
    },
    {
      "cell_type": "code",
      "source": [
        "! pip install -q biopython\n",
        "\n",
        "! pip install -q pyvis"
      ],
      "metadata": {
        "id": "VWhAeSZVN41V",
        "colab": {
          "base_uri": "https://localhost:8080/"
        },
        "outputId": "b6a10167-5ec8-4282-bb5f-5edf8e5bd04c"
      },
      "execution_count": 1,
      "outputs": [
        {
          "output_type": "stream",
          "name": "stdout",
          "text": [
            "\u001b[?25l\r\u001b[K     |▏                               | 10 kB 26.3 MB/s eta 0:00:01\r\u001b[K     |▎                               | 20 kB 19.7 MB/s eta 0:00:01\r\u001b[K     |▍                               | 30 kB 12.5 MB/s eta 0:00:01\r\u001b[K     |▋                               | 40 kB 10.1 MB/s eta 0:00:01\r\u001b[K     |▊                               | 51 kB 4.6 MB/s eta 0:00:01\r\u001b[K     |▉                               | 61 kB 5.4 MB/s eta 0:00:01\r\u001b[K     |█                               | 71 kB 6.1 MB/s eta 0:00:01\r\u001b[K     |█▏                              | 81 kB 4.4 MB/s eta 0:00:01\r\u001b[K     |█▎                              | 92 kB 4.9 MB/s eta 0:00:01\r\u001b[K     |█▍                              | 102 kB 5.4 MB/s eta 0:00:01\r\u001b[K     |█▋                              | 112 kB 5.4 MB/s eta 0:00:01\r\u001b[K     |█▊                              | 122 kB 5.4 MB/s eta 0:00:01\r\u001b[K     |█▉                              | 133 kB 5.4 MB/s eta 0:00:01\r\u001b[K     |██                              | 143 kB 5.4 MB/s eta 0:00:01\r\u001b[K     |██▏                             | 153 kB 5.4 MB/s eta 0:00:01\r\u001b[K     |██▎                             | 163 kB 5.4 MB/s eta 0:00:01\r\u001b[K     |██▍                             | 174 kB 5.4 MB/s eta 0:00:01\r\u001b[K     |██▋                             | 184 kB 5.4 MB/s eta 0:00:01\r\u001b[K     |██▊                             | 194 kB 5.4 MB/s eta 0:00:01\r\u001b[K     |██▉                             | 204 kB 5.4 MB/s eta 0:00:01\r\u001b[K     |███                             | 215 kB 5.4 MB/s eta 0:00:01\r\u001b[K     |███▏                            | 225 kB 5.4 MB/s eta 0:00:01\r\u001b[K     |███▎                            | 235 kB 5.4 MB/s eta 0:00:01\r\u001b[K     |███▌                            | 245 kB 5.4 MB/s eta 0:00:01\r\u001b[K     |███▋                            | 256 kB 5.4 MB/s eta 0:00:01\r\u001b[K     |███▊                            | 266 kB 5.4 MB/s eta 0:00:01\r\u001b[K     |███▉                            | 276 kB 5.4 MB/s eta 0:00:01\r\u001b[K     |████                            | 286 kB 5.4 MB/s eta 0:00:01\r\u001b[K     |████▏                           | 296 kB 5.4 MB/s eta 0:00:01\r\u001b[K     |████▎                           | 307 kB 5.4 MB/s eta 0:00:01\r\u001b[K     |████▌                           | 317 kB 5.4 MB/s eta 0:00:01\r\u001b[K     |████▋                           | 327 kB 5.4 MB/s eta 0:00:01\r\u001b[K     |████▊                           | 337 kB 5.4 MB/s eta 0:00:01\r\u001b[K     |████▉                           | 348 kB 5.4 MB/s eta 0:00:01\r\u001b[K     |█████                           | 358 kB 5.4 MB/s eta 0:00:01\r\u001b[K     |█████▏                          | 368 kB 5.4 MB/s eta 0:00:01\r\u001b[K     |█████▎                          | 378 kB 5.4 MB/s eta 0:00:01\r\u001b[K     |█████▌                          | 389 kB 5.4 MB/s eta 0:00:01\r\u001b[K     |█████▋                          | 399 kB 5.4 MB/s eta 0:00:01\r\u001b[K     |█████▊                          | 409 kB 5.4 MB/s eta 0:00:01\r\u001b[K     |██████                          | 419 kB 5.4 MB/s eta 0:00:01\r\u001b[K     |██████                          | 430 kB 5.4 MB/s eta 0:00:01\r\u001b[K     |██████▏                         | 440 kB 5.4 MB/s eta 0:00:01\r\u001b[K     |██████▎                         | 450 kB 5.4 MB/s eta 0:00:01\r\u001b[K     |██████▌                         | 460 kB 5.4 MB/s eta 0:00:01\r\u001b[K     |██████▋                         | 471 kB 5.4 MB/s eta 0:00:01\r\u001b[K     |██████▊                         | 481 kB 5.4 MB/s eta 0:00:01\r\u001b[K     |███████                         | 491 kB 5.4 MB/s eta 0:00:01\r\u001b[K     |███████                         | 501 kB 5.4 MB/s eta 0:00:01\r\u001b[K     |███████▏                        | 512 kB 5.4 MB/s eta 0:00:01\r\u001b[K     |███████▎                        | 522 kB 5.4 MB/s eta 0:00:01\r\u001b[K     |███████▌                        | 532 kB 5.4 MB/s eta 0:00:01\r\u001b[K     |███████▋                        | 542 kB 5.4 MB/s eta 0:00:01\r\u001b[K     |███████▊                        | 552 kB 5.4 MB/s eta 0:00:01\r\u001b[K     |████████                        | 563 kB 5.4 MB/s eta 0:00:01\r\u001b[K     |████████                        | 573 kB 5.4 MB/s eta 0:00:01\r\u001b[K     |████████▏                       | 583 kB 5.4 MB/s eta 0:00:01\r\u001b[K     |████████▍                       | 593 kB 5.4 MB/s eta 0:00:01\r\u001b[K     |████████▌                       | 604 kB 5.4 MB/s eta 0:00:01\r\u001b[K     |████████▋                       | 614 kB 5.4 MB/s eta 0:00:01\r\u001b[K     |████████▊                       | 624 kB 5.4 MB/s eta 0:00:01\r\u001b[K     |█████████                       | 634 kB 5.4 MB/s eta 0:00:01\r\u001b[K     |█████████                       | 645 kB 5.4 MB/s eta 0:00:01\r\u001b[K     |█████████▏                      | 655 kB 5.4 MB/s eta 0:00:01\r\u001b[K     |█████████▍                      | 665 kB 5.4 MB/s eta 0:00:01\r\u001b[K     |█████████▌                      | 675 kB 5.4 MB/s eta 0:00:01\r\u001b[K     |█████████▋                      | 686 kB 5.4 MB/s eta 0:00:01\r\u001b[K     |█████████▊                      | 696 kB 5.4 MB/s eta 0:00:01\r\u001b[K     |██████████                      | 706 kB 5.4 MB/s eta 0:00:01\r\u001b[K     |██████████                      | 716 kB 5.4 MB/s eta 0:00:01\r\u001b[K     |██████████▏                     | 727 kB 5.4 MB/s eta 0:00:01\r\u001b[K     |██████████▍                     | 737 kB 5.4 MB/s eta 0:00:01\r\u001b[K     |██████████▌                     | 747 kB 5.4 MB/s eta 0:00:01\r\u001b[K     |██████████▋                     | 757 kB 5.4 MB/s eta 0:00:01\r\u001b[K     |██████████▉                     | 768 kB 5.4 MB/s eta 0:00:01\r\u001b[K     |███████████                     | 778 kB 5.4 MB/s eta 0:00:01\r\u001b[K     |███████████                     | 788 kB 5.4 MB/s eta 0:00:01\r\u001b[K     |███████████▏                    | 798 kB 5.4 MB/s eta 0:00:01\r\u001b[K     |███████████▍                    | 808 kB 5.4 MB/s eta 0:00:01\r\u001b[K     |███████████▌                    | 819 kB 5.4 MB/s eta 0:00:01\r\u001b[K     |███████████▋                    | 829 kB 5.4 MB/s eta 0:00:01\r\u001b[K     |███████████▉                    | 839 kB 5.4 MB/s eta 0:00:01\r\u001b[K     |████████████                    | 849 kB 5.4 MB/s eta 0:00:01\r\u001b[K     |████████████                    | 860 kB 5.4 MB/s eta 0:00:01\r\u001b[K     |████████████▏                   | 870 kB 5.4 MB/s eta 0:00:01\r\u001b[K     |████████████▍                   | 880 kB 5.4 MB/s eta 0:00:01\r\u001b[K     |████████████▌                   | 890 kB 5.4 MB/s eta 0:00:01\r\u001b[K     |████████████▋                   | 901 kB 5.4 MB/s eta 0:00:01\r\u001b[K     |████████████▉                   | 911 kB 5.4 MB/s eta 0:00:01\r\u001b[K     |█████████████                   | 921 kB 5.4 MB/s eta 0:00:01\r\u001b[K     |█████████████                   | 931 kB 5.4 MB/s eta 0:00:01\r\u001b[K     |█████████████▎                  | 942 kB 5.4 MB/s eta 0:00:01\r\u001b[K     |█████████████▍                  | 952 kB 5.4 MB/s eta 0:00:01\r\u001b[K     |█████████████▌                  | 962 kB 5.4 MB/s eta 0:00:01\r\u001b[K     |█████████████▋                  | 972 kB 5.4 MB/s eta 0:00:01\r\u001b[K     |█████████████▉                  | 983 kB 5.4 MB/s eta 0:00:01\r\u001b[K     |██████████████                  | 993 kB 5.4 MB/s eta 0:00:01\r\u001b[K     |██████████████                  | 1.0 MB 5.4 MB/s eta 0:00:01\r\u001b[K     |██████████████▎                 | 1.0 MB 5.4 MB/s eta 0:00:01\r\u001b[K     |██████████████▍                 | 1.0 MB 5.4 MB/s eta 0:00:01\r\u001b[K     |██████████████▌                 | 1.0 MB 5.4 MB/s eta 0:00:01\r\u001b[K     |██████████████▋                 | 1.0 MB 5.4 MB/s eta 0:00:01\r\u001b[K     |██████████████▉                 | 1.1 MB 5.4 MB/s eta 0:00:01\r\u001b[K     |███████████████                 | 1.1 MB 5.4 MB/s eta 0:00:01\r\u001b[K     |███████████████                 | 1.1 MB 5.4 MB/s eta 0:00:01\r\u001b[K     |███████████████▎                | 1.1 MB 5.4 MB/s eta 0:00:01\r\u001b[K     |███████████████▍                | 1.1 MB 5.4 MB/s eta 0:00:01\r\u001b[K     |███████████████▌                | 1.1 MB 5.4 MB/s eta 0:00:01\r\u001b[K     |███████████████▊                | 1.1 MB 5.4 MB/s eta 0:00:01\r\u001b[K     |███████████████▉                | 1.1 MB 5.4 MB/s eta 0:00:01\r\u001b[K     |████████████████                | 1.1 MB 5.4 MB/s eta 0:00:01\r\u001b[K     |████████████████                | 1.1 MB 5.4 MB/s eta 0:00:01\r\u001b[K     |████████████████▎               | 1.2 MB 5.4 MB/s eta 0:00:01\r\u001b[K     |████████████████▍               | 1.2 MB 5.4 MB/s eta 0:00:01\r\u001b[K     |████████████████▌               | 1.2 MB 5.4 MB/s eta 0:00:01\r\u001b[K     |████████████████▊               | 1.2 MB 5.4 MB/s eta 0:00:01\r\u001b[K     |████████████████▉               | 1.2 MB 5.4 MB/s eta 0:00:01\r\u001b[K     |█████████████████               | 1.2 MB 5.4 MB/s eta 0:00:01\r\u001b[K     |█████████████████               | 1.2 MB 5.4 MB/s eta 0:00:01\r\u001b[K     |█████████████████▎              | 1.2 MB 5.4 MB/s eta 0:00:01\r\u001b[K     |█████████████████▍              | 1.2 MB 5.4 MB/s eta 0:00:01\r\u001b[K     |█████████████████▌              | 1.2 MB 5.4 MB/s eta 0:00:01\r\u001b[K     |█████████████████▊              | 1.3 MB 5.4 MB/s eta 0:00:01\r\u001b[K     |█████████████████▉              | 1.3 MB 5.4 MB/s eta 0:00:01\r\u001b[K     |██████████████████              | 1.3 MB 5.4 MB/s eta 0:00:01\r\u001b[K     |██████████████████▏             | 1.3 MB 5.4 MB/s eta 0:00:01\r\u001b[K     |██████████████████▎             | 1.3 MB 5.4 MB/s eta 0:00:01\r\u001b[K     |██████████████████▍             | 1.3 MB 5.4 MB/s eta 0:00:01\r\u001b[K     |██████████████████▌             | 1.3 MB 5.4 MB/s eta 0:00:01\r\u001b[K     |██████████████████▊             | 1.3 MB 5.4 MB/s eta 0:00:01\r\u001b[K     |██████████████████▉             | 1.3 MB 5.4 MB/s eta 0:00:01\r\u001b[K     |███████████████████             | 1.4 MB 5.4 MB/s eta 0:00:01\r\u001b[K     |███████████████████▏            | 1.4 MB 5.4 MB/s eta 0:00:01\r\u001b[K     |███████████████████▎            | 1.4 MB 5.4 MB/s eta 0:00:01\r\u001b[K     |███████████████████▍            | 1.4 MB 5.4 MB/s eta 0:00:01\r\u001b[K     |███████████████████▌            | 1.4 MB 5.4 MB/s eta 0:00:01\r\u001b[K     |███████████████████▊            | 1.4 MB 5.4 MB/s eta 0:00:01\r\u001b[K     |███████████████████▉            | 1.4 MB 5.4 MB/s eta 0:00:01\r\u001b[K     |████████████████████            | 1.4 MB 5.4 MB/s eta 0:00:01\r\u001b[K     |████████████████████▏           | 1.4 MB 5.4 MB/s eta 0:00:01\r\u001b[K     |████████████████████▎           | 1.4 MB 5.4 MB/s eta 0:00:01\r\u001b[K     |████████████████████▍           | 1.5 MB 5.4 MB/s eta 0:00:01\r\u001b[K     |████████████████████▋           | 1.5 MB 5.4 MB/s eta 0:00:01\r\u001b[K     |████████████████████▊           | 1.5 MB 5.4 MB/s eta 0:00:01\r\u001b[K     |████████████████████▉           | 1.5 MB 5.4 MB/s eta 0:00:01\r\u001b[K     |█████████████████████           | 1.5 MB 5.4 MB/s eta 0:00:01\r\u001b[K     |█████████████████████▏          | 1.5 MB 5.4 MB/s eta 0:00:01\r\u001b[K     |█████████████████████▎          | 1.5 MB 5.4 MB/s eta 0:00:01\r\u001b[K     |█████████████████████▍          | 1.5 MB 5.4 MB/s eta 0:00:01\r\u001b[K     |█████████████████████▋          | 1.5 MB 5.4 MB/s eta 0:00:01\r\u001b[K     |█████████████████████▊          | 1.5 MB 5.4 MB/s eta 0:00:01\r\u001b[K     |█████████████████████▉          | 1.6 MB 5.4 MB/s eta 0:00:01\r\u001b[K     |██████████████████████          | 1.6 MB 5.4 MB/s eta 0:00:01\r\u001b[K     |██████████████████████▏         | 1.6 MB 5.4 MB/s eta 0:00:01\r\u001b[K     |██████████████████████▎         | 1.6 MB 5.4 MB/s eta 0:00:01\r\u001b[K     |██████████████████████▍         | 1.6 MB 5.4 MB/s eta 0:00:01\r\u001b[K     |██████████████████████▋         | 1.6 MB 5.4 MB/s eta 0:00:01\r\u001b[K     |██████████████████████▊         | 1.6 MB 5.4 MB/s eta 0:00:01\r\u001b[K     |██████████████████████▉         | 1.6 MB 5.4 MB/s eta 0:00:01\r\u001b[K     |███████████████████████         | 1.6 MB 5.4 MB/s eta 0:00:01\r\u001b[K     |███████████████████████▏        | 1.6 MB 5.4 MB/s eta 0:00:01\r\u001b[K     |███████████████████████▎        | 1.7 MB 5.4 MB/s eta 0:00:01\r\u001b[K     |███████████████████████▍        | 1.7 MB 5.4 MB/s eta 0:00:01\r\u001b[K     |███████████████████████▋        | 1.7 MB 5.4 MB/s eta 0:00:01\r\u001b[K     |███████████████████████▊        | 1.7 MB 5.4 MB/s eta 0:00:01\r\u001b[K     |███████████████████████▉        | 1.7 MB 5.4 MB/s eta 0:00:01\r\u001b[K     |████████████████████████        | 1.7 MB 5.4 MB/s eta 0:00:01\r\u001b[K     |████████████████████████▏       | 1.7 MB 5.4 MB/s eta 0:00:01\r\u001b[K     |████████████████████████▎       | 1.7 MB 5.4 MB/s eta 0:00:01\r\u001b[K     |████████████████████████▍       | 1.7 MB 5.4 MB/s eta 0:00:01\r\u001b[K     |████████████████████████▋       | 1.8 MB 5.4 MB/s eta 0:00:01\r\u001b[K     |████████████████████████▊       | 1.8 MB 5.4 MB/s eta 0:00:01\r\u001b[K     |████████████████████████▉       | 1.8 MB 5.4 MB/s eta 0:00:01\r\u001b[K     |█████████████████████████       | 1.8 MB 5.4 MB/s eta 0:00:01\r\u001b[K     |█████████████████████████▏      | 1.8 MB 5.4 MB/s eta 0:00:01\r\u001b[K     |█████████████████████████▎      | 1.8 MB 5.4 MB/s eta 0:00:01\r\u001b[K     |█████████████████████████▌      | 1.8 MB 5.4 MB/s eta 0:00:01\r\u001b[K     |█████████████████████████▋      | 1.8 MB 5.4 MB/s eta 0:00:01\r\u001b[K     |█████████████████████████▊      | 1.8 MB 5.4 MB/s eta 0:00:01\r\u001b[K     |█████████████████████████▉      | 1.8 MB 5.4 MB/s eta 0:00:01\r\u001b[K     |██████████████████████████      | 1.9 MB 5.4 MB/s eta 0:00:01\r\u001b[K     |██████████████████████████▏     | 1.9 MB 5.4 MB/s eta 0:00:01\r\u001b[K     |██████████████████████████▎     | 1.9 MB 5.4 MB/s eta 0:00:01\r\u001b[K     |██████████████████████████▌     | 1.9 MB 5.4 MB/s eta 0:00:01\r\u001b[K     |██████████████████████████▋     | 1.9 MB 5.4 MB/s eta 0:00:01\r\u001b[K     |██████████████████████████▊     | 1.9 MB 5.4 MB/s eta 0:00:01\r\u001b[K     |██████████████████████████▉     | 1.9 MB 5.4 MB/s eta 0:00:01\r\u001b[K     |███████████████████████████     | 1.9 MB 5.4 MB/s eta 0:00:01\r\u001b[K     |███████████████████████████▏    | 1.9 MB 5.4 MB/s eta 0:00:01\r\u001b[K     |███████████████████████████▎    | 1.9 MB 5.4 MB/s eta 0:00:01\r\u001b[K     |███████████████████████████▌    | 2.0 MB 5.4 MB/s eta 0:00:01\r\u001b[K     |███████████████████████████▋    | 2.0 MB 5.4 MB/s eta 0:00:01\r\u001b[K     |███████████████████████████▊    | 2.0 MB 5.4 MB/s eta 0:00:01\r\u001b[K     |████████████████████████████    | 2.0 MB 5.4 MB/s eta 0:00:01\r\u001b[K     |████████████████████████████    | 2.0 MB 5.4 MB/s eta 0:00:01\r\u001b[K     |████████████████████████████▏   | 2.0 MB 5.4 MB/s eta 0:00:01\r\u001b[K     |████████████████████████████▎   | 2.0 MB 5.4 MB/s eta 0:00:01\r\u001b[K     |████████████████████████████▌   | 2.0 MB 5.4 MB/s eta 0:00:01\r\u001b[K     |████████████████████████████▋   | 2.0 MB 5.4 MB/s eta 0:00:01\r\u001b[K     |████████████████████████████▊   | 2.0 MB 5.4 MB/s eta 0:00:01\r\u001b[K     |█████████████████████████████   | 2.1 MB 5.4 MB/s eta 0:00:01\r\u001b[K     |█████████████████████████████   | 2.1 MB 5.4 MB/s eta 0:00:01\r\u001b[K     |█████████████████████████████▏  | 2.1 MB 5.4 MB/s eta 0:00:01\r\u001b[K     |█████████████████████████████▎  | 2.1 MB 5.4 MB/s eta 0:00:01\r\u001b[K     |█████████████████████████████▌  | 2.1 MB 5.4 MB/s eta 0:00:01\r\u001b[K     |█████████████████████████████▋  | 2.1 MB 5.4 MB/s eta 0:00:01\r\u001b[K     |█████████████████████████████▊  | 2.1 MB 5.4 MB/s eta 0:00:01\r\u001b[K     |██████████████████████████████  | 2.1 MB 5.4 MB/s eta 0:00:01\r\u001b[K     |██████████████████████████████  | 2.1 MB 5.4 MB/s eta 0:00:01\r\u001b[K     |██████████████████████████████▏ | 2.2 MB 5.4 MB/s eta 0:00:01\r\u001b[K     |██████████████████████████████▍ | 2.2 MB 5.4 MB/s eta 0:00:01\r\u001b[K     |██████████████████████████████▌ | 2.2 MB 5.4 MB/s eta 0:00:01\r\u001b[K     |██████████████████████████████▋ | 2.2 MB 5.4 MB/s eta 0:00:01\r\u001b[K     |██████████████████████████████▊ | 2.2 MB 5.4 MB/s eta 0:00:01\r\u001b[K     |███████████████████████████████ | 2.2 MB 5.4 MB/s eta 0:00:01\r\u001b[K     |███████████████████████████████ | 2.2 MB 5.4 MB/s eta 0:00:01\r\u001b[K     |███████████████████████████████▏| 2.2 MB 5.4 MB/s eta 0:00:01\r\u001b[K     |███████████████████████████████▍| 2.2 MB 5.4 MB/s eta 0:00:01\r\u001b[K     |███████████████████████████████▌| 2.2 MB 5.4 MB/s eta 0:00:01\r\u001b[K     |███████████████████████████████▋| 2.3 MB 5.4 MB/s eta 0:00:01\r\u001b[K     |███████████████████████████████▊| 2.3 MB 5.4 MB/s eta 0:00:01\r\u001b[K     |████████████████████████████████| 2.3 MB 5.4 MB/s eta 0:00:01\r\u001b[K     |████████████████████████████████| 2.3 MB 5.4 MB/s \n",
            "\u001b[?25h  Building wheel for pyvis (setup.py) ... \u001b[?25l\u001b[?25hdone\n"
          ]
        }
      ]
    },
    {
      "cell_type": "code",
      "source": [
        "# Fetching PubMed article metadata\n",
        "from Bio import Entrez, Medline\n",
        "\n",
        "# Graph creation and visualisation\n",
        "from pyvis.network import Network\n",
        "\n",
        "import time\n",
        "import os\n",
        "from functools import reduce\n",
        "import numpy as np\n",
        "import pandas as pd"
      ],
      "metadata": {
        "id": "tq25ZE21OBew"
      },
      "execution_count": 2,
      "outputs": []
    },
    {
      "cell_type": "code",
      "source": [
        "# Mapping the time\n",
        "start_time = time.time()"
      ],
      "metadata": {
        "id": "Y9-Q4W09N1DW"
      },
      "execution_count": null,
      "outputs": []
    },
    {
      "cell_type": "code",
      "source": [
        "def esearch(query_term):\n",
        "  \"\"\"Returns PMID(s) for given query term\"\"\"\n",
        "\n",
        "  Entrez.email = 'akishirsath@gmail.com'\n",
        "\n",
        "  handle = Entrez.esearch(db=\"pubmed\", term=query_term, retmax=\"10000\")\n",
        "\n",
        "  records = Entrez.read(handle)\n",
        "\n",
        "  return records[\"IdList\"]"
      ],
      "metadata": {
        "id": "xjqFpjlWPrEY"
      },
      "execution_count": 18,
      "outputs": []
    },
    {
      "cell_type": "code",
      "source": [
        "def efetch(pmids):\n",
        "    \"\"\"Returns MEDLINE/pubmed record associated with the PMID(s)\"\"\"\n",
        "    \n",
        "    Entrez.email = 'akishirsath@gmail.com'\n",
        "\n",
        "    handle = Entrez.efetch(db=\"pubmed\", \n",
        "                           id=pmids, \n",
        "                           rettype=\"medline\", \n",
        "                           retmode=\"text\")\n",
        "\n",
        "    records = Medline.parse(handle)    \n",
        "    \n",
        "    return list(records)"
      ],
      "metadata": {
        "id": "5F_DNn5LSKfd"
      },
      "execution_count": 19,
      "outputs": []
    },
    {
      "cell_type": "code",
      "source": [
        "first_query_term = 'Cancer'\n",
        "second_query_term = 'Covid'\n",
        "\n",
        "first_pmids = esearch(first_query_term)\n",
        "\n",
        "second_pmids = esearch(second_query_term)"
      ],
      "metadata": {
        "id": "bbLcOy75QFqv"
      },
      "execution_count": 20,
      "outputs": []
    },
    {
      "cell_type": "code",
      "source": [
        "len(first_pmids), len(second_pmids)"
      ],
      "metadata": {
        "colab": {
          "base_uri": "https://localhost:8080/"
        },
        "id": "Rye607p-QZII",
        "outputId": "7c478c6e-31cc-45a4-ecd1-87024ddc8fb5"
      },
      "execution_count": 21,
      "outputs": [
        {
          "output_type": "execute_result",
          "data": {
            "text/plain": [
              "(10000, 10000)"
            ]
          },
          "metadata": {},
          "execution_count": 21
        }
      ]
    },
    {
      "cell_type": "code",
      "source": [
        "first_topic_records = efetch(\",\".join(first_pmids))\n",
        "\n",
        "time.sleep(10)\n",
        "\n",
        "second_topic_records = efetch(\",\".join(second_pmids))"
      ],
      "metadata": {
        "id": "ZCFUm_-1Th3T"
      },
      "execution_count": 22,
      "outputs": []
    },
    {
      "cell_type": "markdown",
      "source": [
        "## Network-Graph Method"
      ],
      "metadata": {
        "id": "dWOWZ_z9deNo"
      }
    },
    {
      "cell_type": "code",
      "source": [
        "colors = {\n",
        "    'backgrd' : '#f1f2f6',    # Background color\n",
        "    'font' : '#2f3542',       # Text font color\n",
        "    'first_prim' : '#6F1E51', # Article nodes color (first)\n",
        "    'second_prim' : '#1B1464',# Article nodes color (second)\n",
        "    'first_sec' : '#ED4C67',  # Enzyme nodes color (first)\n",
        "    'second_sec' : '#0652DD'  # Enzyme nodes color (second)\n",
        "}"
      ],
      "metadata": {
        "id": "dXfrEMsC0w-g"
      },
      "execution_count": null,
      "outputs": []
    },
    {
      "cell_type": "code",
      "source": [
        "N = Network(height='750px', \n",
        "            width='100%', \n",
        "            bgcolor=colors['backgrd'], \n",
        "            font_color=colors['font'], \n",
        "            notebook=True)"
      ],
      "metadata": {
        "id": "9lf4glpAz8h4"
      },
      "execution_count": null,
      "outputs": []
    },
    {
      "cell_type": "code",
      "source": [
        "N.set_options(\"\"\"\n",
        "var options = {\n",
        "  \"edges\": {\n",
        "    \"arrows\": {\n",
        "      \"to\": {\n",
        "        \"enabled\": true,\n",
        "        \"scaleFactor\": 0.5\n",
        "      }\n",
        "    },\n",
        "    \"color\": {\n",
        "      \"inherit\": true\n",
        "    },\n",
        "    \"smooth\": {\n",
        "      \"forceDirection\": \"none\"\n",
        "    }\n",
        "  },\n",
        "  \"physics\": {\n",
        "    \"barnesHut\": {\n",
        "      \"gravitationalConstant\": -17350,\n",
        "      \"springLength\": 210,\n",
        "      \"springConstant\": 0.055,\n",
        "      \"avoidOverlap\": 0.53\n",
        "    },\n",
        "    \"minVelocity\": 0.75\n",
        "  }\n",
        "}\n",
        "\"\"\")"
      ],
      "metadata": {
        "id": "yqS9fu7Zz1Vh"
      },
      "execution_count": null,
      "outputs": []
    },
    {
      "cell_type": "code",
      "source": [
        "cancer_enzymes = dict()\n",
        "\n",
        "for  record in first_topic_records:\n",
        "  substances = record.get('RN')\n",
        "  pmid = record.get('PMID')\n",
        "\n",
        "  if isinstance(substances, list):\n",
        "    for molecule in substances:\n",
        "      if molecule.startswith('EC'):\n",
        "\n",
        "        # Primary PMID node\n",
        "        N.add_node(pmid.strip(), size=30, color=colors['first_prim'])\n",
        "\n",
        "        # Secondary Enzyme node\n",
        "        N.add_node(molecule, size=15, color=colors['first_sec'])\n",
        "        N.add_edge(pmid.strip(), molecule)\n"
      ],
      "metadata": {
        "id": "qmf60thjVbEa"
      },
      "execution_count": null,
      "outputs": []
    },
    {
      "cell_type": "code",
      "source": [
        "for  record in second_topic_records:\n",
        "  substances = record.get('RN')\n",
        "  pmid = record.get('PMID')\n",
        "  if isinstance(substances, list):\n",
        "    for molecule in substances:\n",
        "      if molecule.startswith('EC'):\n",
        "\n",
        "        # Primary PMID node\n",
        "        N.add_node(pmid.strip(), size=30, color=colors['second_prim'])\n",
        "\n",
        "        # Secondary Enzyme node\n",
        "        N.add_node(molecule, size=15, color=colors['second_sec'])\n",
        "        N.add_edge(pmid.strip(), molecule)"
      ],
      "metadata": {
        "id": "mD4fONqlXgQk"
      },
      "execution_count": null,
      "outputs": []
    },
    {
      "cell_type": "code",
      "source": [
        "N.show('common_enzymes_net_graph_viz.html')"
      ],
      "metadata": {
        "colab": {
          "base_uri": "https://localhost:8080/",
          "height": 771
        },
        "id": "AsHyFt6t2glR",
        "outputId": "f7e54488-3485-4b55-9689-653d33154263"
      },
      "execution_count": null,
      "outputs": [
        {
          "output_type": "execute_result",
          "data": {
            "text/plain": [
              "<IPython.lib.display.IFrame at 0x7ff5a2a20090>"
            ],
            "text/html": [
              "\n",
              "        <iframe\n",
              "            width=\"100%\"\n",
              "            height=\"750px\"\n",
              "            src=\"common_enzymes_net_graph_viz.html\"\n",
              "            frameborder=\"0\"\n",
              "            allowfullscreen\n",
              "        ></iframe>\n",
              "        "
            ]
          },
          "metadata": {},
          "execution_count": 13
        }
      ]
    },
    {
      "cell_type": "code",
      "source": [
        "end_time = time.time()"
      ],
      "metadata": {
        "id": "kWpv2TjhN7v9"
      },
      "execution_count": null,
      "outputs": []
    },
    {
      "cell_type": "code",
      "source": [
        "print(\"--- %s seconds ---\" % (end_time - start_time))"
      ],
      "metadata": {
        "colab": {
          "base_uri": "https://localhost:8080/"
        },
        "id": "ozEpEvyXN9kU",
        "outputId": "b18ecbb4-0ad8-487a-93a8-119a3bb99d97"
      },
      "execution_count": null,
      "outputs": [
        {
          "output_type": "stream",
          "name": "stdout",
          "text": [
            "--- 179.98954319953918 seconds ---\n"
          ]
        }
      ]
    },
    {
      "cell_type": "markdown",
      "source": [
        "## Tabular"
      ],
      "metadata": {
        "id": "nQ-Qnt1EKgJn"
      }
    },
    {
      "cell_type": "code",
      "source": [
        "def records_to_enzymes(records, name):\n",
        "  '''Extract and process enzymes along with their \n",
        "  respective PMIDs into Pandas Dataframe'''\n",
        "  \n",
        "  enzymes = list()\n",
        "  for  record in records:\n",
        "    substances = record.get('RN')\n",
        "    pmid = record.get('PMID')\n",
        "    if isinstance(substances, list):\n",
        "      for molecule in substances:\n",
        "        if molecule.startswith('EC'):\n",
        "          enzymes.append((pmid, molecule))\n",
        "\n",
        "  enzymes_df = pd.DataFrame(enzymes, columns=['PMID', 'Enzyme'])\n",
        "\n",
        "  enzymes_df['Disease']=[name]*len(enzymes_df) \n",
        "\n",
        "  return enzymes_df"
      ],
      "metadata": {
        "id": "zZUwfS_xIiDO"
      },
      "execution_count": 23,
      "outputs": []
    },
    {
      "cell_type": "code",
      "source": [
        "cancer_enzymes_df = records_to_enzymes(first_topic_records, 'Cancer')"
      ],
      "metadata": {
        "id": "RuDaJLH0JGUm"
      },
      "execution_count": 24,
      "outputs": []
    },
    {
      "cell_type": "code",
      "source": [
        "cancer_enzymes_df"
      ],
      "metadata": {
        "colab": {
          "base_uri": "https://localhost:8080/",
          "height": 423
        },
        "id": "CI-f8126JZy3",
        "outputId": "454841b2-141e-47cf-f243-54f631e85b82"
      },
      "execution_count": 25,
      "outputs": [
        {
          "output_type": "execute_result",
          "data": {
            "text/plain": [
              "         PMID                                             Enzyme Disease\n",
              "0    35416174                  EC 1.1.1.30 (BDH2 protein, human)  Cancer\n",
              "1    35416174        EC 1.1.1.30 (Hydroxybutyrate Dehydrogenase)  Cancer\n",
              "2    35416174                   EC 2.7.1.1 (MTOR protein, human)  Cancer\n",
              "3    35416174        EC 2.7.11.1 (Proto-Oncogene Proteins c-akt)  Cancer\n",
              "4    35416174         EC 2.7.11.1 (TOR Serine-Threonine Kinases)  Cancer\n",
              "..        ...                                                ...     ...\n",
              "811  35347031                           EC 2.7.7.49 (Telomerase)  Cancer\n",
              "812  35347013     EC 2.7.11.1 (Protein Serine-Threonine Kinases)  Cancer\n",
              "813  35347013                 EC 2.7.11.1 (SRPK2 protein, human)  Cancer\n",
              "814  35347013                EC 3.1.3.48 (PTPRZ1 protein, human)  Cancer\n",
              "815  35347013  EC 3.1.3.48 (Receptor-Like Protein Tyrosine Ph...  Cancer\n",
              "\n",
              "[816 rows x 3 columns]"
            ],
            "text/html": [
              "\n",
              "  <div id=\"df-03a1b4fd-0213-43df-b962-785fae3a735b\">\n",
              "    <div class=\"colab-df-container\">\n",
              "      <div>\n",
              "<style scoped>\n",
              "    .dataframe tbody tr th:only-of-type {\n",
              "        vertical-align: middle;\n",
              "    }\n",
              "\n",
              "    .dataframe tbody tr th {\n",
              "        vertical-align: top;\n",
              "    }\n",
              "\n",
              "    .dataframe thead th {\n",
              "        text-align: right;\n",
              "    }\n",
              "</style>\n",
              "<table border=\"1\" class=\"dataframe\">\n",
              "  <thead>\n",
              "    <tr style=\"text-align: right;\">\n",
              "      <th></th>\n",
              "      <th>PMID</th>\n",
              "      <th>Enzyme</th>\n",
              "      <th>Disease</th>\n",
              "    </tr>\n",
              "  </thead>\n",
              "  <tbody>\n",
              "    <tr>\n",
              "      <th>0</th>\n",
              "      <td>35416174</td>\n",
              "      <td>EC 1.1.1.30 (BDH2 protein, human)</td>\n",
              "      <td>Cancer</td>\n",
              "    </tr>\n",
              "    <tr>\n",
              "      <th>1</th>\n",
              "      <td>35416174</td>\n",
              "      <td>EC 1.1.1.30 (Hydroxybutyrate Dehydrogenase)</td>\n",
              "      <td>Cancer</td>\n",
              "    </tr>\n",
              "    <tr>\n",
              "      <th>2</th>\n",
              "      <td>35416174</td>\n",
              "      <td>EC 2.7.1.1 (MTOR protein, human)</td>\n",
              "      <td>Cancer</td>\n",
              "    </tr>\n",
              "    <tr>\n",
              "      <th>3</th>\n",
              "      <td>35416174</td>\n",
              "      <td>EC 2.7.11.1 (Proto-Oncogene Proteins c-akt)</td>\n",
              "      <td>Cancer</td>\n",
              "    </tr>\n",
              "    <tr>\n",
              "      <th>4</th>\n",
              "      <td>35416174</td>\n",
              "      <td>EC 2.7.11.1 (TOR Serine-Threonine Kinases)</td>\n",
              "      <td>Cancer</td>\n",
              "    </tr>\n",
              "    <tr>\n",
              "      <th>...</th>\n",
              "      <td>...</td>\n",
              "      <td>...</td>\n",
              "      <td>...</td>\n",
              "    </tr>\n",
              "    <tr>\n",
              "      <th>811</th>\n",
              "      <td>35347031</td>\n",
              "      <td>EC 2.7.7.49 (Telomerase)</td>\n",
              "      <td>Cancer</td>\n",
              "    </tr>\n",
              "    <tr>\n",
              "      <th>812</th>\n",
              "      <td>35347013</td>\n",
              "      <td>EC 2.7.11.1 (Protein Serine-Threonine Kinases)</td>\n",
              "      <td>Cancer</td>\n",
              "    </tr>\n",
              "    <tr>\n",
              "      <th>813</th>\n",
              "      <td>35347013</td>\n",
              "      <td>EC 2.7.11.1 (SRPK2 protein, human)</td>\n",
              "      <td>Cancer</td>\n",
              "    </tr>\n",
              "    <tr>\n",
              "      <th>814</th>\n",
              "      <td>35347013</td>\n",
              "      <td>EC 3.1.3.48 (PTPRZ1 protein, human)</td>\n",
              "      <td>Cancer</td>\n",
              "    </tr>\n",
              "    <tr>\n",
              "      <th>815</th>\n",
              "      <td>35347013</td>\n",
              "      <td>EC 3.1.3.48 (Receptor-Like Protein Tyrosine Ph...</td>\n",
              "      <td>Cancer</td>\n",
              "    </tr>\n",
              "  </tbody>\n",
              "</table>\n",
              "<p>816 rows × 3 columns</p>\n",
              "</div>\n",
              "      <button class=\"colab-df-convert\" onclick=\"convertToInteractive('df-03a1b4fd-0213-43df-b962-785fae3a735b')\"\n",
              "              title=\"Convert this dataframe to an interactive table.\"\n",
              "              style=\"display:none;\">\n",
              "        \n",
              "  <svg xmlns=\"http://www.w3.org/2000/svg\" height=\"24px\"viewBox=\"0 0 24 24\"\n",
              "       width=\"24px\">\n",
              "    <path d=\"M0 0h24v24H0V0z\" fill=\"none\"/>\n",
              "    <path d=\"M18.56 5.44l.94 2.06.94-2.06 2.06-.94-2.06-.94-.94-2.06-.94 2.06-2.06.94zm-11 1L8.5 8.5l.94-2.06 2.06-.94-2.06-.94L8.5 2.5l-.94 2.06-2.06.94zm10 10l.94 2.06.94-2.06 2.06-.94-2.06-.94-.94-2.06-.94 2.06-2.06.94z\"/><path d=\"M17.41 7.96l-1.37-1.37c-.4-.4-.92-.59-1.43-.59-.52 0-1.04.2-1.43.59L10.3 9.45l-7.72 7.72c-.78.78-.78 2.05 0 2.83L4 21.41c.39.39.9.59 1.41.59.51 0 1.02-.2 1.41-.59l7.78-7.78 2.81-2.81c.8-.78.8-2.07 0-2.86zM5.41 20L4 18.59l7.72-7.72 1.47 1.35L5.41 20z\"/>\n",
              "  </svg>\n",
              "      </button>\n",
              "      \n",
              "  <style>\n",
              "    .colab-df-container {\n",
              "      display:flex;\n",
              "      flex-wrap:wrap;\n",
              "      gap: 12px;\n",
              "    }\n",
              "\n",
              "    .colab-df-convert {\n",
              "      background-color: #E8F0FE;\n",
              "      border: none;\n",
              "      border-radius: 50%;\n",
              "      cursor: pointer;\n",
              "      display: none;\n",
              "      fill: #1967D2;\n",
              "      height: 32px;\n",
              "      padding: 0 0 0 0;\n",
              "      width: 32px;\n",
              "    }\n",
              "\n",
              "    .colab-df-convert:hover {\n",
              "      background-color: #E2EBFA;\n",
              "      box-shadow: 0px 1px 2px rgba(60, 64, 67, 0.3), 0px 1px 3px 1px rgba(60, 64, 67, 0.15);\n",
              "      fill: #174EA6;\n",
              "    }\n",
              "\n",
              "    [theme=dark] .colab-df-convert {\n",
              "      background-color: #3B4455;\n",
              "      fill: #D2E3FC;\n",
              "    }\n",
              "\n",
              "    [theme=dark] .colab-df-convert:hover {\n",
              "      background-color: #434B5C;\n",
              "      box-shadow: 0px 1px 3px 1px rgba(0, 0, 0, 0.15);\n",
              "      filter: drop-shadow(0px 1px 2px rgba(0, 0, 0, 0.3));\n",
              "      fill: #FFFFFF;\n",
              "    }\n",
              "  </style>\n",
              "\n",
              "      <script>\n",
              "        const buttonEl =\n",
              "          document.querySelector('#df-03a1b4fd-0213-43df-b962-785fae3a735b button.colab-df-convert');\n",
              "        buttonEl.style.display =\n",
              "          google.colab.kernel.accessAllowed ? 'block' : 'none';\n",
              "\n",
              "        async function convertToInteractive(key) {\n",
              "          const element = document.querySelector('#df-03a1b4fd-0213-43df-b962-785fae3a735b');\n",
              "          const dataTable =\n",
              "            await google.colab.kernel.invokeFunction('convertToInteractive',\n",
              "                                                     [key], {});\n",
              "          if (!dataTable) return;\n",
              "\n",
              "          const docLinkHtml = 'Like what you see? Visit the ' +\n",
              "            '<a target=\"_blank\" href=https://colab.research.google.com/notebooks/data_table.ipynb>data table notebook</a>'\n",
              "            + ' to learn more about interactive tables.';\n",
              "          element.innerHTML = '';\n",
              "          dataTable['output_type'] = 'display_data';\n",
              "          await google.colab.output.renderOutput(dataTable, element);\n",
              "          const docLink = document.createElement('div');\n",
              "          docLink.innerHTML = docLinkHtml;\n",
              "          element.appendChild(docLink);\n",
              "        }\n",
              "      </script>\n",
              "    </div>\n",
              "  </div>\n",
              "  "
            ]
          },
          "metadata": {},
          "execution_count": 25
        }
      ]
    },
    {
      "cell_type": "code",
      "source": [
        "covid_enzymes_df = records_to_enzymes(second_topic_records, 'SARS CoV2')"
      ],
      "metadata": {
        "id": "F21Z7B-xKz9q"
      },
      "execution_count": 26,
      "outputs": []
    },
    {
      "cell_type": "code",
      "source": [
        "covid_enzymes_df"
      ],
      "metadata": {
        "colab": {
          "base_uri": "https://localhost:8080/",
          "height": 423
        },
        "outputId": "0f653014-4bb6-4ded-f3f0-57c5bf415fe5",
        "id": "fNnv5w1JKz-A"
      },
      "execution_count": 27,
      "outputs": [
        {
          "output_type": "execute_result",
          "data": {
            "text/plain": [
              "         PMID                                          Enzyme    Disease\n",
              "0    35414771  EC 3.4.17.23 (Angiotensin-Converting Enzyme 2)  SARS CoV2\n",
              "1    35414771                            EC 3.4.21.75 (Furin)  SARS CoV2\n",
              "2    35414393  EC 3.4.17.23 (Angiotensin-Converting Enzyme 2)  SARS CoV2\n",
              "3    35412852            EC 2.7.7.- (Nucleotidyltransferases)  SARS CoV2\n",
              "4    35409421  EC 3.4.17.23 (Angiotensin-Converting Enzyme 2)  SARS CoV2\n",
              "..        ...                                             ...        ...\n",
              "152  35289719  EC 3.4.17.23 (Angiotensin-Converting Enzyme 2)  SARS CoV2\n",
              "153  35283406            EC 3.4.15.1 (Peptidyl-Dipeptidase A)  SARS CoV2\n",
              "154  35283406  EC 3.4.17.23 (Angiotensin-Converting Enzyme 2)  SARS CoV2\n",
              "155  35283406             EC 3.4.21.- (Serine Endopeptidases)  SARS CoV2\n",
              "156  35283406            EC 3.4.21.- (TMPRSS4 protein, human)  SARS CoV2\n",
              "\n",
              "[157 rows x 3 columns]"
            ],
            "text/html": [
              "\n",
              "  <div id=\"df-a051c92c-a1c5-4551-bb13-e7eba40f5d41\">\n",
              "    <div class=\"colab-df-container\">\n",
              "      <div>\n",
              "<style scoped>\n",
              "    .dataframe tbody tr th:only-of-type {\n",
              "        vertical-align: middle;\n",
              "    }\n",
              "\n",
              "    .dataframe tbody tr th {\n",
              "        vertical-align: top;\n",
              "    }\n",
              "\n",
              "    .dataframe thead th {\n",
              "        text-align: right;\n",
              "    }\n",
              "</style>\n",
              "<table border=\"1\" class=\"dataframe\">\n",
              "  <thead>\n",
              "    <tr style=\"text-align: right;\">\n",
              "      <th></th>\n",
              "      <th>PMID</th>\n",
              "      <th>Enzyme</th>\n",
              "      <th>Disease</th>\n",
              "    </tr>\n",
              "  </thead>\n",
              "  <tbody>\n",
              "    <tr>\n",
              "      <th>0</th>\n",
              "      <td>35414771</td>\n",
              "      <td>EC 3.4.17.23 (Angiotensin-Converting Enzyme 2)</td>\n",
              "      <td>SARS CoV2</td>\n",
              "    </tr>\n",
              "    <tr>\n",
              "      <th>1</th>\n",
              "      <td>35414771</td>\n",
              "      <td>EC 3.4.21.75 (Furin)</td>\n",
              "      <td>SARS CoV2</td>\n",
              "    </tr>\n",
              "    <tr>\n",
              "      <th>2</th>\n",
              "      <td>35414393</td>\n",
              "      <td>EC 3.4.17.23 (Angiotensin-Converting Enzyme 2)</td>\n",
              "      <td>SARS CoV2</td>\n",
              "    </tr>\n",
              "    <tr>\n",
              "      <th>3</th>\n",
              "      <td>35412852</td>\n",
              "      <td>EC 2.7.7.- (Nucleotidyltransferases)</td>\n",
              "      <td>SARS CoV2</td>\n",
              "    </tr>\n",
              "    <tr>\n",
              "      <th>4</th>\n",
              "      <td>35409421</td>\n",
              "      <td>EC 3.4.17.23 (Angiotensin-Converting Enzyme 2)</td>\n",
              "      <td>SARS CoV2</td>\n",
              "    </tr>\n",
              "    <tr>\n",
              "      <th>...</th>\n",
              "      <td>...</td>\n",
              "      <td>...</td>\n",
              "      <td>...</td>\n",
              "    </tr>\n",
              "    <tr>\n",
              "      <th>152</th>\n",
              "      <td>35289719</td>\n",
              "      <td>EC 3.4.17.23 (Angiotensin-Converting Enzyme 2)</td>\n",
              "      <td>SARS CoV2</td>\n",
              "    </tr>\n",
              "    <tr>\n",
              "      <th>153</th>\n",
              "      <td>35283406</td>\n",
              "      <td>EC 3.4.15.1 (Peptidyl-Dipeptidase A)</td>\n",
              "      <td>SARS CoV2</td>\n",
              "    </tr>\n",
              "    <tr>\n",
              "      <th>154</th>\n",
              "      <td>35283406</td>\n",
              "      <td>EC 3.4.17.23 (Angiotensin-Converting Enzyme 2)</td>\n",
              "      <td>SARS CoV2</td>\n",
              "    </tr>\n",
              "    <tr>\n",
              "      <th>155</th>\n",
              "      <td>35283406</td>\n",
              "      <td>EC 3.4.21.- (Serine Endopeptidases)</td>\n",
              "      <td>SARS CoV2</td>\n",
              "    </tr>\n",
              "    <tr>\n",
              "      <th>156</th>\n",
              "      <td>35283406</td>\n",
              "      <td>EC 3.4.21.- (TMPRSS4 protein, human)</td>\n",
              "      <td>SARS CoV2</td>\n",
              "    </tr>\n",
              "  </tbody>\n",
              "</table>\n",
              "<p>157 rows × 3 columns</p>\n",
              "</div>\n",
              "      <button class=\"colab-df-convert\" onclick=\"convertToInteractive('df-a051c92c-a1c5-4551-bb13-e7eba40f5d41')\"\n",
              "              title=\"Convert this dataframe to an interactive table.\"\n",
              "              style=\"display:none;\">\n",
              "        \n",
              "  <svg xmlns=\"http://www.w3.org/2000/svg\" height=\"24px\"viewBox=\"0 0 24 24\"\n",
              "       width=\"24px\">\n",
              "    <path d=\"M0 0h24v24H0V0z\" fill=\"none\"/>\n",
              "    <path d=\"M18.56 5.44l.94 2.06.94-2.06 2.06-.94-2.06-.94-.94-2.06-.94 2.06-2.06.94zm-11 1L8.5 8.5l.94-2.06 2.06-.94-2.06-.94L8.5 2.5l-.94 2.06-2.06.94zm10 10l.94 2.06.94-2.06 2.06-.94-2.06-.94-.94-2.06-.94 2.06-2.06.94z\"/><path d=\"M17.41 7.96l-1.37-1.37c-.4-.4-.92-.59-1.43-.59-.52 0-1.04.2-1.43.59L10.3 9.45l-7.72 7.72c-.78.78-.78 2.05 0 2.83L4 21.41c.39.39.9.59 1.41.59.51 0 1.02-.2 1.41-.59l7.78-7.78 2.81-2.81c.8-.78.8-2.07 0-2.86zM5.41 20L4 18.59l7.72-7.72 1.47 1.35L5.41 20z\"/>\n",
              "  </svg>\n",
              "      </button>\n",
              "      \n",
              "  <style>\n",
              "    .colab-df-container {\n",
              "      display:flex;\n",
              "      flex-wrap:wrap;\n",
              "      gap: 12px;\n",
              "    }\n",
              "\n",
              "    .colab-df-convert {\n",
              "      background-color: #E8F0FE;\n",
              "      border: none;\n",
              "      border-radius: 50%;\n",
              "      cursor: pointer;\n",
              "      display: none;\n",
              "      fill: #1967D2;\n",
              "      height: 32px;\n",
              "      padding: 0 0 0 0;\n",
              "      width: 32px;\n",
              "    }\n",
              "\n",
              "    .colab-df-convert:hover {\n",
              "      background-color: #E2EBFA;\n",
              "      box-shadow: 0px 1px 2px rgba(60, 64, 67, 0.3), 0px 1px 3px 1px rgba(60, 64, 67, 0.15);\n",
              "      fill: #174EA6;\n",
              "    }\n",
              "\n",
              "    [theme=dark] .colab-df-convert {\n",
              "      background-color: #3B4455;\n",
              "      fill: #D2E3FC;\n",
              "    }\n",
              "\n",
              "    [theme=dark] .colab-df-convert:hover {\n",
              "      background-color: #434B5C;\n",
              "      box-shadow: 0px 1px 3px 1px rgba(0, 0, 0, 0.15);\n",
              "      filter: drop-shadow(0px 1px 2px rgba(0, 0, 0, 0.3));\n",
              "      fill: #FFFFFF;\n",
              "    }\n",
              "  </style>\n",
              "\n",
              "      <script>\n",
              "        const buttonEl =\n",
              "          document.querySelector('#df-a051c92c-a1c5-4551-bb13-e7eba40f5d41 button.colab-df-convert');\n",
              "        buttonEl.style.display =\n",
              "          google.colab.kernel.accessAllowed ? 'block' : 'none';\n",
              "\n",
              "        async function convertToInteractive(key) {\n",
              "          const element = document.querySelector('#df-a051c92c-a1c5-4551-bb13-e7eba40f5d41');\n",
              "          const dataTable =\n",
              "            await google.colab.kernel.invokeFunction('convertToInteractive',\n",
              "                                                     [key], {});\n",
              "          if (!dataTable) return;\n",
              "\n",
              "          const docLinkHtml = 'Like what you see? Visit the ' +\n",
              "            '<a target=\"_blank\" href=https://colab.research.google.com/notebooks/data_table.ipynb>data table notebook</a>'\n",
              "            + ' to learn more about interactive tables.';\n",
              "          element.innerHTML = '';\n",
              "          dataTable['output_type'] = 'display_data';\n",
              "          await google.colab.output.renderOutput(dataTable, element);\n",
              "          const docLink = document.createElement('div');\n",
              "          docLink.innerHTML = docLinkHtml;\n",
              "          element.appendChild(docLink);\n",
              "        }\n",
              "      </script>\n",
              "    </div>\n",
              "  </div>\n",
              "  "
            ]
          },
          "metadata": {},
          "execution_count": 27
        }
      ]
    },
    {
      "cell_type": "code",
      "source": [
        "# https://stackoverflow.com/questions/46556169/finding-common-elements-between-multiple-dataframe-columns\n",
        "common_enymes = reduce(np.intersect1d, [cancer_enzymes_df.Enzyme, covid_enzymes_df.Enzyme])\n",
        "len(common_enymes)"
      ],
      "metadata": {
        "colab": {
          "base_uri": "https://localhost:8080/"
        },
        "id": "Y-ZIU8eiMByP",
        "outputId": "d18dd1d9-070e-4871-8569-e543ff5b02e6"
      },
      "execution_count": 28,
      "outputs": [
        {
          "output_type": "execute_result",
          "data": {
            "text/plain": [
              "31"
            ]
          },
          "metadata": {},
          "execution_count": 28
        }
      ]
    },
    {
      "cell_type": "code",
      "source": [
        "combine_df = pd.concat([cancer_enzymes_df, covid_enzymes_df])"
      ],
      "metadata": {
        "id": "cx_jTgR5Num_"
      },
      "execution_count": 29,
      "outputs": []
    },
    {
      "cell_type": "code",
      "source": [
        "common_df = combine_df[combine_df['Enzyme'].isin(common_enymes)]"
      ],
      "metadata": {
        "id": "EioOH4ZJNhMw"
      },
      "execution_count": 30,
      "outputs": []
    },
    {
      "cell_type": "code",
      "source": [
        "for item in common_df.Enzyme:\n",
        "  print(item)"
      ],
      "metadata": {
        "colab": {
          "base_uri": "https://localhost:8080/"
        },
        "id": "S2lcgrN6OEiX",
        "outputId": "12510231-aacf-47e4-8f59-183290e92144"
      },
      "execution_count": 32,
      "outputs": [
        {
          "output_type": "stream",
          "name": "stdout",
          "text": [
            "EC 2.7.1.1 (MTOR protein, human)\n",
            "EC 2.7.11.1 (TOR Serine-Threonine Kinases)\n",
            "EC 2.7.7.- (Nucleotidyltransferases)\n",
            "EC 2.7.11.31 (AMP-Activated Protein Kinases)\n",
            "EC 2.3.2.27 (Ubiquitin-Protein Ligases)\n",
            "EC 3.4.17.23 (Angiotensin-Converting Enzyme 2)\n",
            "EC 3.4.21.75 (Furin)\n",
            "EC 2.7.1.1 (MTOR protein, human)\n",
            "EC 2.7.11.1 (TOR Serine-Threonine Kinases)\n",
            "EC 2.7.1.1 (MTOR protein, human)\n",
            "EC 2.7.11.1 (TOR Serine-Threonine Kinases)\n",
            "EC 2.7.11.1 (TOR Serine-Threonine Kinases)\n",
            "EC 2.3.2.27 (Ubiquitin-Protein Ligases)\n",
            "EC 3.4.25.1 (Proteasome Endopeptidase Complex)\n",
            "EC 2.3.2.27 (Ubiquitin-Protein Ligases)\n",
            "EC 3.4.21.- (Serine Endopeptidases)\n",
            "EC 2.3.2.27 (Ubiquitin-Protein Ligases)\n",
            "EC 3.4.25.1 (Proteasome Endopeptidase Complex)\n",
            "EC 2.3.2.27 (Ubiquitin-Protein Ligases)\n",
            "EC 3.4.14.5 (Dipeptidyl Peptidase 4)\n",
            "EC 2.7.7.- (Nucleotidyltransferases)\n",
            "EC 3.4.25.1 (Proteasome Endopeptidase Complex)\n",
            "EC 2.3.2.27 (Ubiquitin-Protein Ligases)\n",
            "EC 3.4.22.- (Cysteine Endopeptidases)\n",
            "EC 3.4.21.75 (Furin)\n",
            "EC 2.7.1.1 (MTOR protein, human)\n",
            "EC 2.7.11.1 (TOR Serine-Threonine Kinases)\n",
            "EC 3.4.25.1 (Proteasome Endopeptidase Complex)\n",
            "EC 3.4.21.- (PCSK9 protein, human)\n",
            "EC 3.4.21.- (Proprotein Convertase 9)\n",
            "EC 3.4.25.1 (Proteasome Endopeptidase Complex)\n",
            "EC 1.15.1.1 (Superoxide Dismutase)\n",
            "EC 3.4.14.5 (Dipeptidyl Peptidase 4)\n",
            "EC 3.4.25.1 (Proteasome Endopeptidase Complex)\n",
            "EC 2.1.1.- (Methyltransferases)\n",
            "EC 3.4.25.1 (Proteasome Endopeptidase Complex)\n",
            "EC 2.7.11.31 (AMP-Activated Protein Kinases)\n",
            "EC 2.3.2.27 (Ubiquitin-Protein Ligases)\n",
            "EC 2.7.1.1 (MTOR protein, human)\n",
            "EC 2.7.11.1 (TOR Serine-Threonine Kinases)\n",
            "EC 1.11.1.9 (Glutathione Peroxidase)\n",
            "EC 1.15.1.1 (Superoxide Dismutase)\n",
            "EC 2.7.11.1 (TOR Serine-Threonine Kinases)\n",
            "EC 2.7.1.1 (MTOR protein, human)\n",
            "EC 2.7.11.1 (TOR Serine-Threonine Kinases)\n",
            "EC 3.4.22.- (Cysteine Endopeptidases)\n",
            "EC 2.3.2.27 (Ubiquitin-Protein Ligases)\n",
            "EC 3.4.25.1 (Proteasome Endopeptidase Complex)\n",
            "EC 2.7.11.10 (I-kappa B Kinase)\n",
            "EC 3.1.3.1 (Alkaline Phosphatase)\n",
            "EC 2.3.2.27 (Ubiquitin-Protein Ligases)\n",
            "EC 3.4.25.1 (Proteasome Endopeptidase Complex)\n",
            "EC 3.4.- (Peptide Hydrolases)\n",
            "EC 3.4.22.- (Cysteine Endopeptidases)\n",
            "EC 2.7.11.1 (TOR Serine-Threonine Kinases)\n",
            "EC 2.1.1.- (Methyltransferases)\n",
            "EC 2.7.11.1 (TOR Serine-Threonine Kinases)\n",
            "EC 2.7.1.1 (MTOR protein, human)\n",
            "EC 2.7.11.1 (TOR Serine-Threonine Kinases)\n",
            "EC 3.4.22.15 (Cathepsin L)\n",
            "EC 2.1.1.- (Methyltransferases)\n",
            "EC 3.4.25.1 (Proteasome Endopeptidase Complex)\n",
            "EC 3.5.1.- (Sirtuin 1)\n",
            "EC 3.4.22.36 (Caspase 1)\n",
            "EC 2.3.2.27 (Ubiquitin-Protein Ligases)\n",
            "EC 2.3.2.27 (Ubiquitin-Protein Ligases)\n",
            "EC 3.6.1.- (Adenosine Triphosphatases)\n",
            "EC 3.4.- (Endopeptidases)\n",
            "EC 3.4.- (Peptide Hydrolases)\n",
            "EC 2.7.11.26 (Glycogen Synthase Kinase 3)\n",
            "EC 3.4.- (Serine Proteases)\n",
            "EC 3.4.14.5 (Dipeptidyl Peptidase 4)\n",
            "EC 2.6.1.1 (Aspartate Aminotransferases)\n",
            "EC 2.7.11.26 (Glycogen Synthase Kinase 3)\n",
            "EC 2.7.11.1 (TOR Serine-Threonine Kinases)\n",
            "EC 2.3.2.27 (Ubiquitin-Protein Ligases)\n",
            "EC 2.7.11.1 (TOR Serine-Threonine Kinases)\n",
            "EC 2.3.2.27 (Ubiquitin-Protein Ligases)\n",
            "EC 3.5.4.4 (Adenosine Deaminase)\n",
            "EC 4.2.1.1 (Carbonic Anhydrases)\n",
            "EC 4.2.1.1 (Carbonic Anhydrases)\n",
            "EC 2.7.10.2 (Syk Kinase)\n",
            "EC 2.3.2.27 (Ubiquitin-Protein Ligases)\n",
            "EC 2.3.2.27 (Ubiquitin-Protein Ligases)\n",
            "EC 3.4.- (Endopeptidases)\n",
            "EC 3.4.- (Endopeptidases)\n",
            "EC 2.7.1.1 (MTOR protein, human)\n",
            "EC 2.7.11.1 (TOR Serine-Threonine Kinases)\n",
            "EC 3.5.1.- (SIRT1 protein, human)\n",
            "EC 3.5.1.- (Sirtuin 1)\n",
            "EC 2.1.1.- (Methyltransferases)\n",
            "EC 2.1.1.- (Methyltransferases)\n",
            "EC 2.1.1.- (Methyltransferases)\n",
            "EC 2.7.11.1 (TOR Serine-Threonine Kinases)\n",
            "EC 3.4.25.1 (Proteasome Endopeptidase Complex)\n",
            "EC 3.5.4.4 (Adenosine Deaminase)\n",
            "EC 2.7.11.31 (AMP-Activated Protein Kinases)\n",
            "EC 2.7.7.- (Nucleotidyltransferases)\n",
            "EC 3.4.17.23 (Angiotensin-Converting Enzyme 2)\n",
            "EC 3.4.21.75 (Furin)\n",
            "EC 3.4.17.23 (Angiotensin-Converting Enzyme 2)\n",
            "EC 2.7.7.- (Nucleotidyltransferases)\n",
            "EC 3.4.17.23 (Angiotensin-Converting Enzyme 2)\n",
            "EC 3.4.17.23 (Angiotensin-Converting Enzyme 2)\n",
            "EC 3.4.17.23 (Angiotensin-Converting Enzyme 2)\n",
            "EC 3.4.- (Peptide Hydrolases)\n",
            "EC 3.4.21.75 (Furin)\n",
            "EC 3.4.17.23 (Angiotensin-Converting Enzyme 2)\n",
            "EC 2.1.1.- (Methyltransferases)\n",
            "EC 3.4.- (Endopeptidases)\n",
            "EC 3.4.- (Peptide Hydrolases)\n",
            "EC 3.4.17.23 (Angiotensin-Converting Enzyme 2)\n",
            "EC 3.4.17.23 (Angiotensin-Converting Enzyme 2)\n",
            "EC 3.4.17.23 (Angiotensin-Converting Enzyme 2)\n",
            "EC 3.4.14.5 (Dipeptidyl Peptidase 4)\n",
            "EC 3.4.17.23 (Angiotensin-Converting Enzyme 2)\n",
            "EC 3.4.17.23 (Angiotensin-Converting Enzyme 2)\n",
            "EC 3.4.17.23 (Angiotensin-Converting Enzyme 2)\n",
            "EC 2.7.11.10 (I-kappa B Kinase)\n",
            "EC 3.4.17.23 (Angiotensin-Converting Enzyme 2)\n",
            "EC 3.4.17.23 (Angiotensin-Converting Enzyme 2)\n",
            "EC 3.4.17.23 (Angiotensin-Converting Enzyme 2)\n",
            "EC 3.4.17.23 (Angiotensin-Converting Enzyme 2)\n",
            "EC 3.4.- (Peptide Hydrolases)\n",
            "EC 3.4.22.- (Cysteine Endopeptidases)\n",
            "EC 2.3.2.27 (Ubiquitin-Protein Ligases)\n",
            "EC 2.7.1.1 (MTOR protein, human)\n",
            "EC 2.7.11.1 (TOR Serine-Threonine Kinases)\n",
            "EC 3.4.17.23 (Angiotensin-Converting Enzyme 2)\n",
            "EC 3.4.- (Endopeptidases)\n",
            "EC 3.4.- (Peptide Hydrolases)\n",
            "EC 3.4.17.23 (Angiotensin-Converting Enzyme 2)\n",
            "EC 3.4.17.23 (Angiotensin-Converting Enzyme 2)\n",
            "EC 2.7.11.26 (Glycogen Synthase Kinase 3)\n",
            "EC 2.6.1.1 (Aspartate Aminotransferases)\n",
            "EC 1.11.1.9 (Glutathione Peroxidase)\n",
            "EC 1.15.1.1 (Superoxide Dismutase)\n",
            "EC 3.6.1.- (Adenosine Triphosphatases)\n",
            "EC 3.4.17.23 (Angiotensin-Converting Enzyme 2)\n",
            "EC 3.4.17.23 (Angiotensin-Converting Enzyme 2)\n",
            "EC 3.5.4.4 (Adenosine Deaminase)\n",
            "EC 3.4.17.23 (Angiotensin-Converting Enzyme 2)\n",
            "EC 3.4.21.- (PCSK9 protein, human)\n",
            "EC 3.4.21.- (Proprotein Convertase 9)\n",
            "EC 3.4.21.- (Serine Endopeptidases)\n",
            "EC 2.7.7.- (Nucleotidyltransferases)\n",
            "EC 3.4.17.23 (Angiotensin-Converting Enzyme 2)\n",
            "EC 3.4.- (Peptide Hydrolases)\n",
            "EC 3.4.22.- (Cysteine Endopeptidases)\n",
            "EC 3.4.- (Serine Proteases)\n",
            "EC 3.4.- (Peptide Hydrolases)\n",
            "EC 3.4.22.- (Cysteine Endopeptidases)\n",
            "EC 3.4.17.23 (Angiotensin-Converting Enzyme 2)\n",
            "EC 3.4.17.23 (Angiotensin-Converting Enzyme 2)\n",
            "EC 3.4.21.- (Serine Endopeptidases)\n",
            "EC 3.4.17.23 (Angiotensin-Converting Enzyme 2)\n",
            "EC 3.4.25.1 (Proteasome Endopeptidase Complex)\n",
            "EC 3.4.17.23 (Angiotensin-Converting Enzyme 2)\n",
            "EC 4.2.1.1 (Carbonic Anhydrases)\n",
            "EC 2.7.11.31 (AMP-Activated Protein Kinases)\n",
            "EC 3.4.17.23 (Angiotensin-Converting Enzyme 2)\n",
            "EC 3.4.22.36 (Caspase 1)\n",
            "EC 3.4.17.23 (Angiotensin-Converting Enzyme 2)\n",
            "EC 2.6.1.1 (Aspartate Aminotransferases)\n",
            "EC 3.1.3.1 (Alkaline Phosphatase)\n",
            "EC 3.4.17.23 (Angiotensin-Converting Enzyme 2)\n",
            "EC 3.4.17.23 (Angiotensin-Converting Enzyme 2)\n",
            "EC 3.4.- (Serine Proteases)\n",
            "EC 3.4.17.23 (Angiotensin-Converting Enzyme 2)\n",
            "EC 3.4.22.15 (Cathepsin L)\n",
            "EC 3.4.17.23 (Angiotensin-Converting Enzyme 2)\n",
            "EC 2.7.10.2 (Syk Kinase)\n",
            "EC 3.4.17.23 (Angiotensin-Converting Enzyme 2)\n",
            "EC 3.4.21.- (Serine Endopeptidases)\n",
            "EC 2.7.11.31 (AMP-Activated Protein Kinases)\n",
            "EC 3.5.1.- (SIRT1 protein, human)\n",
            "EC 3.5.1.- (Sirtuin 1)\n",
            "EC 3.4.17.23 (Angiotensin-Converting Enzyme 2)\n",
            "EC 3.4.17.23 (Angiotensin-Converting Enzyme 2)\n",
            "EC 3.4.21.- (Serine Endopeptidases)\n"
          ]
        }
      ]
    },
    {
      "cell_type": "code",
      "source": [
        ""
      ],
      "metadata": {
        "id": "Rr_b0QIBSzRw"
      },
      "execution_count": null,
      "outputs": []
    }
  ]
}