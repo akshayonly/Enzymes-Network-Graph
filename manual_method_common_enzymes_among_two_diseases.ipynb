{
  "nbformat": 4,
  "nbformat_minor": 0,
  "metadata": {
    "colab": {
      "name": "manual_method_common_enzymes_among_two_diseases.ipynb",
      "provenance": [],
      "collapsed_sections": [],
      "mount_file_id": "1P306nTf93huQcNPRbBWbRjYBOabM1QhZ",
      "authorship_tag": "ABX9TyP/C6n3qgIbHJ5hyST3dXGg"
    },
    "kernelspec": {
      "name": "python3",
      "display_name": "Python 3"
    },
    "language_info": {
      "name": "python"
    }
  },
  "cells": [
    {
      "cell_type": "markdown",
      "source": [
        "# Common Enzymes Among Two Diseases\n",
        "\n",
        "The main goal of this project is to search and find common enzymes from bibliographic data of any two query terms. These search terms can be two distinct or similar oncogenic diseases, viral or bacterial pathogens, or any biomedical terms for that matter. As long as there is scientific literature for these two query terms, this code can fetch their bibliographic and citation data.\n",
        "\n",
        "Below I have used two diseases with different origins, **Cancer** & **SARS CoV 2** as two query terms examples. We'd first fetch the bibliographic data from the Entrez database of NCBI. Then we'd process the data to extract only enzymes. Using these enzymes as Nodes we'd then construct a network graph. The layout of the graph is shown below.\n",
        "\n",
        "**FAQs**\n",
        "1. Why bibliographic data?\n",
        "- Frankly I don't know how we can fetch this information from another method or database. In the future, if I found out there is a better way of doing this, I'll update the code.\n",
        "\n",
        "2. Why bother to find common enzymes among two diseases?\n",
        "- I get curious about the commonality aspect of two distinct things or even topics. I wanted to create a custom script that can return a list of common enzymes between two scientific terms or phenomena. \n",
        "  \n",
        "3. Does every article's citation & bibliographic data has enzymes list?\n",
        "- Not necessarily. If enzyme(s) are mentioned in the article and its identifier(s) is included in the MeSH record."
      ],
      "metadata": {
        "id": "vPGvXGkAN3NO"
      }
    },
    {
      "cell_type": "code",
      "source": [
        "! pip install -q biopython\n",
        "\n",
        "! pip install -q pyvis"
      ],
      "metadata": {
        "colab": {
          "base_uri": "https://localhost:8080/"
        },
        "id": "VWhAeSZVN41V",
        "outputId": "cb586dc5-9b8b-4cce-8fd4-9190f2fa0063"
      },
      "execution_count": 1,
      "outputs": [
        {
          "output_type": "stream",
          "name": "stdout",
          "text": [
            "\u001b[?25l\r\u001b[K     |▏                               | 10 kB 17.5 MB/s eta 0:00:01\r\u001b[K     |▎                               | 20 kB 20.3 MB/s eta 0:00:01\r\u001b[K     |▍                               | 30 kB 16.3 MB/s eta 0:00:01\r\u001b[K     |▋                               | 40 kB 11.7 MB/s eta 0:00:01\r\u001b[K     |▊                               | 51 kB 7.7 MB/s eta 0:00:01\r\u001b[K     |▉                               | 61 kB 8.9 MB/s eta 0:00:01\r\u001b[K     |█                               | 71 kB 8.3 MB/s eta 0:00:01\r\u001b[K     |█▏                              | 81 kB 8.7 MB/s eta 0:00:01\r\u001b[K     |█▎                              | 92 kB 9.6 MB/s eta 0:00:01\r\u001b[K     |█▍                              | 102 kB 8.6 MB/s eta 0:00:01\r\u001b[K     |█▋                              | 112 kB 8.6 MB/s eta 0:00:01\r\u001b[K     |█▊                              | 122 kB 8.6 MB/s eta 0:00:01\r\u001b[K     |█▉                              | 133 kB 8.6 MB/s eta 0:00:01\r\u001b[K     |██                              | 143 kB 8.6 MB/s eta 0:00:01\r\u001b[K     |██▏                             | 153 kB 8.6 MB/s eta 0:00:01\r\u001b[K     |██▎                             | 163 kB 8.6 MB/s eta 0:00:01\r\u001b[K     |██▍                             | 174 kB 8.6 MB/s eta 0:00:01\r\u001b[K     |██▋                             | 184 kB 8.6 MB/s eta 0:00:01\r\u001b[K     |██▊                             | 194 kB 8.6 MB/s eta 0:00:01\r\u001b[K     |██▉                             | 204 kB 8.6 MB/s eta 0:00:01\r\u001b[K     |███                             | 215 kB 8.6 MB/s eta 0:00:01\r\u001b[K     |███▏                            | 225 kB 8.6 MB/s eta 0:00:01\r\u001b[K     |███▎                            | 235 kB 8.6 MB/s eta 0:00:01\r\u001b[K     |███▌                            | 245 kB 8.6 MB/s eta 0:00:01\r\u001b[K     |███▋                            | 256 kB 8.6 MB/s eta 0:00:01\r\u001b[K     |███▊                            | 266 kB 8.6 MB/s eta 0:00:01\r\u001b[K     |███▉                            | 276 kB 8.6 MB/s eta 0:00:01\r\u001b[K     |████                            | 286 kB 8.6 MB/s eta 0:00:01\r\u001b[K     |████▏                           | 296 kB 8.6 MB/s eta 0:00:01\r\u001b[K     |████▎                           | 307 kB 8.6 MB/s eta 0:00:01\r\u001b[K     |████▌                           | 317 kB 8.6 MB/s eta 0:00:01\r\u001b[K     |████▋                           | 327 kB 8.6 MB/s eta 0:00:01\r\u001b[K     |████▊                           | 337 kB 8.6 MB/s eta 0:00:01\r\u001b[K     |████▉                           | 348 kB 8.6 MB/s eta 0:00:01\r\u001b[K     |█████                           | 358 kB 8.6 MB/s eta 0:00:01\r\u001b[K     |█████▏                          | 368 kB 8.6 MB/s eta 0:00:01\r\u001b[K     |█████▎                          | 378 kB 8.6 MB/s eta 0:00:01\r\u001b[K     |█████▌                          | 389 kB 8.6 MB/s eta 0:00:01\r\u001b[K     |█████▋                          | 399 kB 8.6 MB/s eta 0:00:01\r\u001b[K     |█████▊                          | 409 kB 8.6 MB/s eta 0:00:01\r\u001b[K     |██████                          | 419 kB 8.6 MB/s eta 0:00:01\r\u001b[K     |██████                          | 430 kB 8.6 MB/s eta 0:00:01\r\u001b[K     |██████▏                         | 440 kB 8.6 MB/s eta 0:00:01\r\u001b[K     |██████▎                         | 450 kB 8.6 MB/s eta 0:00:01\r\u001b[K     |██████▌                         | 460 kB 8.6 MB/s eta 0:00:01\r\u001b[K     |██████▋                         | 471 kB 8.6 MB/s eta 0:00:01\r\u001b[K     |██████▊                         | 481 kB 8.6 MB/s eta 0:00:01\r\u001b[K     |███████                         | 491 kB 8.6 MB/s eta 0:00:01\r\u001b[K     |███████                         | 501 kB 8.6 MB/s eta 0:00:01\r\u001b[K     |███████▏                        | 512 kB 8.6 MB/s eta 0:00:01\r\u001b[K     |███████▎                        | 522 kB 8.6 MB/s eta 0:00:01\r\u001b[K     |███████▌                        | 532 kB 8.6 MB/s eta 0:00:01\r\u001b[K     |███████▋                        | 542 kB 8.6 MB/s eta 0:00:01\r\u001b[K     |███████▊                        | 552 kB 8.6 MB/s eta 0:00:01\r\u001b[K     |████████                        | 563 kB 8.6 MB/s eta 0:00:01\r\u001b[K     |████████                        | 573 kB 8.6 MB/s eta 0:00:01\r\u001b[K     |████████▏                       | 583 kB 8.6 MB/s eta 0:00:01\r\u001b[K     |████████▍                       | 593 kB 8.6 MB/s eta 0:00:01\r\u001b[K     |████████▌                       | 604 kB 8.6 MB/s eta 0:00:01\r\u001b[K     |████████▋                       | 614 kB 8.6 MB/s eta 0:00:01\r\u001b[K     |████████▊                       | 624 kB 8.6 MB/s eta 0:00:01\r\u001b[K     |█████████                       | 634 kB 8.6 MB/s eta 0:00:01\r\u001b[K     |█████████                       | 645 kB 8.6 MB/s eta 0:00:01\r\u001b[K     |█████████▏                      | 655 kB 8.6 MB/s eta 0:00:01\r\u001b[K     |█████████▍                      | 665 kB 8.6 MB/s eta 0:00:01\r\u001b[K     |█████████▌                      | 675 kB 8.6 MB/s eta 0:00:01\r\u001b[K     |█████████▋                      | 686 kB 8.6 MB/s eta 0:00:01\r\u001b[K     |█████████▊                      | 696 kB 8.6 MB/s eta 0:00:01\r\u001b[K     |██████████                      | 706 kB 8.6 MB/s eta 0:00:01\r\u001b[K     |██████████                      | 716 kB 8.6 MB/s eta 0:00:01\r\u001b[K     |██████████▏                     | 727 kB 8.6 MB/s eta 0:00:01\r\u001b[K     |██████████▍                     | 737 kB 8.6 MB/s eta 0:00:01\r\u001b[K     |██████████▌                     | 747 kB 8.6 MB/s eta 0:00:01\r\u001b[K     |██████████▋                     | 757 kB 8.6 MB/s eta 0:00:01\r\u001b[K     |██████████▉                     | 768 kB 8.6 MB/s eta 0:00:01\r\u001b[K     |███████████                     | 778 kB 8.6 MB/s eta 0:00:01\r\u001b[K     |███████████                     | 788 kB 8.6 MB/s eta 0:00:01\r\u001b[K     |███████████▏                    | 798 kB 8.6 MB/s eta 0:00:01\r\u001b[K     |███████████▍                    | 808 kB 8.6 MB/s eta 0:00:01\r\u001b[K     |███████████▌                    | 819 kB 8.6 MB/s eta 0:00:01\r\u001b[K     |███████████▋                    | 829 kB 8.6 MB/s eta 0:00:01\r\u001b[K     |███████████▉                    | 839 kB 8.6 MB/s eta 0:00:01\r\u001b[K     |████████████                    | 849 kB 8.6 MB/s eta 0:00:01\r\u001b[K     |████████████                    | 860 kB 8.6 MB/s eta 0:00:01\r\u001b[K     |████████████▏                   | 870 kB 8.6 MB/s eta 0:00:01\r\u001b[K     |████████████▍                   | 880 kB 8.6 MB/s eta 0:00:01\r\u001b[K     |████████████▌                   | 890 kB 8.6 MB/s eta 0:00:01\r\u001b[K     |████████████▋                   | 901 kB 8.6 MB/s eta 0:00:01\r\u001b[K     |████████████▉                   | 911 kB 8.6 MB/s eta 0:00:01\r\u001b[K     |█████████████                   | 921 kB 8.6 MB/s eta 0:00:01\r\u001b[K     |█████████████                   | 931 kB 8.6 MB/s eta 0:00:01\r\u001b[K     |█████████████▎                  | 942 kB 8.6 MB/s eta 0:00:01\r\u001b[K     |█████████████▍                  | 952 kB 8.6 MB/s eta 0:00:01\r\u001b[K     |█████████████▌                  | 962 kB 8.6 MB/s eta 0:00:01\r\u001b[K     |█████████████▋                  | 972 kB 8.6 MB/s eta 0:00:01\r\u001b[K     |█████████████▉                  | 983 kB 8.6 MB/s eta 0:00:01\r\u001b[K     |██████████████                  | 993 kB 8.6 MB/s eta 0:00:01\r\u001b[K     |██████████████                  | 1.0 MB 8.6 MB/s eta 0:00:01\r\u001b[K     |██████████████▎                 | 1.0 MB 8.6 MB/s eta 0:00:01\r\u001b[K     |██████████████▍                 | 1.0 MB 8.6 MB/s eta 0:00:01\r\u001b[K     |██████████████▌                 | 1.0 MB 8.6 MB/s eta 0:00:01\r\u001b[K     |██████████████▋                 | 1.0 MB 8.6 MB/s eta 0:00:01\r\u001b[K     |██████████████▉                 | 1.1 MB 8.6 MB/s eta 0:00:01\r\u001b[K     |███████████████                 | 1.1 MB 8.6 MB/s eta 0:00:01\r\u001b[K     |███████████████                 | 1.1 MB 8.6 MB/s eta 0:00:01\r\u001b[K     |███████████████▎                | 1.1 MB 8.6 MB/s eta 0:00:01\r\u001b[K     |███████████████▍                | 1.1 MB 8.6 MB/s eta 0:00:01\r\u001b[K     |███████████████▌                | 1.1 MB 8.6 MB/s eta 0:00:01\r\u001b[K     |███████████████▊                | 1.1 MB 8.6 MB/s eta 0:00:01\r\u001b[K     |███████████████▉                | 1.1 MB 8.6 MB/s eta 0:00:01\r\u001b[K     |████████████████                | 1.1 MB 8.6 MB/s eta 0:00:01\r\u001b[K     |████████████████                | 1.1 MB 8.6 MB/s eta 0:00:01\r\u001b[K     |████████████████▎               | 1.2 MB 8.6 MB/s eta 0:00:01\r\u001b[K     |████████████████▍               | 1.2 MB 8.6 MB/s eta 0:00:01\r\u001b[K     |████████████████▌               | 1.2 MB 8.6 MB/s eta 0:00:01\r\u001b[K     |████████████████▊               | 1.2 MB 8.6 MB/s eta 0:00:01\r\u001b[K     |████████████████▉               | 1.2 MB 8.6 MB/s eta 0:00:01\r\u001b[K     |█████████████████               | 1.2 MB 8.6 MB/s eta 0:00:01\r\u001b[K     |█████████████████               | 1.2 MB 8.6 MB/s eta 0:00:01\r\u001b[K     |█████████████████▎              | 1.2 MB 8.6 MB/s eta 0:00:01\r\u001b[K     |█████████████████▍              | 1.2 MB 8.6 MB/s eta 0:00:01\r\u001b[K     |█████████████████▌              | 1.2 MB 8.6 MB/s eta 0:00:01\r\u001b[K     |█████████████████▊              | 1.3 MB 8.6 MB/s eta 0:00:01\r\u001b[K     |█████████████████▉              | 1.3 MB 8.6 MB/s eta 0:00:01\r\u001b[K     |██████████████████              | 1.3 MB 8.6 MB/s eta 0:00:01\r\u001b[K     |██████████████████▏             | 1.3 MB 8.6 MB/s eta 0:00:01\r\u001b[K     |██████████████████▎             | 1.3 MB 8.6 MB/s eta 0:00:01\r\u001b[K     |██████████████████▍             | 1.3 MB 8.6 MB/s eta 0:00:01\r\u001b[K     |██████████████████▌             | 1.3 MB 8.6 MB/s eta 0:00:01\r\u001b[K     |██████████████████▊             | 1.3 MB 8.6 MB/s eta 0:00:01\r\u001b[K     |██████████████████▉             | 1.3 MB 8.6 MB/s eta 0:00:01\r\u001b[K     |███████████████████             | 1.4 MB 8.6 MB/s eta 0:00:01\r\u001b[K     |███████████████████▏            | 1.4 MB 8.6 MB/s eta 0:00:01\r\u001b[K     |███████████████████▎            | 1.4 MB 8.6 MB/s eta 0:00:01\r\u001b[K     |███████████████████▍            | 1.4 MB 8.6 MB/s eta 0:00:01\r\u001b[K     |███████████████████▌            | 1.4 MB 8.6 MB/s eta 0:00:01\r\u001b[K     |███████████████████▊            | 1.4 MB 8.6 MB/s eta 0:00:01\r\u001b[K     |███████████████████▉            | 1.4 MB 8.6 MB/s eta 0:00:01\r\u001b[K     |████████████████████            | 1.4 MB 8.6 MB/s eta 0:00:01\r\u001b[K     |████████████████████▏           | 1.4 MB 8.6 MB/s eta 0:00:01\r\u001b[K     |████████████████████▎           | 1.4 MB 8.6 MB/s eta 0:00:01\r\u001b[K     |████████████████████▍           | 1.5 MB 8.6 MB/s eta 0:00:01\r\u001b[K     |████████████████████▋           | 1.5 MB 8.6 MB/s eta 0:00:01\r\u001b[K     |████████████████████▊           | 1.5 MB 8.6 MB/s eta 0:00:01\r\u001b[K     |████████████████████▉           | 1.5 MB 8.6 MB/s eta 0:00:01\r\u001b[K     |█████████████████████           | 1.5 MB 8.6 MB/s eta 0:00:01\r\u001b[K     |█████████████████████▏          | 1.5 MB 8.6 MB/s eta 0:00:01\r\u001b[K     |█████████████████████▎          | 1.5 MB 8.6 MB/s eta 0:00:01\r\u001b[K     |█████████████████████▍          | 1.5 MB 8.6 MB/s eta 0:00:01\r\u001b[K     |█████████████████████▋          | 1.5 MB 8.6 MB/s eta 0:00:01\r\u001b[K     |█████████████████████▊          | 1.5 MB 8.6 MB/s eta 0:00:01\r\u001b[K     |█████████████████████▉          | 1.6 MB 8.6 MB/s eta 0:00:01\r\u001b[K     |██████████████████████          | 1.6 MB 8.6 MB/s eta 0:00:01\r\u001b[K     |██████████████████████▏         | 1.6 MB 8.6 MB/s eta 0:00:01\r\u001b[K     |██████████████████████▎         | 1.6 MB 8.6 MB/s eta 0:00:01\r\u001b[K     |██████████████████████▍         | 1.6 MB 8.6 MB/s eta 0:00:01\r\u001b[K     |██████████████████████▋         | 1.6 MB 8.6 MB/s eta 0:00:01\r\u001b[K     |██████████████████████▊         | 1.6 MB 8.6 MB/s eta 0:00:01\r\u001b[K     |██████████████████████▉         | 1.6 MB 8.6 MB/s eta 0:00:01\r\u001b[K     |███████████████████████         | 1.6 MB 8.6 MB/s eta 0:00:01\r\u001b[K     |███████████████████████▏        | 1.6 MB 8.6 MB/s eta 0:00:01\r\u001b[K     |███████████████████████▎        | 1.7 MB 8.6 MB/s eta 0:00:01\r\u001b[K     |███████████████████████▍        | 1.7 MB 8.6 MB/s eta 0:00:01\r\u001b[K     |███████████████████████▋        | 1.7 MB 8.6 MB/s eta 0:00:01\r\u001b[K     |███████████████████████▊        | 1.7 MB 8.6 MB/s eta 0:00:01\r\u001b[K     |███████████████████████▉        | 1.7 MB 8.6 MB/s eta 0:00:01\r\u001b[K     |████████████████████████        | 1.7 MB 8.6 MB/s eta 0:00:01\r\u001b[K     |████████████████████████▏       | 1.7 MB 8.6 MB/s eta 0:00:01\r\u001b[K     |████████████████████████▎       | 1.7 MB 8.6 MB/s eta 0:00:01\r\u001b[K     |████████████████████████▍       | 1.7 MB 8.6 MB/s eta 0:00:01\r\u001b[K     |████████████████████████▋       | 1.8 MB 8.6 MB/s eta 0:00:01\r\u001b[K     |████████████████████████▊       | 1.8 MB 8.6 MB/s eta 0:00:01\r\u001b[K     |████████████████████████▉       | 1.8 MB 8.6 MB/s eta 0:00:01\r\u001b[K     |█████████████████████████       | 1.8 MB 8.6 MB/s eta 0:00:01\r\u001b[K     |█████████████████████████▏      | 1.8 MB 8.6 MB/s eta 0:00:01\r\u001b[K     |█████████████████████████▎      | 1.8 MB 8.6 MB/s eta 0:00:01\r\u001b[K     |█████████████████████████▌      | 1.8 MB 8.6 MB/s eta 0:00:01\r\u001b[K     |█████████████████████████▋      | 1.8 MB 8.6 MB/s eta 0:00:01\r\u001b[K     |█████████████████████████▊      | 1.8 MB 8.6 MB/s eta 0:00:01\r\u001b[K     |█████████████████████████▉      | 1.8 MB 8.6 MB/s eta 0:00:01\r\u001b[K     |██████████████████████████      | 1.9 MB 8.6 MB/s eta 0:00:01\r\u001b[K     |██████████████████████████▏     | 1.9 MB 8.6 MB/s eta 0:00:01\r\u001b[K     |██████████████████████████▎     | 1.9 MB 8.6 MB/s eta 0:00:01\r\u001b[K     |██████████████████████████▌     | 1.9 MB 8.6 MB/s eta 0:00:01\r\u001b[K     |██████████████████████████▋     | 1.9 MB 8.6 MB/s eta 0:00:01\r\u001b[K     |██████████████████████████▊     | 1.9 MB 8.6 MB/s eta 0:00:01\r\u001b[K     |██████████████████████████▉     | 1.9 MB 8.6 MB/s eta 0:00:01\r\u001b[K     |███████████████████████████     | 1.9 MB 8.6 MB/s eta 0:00:01\r\u001b[K     |███████████████████████████▏    | 1.9 MB 8.6 MB/s eta 0:00:01\r\u001b[K     |███████████████████████████▎    | 1.9 MB 8.6 MB/s eta 0:00:01\r\u001b[K     |███████████████████████████▌    | 2.0 MB 8.6 MB/s eta 0:00:01\r\u001b[K     |███████████████████████████▋    | 2.0 MB 8.6 MB/s eta 0:00:01\r\u001b[K     |███████████████████████████▊    | 2.0 MB 8.6 MB/s eta 0:00:01\r\u001b[K     |████████████████████████████    | 2.0 MB 8.6 MB/s eta 0:00:01\r\u001b[K     |████████████████████████████    | 2.0 MB 8.6 MB/s eta 0:00:01\r\u001b[K     |████████████████████████████▏   | 2.0 MB 8.6 MB/s eta 0:00:01\r\u001b[K     |████████████████████████████▎   | 2.0 MB 8.6 MB/s eta 0:00:01\r\u001b[K     |████████████████████████████▌   | 2.0 MB 8.6 MB/s eta 0:00:01\r\u001b[K     |████████████████████████████▋   | 2.0 MB 8.6 MB/s eta 0:00:01\r\u001b[K     |████████████████████████████▊   | 2.0 MB 8.6 MB/s eta 0:00:01\r\u001b[K     |█████████████████████████████   | 2.1 MB 8.6 MB/s eta 0:00:01\r\u001b[K     |█████████████████████████████   | 2.1 MB 8.6 MB/s eta 0:00:01\r\u001b[K     |█████████████████████████████▏  | 2.1 MB 8.6 MB/s eta 0:00:01\r\u001b[K     |█████████████████████████████▎  | 2.1 MB 8.6 MB/s eta 0:00:01\r\u001b[K     |█████████████████████████████▌  | 2.1 MB 8.6 MB/s eta 0:00:01\r\u001b[K     |█████████████████████████████▋  | 2.1 MB 8.6 MB/s eta 0:00:01\r\u001b[K     |█████████████████████████████▊  | 2.1 MB 8.6 MB/s eta 0:00:01\r\u001b[K     |██████████████████████████████  | 2.1 MB 8.6 MB/s eta 0:00:01\r\u001b[K     |██████████████████████████████  | 2.1 MB 8.6 MB/s eta 0:00:01\r\u001b[K     |██████████████████████████████▏ | 2.2 MB 8.6 MB/s eta 0:00:01\r\u001b[K     |██████████████████████████████▍ | 2.2 MB 8.6 MB/s eta 0:00:01\r\u001b[K     |██████████████████████████████▌ | 2.2 MB 8.6 MB/s eta 0:00:01\r\u001b[K     |██████████████████████████████▋ | 2.2 MB 8.6 MB/s eta 0:00:01\r\u001b[K     |██████████████████████████████▊ | 2.2 MB 8.6 MB/s eta 0:00:01\r\u001b[K     |███████████████████████████████ | 2.2 MB 8.6 MB/s eta 0:00:01\r\u001b[K     |███████████████████████████████ | 2.2 MB 8.6 MB/s eta 0:00:01\r\u001b[K     |███████████████████████████████▏| 2.2 MB 8.6 MB/s eta 0:00:01\r\u001b[K     |███████████████████████████████▍| 2.2 MB 8.6 MB/s eta 0:00:01\r\u001b[K     |███████████████████████████████▌| 2.2 MB 8.6 MB/s eta 0:00:01\r\u001b[K     |███████████████████████████████▋| 2.3 MB 8.6 MB/s eta 0:00:01\r\u001b[K     |███████████████████████████████▊| 2.3 MB 8.6 MB/s eta 0:00:01\r\u001b[K     |████████████████████████████████| 2.3 MB 8.6 MB/s eta 0:00:01\r\u001b[K     |████████████████████████████████| 2.3 MB 8.6 MB/s \n",
            "\u001b[?25h"
          ]
        }
      ]
    },
    {
      "cell_type": "code",
      "source": [
        "# Fetching PubMed article metadata\n",
        "from Bio import Entrez, Medline\n",
        "\n",
        "# Graph creation and visualisation\n",
        "from pyvis.network import Network\n",
        "\n",
        "import time\n",
        "import os"
      ],
      "metadata": {
        "id": "tq25ZE21OBew"
      },
      "execution_count": 2,
      "outputs": []
    },
    {
      "cell_type": "code",
      "source": [
        "def process_pmid_txt(text_file_path):\n",
        "\n",
        "  pmids = list()\n",
        "\n",
        "  with open(text_file_path, \"r\") as f:\n",
        "    for pmid in f.read().split('\\n'):\n",
        "      pmids.append(pmid.strip())  \n",
        "\n",
        "  return pmids"
      ],
      "metadata": {
        "id": "JZiTWxEkQb1s"
      },
      "execution_count": 3,
      "outputs": []
    },
    {
      "cell_type": "code",
      "source": [
        "def efetch(pmids):\n",
        "    \"\"\"Returns MEDLINE/pubmed record associated with the PMID(s)\"\"\"\n",
        "    \n",
        "    Entrez.email = 'akishirsath@gmail.com'\n",
        "\n",
        "    handle = Entrez.efetch(db=\"pubmed\", \n",
        "                           id=pmids, \n",
        "                           rettype=\"medline\", \n",
        "                           retmode=\"text\")\n",
        "\n",
        "    records = Medline.parse(handle)    \n",
        "    \n",
        "    return list(records)"
      ],
      "metadata": {
        "id": "5F_DNn5LSKfd"
      },
      "execution_count": 4,
      "outputs": []
    },
    {
      "cell_type": "code",
      "source": [
        "first_file = \"/content/drive/MyDrive/05-Data/PubMed-Common-Enzymes/pmid-Cancer-set.txt\"\n",
        "\n",
        "second_file = \"/content/drive/MyDrive/05-Data/PubMed-Common-Enzymes/pmid-sarscov-2-set.txt\"\n",
        "\n",
        "first_pmids = process_pmid_txt(first_file)\n",
        "\n",
        "second_pmids = process_pmid_txt(second_file)"
      ],
      "metadata": {
        "id": "ZCFUm_-1Th3T"
      },
      "execution_count": 5,
      "outputs": []
    },
    {
      "cell_type": "code",
      "source": [
        "first_topic_records = efetch(\",\".join(first_pmids))\n",
        "\n",
        "time.sleep(10)\n",
        "\n",
        "second_topic_records = efetch(\",\".join(second_pmids))"
      ],
      "metadata": {
        "id": "5oj1ax_cuWzU"
      },
      "execution_count": 6,
      "outputs": []
    },
    {
      "cell_type": "code",
      "source": [
        "colors = {\n",
        "    'backgrd' : '#f1f2f6',    # Background color\n",
        "    'font' : '#2f3542',       # Text font color\n",
        "    'first_prim' : '#6F1E51', # Article nodes color (first)\n",
        "    'second_prim' : '#1B1464',# Article nodes color (second)\n",
        "    'first_sec' : '#ED4C67',  # Enzyme nodes color (first)\n",
        "    'second_sec' : '#0652DD'  # Enzyme nodes color (second)\n",
        "}"
      ],
      "metadata": {
        "id": "dXfrEMsC0w-g"
      },
      "execution_count": 7,
      "outputs": []
    },
    {
      "cell_type": "code",
      "source": [
        "N = Network(height='750px', \n",
        "            width='100%', \n",
        "            bgcolor=colors['backgrd'], \n",
        "            font_color=colors['font'], \n",
        "            notebook=True)"
      ],
      "metadata": {
        "id": "9lf4glpAz8h4"
      },
      "execution_count": 8,
      "outputs": []
    },
    {
      "cell_type": "code",
      "source": [
        "N.set_options(\"\"\"\n",
        "var options = {\n",
        "  \"edges\": {\n",
        "    \"arrows\": {\n",
        "      \"to\": {\n",
        "        \"enabled\": true,\n",
        "        \"scaleFactor\": 0.5\n",
        "      }\n",
        "    },\n",
        "    \"color\": {\n",
        "      \"inherit\": true\n",
        "    },\n",
        "    \"smooth\": {\n",
        "      \"forceDirection\": \"none\"\n",
        "    }\n",
        "  },\n",
        "  \"physics\": {\n",
        "    \"barnesHut\": {\n",
        "      \"gravitationalConstant\": -17350,\n",
        "      \"springLength\": 210,\n",
        "      \"springConstant\": 0.055,\n",
        "      \"avoidOverlap\": 0.53\n",
        "    },\n",
        "    \"minVelocity\": 0.75\n",
        "  }\n",
        "}\n",
        "\"\"\")"
      ],
      "metadata": {
        "id": "yqS9fu7Zz1Vh"
      },
      "execution_count": 9,
      "outputs": []
    },
    {
      "cell_type": "code",
      "source": [
        "for record in first_topic_records:\n",
        "  substances = record.get('RN', \"NONE\")\n",
        "  if substances != \"NONE\":\n",
        "    for molecule in substances:\n",
        "      if molecule.startswith('EC'):\n",
        "\n",
        "        # Primary PMID node\n",
        "        article = str(record.get('PMID', \"NONE\")).strip()\n",
        "        N.add_node(article, size=25, color=colors['first_prim'])\n",
        "\n",
        "        # Secondary Enzyme node\n",
        "        N.add_node(molecule, size=15, color=colors['first_sec'])\n",
        "        N.add_edge(article, molecule)"
      ],
      "metadata": {
        "id": "qmf60thjVbEa"
      },
      "execution_count": 10,
      "outputs": []
    },
    {
      "cell_type": "code",
      "source": [
        "for record in second_topic_records:\n",
        "  substances = record.get('RN', \"NONE\")\n",
        "  if substances != \"NONE\":\n",
        "    for molecule in substances:\n",
        "      if molecule.startswith('EC'):\n",
        "\n",
        "        # Primary PMID node\n",
        "        article = str(record.get('PMID', \"NONE\")).strip()\n",
        "        N.add_node(article, size=25, color=colors['second_prim'])\n",
        "\n",
        "        # Secondary Enzyme node\n",
        "        N.add_node(molecule, size=15, color=colors['second_sec'])\n",
        "        N.add_edge(article, molecule)"
      ],
      "metadata": {
        "id": "mD4fONqlXgQk"
      },
      "execution_count": 11,
      "outputs": []
    },
    {
      "cell_type": "code",
      "source": [
        "N.show('common_enzymes_net_graph_viz.html')"
      ],
      "metadata": {
        "colab": {
          "base_uri": "https://localhost:8080/",
          "height": 771
        },
        "id": "AsHyFt6t2glR",
        "outputId": "acd95c59-b0e4-4caa-f2ec-478154ff8f73"
      },
      "execution_count": 12,
      "outputs": [
        {
          "output_type": "execute_result",
          "data": {
            "text/plain": [
              "<IPython.lib.display.IFrame at 0x7fc00718de90>"
            ],
            "text/html": [
              "\n",
              "        <iframe\n",
              "            width=\"100%\"\n",
              "            height=\"750px\"\n",
              "            src=\"common_enzymes_net_graph_viz.html\"\n",
              "            frameborder=\"0\"\n",
              "            allowfullscreen\n",
              "        ></iframe>\n",
              "        "
            ]
          },
          "metadata": {},
          "execution_count": 12
        }
      ]
    }
  ]
}