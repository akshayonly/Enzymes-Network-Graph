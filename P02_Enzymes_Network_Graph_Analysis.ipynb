{
  "nbformat": 4,
  "nbformat_minor": 0,
  "metadata": {
    "colab": {
      "name": "P02-Enzymes-Network-Graph-Analysis.ipynb",
      "provenance": [],
      "collapsed_sections": [
        "atOGGgRQvEbi"
      ],
      "mount_file_id": "1HpwHmA_Qdr7OQkATh3ugUQqWXOSnsM_6",
      "authorship_tag": "ABX9TyMzstqF5cH2cvbA4ZUSEiGr"
    },
    "kernelspec": {
      "name": "python3",
      "display_name": "Python 3"
    },
    "language_info": {
      "name": "python"
    }
  },
  "cells": [
    {
      "cell_type": "markdown",
      "source": [
        "## Libraries"
      ],
      "metadata": {
        "id": "XnfgBStKu_rx"
      }
    },
    {
      "cell_type": "code",
      "execution_count": null,
      "metadata": {
        "id": "cbKfT_lycNOr",
        "colab": {
          "base_uri": "https://localhost:8080/"
        },
        "outputId": "e5179eeb-955e-4dae-dcd8-48fc3df4014e"
      },
      "outputs": [
        {
          "output_type": "stream",
          "name": "stdout",
          "text": [
            "\u001b[K     |████████████████████████████████| 2.3 MB 6.8 MB/s \n",
            "\u001b[?25h"
          ]
        }
      ],
      "source": [
        "! pip install -q biopython\n",
        "! pip install -q pyvis"
      ]
    },
    {
      "cell_type": "code",
      "source": [
        "# Fetching PubMed article metadata\n",
        "from Bio import Entrez, Medline\n",
        "\n",
        "# Graph creation and visualisation\n",
        "from pyvis.network import Network\n",
        "import networkx as nx \n",
        "\n",
        "import time\n",
        "from tqdm import tqdm\n",
        "import os \n",
        "from operator import itemgetter\n",
        "\n",
        "# data handling\n",
        "import pandas as pd\n",
        "import numpy as np\n",
        "\n",
        "# plotting\n",
        "import seaborn as sns\n",
        "import matplotlib.pyplot as plt\n",
        "\n",
        "import warnings\n",
        "warnings.filterwarnings(\"ignore\")\n",
        "\n",
        "plt.style.use('fivethirtyeight')"
      ],
      "metadata": {
        "id": "kuQJKRhXcmMg"
      },
      "execution_count": null,
      "outputs": []
    },
    {
      "cell_type": "code",
      "source": [
        "starttime = time.time()"
      ],
      "metadata": {
        "id": "b9q8Kbns6G9G"
      },
      "execution_count": null,
      "outputs": []
    },
    {
      "cell_type": "markdown",
      "source": [
        "## Helper Code"
      ],
      "metadata": {
        "id": "atOGGgRQvEbi"
      }
    },
    {
      "cell_type": "code",
      "source": [
        "def process_pmid_txt(text_file_path):\n",
        "\n",
        "  pmids = list()\n",
        "\n",
        "  f = open(text_file_path, \"r\")\n",
        "\n",
        "  for pmid in f.read().split('\\n'):\n",
        "    pmids.append(pmid.strip())  \n",
        "  \n",
        "  f.close()\n",
        "  \n",
        "  return pmids"
      ],
      "metadata": {
        "id": "sByQUmt_wPMp"
      },
      "execution_count": null,
      "outputs": []
    },
    {
      "cell_type": "code",
      "source": [
        "def fetch_data(pmids):\n",
        "    \"\"\"Returns pubmed record associated with the PMID(s)\"\"\"\n",
        "    \n",
        "    Entrez.email = 'akishirsath@gmail.com'\n",
        "\n",
        "    handle = Entrez.efetch(db=\"pubmed\", \n",
        "                           id=pmids, \n",
        "                           rettype=\"medline\", \n",
        "                           retmode=\"text\")\n",
        "\n",
        "    records = Medline.parse(handle)    \n",
        "    \n",
        "    return list(records)"
      ],
      "metadata": {
        "id": "3CZOcwcYvFxp"
      },
      "execution_count": null,
      "outputs": []
    },
    {
      "cell_type": "markdown",
      "source": [
        "## Fetching the records"
      ],
      "metadata": {
        "id": "fHzNvRk7xzeZ"
      }
    },
    {
      "cell_type": "code",
      "source": [
        "sarscov_file_path = \"/content/drive/MyDrive/05-Data/PubMed-Common-Enzymes/pmid-sarscov2-set.txt\"\n",
        "\n",
        "sarscov_pmids = process_pmid_txt(sarscov_file_path)\n",
        "\n",
        "sarscov_data = fetch_data(\",\".join(sarscov_pmids))"
      ],
      "metadata": {
        "id": "sRn44_NmLcGp"
      },
      "execution_count": null,
      "outputs": []
    },
    {
      "cell_type": "code",
      "source": [
        "len(sarscov_data)"
      ],
      "metadata": {
        "colab": {
          "base_uri": "https://localhost:8080/"
        },
        "id": "Gj28MdOQ_oGt",
        "outputId": "d951ca64-9427-4fdb-bf03-8cf929c626a0"
      },
      "execution_count": null,
      "outputs": [
        {
          "output_type": "execute_result",
          "data": {
            "text/plain": [
              "10000"
            ]
          },
          "metadata": {},
          "execution_count": 7
        }
      ]
    },
    {
      "cell_type": "code",
      "source": [
        "enzyme_classes = {\n",
        "    '1':'Oxidoreductases',\n",
        "    '2':'Transferases',\n",
        "    '3':'Hydrolases',\n",
        "    '4':'Lyases',\n",
        "    '5':'Isomerases',\n",
        "    '6':'Ligases',\n",
        "    '7':'Translocases',\n",
        "}"
      ],
      "metadata": {
        "id": "VLCk9QI6C7aH"
      },
      "execution_count": null,
      "outputs": []
    },
    {
      "cell_type": "code",
      "source": [
        "\"\"\"\n",
        "\n",
        "for record in sarscov_data:\n",
        "  substances = record.get('RN', \"NONE\")\n",
        "  if substances != \"NONE\":\n",
        "    for molecule in substances:\n",
        "      if molecule.startswith('EC'):\n",
        "        # Primary PMID node\n",
        "        main_node = str(record.get('PMID', \"NONE\")).strip()\n",
        "        G.add_node(main_node)\n",
        "        # Secondary Enzyme node\n",
        "        G.add_node(molecule)\n",
        "        G.add_node(molecule, size=15, title='Hydrolases', group=1)\n",
        "        G.add_edge(main_node, molecule)\n",
        "\n",
        "\n",
        "\"\"\""
      ],
      "metadata": {
        "id": "0z3Io5yaBWtF",
        "colab": {
          "base_uri": "https://localhost:8080/",
          "height": 70
        },
        "outputId": "f720bf93-3ef9-4425-c3c9-5667c26bb735"
      },
      "execution_count": null,
      "outputs": [
        {
          "output_type": "execute_result",
          "data": {
            "text/plain": [
              "'\\n\\nfor record in sarscov_data:\\n  substances = record.get(\\'RN\\', \"NONE\")\\n  if substances != \"NONE\":\\n    for molecule in substances:\\n      if molecule.startswith(\\'EC\\'):\\n        # Primary PMID node\\n        main_node = str(record.get(\\'PMID\\', \"NONE\")).strip()\\n        G.add_node(main_node)\\n        # Secondary Enzyme node\\n        G.add_node(molecule)\\n        G.add_node(molecule, size=15, title=\\'Hydrolases\\', group=1)\\n        G.add_edge(main_node, molecule)\\n\\n\\n'"
            ],
            "application/vnd.google.colaboratory.intrinsic+json": {
              "type": "string"
            }
          },
          "metadata": {},
          "execution_count": 9
        }
      ]
    },
    {
      "cell_type": "code",
      "source": [
        "G = nx.Graph()"
      ],
      "metadata": {
        "id": "YVpKdEumfhJk"
      },
      "execution_count": null,
      "outputs": []
    },
    {
      "cell_type": "code",
      "source": [
        "for record in sarscov_data:\n",
        "  article_substances = record.get('RN', \"NONE\")\n",
        "  article_pmid = str(record.get('PMID', \"NONE\")).strip()\n",
        "  article_title = str(record.get('TI', \"NONE\")).strip()\n",
        "\n",
        "  if article_substances != \"NONE\":\n",
        "    for molecule in article_substances:\n",
        "      for classno in enzyme_classes.keys():\n",
        "        G.add_node(article_pmid, size=20, group=10)\n",
        "        if molecule.startswith('EC') and molecule.split(' ')[1].startswith(classno):\n",
        "          G.add_node(molecule, size=15, title=enzyme_classes.get(classno), group=int(classno))\n",
        "          G.add_edge(article_pmid, molecule)"
      ],
      "metadata": {
        "id": "EAQzxDjud5nL"
      },
      "execution_count": null,
      "outputs": []
    },
    {
      "cell_type": "code",
      "source": [
        "G.number_of_nodes()"
      ],
      "metadata": {
        "colab": {
          "base_uri": "https://localhost:8080/"
        },
        "id": "nbTuTp9_dWEo",
        "outputId": "a1204b22-284a-41b2-a6ae-846f579ffc72"
      },
      "execution_count": null,
      "outputs": [
        {
          "output_type": "execute_result",
          "data": {
            "text/plain": [
              "6143"
            ]
          },
          "metadata": {},
          "execution_count": 12
        }
      ]
    },
    {
      "cell_type": "code",
      "source": [
        "G.number_of_edges()"
      ],
      "metadata": {
        "colab": {
          "base_uri": "https://localhost:8080/"
        },
        "id": "tXHOs7lQfVJ5",
        "outputId": "5e7a3b28-c718-4a5e-fda1-199e654876cd"
      },
      "execution_count": null,
      "outputs": [
        {
          "output_type": "execute_result",
          "data": {
            "text/plain": [
              "2246"
            ]
          },
          "metadata": {},
          "execution_count": 13
        }
      ]
    },
    {
      "cell_type": "code",
      "source": [
        "nx.write_graphml_lxml(G, \"covid_19_enzymes.graphml\")"
      ],
      "metadata": {
        "id": "8OZR_49CoMfK"
      },
      "execution_count": null,
      "outputs": []
    },
    {
      "cell_type": "code",
      "source": [
        "nt = Network('720px', '720px', notebook=True)\n",
        "\n",
        "nt.from_nx(G)\n",
        "\n",
        "nt.show('covid_19_enzymes.html')"
      ],
      "metadata": {
        "colab": {
          "base_uri": "https://localhost:8080/",
          "height": 742
        },
        "id": "yJuqkufGfvk5",
        "outputId": "6c9cebaa-a9a3-4958-b674-3b5c596f5780"
      },
      "execution_count": null,
      "outputs": [
        {
          "output_type": "execute_result",
          "data": {
            "text/plain": [
              "<IPython.lib.display.IFrame at 0x7f07bea64550>"
            ],
            "text/html": [
              "\n",
              "        <iframe\n",
              "            width=\"720px\"\n",
              "            height=\"720px\"\n",
              "            src=\"covid_19_enzymes.html\"\n",
              "            frameborder=\"0\"\n",
              "            allowfullscreen\n",
              "        ></iframe>\n",
              "        "
            ]
          },
          "metadata": {},
          "execution_count": 15
        }
      ]
    },
    {
      "cell_type": "code",
      "source": [
        "endtime = time.time()"
      ],
      "metadata": {
        "id": "UiyzFYbbzHth"
      },
      "execution_count": null,
      "outputs": []
    },
    {
      "cell_type": "code",
      "source": [
        "total = (endtime - starttime)/60\n",
        "total"
      ],
      "metadata": {
        "colab": {
          "base_uri": "https://localhost:8080/"
        },
        "id": "JFy4BrBV1IG9",
        "outputId": "ed8f866a-3eca-49cf-d2ca-d53871729225"
      },
      "execution_count": null,
      "outputs": [
        {
          "output_type": "execute_result",
          "data": {
            "text/plain": [
              "1.741008953253428"
            ]
          },
          "metadata": {},
          "execution_count": 17
        }
      ]
    }
  ]
}