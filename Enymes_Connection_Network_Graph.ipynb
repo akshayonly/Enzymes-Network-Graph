{
  "nbformat": 4,
  "nbformat_minor": 0,
  "metadata": {
    "colab": {
      "name": "Enymes-Connection-Network-Graph.ipynb",
      "provenance": [],
      "collapsed_sections": [
        "XnfgBStKu_rx",
        "atOGGgRQvEbi",
        "ad6-h9xIx39H",
        "fHzNvRk7xzeZ",
        "aPb-Cu8L1hig",
        "RWrvafn51kJn",
        "kFcLaKfk2EAW"
      ],
      "mount_file_id": "1b2lKWMsv7bMJPMiEhfFrMbROEU-PA9PW",
      "authorship_tag": "ABX9TyMNwb57a0q8CWbLpPKeDMqJ"
    },
    "kernelspec": {
      "name": "python3",
      "display_name": "Python 3"
    },
    "language_info": {
      "name": "python"
    }
  },
  "cells": [
    {
      "cell_type": "markdown",
      "source": [
        "# Enzymes Network Graph"
      ],
      "metadata": {
        "id": "Ep1XUyVKu3l6"
      }
    },
    {
      "cell_type": "markdown",
      "source": [
        "## Libraries"
      ],
      "metadata": {
        "id": "XnfgBStKu_rx"
      }
    },
    {
      "cell_type": "code",
      "execution_count": 1,
      "metadata": {
        "id": "cbKfT_lycNOr"
      },
      "outputs": [],
      "source": [
        "! pip install -q biopython\n",
        "! pip install -q pyvis"
      ]
    },
    {
      "cell_type": "code",
      "source": [
        "# Fetching PubMed article metadata\n",
        "from Bio import Entrez, Medline\n",
        "\n",
        "# Graph creation and visualisation\n",
        "from pyvis.network import Network\n",
        "\n",
        "import time\n",
        "from tqdm import tqdm\n",
        "\n",
        "import pandas as pd"
      ],
      "metadata": {
        "id": "kuQJKRhXcmMg"
      },
      "execution_count": 2,
      "outputs": []
    },
    {
      "cell_type": "markdown",
      "source": [
        "## Helper Code"
      ],
      "metadata": {
        "id": "atOGGgRQvEbi"
      }
    },
    {
      "cell_type": "code",
      "source": [
        "def fetch_data(pmids):\n",
        "    \"\"\"Returns pubmed record associated with the PMID(s)\"\"\"\n",
        "    \n",
        "    Entrez.email = 'akishirsath@gmail.com'\n",
        "\n",
        "    handle = Entrez.efetch(db=\"pubmed\", \n",
        "                           id=pmids, \n",
        "                           rettype=\"medline\", \n",
        "                           retmode=\"text\")\n",
        "\n",
        "    records = Medline.parse(handle)    \n",
        "    \n",
        "    return list(records)"
      ],
      "metadata": {
        "id": "3CZOcwcYvFxp"
      },
      "execution_count": 3,
      "outputs": []
    },
    {
      "cell_type": "code",
      "source": [
        "def process_pmid_txt(text_file_path):\n",
        "\n",
        "  pmids = list()\n",
        "\n",
        "  f = open(text_file_path, \"r\")\n",
        "\n",
        "  for pmid in f.read().split('\\n'):\n",
        "    pmids.append(pmid.strip())  \n",
        "  \n",
        "  f.close()\n",
        "  \n",
        "  return pmids"
      ],
      "metadata": {
        "id": "sByQUmt_wPMp"
      },
      "execution_count": 4,
      "outputs": []
    },
    {
      "cell_type": "markdown",
      "source": [
        "## Processing PMIDs txt file"
      ],
      "metadata": {
        "id": "ad6-h9xIx39H"
      }
    },
    {
      "cell_type": "code",
      "source": [
        "cancer = process_pmid_txt(\"/content/pmid-cancer-set.txt\")\n",
        "covid = process_pmid_txt(\"/content/pmid-covid19-set.txt\")\n",
        "ebola = process_pmid_txt(\"/content/pmid-Ebola-set.txt\")"
      ],
      "metadata": {
        "id": "JTSW0OE3wh5R"
      },
      "execution_count": 5,
      "outputs": []
    },
    {
      "cell_type": "code",
      "source": [
        "print(len(cancer), cancer[:10])"
      ],
      "metadata": {
        "colab": {
          "base_uri": "https://localhost:8080/"
        },
        "id": "trRhcReNv16Z",
        "outputId": "31f9df15-ce70-4a2c-ca78-b41f25afae4d"
      },
      "execution_count": 6,
      "outputs": [
        {
          "output_type": "stream",
          "name": "stdout",
          "text": [
            "10000 ['31761807', '28244479', '27741350', '29949179', '26667886', '30713326', '28831912', '28574057', '19491253', '27839715']\n"
          ]
        }
      ]
    },
    {
      "cell_type": "code",
      "source": [
        "print(len(covid), covid[:10])"
      ],
      "metadata": {
        "colab": {
          "base_uri": "https://localhost:8080/"
        },
        "id": "c2BlwHjTwnuJ",
        "outputId": "d1e181e3-d171-4ff5-f9c7-fbc4682655cf"
      },
      "execution_count": 7,
      "outputs": [
        {
          "output_type": "stream",
          "name": "stdout",
          "text": [
            "10000 ['33308664', '33522478', '33189872', '33666147', '33139420', '32383182', '33126180', '33322035', '33572857', '33301459']\n"
          ]
        }
      ]
    },
    {
      "cell_type": "code",
      "source": [
        "print(len(ebola), ebola[:10])"
      ],
      "metadata": {
        "colab": {
          "base_uri": "https://localhost:8080/"
        },
        "id": "Ezkgi5TRwxZw",
        "outputId": "2c742a50-50a9-4978-aa9a-dec19bcf06fa"
      },
      "execution_count": 8,
      "outputs": [
        {
          "output_type": "stream",
          "name": "stdout",
          "text": [
            "10000 ['27959626', '32080199', '26923959', '25910510', '32441897', '25694096', '30777297', '31668200', '25694094', '31567063']\n"
          ]
        }
      ]
    },
    {
      "cell_type": "markdown",
      "source": [
        "## Fetching the records"
      ],
      "metadata": {
        "id": "fHzNvRk7xzeZ"
      }
    },
    {
      "cell_type": "code",
      "source": [
        "ebola_data = fetch_data(\",\".join(ebola))\n",
        "time.sleep(1)"
      ],
      "metadata": {
        "id": "GmCG9BGPxy9h"
      },
      "execution_count": 9,
      "outputs": []
    },
    {
      "cell_type": "code",
      "source": [
        "covid_data = fetch_data(\",\".join(covid))\n",
        "time.sleep(1)"
      ],
      "metadata": {
        "id": "-03lzCXHyC4p"
      },
      "execution_count": 10,
      "outputs": []
    },
    {
      "cell_type": "code",
      "source": [
        "cancer_data = fetch_data(\",\".join(cancer))"
      ],
      "metadata": {
        "id": "Zu997PoJyHrp"
      },
      "execution_count": 11,
      "outputs": []
    },
    {
      "cell_type": "markdown",
      "source": [
        "## Records to Pandas Dataframe\n"
      ],
      "metadata": {
        "id": "kdtgwspDyi9Q"
      }
    },
    {
      "cell_type": "markdown",
      "source": [
        "### Covid"
      ],
      "metadata": {
        "id": "aPb-Cu8L1hig"
      }
    },
    {
      "cell_type": "code",
      "source": [
        "len(covid_data)"
      ],
      "metadata": {
        "colab": {
          "base_uri": "https://localhost:8080/"
        },
        "id": "I8tSw2VqymAQ",
        "outputId": "4cb100e6-d9c5-4c1a-9883-1ac4ebfd450b"
      },
      "execution_count": 12,
      "outputs": [
        {
          "output_type": "execute_result",
          "data": {
            "text/plain": [
              "10000"
            ]
          },
          "metadata": {},
          "execution_count": 12
        }
      ]
    },
    {
      "cell_type": "code",
      "source": [
        "covid_data[0]"
      ],
      "metadata": {
        "colab": {
          "base_uri": "https://localhost:8080/"
        },
        "id": "vjUufgDU0BeQ",
        "outputId": "bac16fd5-889a-4fa8-f726-7fe419222e30"
      },
      "execution_count": 13,
      "outputs": [
        {
          "output_type": "execute_result",
          "data": {
            "text/plain": [
              "{'AB': 'Accurate and rapid diagnostic tests are critical for achieving control of coronavirus disease 2019 (covid-19), a pandemic illness caused by severe acute respiratory syndrome coronavirus 2 (SARS-CoV-2). Diagnostic tests for covid-19 fall into two main categories: molecular tests that detect viral RNA, and serological tests that detect anti-SARS-CoV-2 immunoglobulins. Reverse transcriptase polymerase chain reaction (RT-PCR), a molecular test, has become the gold standard for diagnosis of covid-19; however, this test has many limitations that include potential false negative results, changes in diagnostic accuracy over the disease course, and precarious availability of test materials. Serological tests have generated substantial interest as an alternative or complement to RT-PCR and other Nucleic acid tests in the diagnosis of acute infection, as some might be cheaper and easier to implement at the point of care. A clear advantage of these tests over RT-PCR is that they can identify individuals previously infected by SARS-CoV-2, even if they never underwent testing while acutely ill. Many serological tests for covid-19 have become available in a short period, including some marketed for use as rapid, point-of-care tests. The pace of development has, however, exceeded that of rigorous evaluation, and important uncertainty about test accuracy remains.',\n",
              " 'AD': ['New Delhi Tuberculosis Centre, JLN Marg, New Delhi, India.',\n",
              "  'New Delhi Tuberculosis Centre, JLN Marg, New Delhi, India. Electronic address: irldlndc@rntcp.org.',\n",
              "  'New Delhi Tuberculosis Centre, JLN Marg, New Delhi, India.',\n",
              "  'New Delhi Tuberculosis Centre, JLN Marg, New Delhi, India.'],\n",
              " 'AID': ['S0019-5707(20)30128-1 [pii]', '10.1016/j.ijtb.2020.07.034 [doi]'],\n",
              " 'AU': ['Sidiq Z', 'Hanif M', 'Dwivedi KK', 'Chopra KK'],\n",
              " 'CI': ['Copyright (c) 2020 Tuberculosis Association of India. Published by Elsevier B.V.',\n",
              "  'All rights reserved.'],\n",
              " 'COIS': ['Conflicts of interest The authors have none to declare.'],\n",
              " 'CRDT': ['2020/12/14 10:01'],\n",
              " 'DCOM': '20201224',\n",
              " 'DEP': '20200806',\n",
              " 'DP': '2020 Dec',\n",
              " 'EDAT': '2020/12/15 06:00',\n",
              " 'FAU': ['Sidiq, Zeeshan',\n",
              "  'Hanif, M',\n",
              "  'Dwivedi, Kaushal Kumar',\n",
              "  'Chopra, K K'],\n",
              " 'IP': '4S',\n",
              " 'IS': '0019-5707 (Print) 0019-5707 (Linking)',\n",
              " 'JID': '0373027',\n",
              " 'JT': 'The Indian journal of tuberculosis',\n",
              " 'LA': ['eng'],\n",
              " 'LID': 'S0019-5707(20)30128-1 [pii] 10.1016/j.ijtb.2020.07.034 [doi]',\n",
              " 'LR': '20201224',\n",
              " 'MH': ['COVID-19/*diagnosis',\n",
              "  '*COVID-19 Serological Testing',\n",
              "  'Humans',\n",
              "  'SARS-CoV-2/*isolation & purification',\n",
              "  'Sensitivity and Specificity'],\n",
              " 'MHDA': '2020/12/29 06:00',\n",
              " 'OT': ['COVID-19', 'IgG', 'IgM', 'SARS CoV-2', 'Serology'],\n",
              " 'OTO': ['NOTNLM'],\n",
              " 'OWN': 'NLM',\n",
              " 'PG': 'S163-S166',\n",
              " 'PHST': ['2020/07/24 00:00 [received]',\n",
              "  '2020/07/31 00:00 [accepted]',\n",
              "  '2020/12/15 06:00 [pubmed]',\n",
              "  '2020/12/29 06:00 [medline]',\n",
              "  '2020/12/14 10:01 [entrez]'],\n",
              " 'PL': 'India',\n",
              " 'PMC': 'PMC7409828',\n",
              " 'PMID': '33308664',\n",
              " 'PST': 'ppublish',\n",
              " 'PT': ['Journal Article', 'Review'],\n",
              " 'SB': 'IM',\n",
              " 'SO': 'Indian J Tuberc. 2020 Dec;67(4S):S163-S166. doi: 10.1016/j.ijtb.2020.07.034. Epub 2020 Aug 6.',\n",
              " 'STAT': 'MEDLINE',\n",
              " 'TA': 'Indian J Tuberc',\n",
              " 'TI': 'Benefits and limitations of serological assays in COVID-19 infection.',\n",
              " 'VI': '67'}"
            ]
          },
          "metadata": {},
          "execution_count": 13
        }
      ]
    },
    {
      "cell_type": "code",
      "source": [
        "required_keys = ['PMID', 'TI', 'AB', 'AD', 'FAU', 'DP', 'TA', 'JT', 'LA', \n",
        "                 'MH', 'OAB', 'OT', 'PL', 'PST', 'PT', 'RN', 'SI']"
      ],
      "metadata": {
        "id": "5t7t7m3h0HU_"
      },
      "execution_count": 14,
      "outputs": []
    },
    {
      "cell_type": "code",
      "source": [
        "covid_data_for_df = list()\n",
        "\n",
        "for single_data in tqdm(covid_data):\n",
        "  temp = list()\n",
        "  for key in required_keys:\n",
        "    value = single_data.get(key, \"NONE\")\n",
        "    if isinstance(value, list):\n",
        "      value = \";\".join(set(value))\n",
        "      temp.append(value)\n",
        "    else:\n",
        "      temp.append(value)\n",
        "\n",
        "  covid_data_for_df.append(temp)"
      ],
      "metadata": {
        "colab": {
          "base_uri": "https://localhost:8080/"
        },
        "id": "Tsooq1nk0w6X",
        "outputId": "e825083c-bd43-447a-eef0-55239546c71a"
      },
      "execution_count": 15,
      "outputs": [
        {
          "output_type": "stream",
          "name": "stderr",
          "text": [
            "100%|██████████| 10000/10000 [00:00<00:00, 41360.19it/s]\n"
          ]
        }
      ]
    },
    {
      "cell_type": "code",
      "source": [
        "covid_data_for_df[0]"
      ],
      "metadata": {
        "colab": {
          "base_uri": "https://localhost:8080/"
        },
        "id": "zIbwfQyJ1Fh6",
        "outputId": "671c817f-fca2-4f37-ef28-2f8c5754b185"
      },
      "execution_count": 16,
      "outputs": [
        {
          "output_type": "execute_result",
          "data": {
            "text/plain": [
              "['33308664',\n",
              " 'Benefits and limitations of serological assays in COVID-19 infection.',\n",
              " 'Accurate and rapid diagnostic tests are critical for achieving control of coronavirus disease 2019 (covid-19), a pandemic illness caused by severe acute respiratory syndrome coronavirus 2 (SARS-CoV-2). Diagnostic tests for covid-19 fall into two main categories: molecular tests that detect viral RNA, and serological tests that detect anti-SARS-CoV-2 immunoglobulins. Reverse transcriptase polymerase chain reaction (RT-PCR), a molecular test, has become the gold standard for diagnosis of covid-19; however, this test has many limitations that include potential false negative results, changes in diagnostic accuracy over the disease course, and precarious availability of test materials. Serological tests have generated substantial interest as an alternative or complement to RT-PCR and other Nucleic acid tests in the diagnosis of acute infection, as some might be cheaper and easier to implement at the point of care. A clear advantage of these tests over RT-PCR is that they can identify individuals previously infected by SARS-CoV-2, even if they never underwent testing while acutely ill. Many serological tests for covid-19 have become available in a short period, including some marketed for use as rapid, point-of-care tests. The pace of development has, however, exceeded that of rigorous evaluation, and important uncertainty about test accuracy remains.',\n",
              " 'New Delhi Tuberculosis Centre, JLN Marg, New Delhi, India.;New Delhi Tuberculosis Centre, JLN Marg, New Delhi, India. Electronic address: irldlndc@rntcp.org.',\n",
              " 'Sidiq, Zeeshan;Chopra, K K;Hanif, M;Dwivedi, Kaushal Kumar',\n",
              " '2020 Dec',\n",
              " 'Indian J Tuberc',\n",
              " 'The Indian journal of tuberculosis',\n",
              " 'eng',\n",
              " 'Sensitivity and Specificity;SARS-CoV-2/*isolation & purification;Humans;*COVID-19 Serological Testing;COVID-19/*diagnosis',\n",
              " 'NONE',\n",
              " 'IgM;IgG;Serology;COVID-19;SARS CoV-2',\n",
              " 'India',\n",
              " 'ppublish',\n",
              " 'Journal Article;Review',\n",
              " 'NONE',\n",
              " 'NONE']"
            ]
          },
          "metadata": {},
          "execution_count": 16
        }
      ]
    },
    {
      "cell_type": "code",
      "source": [
        "covid_dataframe = pd.DataFrame(covid_data_for_df, columns=required_keys)"
      ],
      "metadata": {
        "id": "IO2sTqK81F5P"
      },
      "execution_count": 17,
      "outputs": []
    },
    {
      "cell_type": "code",
      "source": [
        "covid_dataframe['RN']"
      ],
      "metadata": {
        "colab": {
          "base_uri": "https://localhost:8080/"
        },
        "id": "4_BE73GK1ReL",
        "outputId": "7cea7030-c208-4320-cb26-eaa2a2a4d2f8"
      },
      "execution_count": 18,
      "outputs": [
        {
          "output_type": "execute_result",
          "data": {
            "text/plain": [
              "0                                                   NONE\n",
              "1                                  0 (COVID-19 Vaccines)\n",
              "2       0 (Antigens, Viral);0 (Reagent Kits, Diagnostic)\n",
              "3                                  0 (COVID-19 Vaccines)\n",
              "4       0 (Antigens, Viral);0 (Reagent Kits, Diagnostic)\n",
              "                              ...                       \n",
              "9995                               0 (COVID-19 Vaccines)\n",
              "9996                                                NONE\n",
              "9997                                                NONE\n",
              "9998                               0 (COVID-19 Vaccines)\n",
              "9999          0 (COVID-19 Vaccines);0 (Antiviral Agents)\n",
              "Name: RN, Length: 10000, dtype: object"
            ]
          },
          "metadata": {},
          "execution_count": 18
        }
      ]
    },
    {
      "cell_type": "code",
      "source": [
        "covid_dataframe['Class'] = ['COVID']*len(covid_dataframe)"
      ],
      "metadata": {
        "id": "loaR2d2I2-9J"
      },
      "execution_count": 19,
      "outputs": []
    },
    {
      "cell_type": "code",
      "source": [
        "covid_dataframe.head(3)"
      ],
      "metadata": {
        "colab": {
          "base_uri": "https://localhost:8080/",
          "height": 0
        },
        "id": "Hpsms3Yk3HF3",
        "outputId": "108df15a-1ba4-47aa-bfea-ec8141a85432"
      },
      "execution_count": 20,
      "outputs": [
        {
          "output_type": "execute_result",
          "data": {
            "text/html": [
              "\n",
              "  <div id=\"df-d6c71e22-52f6-4c42-86ef-3a54ba5d3c17\">\n",
              "    <div class=\"colab-df-container\">\n",
              "      <div>\n",
              "<style scoped>\n",
              "    .dataframe tbody tr th:only-of-type {\n",
              "        vertical-align: middle;\n",
              "    }\n",
              "\n",
              "    .dataframe tbody tr th {\n",
              "        vertical-align: top;\n",
              "    }\n",
              "\n",
              "    .dataframe thead th {\n",
              "        text-align: right;\n",
              "    }\n",
              "</style>\n",
              "<table border=\"1\" class=\"dataframe\">\n",
              "  <thead>\n",
              "    <tr style=\"text-align: right;\">\n",
              "      <th></th>\n",
              "      <th>PMID</th>\n",
              "      <th>TI</th>\n",
              "      <th>AB</th>\n",
              "      <th>AD</th>\n",
              "      <th>FAU</th>\n",
              "      <th>DP</th>\n",
              "      <th>TA</th>\n",
              "      <th>JT</th>\n",
              "      <th>LA</th>\n",
              "      <th>MH</th>\n",
              "      <th>OAB</th>\n",
              "      <th>OT</th>\n",
              "      <th>PL</th>\n",
              "      <th>PST</th>\n",
              "      <th>PT</th>\n",
              "      <th>RN</th>\n",
              "      <th>SI</th>\n",
              "      <th>Class</th>\n",
              "    </tr>\n",
              "  </thead>\n",
              "  <tbody>\n",
              "    <tr>\n",
              "      <th>0</th>\n",
              "      <td>33308664</td>\n",
              "      <td>Benefits and limitations of serological assays...</td>\n",
              "      <td>Accurate and rapid diagnostic tests are critic...</td>\n",
              "      <td>New Delhi Tuberculosis Centre, JLN Marg, New D...</td>\n",
              "      <td>Sidiq, Zeeshan;Chopra, K K;Hanif, M;Dwivedi, K...</td>\n",
              "      <td>2020 Dec</td>\n",
              "      <td>Indian J Tuberc</td>\n",
              "      <td>The Indian journal of tuberculosis</td>\n",
              "      <td>eng</td>\n",
              "      <td>Sensitivity and Specificity;SARS-CoV-2/*isolat...</td>\n",
              "      <td>NONE</td>\n",
              "      <td>IgM;IgG;Serology;COVID-19;SARS CoV-2</td>\n",
              "      <td>India</td>\n",
              "      <td>ppublish</td>\n",
              "      <td>Journal Article;Review</td>\n",
              "      <td>NONE</td>\n",
              "      <td>NONE</td>\n",
              "      <td>COVID</td>\n",
              "    </tr>\n",
              "    <tr>\n",
              "      <th>1</th>\n",
              "      <td>33522478</td>\n",
              "      <td>Postvaccination COVID-19 among Healthcare Work...</td>\n",
              "      <td>Coronavirus disease (COVID-19) symptoms can be...</td>\n",
              "      <td>NONE</td>\n",
              "      <td>Leshem, Eyal;Regev-Yochay, Gili;Beni, Sharon A...</td>\n",
              "      <td>2021 Apr</td>\n",
              "      <td>Emerg Infect Dis</td>\n",
              "      <td>Emerging infectious diseases</td>\n",
              "      <td>eng</td>\n",
              "      <td>Adverse Outcome Pathways;*Vaccination/adverse ...</td>\n",
              "      <td>NONE</td>\n",
              "      <td>*COVID-19;*SARS;*respiratory infections;*virus...</td>\n",
              "      <td>United States</td>\n",
              "      <td>ppublish</td>\n",
              "      <td>Journal Article</td>\n",
              "      <td>0 (COVID-19 Vaccines)</td>\n",
              "      <td>NONE</td>\n",
              "      <td>COVID</td>\n",
              "    </tr>\n",
              "    <tr>\n",
              "      <th>2</th>\n",
              "      <td>33189872</td>\n",
              "      <td>Field evaluation of a rapid antigen test (Panb...</td>\n",
              "      <td>OBJECTIVES: To our knowledge no previous study...</td>\n",
              "      <td>Microbiology Service, Hospital Clinico Univers...</td>\n",
              "      <td>Huntley, Dixie;Colomina, Javier;Ferrer, Josep;...</td>\n",
              "      <td>2021 Mar</td>\n",
              "      <td>Clin Microbiol Infect</td>\n",
              "      <td>Clinical microbiology and infection : the offi...</td>\n",
              "      <td>eng</td>\n",
              "      <td>Young Adult;Adolescent;SARS-CoV-2/genetics/imm...</td>\n",
              "      <td>NONE</td>\n",
              "      <td>Rapid antigen detection test (RAD);Primary hea...</td>\n",
              "      <td>England</td>\n",
              "      <td>ppublish</td>\n",
              "      <td>Journal Article;Evaluation Study</td>\n",
              "      <td>0 (Antigens, Viral);0 (Reagent Kits, Diagnostic)</td>\n",
              "      <td>NONE</td>\n",
              "      <td>COVID</td>\n",
              "    </tr>\n",
              "  </tbody>\n",
              "</table>\n",
              "</div>\n",
              "      <button class=\"colab-df-convert\" onclick=\"convertToInteractive('df-d6c71e22-52f6-4c42-86ef-3a54ba5d3c17')\"\n",
              "              title=\"Convert this dataframe to an interactive table.\"\n",
              "              style=\"display:none;\">\n",
              "        \n",
              "  <svg xmlns=\"http://www.w3.org/2000/svg\" height=\"24px\"viewBox=\"0 0 24 24\"\n",
              "       width=\"24px\">\n",
              "    <path d=\"M0 0h24v24H0V0z\" fill=\"none\"/>\n",
              "    <path d=\"M18.56 5.44l.94 2.06.94-2.06 2.06-.94-2.06-.94-.94-2.06-.94 2.06-2.06.94zm-11 1L8.5 8.5l.94-2.06 2.06-.94-2.06-.94L8.5 2.5l-.94 2.06-2.06.94zm10 10l.94 2.06.94-2.06 2.06-.94-2.06-.94-.94-2.06-.94 2.06-2.06.94z\"/><path d=\"M17.41 7.96l-1.37-1.37c-.4-.4-.92-.59-1.43-.59-.52 0-1.04.2-1.43.59L10.3 9.45l-7.72 7.72c-.78.78-.78 2.05 0 2.83L4 21.41c.39.39.9.59 1.41.59.51 0 1.02-.2 1.41-.59l7.78-7.78 2.81-2.81c.8-.78.8-2.07 0-2.86zM5.41 20L4 18.59l7.72-7.72 1.47 1.35L5.41 20z\"/>\n",
              "  </svg>\n",
              "      </button>\n",
              "      \n",
              "  <style>\n",
              "    .colab-df-container {\n",
              "      display:flex;\n",
              "      flex-wrap:wrap;\n",
              "      gap: 12px;\n",
              "    }\n",
              "\n",
              "    .colab-df-convert {\n",
              "      background-color: #E8F0FE;\n",
              "      border: none;\n",
              "      border-radius: 50%;\n",
              "      cursor: pointer;\n",
              "      display: none;\n",
              "      fill: #1967D2;\n",
              "      height: 32px;\n",
              "      padding: 0 0 0 0;\n",
              "      width: 32px;\n",
              "    }\n",
              "\n",
              "    .colab-df-convert:hover {\n",
              "      background-color: #E2EBFA;\n",
              "      box-shadow: 0px 1px 2px rgba(60, 64, 67, 0.3), 0px 1px 3px 1px rgba(60, 64, 67, 0.15);\n",
              "      fill: #174EA6;\n",
              "    }\n",
              "\n",
              "    [theme=dark] .colab-df-convert {\n",
              "      background-color: #3B4455;\n",
              "      fill: #D2E3FC;\n",
              "    }\n",
              "\n",
              "    [theme=dark] .colab-df-convert:hover {\n",
              "      background-color: #434B5C;\n",
              "      box-shadow: 0px 1px 3px 1px rgba(0, 0, 0, 0.15);\n",
              "      filter: drop-shadow(0px 1px 2px rgba(0, 0, 0, 0.3));\n",
              "      fill: #FFFFFF;\n",
              "    }\n",
              "  </style>\n",
              "\n",
              "      <script>\n",
              "        const buttonEl =\n",
              "          document.querySelector('#df-d6c71e22-52f6-4c42-86ef-3a54ba5d3c17 button.colab-df-convert');\n",
              "        buttonEl.style.display =\n",
              "          google.colab.kernel.accessAllowed ? 'block' : 'none';\n",
              "\n",
              "        async function convertToInteractive(key) {\n",
              "          const element = document.querySelector('#df-d6c71e22-52f6-4c42-86ef-3a54ba5d3c17');\n",
              "          const dataTable =\n",
              "            await google.colab.kernel.invokeFunction('convertToInteractive',\n",
              "                                                     [key], {});\n",
              "          if (!dataTable) return;\n",
              "\n",
              "          const docLinkHtml = 'Like what you see? Visit the ' +\n",
              "            '<a target=\"_blank\" href=https://colab.research.google.com/notebooks/data_table.ipynb>data table notebook</a>'\n",
              "            + ' to learn more about interactive tables.';\n",
              "          element.innerHTML = '';\n",
              "          dataTable['output_type'] = 'display_data';\n",
              "          await google.colab.output.renderOutput(dataTable, element);\n",
              "          const docLink = document.createElement('div');\n",
              "          docLink.innerHTML = docLinkHtml;\n",
              "          element.appendChild(docLink);\n",
              "        }\n",
              "      </script>\n",
              "    </div>\n",
              "  </div>\n",
              "  "
            ],
            "text/plain": [
              "       PMID                                                 TI  ...    SI  Class\n",
              "0  33308664  Benefits and limitations of serological assays...  ...  NONE  COVID\n",
              "1  33522478  Postvaccination COVID-19 among Healthcare Work...  ...  NONE  COVID\n",
              "2  33189872  Field evaluation of a rapid antigen test (Panb...  ...  NONE  COVID\n",
              "\n",
              "[3 rows x 18 columns]"
            ]
          },
          "metadata": {},
          "execution_count": 20
        }
      ]
    },
    {
      "cell_type": "code",
      "source": [
        "covid_dataframe.to_csv(\"10k-covid-pubmed-metadata.csv\", index=False)"
      ],
      "metadata": {
        "id": "wykiUxPL1RsP"
      },
      "execution_count": 21,
      "outputs": []
    },
    {
      "cell_type": "markdown",
      "source": [
        "### Cancer"
      ],
      "metadata": {
        "id": "RWrvafn51kJn"
      }
    },
    {
      "cell_type": "code",
      "source": [
        "len(cancer_data)"
      ],
      "metadata": {
        "colab": {
          "base_uri": "https://localhost:8080/"
        },
        "outputId": "0274a49d-5f5d-43de-aa66-0c368eb7f7f6",
        "id": "C1Ih4X0k1oqP"
      },
      "execution_count": 22,
      "outputs": [
        {
          "output_type": "execute_result",
          "data": {
            "text/plain": [
              "10000"
            ]
          },
          "metadata": {},
          "execution_count": 22
        }
      ]
    },
    {
      "cell_type": "code",
      "source": [
        "cancer_data[0]"
      ],
      "metadata": {
        "colab": {
          "base_uri": "https://localhost:8080/"
        },
        "outputId": "1b2e1671-a4ee-4f7a-91a5-32f90ba9ab96",
        "id": "EMYfTgOJ1oqP"
      },
      "execution_count": 23,
      "outputs": [
        {
          "output_type": "execute_result",
          "data": {
            "text/plain": [
              "{'AB': \"This essay focuses on themes in Explaining Cancer: Finding Order in Disorder (2018) by Anya Plutynski, a monograph that has important things to say about both the peculiarities of cancers and our theories about them. Cancer's agents of destruction are human cells that have been recruited and to some extent transformed into pathological organisms or the building blocks of tumors. Cancers both undermine and exploit mechanisms of multicellular organization, and understanding them gives rise to difficult philosophical problems. In addition to sketching Plutynski's discussion of these problems, this essay defends Christopher Boorse's account of disease from Plutynski's criticisms, and it expresses some qualms about her treatment of scientific explanation.\",\n",
              " 'AID': ['S1529879519400112 [pii]', '10.1353/pbm.2019.0046 [doi]'],\n",
              " 'AU': ['Hausman DM'],\n",
              " 'CRDT': ['2019/11/26 06:00'],\n",
              " 'DCOM': '20200529',\n",
              " 'DP': '2019',\n",
              " 'EDAT': '2019/11/26 06:00',\n",
              " 'FAU': ['Hausman, Daniel M'],\n",
              " 'IP': '4',\n",
              " 'IS': '1529-8795 (Electronic) 0031-5982 (Linking)',\n",
              " 'JID': '0401132',\n",
              " 'JT': 'Perspectives in biology and medicine',\n",
              " 'LA': ['eng'],\n",
              " 'LID': '10.1353/pbm.2019.0046 [doi]',\n",
              " 'LR': '20200529',\n",
              " 'MH': ['Humans', 'Neoplasms/*etiology', 'Philosophy, Medical'],\n",
              " 'MHDA': '2020/05/30 06:00',\n",
              " 'OWN': 'NLM',\n",
              " 'PG': '778-784',\n",
              " 'PHST': ['2019/11/26 06:00 [entrez]',\n",
              "  '2019/11/26 06:00 [pubmed]',\n",
              "  '2020/05/30 06:00 [medline]'],\n",
              " 'PL': 'United States',\n",
              " 'PMID': '31761807',\n",
              " 'PST': 'ppublish',\n",
              " 'PT': ['Journal Article'],\n",
              " 'SB': 'IM',\n",
              " 'SO': 'Perspect Biol Med. 2019;62(4):778-784. doi: 10.1353/pbm.2019.0046.',\n",
              " 'STAT': 'MEDLINE',\n",
              " 'TA': 'Perspect Biol Med',\n",
              " 'TI': 'What Is Cancer?',\n",
              " 'VI': '62'}"
            ]
          },
          "metadata": {},
          "execution_count": 23
        }
      ]
    },
    {
      "cell_type": "code",
      "source": [
        "required_keys = ['PMID', 'TI', 'AB', 'AD', 'FAU', 'DP', 'TA', 'JT', 'LA', \n",
        "                 'MH', 'OAB', 'OT', 'PL', 'PST', 'PT', 'RN', 'SI']"
      ],
      "metadata": {
        "id": "AQKJMdXt1oqR"
      },
      "execution_count": 24,
      "outputs": []
    },
    {
      "cell_type": "code",
      "source": [
        "cancer_data_for_df = list()\n",
        "\n",
        "for single_data in tqdm(cancer_data):\n",
        "  temp = list()\n",
        "  for key in required_keys:\n",
        "    value = single_data.get(key, \"NONE\")\n",
        "    if isinstance(value, list):\n",
        "      value = \";\".join(set(value))\n",
        "      temp.append(value)\n",
        "    else:\n",
        "      temp.append(value)\n",
        "\n",
        "  cancer_data_for_df.append(temp)"
      ],
      "metadata": {
        "colab": {
          "base_uri": "https://localhost:8080/"
        },
        "outputId": "8f054575-c1d2-4905-ee7e-3ab36e61cf66",
        "id": "lbBdfRqG1oqR"
      },
      "execution_count": 25,
      "outputs": [
        {
          "output_type": "stream",
          "name": "stderr",
          "text": [
            "100%|██████████| 10000/10000 [00:00<00:00, 46513.09it/s]\n"
          ]
        }
      ]
    },
    {
      "cell_type": "code",
      "source": [
        "cancer_data_for_df[0]"
      ],
      "metadata": {
        "colab": {
          "base_uri": "https://localhost:8080/"
        },
        "outputId": "a29ad3b1-1fc9-47ed-9950-54b0284ba510",
        "id": "EzsoLdVa1oqR"
      },
      "execution_count": 26,
      "outputs": [
        {
          "output_type": "execute_result",
          "data": {
            "text/plain": [
              "['31761807',\n",
              " 'What Is Cancer?',\n",
              " \"This essay focuses on themes in Explaining Cancer: Finding Order in Disorder (2018) by Anya Plutynski, a monograph that has important things to say about both the peculiarities of cancers and our theories about them. Cancer's agents of destruction are human cells that have been recruited and to some extent transformed into pathological organisms or the building blocks of tumors. Cancers both undermine and exploit mechanisms of multicellular organization, and understanding them gives rise to difficult philosophical problems. In addition to sketching Plutynski's discussion of these problems, this essay defends Christopher Boorse's account of disease from Plutynski's criticisms, and it expresses some qualms about her treatment of scientific explanation.\",\n",
              " 'NONE',\n",
              " 'Hausman, Daniel M',\n",
              " '2019',\n",
              " 'Perspect Biol Med',\n",
              " 'Perspectives in biology and medicine',\n",
              " 'eng',\n",
              " 'Philosophy, Medical;Humans;Neoplasms/*etiology',\n",
              " 'NONE',\n",
              " 'NONE',\n",
              " 'United States',\n",
              " 'ppublish',\n",
              " 'Journal Article',\n",
              " 'NONE',\n",
              " 'NONE']"
            ]
          },
          "metadata": {},
          "execution_count": 26
        }
      ]
    },
    {
      "cell_type": "code",
      "source": [
        "cancer_dataframe = pd.DataFrame(cancer_data_for_df, columns=required_keys)"
      ],
      "metadata": {
        "id": "LXZ6TCoX1oqR"
      },
      "execution_count": 27,
      "outputs": []
    },
    {
      "cell_type": "code",
      "source": [
        "cancer_dataframe['RN']"
      ],
      "metadata": {
        "colab": {
          "base_uri": "https://localhost:8080/"
        },
        "outputId": "a5fda659-9c82-4b67-bf92-377049a199b0",
        "id": "5xWB-0gr1oqR"
      },
      "execution_count": 28,
      "outputs": [
        {
          "output_type": "execute_result",
          "data": {
            "text/plain": [
              "0                                      NONE\n",
              "1                                      NONE\n",
              "2                                      NONE\n",
              "3                 0 (Antineoplastic Agents)\n",
              "4                                      NONE\n",
              "                       ...                 \n",
              "9995                                   NONE\n",
              "9996                                   NONE\n",
              "9997                                   NONE\n",
              "9998    0 (Chromates);0R0008Q3JB (Chromium)\n",
              "9999              0 (Antineoplastic Agents)\n",
              "Name: RN, Length: 10000, dtype: object"
            ]
          },
          "metadata": {},
          "execution_count": 28
        }
      ]
    },
    {
      "cell_type": "code",
      "source": [
        "cancer_dataframe['Class'] = ['CANCER']*len(cancer_dataframe)"
      ],
      "metadata": {
        "id": "5v9_J2Bf21SI"
      },
      "execution_count": 29,
      "outputs": []
    },
    {
      "cell_type": "code",
      "source": [
        "cancer_dataframe.to_csv(\"10k-cancer-pubmed-metadata.csv\", index=False)"
      ],
      "metadata": {
        "id": "O5-v1BYm1oqS"
      },
      "execution_count": 30,
      "outputs": []
    },
    {
      "cell_type": "markdown",
      "source": [
        "### Ebola"
      ],
      "metadata": {
        "id": "kFcLaKfk2EAW"
      }
    },
    {
      "cell_type": "code",
      "source": [
        "cancer_dataframe['RN']"
      ],
      "metadata": {
        "colab": {
          "base_uri": "https://localhost:8080/"
        },
        "id": "JLljPLx8124a",
        "outputId": "7ee3a156-2d31-4eed-aef3-7a1be8f6e0ae"
      },
      "execution_count": 31,
      "outputs": [
        {
          "output_type": "execute_result",
          "data": {
            "text/plain": [
              "0                                      NONE\n",
              "1                                      NONE\n",
              "2                                      NONE\n",
              "3                 0 (Antineoplastic Agents)\n",
              "4                                      NONE\n",
              "                       ...                 \n",
              "9995                                   NONE\n",
              "9996                                   NONE\n",
              "9997                                   NONE\n",
              "9998    0 (Chromates);0R0008Q3JB (Chromium)\n",
              "9999              0 (Antineoplastic Agents)\n",
              "Name: RN, Length: 10000, dtype: object"
            ]
          },
          "metadata": {},
          "execution_count": 31
        }
      ]
    },
    {
      "cell_type": "code",
      "source": [
        "len(ebola_data)"
      ],
      "metadata": {
        "colab": {
          "base_uri": "https://localhost:8080/"
        },
        "outputId": "e301272d-d1ec-4520-9288-19148d437a7b",
        "id": "dD-6TwxY2FrQ"
      },
      "execution_count": 32,
      "outputs": [
        {
          "output_type": "execute_result",
          "data": {
            "text/plain": [
              "10000"
            ]
          },
          "metadata": {},
          "execution_count": 32
        }
      ]
    },
    {
      "cell_type": "code",
      "source": [
        "ebola_data[0]"
      ],
      "metadata": {
        "colab": {
          "base_uri": "https://localhost:8080/"
        },
        "outputId": "8f8b4269-393f-43ba-a9b2-a1baac59dc35",
        "id": "4-oNiEFQ2FrR"
      },
      "execution_count": 33,
      "outputs": [
        {
          "output_type": "execute_result",
          "data": {
            "text/plain": [
              "{'AB': \"For almost 50 years, ebolaviruses and related filoviruses have been repeatedly reemerging across the vast equatorial belt of the African continent to cause epidemics of highly fatal hemorrhagic fever. The 2013-2015 West African epidemic, by far the most geographically extensive, most fatal, and longest lasting epidemic in Ebola's history, presented an enormous international public health challenge, but it also provided insights into Ebola's pathogenesis and natural history, clinical expression, treatment, prevention, and control. Growing understanding of ebolavirus pathogenetic mechanisms and important new clinical observations of the disease course provide fresh clues about prevention and treatment approaches. Although viral cytopathology and immune-mediated cell damage in ebolavirus disease often result in severe compromise of multiple organs, tissue repair and organ function recovery can be expected if patients receive supportive care with fluids and electrolytes; maintenance of oxygenation and tissue perfusion; and respiratory, renal, and cardiovascular support. Major challenges for managing future Ebola epidemics include establishment of early and aggressive epidemic control and earlier and better patient care and treatment in remote, resource-poor areas where Ebola typically reemerges. In addition, it will be important to further develop Ebola vaccines and to adopt policies for their use in epidemic and pre-epidemic situations.\",\n",
              " 'AD': ['Department of Veterinary Medicine and Surgery, University of Texas MD Anderson Cancer Center, Houston, Texas 77030.',\n",
              "  'Critical Care Medicine Department, Clinical Center, National Institute of Allergy and Infectious Diseases, National Institutes of Health, Bethesda, Maryland 20892.',\n",
              "  'Founder, Special Pathogens Branch, Centers for Disease Control and Prevention, Placitas, New Mexico 87043.',\n",
              "  'Laboratory of Virology, Division of Intramural Research, National Institute of Allergy and Infectious Diseases, National Institutes of Health, Hamilton, Montana 59840.',\n",
              "  'Office of the Director, National Institute of Allergy and Infectious Diseases, National Institutes of Health, Bethesda, Maryland 20892; email: dm270q@nih.gov.'],\n",
              " 'AID': ['10.1146/annurev-pathol-052016-100506 [doi]'],\n",
              " 'AU': ['Baseler L', 'Chertow DS', 'Johnson KM', 'Feldmann H', 'Morens DM'],\n",
              " 'CRDT': ['2016/12/14 06:00'],\n",
              " 'DCOM': '20170817',\n",
              " 'DP': '2017 Jan 24',\n",
              " 'EDAT': '2016/12/14 06:00',\n",
              " 'FAU': ['Baseler, Laura',\n",
              "  'Chertow, Daniel S',\n",
              "  'Johnson, Karl M',\n",
              "  'Feldmann, Heinz',\n",
              "  'Morens, David M'],\n",
              " 'IS': '1553-4014 (Electronic) 1553-4006 (Linking)',\n",
              " 'JID': '101275111',\n",
              " 'JT': 'Annual review of pathology',\n",
              " 'LA': ['eng'],\n",
              " 'LID': '10.1146/annurev-pathol-052016-100506 [doi]',\n",
              " 'LR': '20181202',\n",
              " 'MH': ['Disease Outbreaks/*prevention & control',\n",
              "  'Ebolavirus/*classification/isolation & purification/*pathogenicity',\n",
              "  'Hemorrhagic Fever, Ebola/*epidemiology/*pathology/transmission',\n",
              "  'Humans'],\n",
              " 'MHDA': '2017/08/18 06:00',\n",
              " 'OT': ['Ebola',\n",
              "  'ebolavirus',\n",
              "  'epidemic',\n",
              "  'filovirus',\n",
              "  'viral disease pathogenesis',\n",
              "  'viral hemorrhagic fever'],\n",
              " 'OTO': ['NOTNLM'],\n",
              " 'OWN': 'NLM',\n",
              " 'PG': '387-418',\n",
              " 'PHST': ['2016/12/14 06:00 [pubmed]',\n",
              "  '2017/08/18 06:00 [medline]',\n",
              "  '2016/12/14 06:00 [entrez]'],\n",
              " 'PL': 'United States',\n",
              " 'PMID': '27959626',\n",
              " 'PST': 'ppublish',\n",
              " 'PT': ['Journal Article', 'Review'],\n",
              " 'SB': 'IM',\n",
              " 'SO': 'Annu Rev Pathol. 2017 Jan 24;12:387-418. doi: 10.1146/annurev-pathol-052016-100506.',\n",
              " 'STAT': 'MEDLINE',\n",
              " 'TA': 'Annu Rev Pathol',\n",
              " 'TI': 'The Pathogenesis of Ebola Virus Disease.',\n",
              " 'VI': '12'}"
            ]
          },
          "metadata": {},
          "execution_count": 33
        }
      ]
    },
    {
      "cell_type": "code",
      "source": [
        "required_keys = ['PMID', 'TI', 'AB', 'AD', 'FAU', 'DP', 'TA', 'JT', 'LA', \n",
        "                 'MH', 'OAB', 'OT', 'PL', 'PST', 'PT', 'RN', 'SI']"
      ],
      "metadata": {
        "id": "scJBiEPp2FrR"
      },
      "execution_count": 34,
      "outputs": []
    },
    {
      "cell_type": "code",
      "source": [
        "ebola_data_for_df = list()\n",
        "\n",
        "for single_data in tqdm(ebola_data):\n",
        "  temp = list()\n",
        "  for key in required_keys:\n",
        "    value = single_data.get(key, \"NONE\")\n",
        "    if isinstance(value, list):\n",
        "      value = \";\".join(set(value))\n",
        "      temp.append(value)\n",
        "    else:\n",
        "      temp.append(value)\n",
        "\n",
        "  ebola_data_for_df.append(temp)"
      ],
      "metadata": {
        "colab": {
          "base_uri": "https://localhost:8080/"
        },
        "outputId": "11cbfe7c-e58c-4487-c44f-4ed1dd6734c4",
        "id": "OONx7ot12FrR"
      },
      "execution_count": 35,
      "outputs": [
        {
          "output_type": "stream",
          "name": "stderr",
          "text": [
            "100%|██████████| 10000/10000 [00:00<00:00, 37391.32it/s]\n"
          ]
        }
      ]
    },
    {
      "cell_type": "code",
      "source": [
        "ebola_data_for_df[0]"
      ],
      "metadata": {
        "colab": {
          "base_uri": "https://localhost:8080/"
        },
        "outputId": "b720e7cb-12ca-4ba8-b3ed-c8b5bf81588c",
        "id": "r-uGGo7t2FrS"
      },
      "execution_count": 36,
      "outputs": [
        {
          "output_type": "execute_result",
          "data": {
            "text/plain": [
              "['27959626',\n",
              " 'The Pathogenesis of Ebola Virus Disease.',\n",
              " \"For almost 50 years, ebolaviruses and related filoviruses have been repeatedly reemerging across the vast equatorial belt of the African continent to cause epidemics of highly fatal hemorrhagic fever. The 2013-2015 West African epidemic, by far the most geographically extensive, most fatal, and longest lasting epidemic in Ebola's history, presented an enormous international public health challenge, but it also provided insights into Ebola's pathogenesis and natural history, clinical expression, treatment, prevention, and control. Growing understanding of ebolavirus pathogenetic mechanisms and important new clinical observations of the disease course provide fresh clues about prevention and treatment approaches. Although viral cytopathology and immune-mediated cell damage in ebolavirus disease often result in severe compromise of multiple organs, tissue repair and organ function recovery can be expected if patients receive supportive care with fluids and electrolytes; maintenance of oxygenation and tissue perfusion; and respiratory, renal, and cardiovascular support. Major challenges for managing future Ebola epidemics include establishment of early and aggressive epidemic control and earlier and better patient care and treatment in remote, resource-poor areas where Ebola typically reemerges. In addition, it will be important to further develop Ebola vaccines and to adopt policies for their use in epidemic and pre-epidemic situations.\",\n",
              " 'Critical Care Medicine Department, Clinical Center, National Institute of Allergy and Infectious Diseases, National Institutes of Health, Bethesda, Maryland 20892.;Department of Veterinary Medicine and Surgery, University of Texas MD Anderson Cancer Center, Houston, Texas 77030.;Laboratory of Virology, Division of Intramural Research, National Institute of Allergy and Infectious Diseases, National Institutes of Health, Hamilton, Montana 59840.;Office of the Director, National Institute of Allergy and Infectious Diseases, National Institutes of Health, Bethesda, Maryland 20892; email: dm270q@nih.gov.;Founder, Special Pathogens Branch, Centers for Disease Control and Prevention, Placitas, New Mexico 87043.',\n",
              " 'Chertow, Daniel S;Morens, David M;Johnson, Karl M;Feldmann, Heinz;Baseler, Laura',\n",
              " '2017 Jan 24',\n",
              " 'Annu Rev Pathol',\n",
              " 'Annual review of pathology',\n",
              " 'eng',\n",
              " 'Ebolavirus/*classification/isolation & purification/*pathogenicity;Humans;Hemorrhagic Fever, Ebola/*epidemiology/*pathology/transmission;Disease Outbreaks/*prevention & control',\n",
              " 'NONE',\n",
              " 'filovirus;Ebola;viral disease pathogenesis;ebolavirus;epidemic;viral hemorrhagic fever',\n",
              " 'United States',\n",
              " 'ppublish',\n",
              " 'Journal Article;Review',\n",
              " 'NONE',\n",
              " 'NONE']"
            ]
          },
          "metadata": {},
          "execution_count": 36
        }
      ]
    },
    {
      "cell_type": "code",
      "source": [
        "ebola_dataframe = pd.DataFrame(ebola_data_for_df, columns=required_keys)"
      ],
      "metadata": {
        "id": "Z4vblnMu2FrS"
      },
      "execution_count": 37,
      "outputs": []
    },
    {
      "cell_type": "code",
      "source": [
        "ebola_dataframe['RN']"
      ],
      "metadata": {
        "colab": {
          "base_uri": "https://localhost:8080/"
        },
        "outputId": "6cf8db75-f859-4e9f-b720-d322f73318cb",
        "id": "dJIvms3i2FrS"
      },
      "execution_count": 38,
      "outputs": [
        {
          "output_type": "execute_result",
          "data": {
            "text/plain": [
              "0                                                    NONE\n",
              "1                                                    NONE\n",
              "2           0 (Membrane Glycoproteins);0 (Ebola Vaccines)\n",
              "3                 0 (Antiviral Agents);0 (Ebola Vaccines)\n",
              "4       3QKI37EEHE (remdesivir);415SHH325A (Adenosine ...\n",
              "                              ...                        \n",
              "9995                                                 NONE\n",
              "9996                                                 NONE\n",
              "9997           0 (Interferon Type I);0 (Antiviral Agents)\n",
              "9998                                                 NONE\n",
              "9999                                                 NONE\n",
              "Name: RN, Length: 10000, dtype: object"
            ]
          },
          "metadata": {},
          "execution_count": 38
        }
      ]
    },
    {
      "cell_type": "code",
      "source": [
        "ebola_dataframe['Class'] = ['EBOLA']*len(ebola_dataframe)"
      ],
      "metadata": {
        "id": "mbyTfEOX2nfa"
      },
      "execution_count": 39,
      "outputs": []
    },
    {
      "cell_type": "code",
      "source": [
        "ebola_dataframe.head(3)"
      ],
      "metadata": {
        "colab": {
          "base_uri": "https://localhost:8080/",
          "height": 0
        },
        "id": "eEGG7Soz3Nhy",
        "outputId": "07ea1e8f-4d64-4d9a-e7af-c23fcee678f1"
      },
      "execution_count": 40,
      "outputs": [
        {
          "output_type": "execute_result",
          "data": {
            "text/html": [
              "\n",
              "  <div id=\"df-bdc05bdc-e507-466b-b1d8-4dfb76095e5d\">\n",
              "    <div class=\"colab-df-container\">\n",
              "      <div>\n",
              "<style scoped>\n",
              "    .dataframe tbody tr th:only-of-type {\n",
              "        vertical-align: middle;\n",
              "    }\n",
              "\n",
              "    .dataframe tbody tr th {\n",
              "        vertical-align: top;\n",
              "    }\n",
              "\n",
              "    .dataframe thead th {\n",
              "        text-align: right;\n",
              "    }\n",
              "</style>\n",
              "<table border=\"1\" class=\"dataframe\">\n",
              "  <thead>\n",
              "    <tr style=\"text-align: right;\">\n",
              "      <th></th>\n",
              "      <th>PMID</th>\n",
              "      <th>TI</th>\n",
              "      <th>AB</th>\n",
              "      <th>AD</th>\n",
              "      <th>FAU</th>\n",
              "      <th>DP</th>\n",
              "      <th>TA</th>\n",
              "      <th>JT</th>\n",
              "      <th>LA</th>\n",
              "      <th>MH</th>\n",
              "      <th>OAB</th>\n",
              "      <th>OT</th>\n",
              "      <th>PL</th>\n",
              "      <th>PST</th>\n",
              "      <th>PT</th>\n",
              "      <th>RN</th>\n",
              "      <th>SI</th>\n",
              "      <th>Class</th>\n",
              "    </tr>\n",
              "  </thead>\n",
              "  <tbody>\n",
              "    <tr>\n",
              "      <th>0</th>\n",
              "      <td>27959626</td>\n",
              "      <td>The Pathogenesis of Ebola Virus Disease.</td>\n",
              "      <td>For almost 50 years, ebolaviruses and related ...</td>\n",
              "      <td>Critical Care Medicine Department, Clinical Ce...</td>\n",
              "      <td>Chertow, Daniel S;Morens, David M;Johnson, Kar...</td>\n",
              "      <td>2017 Jan 24</td>\n",
              "      <td>Annu Rev Pathol</td>\n",
              "      <td>Annual review of pathology</td>\n",
              "      <td>eng</td>\n",
              "      <td>Ebolavirus/*classification/isolation &amp; purific...</td>\n",
              "      <td>NONE</td>\n",
              "      <td>filovirus;Ebola;viral disease pathogenesis;ebo...</td>\n",
              "      <td>United States</td>\n",
              "      <td>ppublish</td>\n",
              "      <td>Journal Article;Review</td>\n",
              "      <td>NONE</td>\n",
              "      <td>NONE</td>\n",
              "      <td>EBOLA</td>\n",
              "    </tr>\n",
              "    <tr>\n",
              "      <th>1</th>\n",
              "      <td>32080199</td>\n",
              "      <td>Ebola virus disease.</td>\n",
              "      <td>Ebola virus disease (EVD) is a severe and freq...</td>\n",
              "      <td>Nebraska Biocontainment Unit, Division of Infe...</td>\n",
              "      <td>Fischer, William A 2nd;Kraft, Colleen S;Hewlet...</td>\n",
              "      <td>2020 Feb 20</td>\n",
              "      <td>Nat Rev Dis Primers</td>\n",
              "      <td>Nature reviews. Disease primers</td>\n",
              "      <td>eng</td>\n",
              "      <td>Hemorrhagic Fever, Ebola/*complications/epidem...</td>\n",
              "      <td>NONE</td>\n",
              "      <td>NONE</td>\n",
              "      <td>England</td>\n",
              "      <td>epublish</td>\n",
              "      <td>Journal Article;Review;Research Support, N.I.H...</td>\n",
              "      <td>NONE</td>\n",
              "      <td>NONE</td>\n",
              "      <td>EBOLA</td>\n",
              "    </tr>\n",
              "    <tr>\n",
              "      <th>2</th>\n",
              "      <td>26923959</td>\n",
              "      <td>Ebola vaccine and treatment.</td>\n",
              "      <td>Filoviruses (Ebola and Marburg viruses) cause ...</td>\n",
              "      <td>Hokkaido University Research Center for Zoonos...</td>\n",
              "      <td>Takada, Ayato</td>\n",
              "      <td>2015</td>\n",
              "      <td>Uirusu</td>\n",
              "      <td>Uirusu</td>\n",
              "      <td>jpn</td>\n",
              "      <td>*Drug Discovery;Hemorrhagic Fever, Ebola/*drug...</td>\n",
              "      <td>NONE</td>\n",
              "      <td>NONE</td>\n",
              "      <td>Japan</td>\n",
              "      <td>ppublish</td>\n",
              "      <td>Journal Article;Review</td>\n",
              "      <td>0 (Membrane Glycoproteins);0 (Ebola Vaccines)</td>\n",
              "      <td>NONE</td>\n",
              "      <td>EBOLA</td>\n",
              "    </tr>\n",
              "  </tbody>\n",
              "</table>\n",
              "</div>\n",
              "      <button class=\"colab-df-convert\" onclick=\"convertToInteractive('df-bdc05bdc-e507-466b-b1d8-4dfb76095e5d')\"\n",
              "              title=\"Convert this dataframe to an interactive table.\"\n",
              "              style=\"display:none;\">\n",
              "        \n",
              "  <svg xmlns=\"http://www.w3.org/2000/svg\" height=\"24px\"viewBox=\"0 0 24 24\"\n",
              "       width=\"24px\">\n",
              "    <path d=\"M0 0h24v24H0V0z\" fill=\"none\"/>\n",
              "    <path d=\"M18.56 5.44l.94 2.06.94-2.06 2.06-.94-2.06-.94-.94-2.06-.94 2.06-2.06.94zm-11 1L8.5 8.5l.94-2.06 2.06-.94-2.06-.94L8.5 2.5l-.94 2.06-2.06.94zm10 10l.94 2.06.94-2.06 2.06-.94-2.06-.94-.94-2.06-.94 2.06-2.06.94z\"/><path d=\"M17.41 7.96l-1.37-1.37c-.4-.4-.92-.59-1.43-.59-.52 0-1.04.2-1.43.59L10.3 9.45l-7.72 7.72c-.78.78-.78 2.05 0 2.83L4 21.41c.39.39.9.59 1.41.59.51 0 1.02-.2 1.41-.59l7.78-7.78 2.81-2.81c.8-.78.8-2.07 0-2.86zM5.41 20L4 18.59l7.72-7.72 1.47 1.35L5.41 20z\"/>\n",
              "  </svg>\n",
              "      </button>\n",
              "      \n",
              "  <style>\n",
              "    .colab-df-container {\n",
              "      display:flex;\n",
              "      flex-wrap:wrap;\n",
              "      gap: 12px;\n",
              "    }\n",
              "\n",
              "    .colab-df-convert {\n",
              "      background-color: #E8F0FE;\n",
              "      border: none;\n",
              "      border-radius: 50%;\n",
              "      cursor: pointer;\n",
              "      display: none;\n",
              "      fill: #1967D2;\n",
              "      height: 32px;\n",
              "      padding: 0 0 0 0;\n",
              "      width: 32px;\n",
              "    }\n",
              "\n",
              "    .colab-df-convert:hover {\n",
              "      background-color: #E2EBFA;\n",
              "      box-shadow: 0px 1px 2px rgba(60, 64, 67, 0.3), 0px 1px 3px 1px rgba(60, 64, 67, 0.15);\n",
              "      fill: #174EA6;\n",
              "    }\n",
              "\n",
              "    [theme=dark] .colab-df-convert {\n",
              "      background-color: #3B4455;\n",
              "      fill: #D2E3FC;\n",
              "    }\n",
              "\n",
              "    [theme=dark] .colab-df-convert:hover {\n",
              "      background-color: #434B5C;\n",
              "      box-shadow: 0px 1px 3px 1px rgba(0, 0, 0, 0.15);\n",
              "      filter: drop-shadow(0px 1px 2px rgba(0, 0, 0, 0.3));\n",
              "      fill: #FFFFFF;\n",
              "    }\n",
              "  </style>\n",
              "\n",
              "      <script>\n",
              "        const buttonEl =\n",
              "          document.querySelector('#df-bdc05bdc-e507-466b-b1d8-4dfb76095e5d button.colab-df-convert');\n",
              "        buttonEl.style.display =\n",
              "          google.colab.kernel.accessAllowed ? 'block' : 'none';\n",
              "\n",
              "        async function convertToInteractive(key) {\n",
              "          const element = document.querySelector('#df-bdc05bdc-e507-466b-b1d8-4dfb76095e5d');\n",
              "          const dataTable =\n",
              "            await google.colab.kernel.invokeFunction('convertToInteractive',\n",
              "                                                     [key], {});\n",
              "          if (!dataTable) return;\n",
              "\n",
              "          const docLinkHtml = 'Like what you see? Visit the ' +\n",
              "            '<a target=\"_blank\" href=https://colab.research.google.com/notebooks/data_table.ipynb>data table notebook</a>'\n",
              "            + ' to learn more about interactive tables.';\n",
              "          element.innerHTML = '';\n",
              "          dataTable['output_type'] = 'display_data';\n",
              "          await google.colab.output.renderOutput(dataTable, element);\n",
              "          const docLink = document.createElement('div');\n",
              "          docLink.innerHTML = docLinkHtml;\n",
              "          element.appendChild(docLink);\n",
              "        }\n",
              "      </script>\n",
              "    </div>\n",
              "  </div>\n",
              "  "
            ],
            "text/plain": [
              "       PMID                                        TI  ...    SI  Class\n",
              "0  27959626  The Pathogenesis of Ebola Virus Disease.  ...  NONE  EBOLA\n",
              "1  32080199                      Ebola virus disease.  ...  NONE  EBOLA\n",
              "2  26923959              Ebola vaccine and treatment.  ...  NONE  EBOLA\n",
              "\n",
              "[3 rows x 18 columns]"
            ]
          },
          "metadata": {},
          "execution_count": 40
        }
      ]
    },
    {
      "cell_type": "code",
      "source": [
        "ebola_dataframe.to_csv(\"10k-ebola-pubmed-metadata.csv\", index=False)"
      ],
      "metadata": {
        "id": "k4p_AE6u2FrT"
      },
      "execution_count": 41,
      "outputs": []
    },
    {
      "cell_type": "markdown",
      "source": [
        "### Combing dataframes"
      ],
      "metadata": {
        "id": "nYugaY9D4P2n"
      }
    },
    {
      "cell_type": "code",
      "source": [
        "frames = [cancer_dataframe, ebola_dataframe, covid_dataframe]\n",
        "\n",
        "#concatenate dataframes\n",
        "main_dataframe = pd.concat(frames)\n",
        "\n",
        "# reset index\n",
        "main_dataframe.reset_index(drop=True, inplace=True)"
      ],
      "metadata": {
        "id": "UCfuBmLL2jiP"
      },
      "execution_count": 42,
      "outputs": []
    },
    {
      "cell_type": "code",
      "source": [
        "main_dataframe.info()"
      ],
      "metadata": {
        "colab": {
          "base_uri": "https://localhost:8080/"
        },
        "id": "9Nc8BscK3l4I",
        "outputId": "f5c241f9-dc5f-42bd-c9d7-381fc9f61dc6"
      },
      "execution_count": 43,
      "outputs": [
        {
          "output_type": "stream",
          "name": "stdout",
          "text": [
            "<class 'pandas.core.frame.DataFrame'>\n",
            "RangeIndex: 30000 entries, 0 to 29999\n",
            "Data columns (total 18 columns):\n",
            " #   Column  Non-Null Count  Dtype \n",
            "---  ------  --------------  ----- \n",
            " 0   PMID    30000 non-null  object\n",
            " 1   TI      30000 non-null  object\n",
            " 2   AB      30000 non-null  object\n",
            " 3   AD      30000 non-null  object\n",
            " 4   FAU     30000 non-null  object\n",
            " 5   DP      30000 non-null  object\n",
            " 6   TA      30000 non-null  object\n",
            " 7   JT      30000 non-null  object\n",
            " 8   LA      30000 non-null  object\n",
            " 9   MH      30000 non-null  object\n",
            " 10  OAB     30000 non-null  object\n",
            " 11  OT      30000 non-null  object\n",
            " 12  PL      30000 non-null  object\n",
            " 13  PST     30000 non-null  object\n",
            " 14  PT      30000 non-null  object\n",
            " 15  RN      30000 non-null  object\n",
            " 16  SI      30000 non-null  object\n",
            " 17  Class   30000 non-null  object\n",
            "dtypes: object(18)\n",
            "memory usage: 4.1+ MB\n"
          ]
        }
      ]
    },
    {
      "cell_type": "code",
      "source": [
        "main_dataframe.head()"
      ],
      "metadata": {
        "colab": {
          "base_uri": "https://localhost:8080/",
          "height": 704
        },
        "id": "WccA6etJ3mpP",
        "outputId": "5075c0e8-05bc-4d46-c8e7-80bae7e446b2"
      },
      "execution_count": 44,
      "outputs": [
        {
          "output_type": "execute_result",
          "data": {
            "text/html": [
              "\n",
              "  <div id=\"df-52c4a0f0-b310-4312-bdaf-d2e1d6d0ea5b\">\n",
              "    <div class=\"colab-df-container\">\n",
              "      <div>\n",
              "<style scoped>\n",
              "    .dataframe tbody tr th:only-of-type {\n",
              "        vertical-align: middle;\n",
              "    }\n",
              "\n",
              "    .dataframe tbody tr th {\n",
              "        vertical-align: top;\n",
              "    }\n",
              "\n",
              "    .dataframe thead th {\n",
              "        text-align: right;\n",
              "    }\n",
              "</style>\n",
              "<table border=\"1\" class=\"dataframe\">\n",
              "  <thead>\n",
              "    <tr style=\"text-align: right;\">\n",
              "      <th></th>\n",
              "      <th>PMID</th>\n",
              "      <th>TI</th>\n",
              "      <th>AB</th>\n",
              "      <th>AD</th>\n",
              "      <th>FAU</th>\n",
              "      <th>DP</th>\n",
              "      <th>TA</th>\n",
              "      <th>JT</th>\n",
              "      <th>LA</th>\n",
              "      <th>MH</th>\n",
              "      <th>OAB</th>\n",
              "      <th>OT</th>\n",
              "      <th>PL</th>\n",
              "      <th>PST</th>\n",
              "      <th>PT</th>\n",
              "      <th>RN</th>\n",
              "      <th>SI</th>\n",
              "      <th>Class</th>\n",
              "    </tr>\n",
              "  </thead>\n",
              "  <tbody>\n",
              "    <tr>\n",
              "      <th>0</th>\n",
              "      <td>31761807</td>\n",
              "      <td>What Is Cancer?</td>\n",
              "      <td>This essay focuses on themes in Explaining Can...</td>\n",
              "      <td>NONE</td>\n",
              "      <td>Hausman, Daniel M</td>\n",
              "      <td>2019</td>\n",
              "      <td>Perspect Biol Med</td>\n",
              "      <td>Perspectives in biology and medicine</td>\n",
              "      <td>eng</td>\n",
              "      <td>Philosophy, Medical;Humans;Neoplasms/*etiology</td>\n",
              "      <td>NONE</td>\n",
              "      <td>NONE</td>\n",
              "      <td>United States</td>\n",
              "      <td>ppublish</td>\n",
              "      <td>Journal Article</td>\n",
              "      <td>NONE</td>\n",
              "      <td>NONE</td>\n",
              "      <td>CANCER</td>\n",
              "    </tr>\n",
              "    <tr>\n",
              "      <th>1</th>\n",
              "      <td>28244479</td>\n",
              "      <td>Cancer and cure: A critical analysis.</td>\n",
              "      <td>Cancer is one of the most dreaded diseases of ...</td>\n",
              "      <td>Department of Medical Oncology, Dr. B. Borooah...</td>\n",
              "      <td>Roy, P S;Saikia, B J</td>\n",
              "      <td>2016 Jul-Sep</td>\n",
              "      <td>Indian J Cancer</td>\n",
              "      <td>Indian journal of cancer</td>\n",
              "      <td>eng</td>\n",
              "      <td>Survival Rate;Humans;Neoplasms/epidemiology/mo...</td>\n",
              "      <td>NONE</td>\n",
              "      <td>NONE</td>\n",
              "      <td>India</td>\n",
              "      <td>ppublish</td>\n",
              "      <td>Journal Article;Review</td>\n",
              "      <td>NONE</td>\n",
              "      <td>NONE</td>\n",
              "      <td>CANCER</td>\n",
              "    </tr>\n",
              "    <tr>\n",
              "      <th>2</th>\n",
              "      <td>27741350</td>\n",
              "      <td>Measuring cancer evolution from the genome.</td>\n",
              "      <td>The temporal dynamics of cancer evolution rema...</td>\n",
              "      <td>Evolution and Cancer Laboratory, Barts Cancer ...</td>\n",
              "      <td>Graham, Trevor A;Sottoriva, Andrea</td>\n",
              "      <td>2017 Jan</td>\n",
              "      <td>J Pathol</td>\n",
              "      <td>The Journal of pathology</td>\n",
              "      <td>eng</td>\n",
              "      <td>Neoplasms/*diagnosis/*genetics/pathology;Biolo...</td>\n",
              "      <td>NONE</td>\n",
              "      <td>*gradualism;*neutral evolution;*clonal evoluti...</td>\n",
              "      <td>England</td>\n",
              "      <td>ppublish</td>\n",
              "      <td>Journal Article;Review</td>\n",
              "      <td>NONE</td>\n",
              "      <td>NONE</td>\n",
              "      <td>CANCER</td>\n",
              "    </tr>\n",
              "    <tr>\n",
              "      <th>3</th>\n",
              "      <td>29949179</td>\n",
              "      <td>Tumor microenvironment: recent advances in var...</td>\n",
              "      <td>This is a review regarding different types of ...</td>\n",
              "      <td>Department of General Surgery, Chun'an First P...</td>\n",
              "      <td>Wang, J-J;Han, F;Lei, K-F</td>\n",
              "      <td>2018 Jun</td>\n",
              "      <td>Eur Rev Med Pharmacol Sci</td>\n",
              "      <td>European review for medical and pharmacologica...</td>\n",
              "      <td>eng</td>\n",
              "      <td>Cell Communication;*Tumor Microenvironment;Neo...</td>\n",
              "      <td>NONE</td>\n",
              "      <td>NONE</td>\n",
              "      <td>Italy</td>\n",
              "      <td>ppublish</td>\n",
              "      <td>Research Support, Non-U.S. Gov't;Journal Artic...</td>\n",
              "      <td>0 (Antineoplastic Agents)</td>\n",
              "      <td>NONE</td>\n",
              "      <td>CANCER</td>\n",
              "    </tr>\n",
              "    <tr>\n",
              "      <th>4</th>\n",
              "      <td>26667886</td>\n",
              "      <td>Global Cancer Incidence and Mortality Rates an...</td>\n",
              "      <td>There are limited published data on recent can...</td>\n",
              "      <td>American Cancer Society Surveillance and Healt...</td>\n",
              "      <td>Torre, Lindsey A;Siegel, Rebecca L;Jemal, Ahme...</td>\n",
              "      <td>2016 Jan</td>\n",
              "      <td>Cancer Epidemiol Biomarkers Prev</td>\n",
              "      <td>Cancer epidemiology, biomarkers &amp; prevention :...</td>\n",
              "      <td>eng</td>\n",
              "      <td>Survival Rate;Global Health/*statistics &amp; nume...</td>\n",
              "      <td>NONE</td>\n",
              "      <td>NONE</td>\n",
              "      <td>United States</td>\n",
              "      <td>ppublish</td>\n",
              "      <td>Journal Article;Review</td>\n",
              "      <td>NONE</td>\n",
              "      <td>NONE</td>\n",
              "      <td>CANCER</td>\n",
              "    </tr>\n",
              "  </tbody>\n",
              "</table>\n",
              "</div>\n",
              "      <button class=\"colab-df-convert\" onclick=\"convertToInteractive('df-52c4a0f0-b310-4312-bdaf-d2e1d6d0ea5b')\"\n",
              "              title=\"Convert this dataframe to an interactive table.\"\n",
              "              style=\"display:none;\">\n",
              "        \n",
              "  <svg xmlns=\"http://www.w3.org/2000/svg\" height=\"24px\"viewBox=\"0 0 24 24\"\n",
              "       width=\"24px\">\n",
              "    <path d=\"M0 0h24v24H0V0z\" fill=\"none\"/>\n",
              "    <path d=\"M18.56 5.44l.94 2.06.94-2.06 2.06-.94-2.06-.94-.94-2.06-.94 2.06-2.06.94zm-11 1L8.5 8.5l.94-2.06 2.06-.94-2.06-.94L8.5 2.5l-.94 2.06-2.06.94zm10 10l.94 2.06.94-2.06 2.06-.94-2.06-.94-.94-2.06-.94 2.06-2.06.94z\"/><path d=\"M17.41 7.96l-1.37-1.37c-.4-.4-.92-.59-1.43-.59-.52 0-1.04.2-1.43.59L10.3 9.45l-7.72 7.72c-.78.78-.78 2.05 0 2.83L4 21.41c.39.39.9.59 1.41.59.51 0 1.02-.2 1.41-.59l7.78-7.78 2.81-2.81c.8-.78.8-2.07 0-2.86zM5.41 20L4 18.59l7.72-7.72 1.47 1.35L5.41 20z\"/>\n",
              "  </svg>\n",
              "      </button>\n",
              "      \n",
              "  <style>\n",
              "    .colab-df-container {\n",
              "      display:flex;\n",
              "      flex-wrap:wrap;\n",
              "      gap: 12px;\n",
              "    }\n",
              "\n",
              "    .colab-df-convert {\n",
              "      background-color: #E8F0FE;\n",
              "      border: none;\n",
              "      border-radius: 50%;\n",
              "      cursor: pointer;\n",
              "      display: none;\n",
              "      fill: #1967D2;\n",
              "      height: 32px;\n",
              "      padding: 0 0 0 0;\n",
              "      width: 32px;\n",
              "    }\n",
              "\n",
              "    .colab-df-convert:hover {\n",
              "      background-color: #E2EBFA;\n",
              "      box-shadow: 0px 1px 2px rgba(60, 64, 67, 0.3), 0px 1px 3px 1px rgba(60, 64, 67, 0.15);\n",
              "      fill: #174EA6;\n",
              "    }\n",
              "\n",
              "    [theme=dark] .colab-df-convert {\n",
              "      background-color: #3B4455;\n",
              "      fill: #D2E3FC;\n",
              "    }\n",
              "\n",
              "    [theme=dark] .colab-df-convert:hover {\n",
              "      background-color: #434B5C;\n",
              "      box-shadow: 0px 1px 3px 1px rgba(0, 0, 0, 0.15);\n",
              "      filter: drop-shadow(0px 1px 2px rgba(0, 0, 0, 0.3));\n",
              "      fill: #FFFFFF;\n",
              "    }\n",
              "  </style>\n",
              "\n",
              "      <script>\n",
              "        const buttonEl =\n",
              "          document.querySelector('#df-52c4a0f0-b310-4312-bdaf-d2e1d6d0ea5b button.colab-df-convert');\n",
              "        buttonEl.style.display =\n",
              "          google.colab.kernel.accessAllowed ? 'block' : 'none';\n",
              "\n",
              "        async function convertToInteractive(key) {\n",
              "          const element = document.querySelector('#df-52c4a0f0-b310-4312-bdaf-d2e1d6d0ea5b');\n",
              "          const dataTable =\n",
              "            await google.colab.kernel.invokeFunction('convertToInteractive',\n",
              "                                                     [key], {});\n",
              "          if (!dataTable) return;\n",
              "\n",
              "          const docLinkHtml = 'Like what you see? Visit the ' +\n",
              "            '<a target=\"_blank\" href=https://colab.research.google.com/notebooks/data_table.ipynb>data table notebook</a>'\n",
              "            + ' to learn more about interactive tables.';\n",
              "          element.innerHTML = '';\n",
              "          dataTable['output_type'] = 'display_data';\n",
              "          await google.colab.output.renderOutput(dataTable, element);\n",
              "          const docLink = document.createElement('div');\n",
              "          docLink.innerHTML = docLinkHtml;\n",
              "          element.appendChild(docLink);\n",
              "        }\n",
              "      </script>\n",
              "    </div>\n",
              "  </div>\n",
              "  "
            ],
            "text/plain": [
              "       PMID                                                 TI  ...    SI   Class\n",
              "0  31761807                                    What Is Cancer?  ...  NONE  CANCER\n",
              "1  28244479              Cancer and cure: A critical analysis.  ...  NONE  CANCER\n",
              "2  27741350        Measuring cancer evolution from the genome.  ...  NONE  CANCER\n",
              "3  29949179  Tumor microenvironment: recent advances in var...  ...  NONE  CANCER\n",
              "4  26667886  Global Cancer Incidence and Mortality Rates an...  ...  NONE  CANCER\n",
              "\n",
              "[5 rows x 18 columns]"
            ]
          },
          "metadata": {},
          "execution_count": 44
        }
      ]
    },
    {
      "cell_type": "code",
      "source": [
        "main_dataframe.to_csv(\"10k-combine-pubmed-metadata.csv\", index=False)"
      ],
      "metadata": {
        "id": "-veLRnpB3yio"
      },
      "execution_count": 45,
      "outputs": []
    },
    {
      "cell_type": "markdown",
      "source": [
        "#### Saving copy to Google Drive"
      ],
      "metadata": {
        "id": "qaeBj0uC4C0A"
      }
    },
    {
      "cell_type": "code",
      "source": [
        "! cp -r /content/10k-combine-pubmed-metadata.csv /content/drive/MyDrive/05-Data/enzyme-network/\n",
        "\n",
        "! cp -r /content/10k-ebola-pubmed-metadata.csv /content/drive/MyDrive/05-Data/enzyme-network/\n",
        "\n",
        "! cp -r /content/10k-covid-pubmed-metadata.csv /content/drive/MyDrive/05-Data/enzyme-network/\n",
        "\n",
        "! cp -r /content/10k-cancer-pubmed-metadata.csv /content/drive/MyDrive/05-Data/enzyme-network/"
      ],
      "metadata": {
        "id": "TNuwcHNW4GYF"
      },
      "execution_count": 46,
      "outputs": []
    },
    {
      "cell_type": "code",
      "source": [
        "!ls /content/drive/MyDrive/05-Data/enzyme-network/"
      ],
      "metadata": {
        "colab": {
          "base_uri": "https://localhost:8080/"
        },
        "id": "4bB0N9GW5NOH",
        "outputId": "d1d72e6e-1b5f-40fe-f4ef-943e6805ff6d"
      },
      "execution_count": 47,
      "outputs": [
        {
          "output_type": "stream",
          "name": "stdout",
          "text": [
            "10k-cancer-pubmed-metadata.csv\t 10k-covid-pubmed-metadata.csv\n",
            "10k-combine-pubmed-metadata.csv  10k-ebola-pubmed-metadata.csv\n"
          ]
        }
      ]
    }
  ]
}