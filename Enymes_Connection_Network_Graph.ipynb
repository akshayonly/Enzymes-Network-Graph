{
  "nbformat": 4,
  "nbformat_minor": 0,
  "metadata": {
    "colab": {
      "name": "Enymes-Connection-Network-Graph.ipynb",
      "provenance": [],
      "collapsed_sections": [
        "XnfgBStKu_rx",
        "atOGGgRQvEbi",
        "ad6-h9xIx39H",
        "fHzNvRk7xzeZ",
        "kdtgwspDyi9Q",
        "aPb-Cu8L1hig",
        "RWrvafn51kJn",
        "kFcLaKfk2EAW",
        "nYugaY9D4P2n",
        "qaeBj0uC4C0A"
      ],
      "mount_file_id": "1b2lKWMsv7bMJPMiEhfFrMbROEU-PA9PW",
      "authorship_tag": "ABX9TyMHEmBKcYPpWyZrrg8Q7WvT"
    },
    "kernelspec": {
      "name": "python3",
      "display_name": "Python 3"
    },
    "language_info": {
      "name": "python"
    }
  },
  "cells": [
    {
      "cell_type": "markdown",
      "source": [
        "# Enzymes Network Graph"
      ],
      "metadata": {
        "id": "Ep1XUyVKu3l6"
      }
    },
    {
      "cell_type": "markdown",
      "source": [
        "## Libraries"
      ],
      "metadata": {
        "id": "XnfgBStKu_rx"
      }
    },
    {
      "cell_type": "code",
      "execution_count": 1,
      "metadata": {
        "id": "cbKfT_lycNOr"
      },
      "outputs": [],
      "source": [
        "! pip install -q biopython\n",
        "! pip install -q pyvis"
      ]
    },
    {
      "cell_type": "code",
      "source": [
        "# Fetching PubMed article metadata\n",
        "from Bio import Entrez, Medline\n",
        "\n",
        "# Graph creation and visualisation\n",
        "from pyvis.network import Network\n",
        "\n",
        "import time\n",
        "from tqdm import tqdm\n",
        "\n",
        "import pandas as pd"
      ],
      "metadata": {
        "id": "kuQJKRhXcmMg"
      },
      "execution_count": 2,
      "outputs": []
    },
    {
      "cell_type": "markdown",
      "source": [
        "## Helper Code"
      ],
      "metadata": {
        "id": "atOGGgRQvEbi"
      }
    },
    {
      "cell_type": "code",
      "source": [
        "def fetch_data(pmids):\n",
        "    \"\"\"Returns pubmed record associated with the PMID(s)\"\"\"\n",
        "    \n",
        "    Entrez.email = 'akishirsath@gmail.com'\n",
        "\n",
        "    handle = Entrez.efetch(db=\"pubmed\", \n",
        "                           id=pmids, \n",
        "                           rettype=\"medline\", \n",
        "                           retmode=\"text\")\n",
        "\n",
        "    records = Medline.parse(handle)    \n",
        "    \n",
        "    return list(records)"
      ],
      "metadata": {
        "id": "3CZOcwcYvFxp"
      },
      "execution_count": 3,
      "outputs": []
    },
    {
      "cell_type": "code",
      "source": [
        "def process_pmid_txt(text_file_path):\n",
        "\n",
        "  pmids = list()\n",
        "\n",
        "  f = open(text_file_path, \"r\")\n",
        "\n",
        "  for pmid in f.read().split('\\n'):\n",
        "    pmids.append(pmid.strip())  \n",
        "  \n",
        "  f.close()\n",
        "  \n",
        "  return pmids"
      ],
      "metadata": {
        "id": "sByQUmt_wPMp"
      },
      "execution_count": 4,
      "outputs": []
    },
    {
      "cell_type": "markdown",
      "source": [
        "## Processing PMIDs txt file"
      ],
      "metadata": {
        "id": "ad6-h9xIx39H"
      }
    },
    {
      "cell_type": "code",
      "source": [
        "cancer = process_pmid_txt(\"/content/pmid-cancer-set.txt\")\n",
        "covid = process_pmid_txt(\"/content/pmid-covid19-set.txt\")\n",
        "ebola = process_pmid_txt(\"/content/pmid-Ebola-set.txt\")"
      ],
      "metadata": {
        "id": "JTSW0OE3wh5R"
      },
      "execution_count": 5,
      "outputs": []
    },
    {
      "cell_type": "code",
      "source": [
        "print(len(cancer), cancer[:10])"
      ],
      "metadata": {
        "colab": {
          "base_uri": "https://localhost:8080/"
        },
        "id": "trRhcReNv16Z",
        "outputId": "31f9df15-ce70-4a2c-ca78-b41f25afae4d"
      },
      "execution_count": 6,
      "outputs": [
        {
          "output_type": "stream",
          "name": "stdout",
          "text": [
            "10000 ['31761807', '28244479', '27741350', '29949179', '26667886', '30713326', '28831912', '28574057', '19491253', '27839715']\n"
          ]
        }
      ]
    },
    {
      "cell_type": "code",
      "source": [
        "print(len(covid), covid[:10])"
      ],
      "metadata": {
        "colab": {
          "base_uri": "https://localhost:8080/"
        },
        "id": "c2BlwHjTwnuJ",
        "outputId": "d1e181e3-d171-4ff5-f9c7-fbc4682655cf"
      },
      "execution_count": 7,
      "outputs": [
        {
          "output_type": "stream",
          "name": "stdout",
          "text": [
            "10000 ['33308664', '33522478', '33189872', '33666147', '33139420', '32383182', '33126180', '33322035', '33572857', '33301459']\n"
          ]
        }
      ]
    },
    {
      "cell_type": "code",
      "source": [
        "print(len(ebola), ebola[:10])"
      ],
      "metadata": {
        "colab": {
          "base_uri": "https://localhost:8080/"
        },
        "id": "Ezkgi5TRwxZw",
        "outputId": "2c742a50-50a9-4978-aa9a-dec19bcf06fa"
      },
      "execution_count": 8,
      "outputs": [
        {
          "output_type": "stream",
          "name": "stdout",
          "text": [
            "10000 ['27959626', '32080199', '26923959', '25910510', '32441897', '25694096', '30777297', '31668200', '25694094', '31567063']\n"
          ]
        }
      ]
    },
    {
      "cell_type": "markdown",
      "source": [
        "## Fetching the records"
      ],
      "metadata": {
        "id": "fHzNvRk7xzeZ"
      }
    },
    {
      "cell_type": "code",
      "source": [
        "ebola_data = fetch_data(\",\".join(ebola))\n",
        "time.sleep(1)"
      ],
      "metadata": {
        "id": "GmCG9BGPxy9h"
      },
      "execution_count": 9,
      "outputs": []
    },
    {
      "cell_type": "code",
      "source": [
        "covid_data = fetch_data(\",\".join(covid))\n",
        "time.sleep(1)"
      ],
      "metadata": {
        "id": "-03lzCXHyC4p"
      },
      "execution_count": 10,
      "outputs": []
    },
    {
      "cell_type": "code",
      "source": [
        "cancer_data = fetch_data(\",\".join(cancer))"
      ],
      "metadata": {
        "id": "Zu997PoJyHrp"
      },
      "execution_count": null,
      "outputs": []
    },
    {
      "cell_type": "markdown",
      "source": [
        "## Records to Pandas Dataframe\n"
      ],
      "metadata": {
        "id": "kdtgwspDyi9Q"
      }
    },
    {
      "cell_type": "markdown",
      "source": [
        "### Covid"
      ],
      "metadata": {
        "id": "aPb-Cu8L1hig"
      }
    },
    {
      "cell_type": "code",
      "source": [
        "len(covid_data)"
      ],
      "metadata": {
        "id": "I8tSw2VqymAQ"
      },
      "execution_count": null,
      "outputs": []
    },
    {
      "cell_type": "code",
      "source": [
        "covid_data[0]"
      ],
      "metadata": {
        "id": "vjUufgDU0BeQ"
      },
      "execution_count": null,
      "outputs": []
    },
    {
      "cell_type": "code",
      "source": [
        "required_keys = ['PMID', 'TI', 'AB', 'AD', 'FAU', 'DP', 'TA', 'JT', 'LA', \n",
        "                 'MH', 'OAB', 'OT', 'PL', 'PST', 'PT', 'RN', 'SI']"
      ],
      "metadata": {
        "id": "5t7t7m3h0HU_"
      },
      "execution_count": null,
      "outputs": []
    },
    {
      "cell_type": "code",
      "source": [
        "covid_data_for_df = list()\n",
        "\n",
        "for single_data in tqdm(covid_data):\n",
        "  temp = list()\n",
        "  for key in required_keys:\n",
        "    value = single_data.get(key, \"NONE\")\n",
        "    if isinstance(value, list):\n",
        "      value = \";\".join(set(value))\n",
        "      temp.append(value)\n",
        "    else:\n",
        "      temp.append(value)\n",
        "\n",
        "  covid_data_for_df.append(temp)"
      ],
      "metadata": {
        "id": "Tsooq1nk0w6X"
      },
      "execution_count": null,
      "outputs": []
    },
    {
      "cell_type": "code",
      "source": [
        "covid_data_for_df[0]"
      ],
      "metadata": {
        "id": "zIbwfQyJ1Fh6"
      },
      "execution_count": null,
      "outputs": []
    },
    {
      "cell_type": "code",
      "source": [
        "covid_dataframe = pd.DataFrame(covid_data_for_df, columns=required_keys)"
      ],
      "metadata": {
        "id": "IO2sTqK81F5P"
      },
      "execution_count": null,
      "outputs": []
    },
    {
      "cell_type": "code",
      "source": [
        "covid_dataframe['RN']"
      ],
      "metadata": {
        "id": "4_BE73GK1ReL"
      },
      "execution_count": null,
      "outputs": []
    },
    {
      "cell_type": "code",
      "source": [
        "covid_dataframe['Class'] = ['COVID']*len(covid_dataframe)"
      ],
      "metadata": {
        "id": "loaR2d2I2-9J"
      },
      "execution_count": null,
      "outputs": []
    },
    {
      "cell_type": "code",
      "source": [
        "covid_dataframe.head(3)"
      ],
      "metadata": {
        "id": "Hpsms3Yk3HF3"
      },
      "execution_count": null,
      "outputs": []
    },
    {
      "cell_type": "code",
      "source": [
        "covid_dataframe.to_csv(\"10k-covid-pubmed-metadata.csv\", index=False)"
      ],
      "metadata": {
        "id": "wykiUxPL1RsP"
      },
      "execution_count": null,
      "outputs": []
    },
    {
      "cell_type": "markdown",
      "source": [
        "### Cancer"
      ],
      "metadata": {
        "id": "RWrvafn51kJn"
      }
    },
    {
      "cell_type": "code",
      "source": [
        "len(cancer_data)"
      ],
      "metadata": {
        "id": "C1Ih4X0k1oqP"
      },
      "execution_count": null,
      "outputs": []
    },
    {
      "cell_type": "code",
      "source": [
        "cancer_data[0]"
      ],
      "metadata": {
        "id": "EMYfTgOJ1oqP"
      },
      "execution_count": null,
      "outputs": []
    },
    {
      "cell_type": "code",
      "source": [
        "required_keys = ['PMID', 'TI', 'AB', 'AD', 'FAU', 'DP', 'TA', 'JT', 'LA', \n",
        "                 'MH', 'OAB', 'OT', 'PL', 'PST', 'PT', 'RN', 'SI']"
      ],
      "metadata": {
        "id": "AQKJMdXt1oqR"
      },
      "execution_count": null,
      "outputs": []
    },
    {
      "cell_type": "code",
      "source": [
        "cancer_data_for_df = list()\n",
        "\n",
        "for single_data in tqdm(cancer_data):\n",
        "  temp = list()\n",
        "  for key in required_keys:\n",
        "    value = single_data.get(key, \"NONE\")\n",
        "    if isinstance(value, list):\n",
        "      value = \";\".join(set(value))\n",
        "      temp.append(value)\n",
        "    else:\n",
        "      temp.append(value)\n",
        "\n",
        "  cancer_data_for_df.append(temp)"
      ],
      "metadata": {
        "id": "lbBdfRqG1oqR"
      },
      "execution_count": null,
      "outputs": []
    },
    {
      "cell_type": "code",
      "source": [
        "cancer_data_for_df[0]"
      ],
      "metadata": {
        "id": "EzsoLdVa1oqR"
      },
      "execution_count": null,
      "outputs": []
    },
    {
      "cell_type": "code",
      "source": [
        "cancer_dataframe = pd.DataFrame(cancer_data_for_df, columns=required_keys)"
      ],
      "metadata": {
        "id": "LXZ6TCoX1oqR"
      },
      "execution_count": null,
      "outputs": []
    },
    {
      "cell_type": "code",
      "source": [
        "cancer_dataframe['RN']"
      ],
      "metadata": {
        "id": "5xWB-0gr1oqR"
      },
      "execution_count": null,
      "outputs": []
    },
    {
      "cell_type": "code",
      "source": [
        "cancer_dataframe['Class'] = ['CANCER']*len(cancer_dataframe)"
      ],
      "metadata": {
        "id": "5v9_J2Bf21SI"
      },
      "execution_count": null,
      "outputs": []
    },
    {
      "cell_type": "code",
      "source": [
        "cancer_dataframe.to_csv(\"10k-cancer-pubmed-metadata.csv\", index=False)"
      ],
      "metadata": {
        "id": "O5-v1BYm1oqS"
      },
      "execution_count": null,
      "outputs": []
    },
    {
      "cell_type": "markdown",
      "source": [
        "### Ebola"
      ],
      "metadata": {
        "id": "kFcLaKfk2EAW"
      }
    },
    {
      "cell_type": "code",
      "source": [
        "cancer_dataframe['RN']"
      ],
      "metadata": {
        "id": "JLljPLx8124a"
      },
      "execution_count": null,
      "outputs": []
    },
    {
      "cell_type": "code",
      "source": [
        "len(ebola_data)"
      ],
      "metadata": {
        "id": "dD-6TwxY2FrQ"
      },
      "execution_count": null,
      "outputs": []
    },
    {
      "cell_type": "code",
      "source": [
        "ebola_data[0]"
      ],
      "metadata": {
        "id": "4-oNiEFQ2FrR"
      },
      "execution_count": null,
      "outputs": []
    },
    {
      "cell_type": "code",
      "source": [
        "required_keys = ['PMID', 'TI', 'AB', 'AD', 'FAU', 'DP', 'TA', 'JT', 'LA', \n",
        "                 'MH', 'OAB', 'OT', 'PL', 'PST', 'PT', 'RN', 'SI']"
      ],
      "metadata": {
        "id": "scJBiEPp2FrR"
      },
      "execution_count": null,
      "outputs": []
    },
    {
      "cell_type": "code",
      "source": [
        "ebola_data_for_df = list()\n",
        "\n",
        "for single_data in tqdm(ebola_data):\n",
        "  temp = list()\n",
        "  for key in required_keys:\n",
        "    value = single_data.get(key, \"NONE\")\n",
        "    if isinstance(value, list):\n",
        "      value = \";\".join(set(value))\n",
        "      temp.append(value)\n",
        "    else:\n",
        "      temp.append(value)\n",
        "\n",
        "  ebola_data_for_df.append(temp)"
      ],
      "metadata": {
        "id": "OONx7ot12FrR"
      },
      "execution_count": null,
      "outputs": []
    },
    {
      "cell_type": "code",
      "source": [
        "ebola_data_for_df[0]"
      ],
      "metadata": {
        "id": "r-uGGo7t2FrS"
      },
      "execution_count": null,
      "outputs": []
    },
    {
      "cell_type": "code",
      "source": [
        "ebola_dataframe = pd.DataFrame(ebola_data_for_df, columns=required_keys)"
      ],
      "metadata": {
        "id": "Z4vblnMu2FrS"
      },
      "execution_count": null,
      "outputs": []
    },
    {
      "cell_type": "code",
      "source": [
        "ebola_dataframe['RN']"
      ],
      "metadata": {
        "id": "dJIvms3i2FrS"
      },
      "execution_count": null,
      "outputs": []
    },
    {
      "cell_type": "code",
      "source": [
        "ebola_dataframe['Class'] = ['EBOLA']*len(ebola_dataframe)"
      ],
      "metadata": {
        "id": "mbyTfEOX2nfa"
      },
      "execution_count": null,
      "outputs": []
    },
    {
      "cell_type": "code",
      "source": [
        "ebola_dataframe.head(3)"
      ],
      "metadata": {
        "id": "eEGG7Soz3Nhy"
      },
      "execution_count": null,
      "outputs": []
    },
    {
      "cell_type": "code",
      "source": [
        "ebola_dataframe.to_csv(\"10k-ebola-pubmed-metadata.csv\", index=False)"
      ],
      "metadata": {
        "id": "k4p_AE6u2FrT"
      },
      "execution_count": null,
      "outputs": []
    },
    {
      "cell_type": "markdown",
      "source": [
        "### Combing dataframes"
      ],
      "metadata": {
        "id": "nYugaY9D4P2n"
      }
    },
    {
      "cell_type": "code",
      "source": [
        "frames = [cancer_dataframe, ebola_dataframe, covid_dataframe]\n",
        "\n",
        "#concatenate dataframes\n",
        "main_dataframe = pd.concat(frames)\n",
        "\n",
        "# reset index\n",
        "main_dataframe.reset_index(drop=True, inplace=True)"
      ],
      "metadata": {
        "id": "UCfuBmLL2jiP"
      },
      "execution_count": null,
      "outputs": []
    },
    {
      "cell_type": "code",
      "source": [
        "main_dataframe.info()"
      ],
      "metadata": {
        "id": "9Nc8BscK3l4I"
      },
      "execution_count": null,
      "outputs": []
    },
    {
      "cell_type": "code",
      "source": [
        "main_dataframe.head()"
      ],
      "metadata": {
        "id": "WccA6etJ3mpP"
      },
      "execution_count": null,
      "outputs": []
    },
    {
      "cell_type": "code",
      "source": [
        "main_dataframe.to_csv(\"10k-combine-pubmed-metadata.csv\", index=False)"
      ],
      "metadata": {
        "id": "-veLRnpB3yio"
      },
      "execution_count": null,
      "outputs": []
    },
    {
      "cell_type": "markdown",
      "source": [
        "#### Saving copy to Google Drive"
      ],
      "metadata": {
        "id": "qaeBj0uC4C0A"
      }
    },
    {
      "cell_type": "code",
      "source": [
        "! cp -r /content/10k-combine-pubmed-metadata.csv /content/drive/MyDrive/05-Data/enzyme-network/\n",
        "\n",
        "! cp -r /content/10k-ebola-pubmed-metadata.csv /content/drive/MyDrive/05-Data/enzyme-network/\n",
        "\n",
        "! cp -r /content/10k-covid-pubmed-metadata.csv /content/drive/MyDrive/05-Data/enzyme-network/\n",
        "\n",
        "! cp -r /content/10k-cancer-pubmed-metadata.csv /content/drive/MyDrive/05-Data/enzyme-network/"
      ],
      "metadata": {
        "id": "TNuwcHNW4GYF"
      },
      "execution_count": null,
      "outputs": []
    }
  ]
}