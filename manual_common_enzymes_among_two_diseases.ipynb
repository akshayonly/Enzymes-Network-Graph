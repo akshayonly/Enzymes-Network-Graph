{
  "nbformat": 4,
  "nbformat_minor": 0,
  "metadata": {
    "colab": {
      "name": "manual-common_enzymes_among_two_diseases.ipynb",
      "provenance": [],
      "collapsed_sections": [],
      "mount_file_id": "1P306nTf93huQcNPRbBWbRjYBOabM1QhZ",
      "authorship_tag": "ABX9TyP12iMQdboysklv1HbxcbcO"
    },
    "kernelspec": {
      "name": "python3",
      "display_name": "Python 3"
    },
    "language_info": {
      "name": "python"
    }
  },
  "cells": [
    {
      "cell_type": "markdown",
      "source": [
        "# Common Enzymes Among Two Diseases\n",
        "\n",
        "The main goal of this project is to search and find common enzymes from bibliographic data of any two query terms. These search terms can be two distinct or similar oncogenic diseases, viral or bacterial pathogens, or any biomedical terms for that matter. As long as there is scientific literature for these two query terms, this code can fetch their bibliographic and citation data.\n",
        "\n",
        "Below I have used two diseases with different origins, **Cancer** & **SARS CoV 2** as two query terms examples. We'd first fetch the bibliographic data from the Entrez database of NCBI. Then we'd process the data to extract only enzymes. Using these enzymes as Nodes we'd then construct a network graph. The layout of the graph is shown below.\n",
        "\n",
        "**FAQs**\n",
        "1. Why bibliographic data?\n",
        "- Frankly I don't know how we can fetch this information from another method or database. In the future, if I found out there is a better way of doing this, I'll update the code.\n",
        "\n",
        "2. Why bother to find common enzymes among two diseases?\n",
        "- I get curious about the commonality aspect of two distinct things or even topics. I wanted to create a custom script that can return a list of common enzymes between two scientific terms or phenomena. \n",
        "  \n",
        "3. Does every article's citation & bibliographic data has enzymes list?\n",
        "- Not necessarily. If enzyme(s) are mentioned in the article and its identifier(s) is included in the MeSH record."
      ],
      "metadata": {
        "id": "vPGvXGkAN3NO"
      }
    },
    {
      "cell_type": "code",
      "source": [
        "! pip install -q biopython\n",
        "\n",
        "! pip install -q pyvis"
      ],
      "metadata": {
        "id": "VWhAeSZVN41V",
        "colab": {
          "base_uri": "https://localhost:8080/"
        },
        "outputId": "011ce40d-3ba9-43fa-9d59-19d89e7b7192"
      },
      "execution_count": 1,
      "outputs": [
        {
          "output_type": "stream",
          "name": "stdout",
          "text": [
            "\u001b[K     |████████████████████████████████| 2.3 MB 13.7 MB/s \n",
            "\u001b[?25h  Building wheel for pyvis (setup.py) ... \u001b[?25l\u001b[?25hdone\n"
          ]
        }
      ]
    },
    {
      "cell_type": "code",
      "source": [
        "# Fetching PubMed article metadata\n",
        "from Bio import Entrez, Medline\n",
        "\n",
        "# Graph creation and visualisation\n",
        "from pyvis.network import Network\n",
        "\n",
        "import time\n",
        "import os\n",
        "from functools import reduce\n",
        "import numpy as np\n",
        "import pandas as pd"
      ],
      "metadata": {
        "id": "tq25ZE21OBew"
      },
      "execution_count": 40,
      "outputs": []
    },
    {
      "cell_type": "code",
      "source": [
        "# Mapping the time\n",
        "start_time = time.time()"
      ],
      "metadata": {
        "id": "Y9-Q4W09N1DW"
      },
      "execution_count": 3,
      "outputs": []
    },
    {
      "cell_type": "code",
      "source": [
        "def process_pmid_txt(text_file_path):\n",
        "\n",
        "  pmids = list()\n",
        "\n",
        "  with open(text_file_path, \"r\") as f:\n",
        "    for pmid in f.read().split('\\n'):\n",
        "      pmids.append(pmid.strip())  \n",
        "\n",
        "  return pmids"
      ],
      "metadata": {
        "id": "JZiTWxEkQb1s"
      },
      "execution_count": 4,
      "outputs": []
    },
    {
      "cell_type": "code",
      "source": [
        "def efetch(pmids):\n",
        "    \"\"\"Returns MEDLINE/pubmed record associated with the PMID(s)\"\"\"\n",
        "    \n",
        "    Entrez.email = 'akishirsath@gmail.com'\n",
        "\n",
        "    handle = Entrez.efetch(db=\"pubmed\", \n",
        "                           id=pmids, \n",
        "                           rettype=\"medline\", \n",
        "                           retmode=\"text\")\n",
        "\n",
        "    records = Medline.parse(handle)    \n",
        "    \n",
        "    return list(records)"
      ],
      "metadata": {
        "id": "5F_DNn5LSKfd"
      },
      "execution_count": 5,
      "outputs": []
    },
    {
      "cell_type": "code",
      "source": [
        "first_file = \"/content/drive/MyDrive/05-Data/PubMed-Common-Enzymes/pmid-Cancer-set.txt\"\n",
        "\n",
        "second_file = \"/content/drive/MyDrive/05-Data/PubMed-Common-Enzymes/pmid-sarscov-2-set.txt\"\n",
        "\n",
        "first_pmids = process_pmid_txt(first_file)\n",
        "\n",
        "second_pmids = process_pmid_txt(second_file)\n",
        "\n",
        "first_topic_records = efetch(\",\".join(first_pmids))\n",
        "\n",
        "time.sleep(10)\n",
        "\n",
        "second_topic_records = efetch(\",\".join(second_pmids))"
      ],
      "metadata": {
        "id": "ZCFUm_-1Th3T"
      },
      "execution_count": 6,
      "outputs": []
    },
    {
      "cell_type": "markdown",
      "source": [
        "## Network-Graph Method"
      ],
      "metadata": {
        "id": "dWOWZ_z9deNo"
      }
    },
    {
      "cell_type": "code",
      "source": [
        "colors = {\n",
        "    'backgrd' : '#f1f2f6',    # Background color\n",
        "    'font' : '#2f3542',       # Text font color\n",
        "    'first_prim' : '#6F1E51', # Article nodes color (first)\n",
        "    'second_prim' : '#1B1464',# Article nodes color (second)\n",
        "    'first_sec' : '#ED4C67',  # Enzyme nodes color (first)\n",
        "    'second_sec' : '#0652DD'  # Enzyme nodes color (second)\n",
        "}"
      ],
      "metadata": {
        "id": "dXfrEMsC0w-g"
      },
      "execution_count": 7,
      "outputs": []
    },
    {
      "cell_type": "code",
      "source": [
        "N = Network(height='750px', \n",
        "            width='100%', \n",
        "            bgcolor=colors['backgrd'], \n",
        "            font_color=colors['font'], \n",
        "            notebook=True)"
      ],
      "metadata": {
        "id": "9lf4glpAz8h4"
      },
      "execution_count": 8,
      "outputs": []
    },
    {
      "cell_type": "code",
      "source": [
        "N.set_options(\"\"\"\n",
        "var options = {\n",
        "  \"edges\": {\n",
        "    \"arrows\": {\n",
        "      \"to\": {\n",
        "        \"enabled\": true,\n",
        "        \"scaleFactor\": 0.5\n",
        "      }\n",
        "    },\n",
        "    \"color\": {\n",
        "      \"inherit\": true\n",
        "    },\n",
        "    \"smooth\": {\n",
        "      \"forceDirection\": \"none\"\n",
        "    }\n",
        "  },\n",
        "  \"physics\": {\n",
        "    \"barnesHut\": {\n",
        "      \"gravitationalConstant\": -17350,\n",
        "      \"springLength\": 210,\n",
        "      \"springConstant\": 0.055,\n",
        "      \"avoidOverlap\": 0.53\n",
        "    },\n",
        "    \"minVelocity\": 0.75\n",
        "  }\n",
        "}\n",
        "\"\"\")"
      ],
      "metadata": {
        "id": "yqS9fu7Zz1Vh"
      },
      "execution_count": 9,
      "outputs": []
    },
    {
      "cell_type": "code",
      "source": [
        "cancer_enzymes = dict()\n",
        "\n",
        "for  record in first_topic_records:\n",
        "  substances = record.get('RN')\n",
        "  pmid = record.get('PMID')\n",
        "\n",
        "  if isinstance(substances, list):\n",
        "    for molecule in substances:\n",
        "      if molecule.startswith('EC'):\n",
        "\n",
        "        # Primary PMID node\n",
        "        N.add_node(pmid.strip(), size=30, color=colors['first_prim'])\n",
        "\n",
        "        # Secondary Enzyme node\n",
        "        N.add_node(molecule, size=15, color=colors['first_sec'])\n",
        "        N.add_edge(pmid.strip(), molecule)\n"
      ],
      "metadata": {
        "id": "qmf60thjVbEa"
      },
      "execution_count": 10,
      "outputs": []
    },
    {
      "cell_type": "code",
      "source": [
        "for  record in second_topic_records:\n",
        "  substances = record.get('RN')\n",
        "  pmid = record.get('PMID')\n",
        "  if isinstance(substances, list):\n",
        "    for molecule in substances:\n",
        "      if molecule.startswith('EC'):\n",
        "\n",
        "        # Primary PMID node\n",
        "        N.add_node(pmid.strip(), size=30, color=colors['second_prim'])\n",
        "\n",
        "        # Secondary Enzyme node\n",
        "        N.add_node(molecule, size=15, color=colors['second_sec'])\n",
        "        N.add_edge(pmid.strip(), molecule)"
      ],
      "metadata": {
        "id": "mD4fONqlXgQk"
      },
      "execution_count": 12,
      "outputs": []
    },
    {
      "cell_type": "code",
      "source": [
        "N.show('common_enzymes_net_graph_viz.html')"
      ],
      "metadata": {
        "colab": {
          "base_uri": "https://localhost:8080/",
          "height": 771
        },
        "id": "AsHyFt6t2glR",
        "outputId": "f7e54488-3485-4b55-9689-653d33154263"
      },
      "execution_count": 13,
      "outputs": [
        {
          "output_type": "execute_result",
          "data": {
            "text/plain": [
              "<IPython.lib.display.IFrame at 0x7ff5a2a20090>"
            ],
            "text/html": [
              "\n",
              "        <iframe\n",
              "            width=\"100%\"\n",
              "            height=\"750px\"\n",
              "            src=\"common_enzymes_net_graph_viz.html\"\n",
              "            frameborder=\"0\"\n",
              "            allowfullscreen\n",
              "        ></iframe>\n",
              "        "
            ]
          },
          "metadata": {},
          "execution_count": 13
        }
      ]
    },
    {
      "cell_type": "code",
      "source": [
        "end_time = time.time()"
      ],
      "metadata": {
        "id": "kWpv2TjhN7v9"
      },
      "execution_count": 14,
      "outputs": []
    },
    {
      "cell_type": "code",
      "source": [
        "print(\"--- %s seconds ---\" % (end_time - start_time))"
      ],
      "metadata": {
        "colab": {
          "base_uri": "https://localhost:8080/"
        },
        "id": "ozEpEvyXN9kU",
        "outputId": "b18ecbb4-0ad8-487a-93a8-119a3bb99d97"
      },
      "execution_count": 15,
      "outputs": [
        {
          "output_type": "stream",
          "name": "stdout",
          "text": [
            "--- 179.98954319953918 seconds ---\n"
          ]
        }
      ]
    },
    {
      "cell_type": "markdown",
      "source": [
        "## Tabular"
      ],
      "metadata": {
        "id": "nQ-Qnt1EKgJn"
      }
    },
    {
      "cell_type": "code",
      "source": [
        "def records_to_enzymes(records, name):\n",
        "  '''Extract and process enzymes along with their \n",
        "  respective PMIDs into Pandas Dataframe'''\n",
        "  \n",
        "  enzymes = list()\n",
        "  for  record in records:\n",
        "    substances = record.get('RN')\n",
        "    pmid = record.get('PMID')\n",
        "    if isinstance(substances, list):\n",
        "      for molecule in substances:\n",
        "        if molecule.startswith('EC'):\n",
        "          enzymes.append((pmid, molecule))\n",
        "\n",
        "  enzymes_df = pd.DataFrame(enzymes, columns=['PMID', 'Enzyme'])\n",
        "\n",
        "  enzymes_df['Disease']=[name]*len(enzymes_df) \n",
        "\n",
        "  return enzymes_df"
      ],
      "metadata": {
        "id": "zZUwfS_xIiDO"
      },
      "execution_count": 32,
      "outputs": []
    },
    {
      "cell_type": "code",
      "source": [
        "cancer_enzymes_df = records_to_enzymes(first_topic_records, 'Cancer')"
      ],
      "metadata": {
        "id": "RuDaJLH0JGUm"
      },
      "execution_count": 33,
      "outputs": []
    },
    {
      "cell_type": "code",
      "source": [
        "cancer_enzymes_df"
      ],
      "metadata": {
        "colab": {
          "base_uri": "https://localhost:8080/",
          "height": 655
        },
        "id": "CI-f8126JZy3",
        "outputId": "de22b7c4-16c0-4db3-81a8-1d3e505c9418"
      },
      "execution_count": 34,
      "outputs": [
        {
          "output_type": "execute_result",
          "data": {
            "text/plain": [
              "          PMID                                             Enzyme Disease\n",
              "0     19081671                         EC 2.7.- (Protein Kinases)  Cancer\n",
              "1     31081789                    EC 4.2.1.2 (Fumarate Hydratase)  Cancer\n",
              "2     27582428        EC 2.7.1.- (Phosphatidylinositol 3-Kinases)  Cancer\n",
              "3     11280022                           EC 2.7.7.49 (Telomerase)  Cancer\n",
              "4     23142414                  EC 2.3.2.27 (BRAP protein, human)  Cancer\n",
              "...        ...                                                ...     ...\n",
              "1252  23222297        EC 2.7.11.1 (Proto-Oncogene Proteins B-raf)  Cancer\n",
              "1253  21825998                    EC 2.7.7.6 (RNA Polymerase III)  Cancer\n",
              "1254  11201683  EC 3.4.24.- (Pregnancy-Associated Plasma Prote...  Cancer\n",
              "1255  20976540                 EC 2.7.10.1 (Receptor, IGF Type 1)  Cancer\n",
              "1256  20976540              EC 3.6.5.2 (rap GTP-Binding Proteins)  Cancer\n",
              "\n",
              "[1257 rows x 3 columns]"
            ],
            "text/html": [
              "\n",
              "  <div id=\"df-f54bdf70-489b-4337-8e5b-3df13f44871c\">\n",
              "    <div class=\"colab-df-container\">\n",
              "      <div>\n",
              "<style scoped>\n",
              "    .dataframe tbody tr th:only-of-type {\n",
              "        vertical-align: middle;\n",
              "    }\n",
              "\n",
              "    .dataframe tbody tr th {\n",
              "        vertical-align: top;\n",
              "    }\n",
              "\n",
              "    .dataframe thead th {\n",
              "        text-align: right;\n",
              "    }\n",
              "</style>\n",
              "<table border=\"1\" class=\"dataframe\">\n",
              "  <thead>\n",
              "    <tr style=\"text-align: right;\">\n",
              "      <th></th>\n",
              "      <th>PMID</th>\n",
              "      <th>Enzyme</th>\n",
              "      <th>Disease</th>\n",
              "    </tr>\n",
              "  </thead>\n",
              "  <tbody>\n",
              "    <tr>\n",
              "      <th>0</th>\n",
              "      <td>19081671</td>\n",
              "      <td>EC 2.7.- (Protein Kinases)</td>\n",
              "      <td>Cancer</td>\n",
              "    </tr>\n",
              "    <tr>\n",
              "      <th>1</th>\n",
              "      <td>31081789</td>\n",
              "      <td>EC 4.2.1.2 (Fumarate Hydratase)</td>\n",
              "      <td>Cancer</td>\n",
              "    </tr>\n",
              "    <tr>\n",
              "      <th>2</th>\n",
              "      <td>27582428</td>\n",
              "      <td>EC 2.7.1.- (Phosphatidylinositol 3-Kinases)</td>\n",
              "      <td>Cancer</td>\n",
              "    </tr>\n",
              "    <tr>\n",
              "      <th>3</th>\n",
              "      <td>11280022</td>\n",
              "      <td>EC 2.7.7.49 (Telomerase)</td>\n",
              "      <td>Cancer</td>\n",
              "    </tr>\n",
              "    <tr>\n",
              "      <th>4</th>\n",
              "      <td>23142414</td>\n",
              "      <td>EC 2.3.2.27 (BRAP protein, human)</td>\n",
              "      <td>Cancer</td>\n",
              "    </tr>\n",
              "    <tr>\n",
              "      <th>...</th>\n",
              "      <td>...</td>\n",
              "      <td>...</td>\n",
              "      <td>...</td>\n",
              "    </tr>\n",
              "    <tr>\n",
              "      <th>1252</th>\n",
              "      <td>23222297</td>\n",
              "      <td>EC 2.7.11.1 (Proto-Oncogene Proteins B-raf)</td>\n",
              "      <td>Cancer</td>\n",
              "    </tr>\n",
              "    <tr>\n",
              "      <th>1253</th>\n",
              "      <td>21825998</td>\n",
              "      <td>EC 2.7.7.6 (RNA Polymerase III)</td>\n",
              "      <td>Cancer</td>\n",
              "    </tr>\n",
              "    <tr>\n",
              "      <th>1254</th>\n",
              "      <td>11201683</td>\n",
              "      <td>EC 3.4.24.- (Pregnancy-Associated Plasma Prote...</td>\n",
              "      <td>Cancer</td>\n",
              "    </tr>\n",
              "    <tr>\n",
              "      <th>1255</th>\n",
              "      <td>20976540</td>\n",
              "      <td>EC 2.7.10.1 (Receptor, IGF Type 1)</td>\n",
              "      <td>Cancer</td>\n",
              "    </tr>\n",
              "    <tr>\n",
              "      <th>1256</th>\n",
              "      <td>20976540</td>\n",
              "      <td>EC 3.6.5.2 (rap GTP-Binding Proteins)</td>\n",
              "      <td>Cancer</td>\n",
              "    </tr>\n",
              "  </tbody>\n",
              "</table>\n",
              "<p>1257 rows × 3 columns</p>\n",
              "</div>\n",
              "      <button class=\"colab-df-convert\" onclick=\"convertToInteractive('df-f54bdf70-489b-4337-8e5b-3df13f44871c')\"\n",
              "              title=\"Convert this dataframe to an interactive table.\"\n",
              "              style=\"display:none;\">\n",
              "        \n",
              "  <svg xmlns=\"http://www.w3.org/2000/svg\" height=\"24px\"viewBox=\"0 0 24 24\"\n",
              "       width=\"24px\">\n",
              "    <path d=\"M0 0h24v24H0V0z\" fill=\"none\"/>\n",
              "    <path d=\"M18.56 5.44l.94 2.06.94-2.06 2.06-.94-2.06-.94-.94-2.06-.94 2.06-2.06.94zm-11 1L8.5 8.5l.94-2.06 2.06-.94-2.06-.94L8.5 2.5l-.94 2.06-2.06.94zm10 10l.94 2.06.94-2.06 2.06-.94-2.06-.94-.94-2.06-.94 2.06-2.06.94z\"/><path d=\"M17.41 7.96l-1.37-1.37c-.4-.4-.92-.59-1.43-.59-.52 0-1.04.2-1.43.59L10.3 9.45l-7.72 7.72c-.78.78-.78 2.05 0 2.83L4 21.41c.39.39.9.59 1.41.59.51 0 1.02-.2 1.41-.59l7.78-7.78 2.81-2.81c.8-.78.8-2.07 0-2.86zM5.41 20L4 18.59l7.72-7.72 1.47 1.35L5.41 20z\"/>\n",
              "  </svg>\n",
              "      </button>\n",
              "      \n",
              "  <style>\n",
              "    .colab-df-container {\n",
              "      display:flex;\n",
              "      flex-wrap:wrap;\n",
              "      gap: 12px;\n",
              "    }\n",
              "\n",
              "    .colab-df-convert {\n",
              "      background-color: #E8F0FE;\n",
              "      border: none;\n",
              "      border-radius: 50%;\n",
              "      cursor: pointer;\n",
              "      display: none;\n",
              "      fill: #1967D2;\n",
              "      height: 32px;\n",
              "      padding: 0 0 0 0;\n",
              "      width: 32px;\n",
              "    }\n",
              "\n",
              "    .colab-df-convert:hover {\n",
              "      background-color: #E2EBFA;\n",
              "      box-shadow: 0px 1px 2px rgba(60, 64, 67, 0.3), 0px 1px 3px 1px rgba(60, 64, 67, 0.15);\n",
              "      fill: #174EA6;\n",
              "    }\n",
              "\n",
              "    [theme=dark] .colab-df-convert {\n",
              "      background-color: #3B4455;\n",
              "      fill: #D2E3FC;\n",
              "    }\n",
              "\n",
              "    [theme=dark] .colab-df-convert:hover {\n",
              "      background-color: #434B5C;\n",
              "      box-shadow: 0px 1px 3px 1px rgba(0, 0, 0, 0.15);\n",
              "      filter: drop-shadow(0px 1px 2px rgba(0, 0, 0, 0.3));\n",
              "      fill: #FFFFFF;\n",
              "    }\n",
              "  </style>\n",
              "\n",
              "      <script>\n",
              "        const buttonEl =\n",
              "          document.querySelector('#df-f54bdf70-489b-4337-8e5b-3df13f44871c button.colab-df-convert');\n",
              "        buttonEl.style.display =\n",
              "          google.colab.kernel.accessAllowed ? 'block' : 'none';\n",
              "\n",
              "        async function convertToInteractive(key) {\n",
              "          const element = document.querySelector('#df-f54bdf70-489b-4337-8e5b-3df13f44871c');\n",
              "          const dataTable =\n",
              "            await google.colab.kernel.invokeFunction('convertToInteractive',\n",
              "                                                     [key], {});\n",
              "          if (!dataTable) return;\n",
              "\n",
              "          const docLinkHtml = 'Like what you see? Visit the ' +\n",
              "            '<a target=\"_blank\" href=https://colab.research.google.com/notebooks/data_table.ipynb>data table notebook</a>'\n",
              "            + ' to learn more about interactive tables.';\n",
              "          element.innerHTML = '';\n",
              "          dataTable['output_type'] = 'display_data';\n",
              "          await google.colab.output.renderOutput(dataTable, element);\n",
              "          const docLink = document.createElement('div');\n",
              "          docLink.innerHTML = docLinkHtml;\n",
              "          element.appendChild(docLink);\n",
              "        }\n",
              "      </script>\n",
              "    </div>\n",
              "  </div>\n",
              "  "
            ]
          },
          "metadata": {},
          "execution_count": 34
        }
      ]
    },
    {
      "cell_type": "code",
      "source": [
        "covid_enzymes_df = records_to_enzymes(second_topic_records, 'SARS CoV2')"
      ],
      "metadata": {
        "id": "F21Z7B-xKz9q"
      },
      "execution_count": 35,
      "outputs": []
    },
    {
      "cell_type": "code",
      "source": [
        "covid_enzymes_df"
      ],
      "metadata": {
        "colab": {
          "base_uri": "https://localhost:8080/",
          "height": 423
        },
        "outputId": "afc488e1-98f1-4e14-b997-f02147579640",
        "id": "fNnv5w1JKz-A"
      },
      "execution_count": 36,
      "outputs": [
        {
          "output_type": "execute_result",
          "data": {
            "text/plain": [
              "          PMID                                          Enzyme    Disease\n",
              "0     33293238              EC 3.4.17.23 (ACE2 protein, human)  SARS CoV2\n",
              "1     33293238  EC 3.4.17.23 (Angiotensin-Converting Enzyme 2)  SARS CoV2\n",
              "2     34611326            EC 3.4.15.1 (Peptidyl-Dipeptidase A)  SARS CoV2\n",
              "3     33103998              EC 3.4.17.23 (ACE2 protein, human)  SARS CoV2\n",
              "4     33103998  EC 3.4.17.23 (Angiotensin-Converting Enzyme 2)  SARS CoV2\n",
              "...        ...                                             ...        ...\n",
              "2198  34092976            EC 3.4.15.1 (Peptidyl-Dipeptidase A)  SARS CoV2\n",
              "2199  35181721                    EC 3.1.26.5 (Ribonuclease P)  SARS CoV2\n",
              "2200  32522617            EC 3.4.15.1 (Peptidyl-Dipeptidase A)  SARS CoV2\n",
              "2201  32522617  EC 3.4.17.23 (Angiotensin-Converting Enzyme 2)  SARS CoV2\n",
              "2202  35092924  EC 3.4.17.23 (Angiotensin-Converting Enzyme 2)  SARS CoV2\n",
              "\n",
              "[2203 rows x 3 columns]"
            ],
            "text/html": [
              "\n",
              "  <div id=\"df-b9ed61cf-093e-4866-8347-4d58fd2ae93a\">\n",
              "    <div class=\"colab-df-container\">\n",
              "      <div>\n",
              "<style scoped>\n",
              "    .dataframe tbody tr th:only-of-type {\n",
              "        vertical-align: middle;\n",
              "    }\n",
              "\n",
              "    .dataframe tbody tr th {\n",
              "        vertical-align: top;\n",
              "    }\n",
              "\n",
              "    .dataframe thead th {\n",
              "        text-align: right;\n",
              "    }\n",
              "</style>\n",
              "<table border=\"1\" class=\"dataframe\">\n",
              "  <thead>\n",
              "    <tr style=\"text-align: right;\">\n",
              "      <th></th>\n",
              "      <th>PMID</th>\n",
              "      <th>Enzyme</th>\n",
              "      <th>Disease</th>\n",
              "    </tr>\n",
              "  </thead>\n",
              "  <tbody>\n",
              "    <tr>\n",
              "      <th>0</th>\n",
              "      <td>33293238</td>\n",
              "      <td>EC 3.4.17.23 (ACE2 protein, human)</td>\n",
              "      <td>SARS CoV2</td>\n",
              "    </tr>\n",
              "    <tr>\n",
              "      <th>1</th>\n",
              "      <td>33293238</td>\n",
              "      <td>EC 3.4.17.23 (Angiotensin-Converting Enzyme 2)</td>\n",
              "      <td>SARS CoV2</td>\n",
              "    </tr>\n",
              "    <tr>\n",
              "      <th>2</th>\n",
              "      <td>34611326</td>\n",
              "      <td>EC 3.4.15.1 (Peptidyl-Dipeptidase A)</td>\n",
              "      <td>SARS CoV2</td>\n",
              "    </tr>\n",
              "    <tr>\n",
              "      <th>3</th>\n",
              "      <td>33103998</td>\n",
              "      <td>EC 3.4.17.23 (ACE2 protein, human)</td>\n",
              "      <td>SARS CoV2</td>\n",
              "    </tr>\n",
              "    <tr>\n",
              "      <th>4</th>\n",
              "      <td>33103998</td>\n",
              "      <td>EC 3.4.17.23 (Angiotensin-Converting Enzyme 2)</td>\n",
              "      <td>SARS CoV2</td>\n",
              "    </tr>\n",
              "    <tr>\n",
              "      <th>...</th>\n",
              "      <td>...</td>\n",
              "      <td>...</td>\n",
              "      <td>...</td>\n",
              "    </tr>\n",
              "    <tr>\n",
              "      <th>2198</th>\n",
              "      <td>34092976</td>\n",
              "      <td>EC 3.4.15.1 (Peptidyl-Dipeptidase A)</td>\n",
              "      <td>SARS CoV2</td>\n",
              "    </tr>\n",
              "    <tr>\n",
              "      <th>2199</th>\n",
              "      <td>35181721</td>\n",
              "      <td>EC 3.1.26.5 (Ribonuclease P)</td>\n",
              "      <td>SARS CoV2</td>\n",
              "    </tr>\n",
              "    <tr>\n",
              "      <th>2200</th>\n",
              "      <td>32522617</td>\n",
              "      <td>EC 3.4.15.1 (Peptidyl-Dipeptidase A)</td>\n",
              "      <td>SARS CoV2</td>\n",
              "    </tr>\n",
              "    <tr>\n",
              "      <th>2201</th>\n",
              "      <td>32522617</td>\n",
              "      <td>EC 3.4.17.23 (Angiotensin-Converting Enzyme 2)</td>\n",
              "      <td>SARS CoV2</td>\n",
              "    </tr>\n",
              "    <tr>\n",
              "      <th>2202</th>\n",
              "      <td>35092924</td>\n",
              "      <td>EC 3.4.17.23 (Angiotensin-Converting Enzyme 2)</td>\n",
              "      <td>SARS CoV2</td>\n",
              "    </tr>\n",
              "  </tbody>\n",
              "</table>\n",
              "<p>2203 rows × 3 columns</p>\n",
              "</div>\n",
              "      <button class=\"colab-df-convert\" onclick=\"convertToInteractive('df-b9ed61cf-093e-4866-8347-4d58fd2ae93a')\"\n",
              "              title=\"Convert this dataframe to an interactive table.\"\n",
              "              style=\"display:none;\">\n",
              "        \n",
              "  <svg xmlns=\"http://www.w3.org/2000/svg\" height=\"24px\"viewBox=\"0 0 24 24\"\n",
              "       width=\"24px\">\n",
              "    <path d=\"M0 0h24v24H0V0z\" fill=\"none\"/>\n",
              "    <path d=\"M18.56 5.44l.94 2.06.94-2.06 2.06-.94-2.06-.94-.94-2.06-.94 2.06-2.06.94zm-11 1L8.5 8.5l.94-2.06 2.06-.94-2.06-.94L8.5 2.5l-.94 2.06-2.06.94zm10 10l.94 2.06.94-2.06 2.06-.94-2.06-.94-.94-2.06-.94 2.06-2.06.94z\"/><path d=\"M17.41 7.96l-1.37-1.37c-.4-.4-.92-.59-1.43-.59-.52 0-1.04.2-1.43.59L10.3 9.45l-7.72 7.72c-.78.78-.78 2.05 0 2.83L4 21.41c.39.39.9.59 1.41.59.51 0 1.02-.2 1.41-.59l7.78-7.78 2.81-2.81c.8-.78.8-2.07 0-2.86zM5.41 20L4 18.59l7.72-7.72 1.47 1.35L5.41 20z\"/>\n",
              "  </svg>\n",
              "      </button>\n",
              "      \n",
              "  <style>\n",
              "    .colab-df-container {\n",
              "      display:flex;\n",
              "      flex-wrap:wrap;\n",
              "      gap: 12px;\n",
              "    }\n",
              "\n",
              "    .colab-df-convert {\n",
              "      background-color: #E8F0FE;\n",
              "      border: none;\n",
              "      border-radius: 50%;\n",
              "      cursor: pointer;\n",
              "      display: none;\n",
              "      fill: #1967D2;\n",
              "      height: 32px;\n",
              "      padding: 0 0 0 0;\n",
              "      width: 32px;\n",
              "    }\n",
              "\n",
              "    .colab-df-convert:hover {\n",
              "      background-color: #E2EBFA;\n",
              "      box-shadow: 0px 1px 2px rgba(60, 64, 67, 0.3), 0px 1px 3px 1px rgba(60, 64, 67, 0.15);\n",
              "      fill: #174EA6;\n",
              "    }\n",
              "\n",
              "    [theme=dark] .colab-df-convert {\n",
              "      background-color: #3B4455;\n",
              "      fill: #D2E3FC;\n",
              "    }\n",
              "\n",
              "    [theme=dark] .colab-df-convert:hover {\n",
              "      background-color: #434B5C;\n",
              "      box-shadow: 0px 1px 3px 1px rgba(0, 0, 0, 0.15);\n",
              "      filter: drop-shadow(0px 1px 2px rgba(0, 0, 0, 0.3));\n",
              "      fill: #FFFFFF;\n",
              "    }\n",
              "  </style>\n",
              "\n",
              "      <script>\n",
              "        const buttonEl =\n",
              "          document.querySelector('#df-b9ed61cf-093e-4866-8347-4d58fd2ae93a button.colab-df-convert');\n",
              "        buttonEl.style.display =\n",
              "          google.colab.kernel.accessAllowed ? 'block' : 'none';\n",
              "\n",
              "        async function convertToInteractive(key) {\n",
              "          const element = document.querySelector('#df-b9ed61cf-093e-4866-8347-4d58fd2ae93a');\n",
              "          const dataTable =\n",
              "            await google.colab.kernel.invokeFunction('convertToInteractive',\n",
              "                                                     [key], {});\n",
              "          if (!dataTable) return;\n",
              "\n",
              "          const docLinkHtml = 'Like what you see? Visit the ' +\n",
              "            '<a target=\"_blank\" href=https://colab.research.google.com/notebooks/data_table.ipynb>data table notebook</a>'\n",
              "            + ' to learn more about interactive tables.';\n",
              "          element.innerHTML = '';\n",
              "          dataTable['output_type'] = 'display_data';\n",
              "          await google.colab.output.renderOutput(dataTable, element);\n",
              "          const docLink = document.createElement('div');\n",
              "          docLink.innerHTML = docLinkHtml;\n",
              "          element.appendChild(docLink);\n",
              "        }\n",
              "      </script>\n",
              "    </div>\n",
              "  </div>\n",
              "  "
            ]
          },
          "metadata": {},
          "execution_count": 36
        }
      ]
    },
    {
      "cell_type": "code",
      "source": [
        "# https://stackoverflow.com/questions/46556169/finding-common-elements-between-multiple-dataframe-columns\n",
        "common_enymes = reduce(np.intersect1d, [cancer_enzymes_df.Enzyme, covid_enzymes_df.Enzyme])\n",
        "len(common_enymes)"
      ],
      "metadata": {
        "colab": {
          "base_uri": "https://localhost:8080/"
        },
        "id": "Y-ZIU8eiMByP",
        "outputId": "b288deb3-f22f-4515-dbbe-b23b6577dc1c"
      },
      "execution_count": 42,
      "outputs": [
        {
          "output_type": "execute_result",
          "data": {
            "text/plain": [
              "69"
            ]
          },
          "metadata": {},
          "execution_count": 42
        }
      ]
    },
    {
      "cell_type": "code",
      "source": [
        "combine_df = pd.concat([cancer_enzymes_df, covid_enzymes_df])"
      ],
      "metadata": {
        "id": "cx_jTgR5Num_"
      },
      "execution_count": 44,
      "outputs": []
    },
    {
      "cell_type": "code",
      "source": [
        "common_df = combine_df[combine_df['Enzyme'].isin(common_enymes)]"
      ],
      "metadata": {
        "id": "EioOH4ZJNhMw"
      },
      "execution_count": 46,
      "outputs": []
    },
    {
      "cell_type": "code",
      "source": [
        "common_df"
      ],
      "metadata": {
        "colab": {
          "base_uri": "https://localhost:8080/",
          "height": 423
        },
        "id": "S2lcgrN6OEiX",
        "outputId": "889015fd-c912-41a9-8c7d-e88a91917cd9"
      },
      "execution_count": 47,
      "outputs": [
        {
          "output_type": "execute_result",
          "data": {
            "text/plain": [
              "          PMID                                   Enzyme    Disease\n",
              "0     19081671               EC 2.7.- (Protein Kinases)     Cancer\n",
              "5     23142414  EC 2.3.2.27 (Ubiquitin-Protein Ligases)     Cancer\n",
              "6     17882664  EC 2.3.2.27 (Ubiquitin-Protein Ligases)     Cancer\n",
              "7     19860736   EC 3.6.1.- (Adenosine Triphosphatases)     Cancer\n",
              "19     6258623     EC 3.4.15.1 (Peptidyl-Dipeptidase A)     Cancer\n",
              "...        ...                                      ...        ...\n",
              "2186  34201422                EC 3.4.21.- (Kallikreins)  SARS CoV2\n",
              "2189  34202565              EC 3.1.- (Exoribonucleases)  SARS CoV2\n",
              "2193  34405154               EC 1.13.12.- (Luciferases)  SARS CoV2\n",
              "2198  34092976     EC 3.4.15.1 (Peptidyl-Dipeptidase A)  SARS CoV2\n",
              "2200  32522617     EC 3.4.15.1 (Peptidyl-Dipeptidase A)  SARS CoV2\n",
              "\n",
              "[638 rows x 3 columns]"
            ],
            "text/html": [
              "\n",
              "  <div id=\"df-01eeb55e-dd5a-4885-b369-ac666309d33e\">\n",
              "    <div class=\"colab-df-container\">\n",
              "      <div>\n",
              "<style scoped>\n",
              "    .dataframe tbody tr th:only-of-type {\n",
              "        vertical-align: middle;\n",
              "    }\n",
              "\n",
              "    .dataframe tbody tr th {\n",
              "        vertical-align: top;\n",
              "    }\n",
              "\n",
              "    .dataframe thead th {\n",
              "        text-align: right;\n",
              "    }\n",
              "</style>\n",
              "<table border=\"1\" class=\"dataframe\">\n",
              "  <thead>\n",
              "    <tr style=\"text-align: right;\">\n",
              "      <th></th>\n",
              "      <th>PMID</th>\n",
              "      <th>Enzyme</th>\n",
              "      <th>Disease</th>\n",
              "    </tr>\n",
              "  </thead>\n",
              "  <tbody>\n",
              "    <tr>\n",
              "      <th>0</th>\n",
              "      <td>19081671</td>\n",
              "      <td>EC 2.7.- (Protein Kinases)</td>\n",
              "      <td>Cancer</td>\n",
              "    </tr>\n",
              "    <tr>\n",
              "      <th>5</th>\n",
              "      <td>23142414</td>\n",
              "      <td>EC 2.3.2.27 (Ubiquitin-Protein Ligases)</td>\n",
              "      <td>Cancer</td>\n",
              "    </tr>\n",
              "    <tr>\n",
              "      <th>6</th>\n",
              "      <td>17882664</td>\n",
              "      <td>EC 2.3.2.27 (Ubiquitin-Protein Ligases)</td>\n",
              "      <td>Cancer</td>\n",
              "    </tr>\n",
              "    <tr>\n",
              "      <th>7</th>\n",
              "      <td>19860736</td>\n",
              "      <td>EC 3.6.1.- (Adenosine Triphosphatases)</td>\n",
              "      <td>Cancer</td>\n",
              "    </tr>\n",
              "    <tr>\n",
              "      <th>19</th>\n",
              "      <td>6258623</td>\n",
              "      <td>EC 3.4.15.1 (Peptidyl-Dipeptidase A)</td>\n",
              "      <td>Cancer</td>\n",
              "    </tr>\n",
              "    <tr>\n",
              "      <th>...</th>\n",
              "      <td>...</td>\n",
              "      <td>...</td>\n",
              "      <td>...</td>\n",
              "    </tr>\n",
              "    <tr>\n",
              "      <th>2186</th>\n",
              "      <td>34201422</td>\n",
              "      <td>EC 3.4.21.- (Kallikreins)</td>\n",
              "      <td>SARS CoV2</td>\n",
              "    </tr>\n",
              "    <tr>\n",
              "      <th>2189</th>\n",
              "      <td>34202565</td>\n",
              "      <td>EC 3.1.- (Exoribonucleases)</td>\n",
              "      <td>SARS CoV2</td>\n",
              "    </tr>\n",
              "    <tr>\n",
              "      <th>2193</th>\n",
              "      <td>34405154</td>\n",
              "      <td>EC 1.13.12.- (Luciferases)</td>\n",
              "      <td>SARS CoV2</td>\n",
              "    </tr>\n",
              "    <tr>\n",
              "      <th>2198</th>\n",
              "      <td>34092976</td>\n",
              "      <td>EC 3.4.15.1 (Peptidyl-Dipeptidase A)</td>\n",
              "      <td>SARS CoV2</td>\n",
              "    </tr>\n",
              "    <tr>\n",
              "      <th>2200</th>\n",
              "      <td>32522617</td>\n",
              "      <td>EC 3.4.15.1 (Peptidyl-Dipeptidase A)</td>\n",
              "      <td>SARS CoV2</td>\n",
              "    </tr>\n",
              "  </tbody>\n",
              "</table>\n",
              "<p>638 rows × 3 columns</p>\n",
              "</div>\n",
              "      <button class=\"colab-df-convert\" onclick=\"convertToInteractive('df-01eeb55e-dd5a-4885-b369-ac666309d33e')\"\n",
              "              title=\"Convert this dataframe to an interactive table.\"\n",
              "              style=\"display:none;\">\n",
              "        \n",
              "  <svg xmlns=\"http://www.w3.org/2000/svg\" height=\"24px\"viewBox=\"0 0 24 24\"\n",
              "       width=\"24px\">\n",
              "    <path d=\"M0 0h24v24H0V0z\" fill=\"none\"/>\n",
              "    <path d=\"M18.56 5.44l.94 2.06.94-2.06 2.06-.94-2.06-.94-.94-2.06-.94 2.06-2.06.94zm-11 1L8.5 8.5l.94-2.06 2.06-.94-2.06-.94L8.5 2.5l-.94 2.06-2.06.94zm10 10l.94 2.06.94-2.06 2.06-.94-2.06-.94-.94-2.06-.94 2.06-2.06.94z\"/><path d=\"M17.41 7.96l-1.37-1.37c-.4-.4-.92-.59-1.43-.59-.52 0-1.04.2-1.43.59L10.3 9.45l-7.72 7.72c-.78.78-.78 2.05 0 2.83L4 21.41c.39.39.9.59 1.41.59.51 0 1.02-.2 1.41-.59l7.78-7.78 2.81-2.81c.8-.78.8-2.07 0-2.86zM5.41 20L4 18.59l7.72-7.72 1.47 1.35L5.41 20z\"/>\n",
              "  </svg>\n",
              "      </button>\n",
              "      \n",
              "  <style>\n",
              "    .colab-df-container {\n",
              "      display:flex;\n",
              "      flex-wrap:wrap;\n",
              "      gap: 12px;\n",
              "    }\n",
              "\n",
              "    .colab-df-convert {\n",
              "      background-color: #E8F0FE;\n",
              "      border: none;\n",
              "      border-radius: 50%;\n",
              "      cursor: pointer;\n",
              "      display: none;\n",
              "      fill: #1967D2;\n",
              "      height: 32px;\n",
              "      padding: 0 0 0 0;\n",
              "      width: 32px;\n",
              "    }\n",
              "\n",
              "    .colab-df-convert:hover {\n",
              "      background-color: #E2EBFA;\n",
              "      box-shadow: 0px 1px 2px rgba(60, 64, 67, 0.3), 0px 1px 3px 1px rgba(60, 64, 67, 0.15);\n",
              "      fill: #174EA6;\n",
              "    }\n",
              "\n",
              "    [theme=dark] .colab-df-convert {\n",
              "      background-color: #3B4455;\n",
              "      fill: #D2E3FC;\n",
              "    }\n",
              "\n",
              "    [theme=dark] .colab-df-convert:hover {\n",
              "      background-color: #434B5C;\n",
              "      box-shadow: 0px 1px 3px 1px rgba(0, 0, 0, 0.15);\n",
              "      filter: drop-shadow(0px 1px 2px rgba(0, 0, 0, 0.3));\n",
              "      fill: #FFFFFF;\n",
              "    }\n",
              "  </style>\n",
              "\n",
              "      <script>\n",
              "        const buttonEl =\n",
              "          document.querySelector('#df-01eeb55e-dd5a-4885-b369-ac666309d33e button.colab-df-convert');\n",
              "        buttonEl.style.display =\n",
              "          google.colab.kernel.accessAllowed ? 'block' : 'none';\n",
              "\n",
              "        async function convertToInteractive(key) {\n",
              "          const element = document.querySelector('#df-01eeb55e-dd5a-4885-b369-ac666309d33e');\n",
              "          const dataTable =\n",
              "            await google.colab.kernel.invokeFunction('convertToInteractive',\n",
              "                                                     [key], {});\n",
              "          if (!dataTable) return;\n",
              "\n",
              "          const docLinkHtml = 'Like what you see? Visit the ' +\n",
              "            '<a target=\"_blank\" href=https://colab.research.google.com/notebooks/data_table.ipynb>data table notebook</a>'\n",
              "            + ' to learn more about interactive tables.';\n",
              "          element.innerHTML = '';\n",
              "          dataTable['output_type'] = 'display_data';\n",
              "          await google.colab.output.renderOutput(dataTable, element);\n",
              "          const docLink = document.createElement('div');\n",
              "          docLink.innerHTML = docLinkHtml;\n",
              "          element.appendChild(docLink);\n",
              "        }\n",
              "      </script>\n",
              "    </div>\n",
              "  </div>\n",
              "  "
            ]
          },
          "metadata": {},
          "execution_count": 47
        }
      ]
    }
  ]
}