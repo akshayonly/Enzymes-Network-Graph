{
  "nbformat": 4,
  "nbformat_minor": 0,
  "metadata": {
    "colab": {
      "name": "P1-Enymes-Connection-Network-Graph-Data-Collection.ipynb",
      "provenance": [],
      "collapsed_sections": [
        "atOGGgRQvEbi",
        "ad6-h9xIx39H",
        "fHzNvRk7xzeZ",
        "aPb-Cu8L1hig",
        "RWrvafn51kJn",
        "kFcLaKfk2EAW"
      ],
      "mount_file_id": "1b2lKWMsv7bMJPMiEhfFrMbROEU-PA9PW",
      "authorship_tag": "ABX9TyNv2Y1N+tXJ5W1nbLVBdDob"
    },
    "kernelspec": {
      "name": "python3",
      "display_name": "Python 3"
    },
    "language_info": {
      "name": "python"
    }
  },
  "cells": [
    {
      "cell_type": "markdown",
      "source": [
        "# Enzymes Network Graph"
      ],
      "metadata": {
        "id": "Ep1XUyVKu3l6"
      }
    },
    {
      "cell_type": "markdown",
      "source": [
        "## Libraries"
      ],
      "metadata": {
        "id": "XnfgBStKu_rx"
      }
    },
    {
      "cell_type": "code",
      "execution_count": 1,
      "metadata": {
        "id": "cbKfT_lycNOr",
        "colab": {
          "base_uri": "https://localhost:8080/"
        },
        "outputId": "482765af-36bb-4159-81db-aec2112d61d4"
      },
      "outputs": [
        {
          "output_type": "stream",
          "name": "stdout",
          "text": [
            "\u001b[?25l\r\u001b[K     |▏                               | 10 kB 17.5 MB/s eta 0:00:01\r\u001b[K     |▎                               | 20 kB 24.1 MB/s eta 0:00:01\r\u001b[K     |▍                               | 30 kB 24.1 MB/s eta 0:00:01\r\u001b[K     |▋                               | 40 kB 10.1 MB/s eta 0:00:01\r\u001b[K     |▊                               | 51 kB 9.5 MB/s eta 0:00:01\r\u001b[K     |▉                               | 61 kB 11.1 MB/s eta 0:00:01\r\u001b[K     |█                               | 71 kB 9.9 MB/s eta 0:00:01\r\u001b[K     |█▏                              | 81 kB 10.3 MB/s eta 0:00:01\r\u001b[K     |█▎                              | 92 kB 11.4 MB/s eta 0:00:01\r\u001b[K     |█▍                              | 102 kB 9.9 MB/s eta 0:00:01\r\u001b[K     |█▋                              | 112 kB 9.9 MB/s eta 0:00:01\r\u001b[K     |█▊                              | 122 kB 9.9 MB/s eta 0:00:01\r\u001b[K     |█▉                              | 133 kB 9.9 MB/s eta 0:00:01\r\u001b[K     |██                              | 143 kB 9.9 MB/s eta 0:00:01\r\u001b[K     |██▏                             | 153 kB 9.9 MB/s eta 0:00:01\r\u001b[K     |██▎                             | 163 kB 9.9 MB/s eta 0:00:01\r\u001b[K     |██▍                             | 174 kB 9.9 MB/s eta 0:00:01\r\u001b[K     |██▋                             | 184 kB 9.9 MB/s eta 0:00:01\r\u001b[K     |██▊                             | 194 kB 9.9 MB/s eta 0:00:01\r\u001b[K     |██▉                             | 204 kB 9.9 MB/s eta 0:00:01\r\u001b[K     |███                             | 215 kB 9.9 MB/s eta 0:00:01\r\u001b[K     |███▏                            | 225 kB 9.9 MB/s eta 0:00:01\r\u001b[K     |███▎                            | 235 kB 9.9 MB/s eta 0:00:01\r\u001b[K     |███▌                            | 245 kB 9.9 MB/s eta 0:00:01\r\u001b[K     |███▋                            | 256 kB 9.9 MB/s eta 0:00:01\r\u001b[K     |███▊                            | 266 kB 9.9 MB/s eta 0:00:01\r\u001b[K     |███▉                            | 276 kB 9.9 MB/s eta 0:00:01\r\u001b[K     |████                            | 286 kB 9.9 MB/s eta 0:00:01\r\u001b[K     |████▏                           | 296 kB 9.9 MB/s eta 0:00:01\r\u001b[K     |████▎                           | 307 kB 9.9 MB/s eta 0:00:01\r\u001b[K     |████▌                           | 317 kB 9.9 MB/s eta 0:00:01\r\u001b[K     |████▋                           | 327 kB 9.9 MB/s eta 0:00:01\r\u001b[K     |████▊                           | 337 kB 9.9 MB/s eta 0:00:01\r\u001b[K     |████▉                           | 348 kB 9.9 MB/s eta 0:00:01\r\u001b[K     |█████                           | 358 kB 9.9 MB/s eta 0:00:01\r\u001b[K     |█████▏                          | 368 kB 9.9 MB/s eta 0:00:01\r\u001b[K     |█████▎                          | 378 kB 9.9 MB/s eta 0:00:01\r\u001b[K     |█████▌                          | 389 kB 9.9 MB/s eta 0:00:01\r\u001b[K     |█████▋                          | 399 kB 9.9 MB/s eta 0:00:01\r\u001b[K     |█████▊                          | 409 kB 9.9 MB/s eta 0:00:01\r\u001b[K     |██████                          | 419 kB 9.9 MB/s eta 0:00:01\r\u001b[K     |██████                          | 430 kB 9.9 MB/s eta 0:00:01\r\u001b[K     |██████▏                         | 440 kB 9.9 MB/s eta 0:00:01\r\u001b[K     |██████▎                         | 450 kB 9.9 MB/s eta 0:00:01\r\u001b[K     |██████▌                         | 460 kB 9.9 MB/s eta 0:00:01\r\u001b[K     |██████▋                         | 471 kB 9.9 MB/s eta 0:00:01\r\u001b[K     |██████▊                         | 481 kB 9.9 MB/s eta 0:00:01\r\u001b[K     |███████                         | 491 kB 9.9 MB/s eta 0:00:01\r\u001b[K     |███████                         | 501 kB 9.9 MB/s eta 0:00:01\r\u001b[K     |███████▏                        | 512 kB 9.9 MB/s eta 0:00:01\r\u001b[K     |███████▎                        | 522 kB 9.9 MB/s eta 0:00:01\r\u001b[K     |███████▌                        | 532 kB 9.9 MB/s eta 0:00:01\r\u001b[K     |███████▋                        | 542 kB 9.9 MB/s eta 0:00:01\r\u001b[K     |███████▊                        | 552 kB 9.9 MB/s eta 0:00:01\r\u001b[K     |████████                        | 563 kB 9.9 MB/s eta 0:00:01\r\u001b[K     |████████                        | 573 kB 9.9 MB/s eta 0:00:01\r\u001b[K     |████████▏                       | 583 kB 9.9 MB/s eta 0:00:01\r\u001b[K     |████████▍                       | 593 kB 9.9 MB/s eta 0:00:01\r\u001b[K     |████████▌                       | 604 kB 9.9 MB/s eta 0:00:01\r\u001b[K     |████████▋                       | 614 kB 9.9 MB/s eta 0:00:01\r\u001b[K     |████████▊                       | 624 kB 9.9 MB/s eta 0:00:01\r\u001b[K     |█████████                       | 634 kB 9.9 MB/s eta 0:00:01\r\u001b[K     |█████████                       | 645 kB 9.9 MB/s eta 0:00:01\r\u001b[K     |█████████▏                      | 655 kB 9.9 MB/s eta 0:00:01\r\u001b[K     |█████████▍                      | 665 kB 9.9 MB/s eta 0:00:01\r\u001b[K     |█████████▌                      | 675 kB 9.9 MB/s eta 0:00:01\r\u001b[K     |█████████▋                      | 686 kB 9.9 MB/s eta 0:00:01\r\u001b[K     |█████████▊                      | 696 kB 9.9 MB/s eta 0:00:01\r\u001b[K     |██████████                      | 706 kB 9.9 MB/s eta 0:00:01\r\u001b[K     |██████████                      | 716 kB 9.9 MB/s eta 0:00:01\r\u001b[K     |██████████▏                     | 727 kB 9.9 MB/s eta 0:00:01\r\u001b[K     |██████████▍                     | 737 kB 9.9 MB/s eta 0:00:01\r\u001b[K     |██████████▌                     | 747 kB 9.9 MB/s eta 0:00:01\r\u001b[K     |██████████▋                     | 757 kB 9.9 MB/s eta 0:00:01\r\u001b[K     |██████████▉                     | 768 kB 9.9 MB/s eta 0:00:01\r\u001b[K     |███████████                     | 778 kB 9.9 MB/s eta 0:00:01\r\u001b[K     |███████████                     | 788 kB 9.9 MB/s eta 0:00:01\r\u001b[K     |███████████▏                    | 798 kB 9.9 MB/s eta 0:00:01\r\u001b[K     |███████████▍                    | 808 kB 9.9 MB/s eta 0:00:01\r\u001b[K     |███████████▌                    | 819 kB 9.9 MB/s eta 0:00:01\r\u001b[K     |███████████▋                    | 829 kB 9.9 MB/s eta 0:00:01\r\u001b[K     |███████████▉                    | 839 kB 9.9 MB/s eta 0:00:01\r\u001b[K     |████████████                    | 849 kB 9.9 MB/s eta 0:00:01\r\u001b[K     |████████████                    | 860 kB 9.9 MB/s eta 0:00:01\r\u001b[K     |████████████▏                   | 870 kB 9.9 MB/s eta 0:00:01\r\u001b[K     |████████████▍                   | 880 kB 9.9 MB/s eta 0:00:01\r\u001b[K     |████████████▌                   | 890 kB 9.9 MB/s eta 0:00:01\r\u001b[K     |████████████▋                   | 901 kB 9.9 MB/s eta 0:00:01\r\u001b[K     |████████████▉                   | 911 kB 9.9 MB/s eta 0:00:01\r\u001b[K     |█████████████                   | 921 kB 9.9 MB/s eta 0:00:01\r\u001b[K     |█████████████                   | 931 kB 9.9 MB/s eta 0:00:01\r\u001b[K     |█████████████▎                  | 942 kB 9.9 MB/s eta 0:00:01\r\u001b[K     |█████████████▍                  | 952 kB 9.9 MB/s eta 0:00:01\r\u001b[K     |█████████████▌                  | 962 kB 9.9 MB/s eta 0:00:01\r\u001b[K     |█████████████▋                  | 972 kB 9.9 MB/s eta 0:00:01\r\u001b[K     |█████████████▉                  | 983 kB 9.9 MB/s eta 0:00:01\r\u001b[K     |██████████████                  | 993 kB 9.9 MB/s eta 0:00:01\r\u001b[K     |██████████████                  | 1.0 MB 9.9 MB/s eta 0:00:01\r\u001b[K     |██████████████▎                 | 1.0 MB 9.9 MB/s eta 0:00:01\r\u001b[K     |██████████████▍                 | 1.0 MB 9.9 MB/s eta 0:00:01\r\u001b[K     |██████████████▌                 | 1.0 MB 9.9 MB/s eta 0:00:01\r\u001b[K     |██████████████▋                 | 1.0 MB 9.9 MB/s eta 0:00:01\r\u001b[K     |██████████████▉                 | 1.1 MB 9.9 MB/s eta 0:00:01\r\u001b[K     |███████████████                 | 1.1 MB 9.9 MB/s eta 0:00:01\r\u001b[K     |███████████████                 | 1.1 MB 9.9 MB/s eta 0:00:01\r\u001b[K     |███████████████▎                | 1.1 MB 9.9 MB/s eta 0:00:01\r\u001b[K     |███████████████▍                | 1.1 MB 9.9 MB/s eta 0:00:01\r\u001b[K     |███████████████▌                | 1.1 MB 9.9 MB/s eta 0:00:01\r\u001b[K     |███████████████▊                | 1.1 MB 9.9 MB/s eta 0:00:01\r\u001b[K     |███████████████▉                | 1.1 MB 9.9 MB/s eta 0:00:01\r\u001b[K     |████████████████                | 1.1 MB 9.9 MB/s eta 0:00:01\r\u001b[K     |████████████████                | 1.1 MB 9.9 MB/s eta 0:00:01\r\u001b[K     |████████████████▎               | 1.2 MB 9.9 MB/s eta 0:00:01\r\u001b[K     |████████████████▍               | 1.2 MB 9.9 MB/s eta 0:00:01\r\u001b[K     |████████████████▌               | 1.2 MB 9.9 MB/s eta 0:00:01\r\u001b[K     |████████████████▊               | 1.2 MB 9.9 MB/s eta 0:00:01\r\u001b[K     |████████████████▉               | 1.2 MB 9.9 MB/s eta 0:00:01\r\u001b[K     |█████████████████               | 1.2 MB 9.9 MB/s eta 0:00:01\r\u001b[K     |█████████████████               | 1.2 MB 9.9 MB/s eta 0:00:01\r\u001b[K     |█████████████████▎              | 1.2 MB 9.9 MB/s eta 0:00:01\r\u001b[K     |█████████████████▍              | 1.2 MB 9.9 MB/s eta 0:00:01\r\u001b[K     |█████████████████▌              | 1.2 MB 9.9 MB/s eta 0:00:01\r\u001b[K     |█████████████████▊              | 1.3 MB 9.9 MB/s eta 0:00:01\r\u001b[K     |█████████████████▉              | 1.3 MB 9.9 MB/s eta 0:00:01\r\u001b[K     |██████████████████              | 1.3 MB 9.9 MB/s eta 0:00:01\r\u001b[K     |██████████████████▏             | 1.3 MB 9.9 MB/s eta 0:00:01\r\u001b[K     |██████████████████▎             | 1.3 MB 9.9 MB/s eta 0:00:01\r\u001b[K     |██████████████████▍             | 1.3 MB 9.9 MB/s eta 0:00:01\r\u001b[K     |██████████████████▌             | 1.3 MB 9.9 MB/s eta 0:00:01\r\u001b[K     |██████████████████▊             | 1.3 MB 9.9 MB/s eta 0:00:01\r\u001b[K     |██████████████████▉             | 1.3 MB 9.9 MB/s eta 0:00:01\r\u001b[K     |███████████████████             | 1.4 MB 9.9 MB/s eta 0:00:01\r\u001b[K     |███████████████████▏            | 1.4 MB 9.9 MB/s eta 0:00:01\r\u001b[K     |███████████████████▎            | 1.4 MB 9.9 MB/s eta 0:00:01\r\u001b[K     |███████████████████▍            | 1.4 MB 9.9 MB/s eta 0:00:01\r\u001b[K     |███████████████████▌            | 1.4 MB 9.9 MB/s eta 0:00:01\r\u001b[K     |███████████████████▊            | 1.4 MB 9.9 MB/s eta 0:00:01\r\u001b[K     |███████████████████▉            | 1.4 MB 9.9 MB/s eta 0:00:01\r\u001b[K     |████████████████████            | 1.4 MB 9.9 MB/s eta 0:00:01\r\u001b[K     |████████████████████▏           | 1.4 MB 9.9 MB/s eta 0:00:01\r\u001b[K     |████████████████████▎           | 1.4 MB 9.9 MB/s eta 0:00:01\r\u001b[K     |████████████████████▍           | 1.5 MB 9.9 MB/s eta 0:00:01\r\u001b[K     |████████████████████▋           | 1.5 MB 9.9 MB/s eta 0:00:01\r\u001b[K     |████████████████████▊           | 1.5 MB 9.9 MB/s eta 0:00:01\r\u001b[K     |████████████████████▉           | 1.5 MB 9.9 MB/s eta 0:00:01\r\u001b[K     |█████████████████████           | 1.5 MB 9.9 MB/s eta 0:00:01\r\u001b[K     |█████████████████████▏          | 1.5 MB 9.9 MB/s eta 0:00:01\r\u001b[K     |█████████████████████▎          | 1.5 MB 9.9 MB/s eta 0:00:01\r\u001b[K     |█████████████████████▍          | 1.5 MB 9.9 MB/s eta 0:00:01\r\u001b[K     |█████████████████████▋          | 1.5 MB 9.9 MB/s eta 0:00:01\r\u001b[K     |█████████████████████▊          | 1.5 MB 9.9 MB/s eta 0:00:01\r\u001b[K     |█████████████████████▉          | 1.6 MB 9.9 MB/s eta 0:00:01\r\u001b[K     |██████████████████████          | 1.6 MB 9.9 MB/s eta 0:00:01\r\u001b[K     |██████████████████████▏         | 1.6 MB 9.9 MB/s eta 0:00:01\r\u001b[K     |██████████████████████▎         | 1.6 MB 9.9 MB/s eta 0:00:01\r\u001b[K     |██████████████████████▍         | 1.6 MB 9.9 MB/s eta 0:00:01\r\u001b[K     |██████████████████████▋         | 1.6 MB 9.9 MB/s eta 0:00:01\r\u001b[K     |██████████████████████▊         | 1.6 MB 9.9 MB/s eta 0:00:01\r\u001b[K     |██████████████████████▉         | 1.6 MB 9.9 MB/s eta 0:00:01\r\u001b[K     |███████████████████████         | 1.6 MB 9.9 MB/s eta 0:00:01\r\u001b[K     |███████████████████████▏        | 1.6 MB 9.9 MB/s eta 0:00:01\r\u001b[K     |███████████████████████▎        | 1.7 MB 9.9 MB/s eta 0:00:01\r\u001b[K     |███████████████████████▍        | 1.7 MB 9.9 MB/s eta 0:00:01\r\u001b[K     |███████████████████████▋        | 1.7 MB 9.9 MB/s eta 0:00:01\r\u001b[K     |███████████████████████▊        | 1.7 MB 9.9 MB/s eta 0:00:01\r\u001b[K     |███████████████████████▉        | 1.7 MB 9.9 MB/s eta 0:00:01\r\u001b[K     |████████████████████████        | 1.7 MB 9.9 MB/s eta 0:00:01\r\u001b[K     |████████████████████████▏       | 1.7 MB 9.9 MB/s eta 0:00:01\r\u001b[K     |████████████████████████▎       | 1.7 MB 9.9 MB/s eta 0:00:01\r\u001b[K     |████████████████████████▍       | 1.7 MB 9.9 MB/s eta 0:00:01\r\u001b[K     |████████████████████████▋       | 1.8 MB 9.9 MB/s eta 0:00:01\r\u001b[K     |████████████████████████▊       | 1.8 MB 9.9 MB/s eta 0:00:01\r\u001b[K     |████████████████████████▉       | 1.8 MB 9.9 MB/s eta 0:00:01\r\u001b[K     |█████████████████████████       | 1.8 MB 9.9 MB/s eta 0:00:01\r\u001b[K     |█████████████████████████▏      | 1.8 MB 9.9 MB/s eta 0:00:01\r\u001b[K     |█████████████████████████▎      | 1.8 MB 9.9 MB/s eta 0:00:01\r\u001b[K     |█████████████████████████▌      | 1.8 MB 9.9 MB/s eta 0:00:01\r\u001b[K     |█████████████████████████▋      | 1.8 MB 9.9 MB/s eta 0:00:01\r\u001b[K     |█████████████████████████▊      | 1.8 MB 9.9 MB/s eta 0:00:01\r\u001b[K     |█████████████████████████▉      | 1.8 MB 9.9 MB/s eta 0:00:01\r\u001b[K     |██████████████████████████      | 1.9 MB 9.9 MB/s eta 0:00:01\r\u001b[K     |██████████████████████████▏     | 1.9 MB 9.9 MB/s eta 0:00:01\r\u001b[K     |██████████████████████████▎     | 1.9 MB 9.9 MB/s eta 0:00:01\r\u001b[K     |██████████████████████████▌     | 1.9 MB 9.9 MB/s eta 0:00:01\r\u001b[K     |██████████████████████████▋     | 1.9 MB 9.9 MB/s eta 0:00:01\r\u001b[K     |██████████████████████████▊     | 1.9 MB 9.9 MB/s eta 0:00:01\r\u001b[K     |██████████████████████████▉     | 1.9 MB 9.9 MB/s eta 0:00:01\r\u001b[K     |███████████████████████████     | 1.9 MB 9.9 MB/s eta 0:00:01\r\u001b[K     |███████████████████████████▏    | 1.9 MB 9.9 MB/s eta 0:00:01\r\u001b[K     |███████████████████████████▎    | 1.9 MB 9.9 MB/s eta 0:00:01\r\u001b[K     |███████████████████████████▌    | 2.0 MB 9.9 MB/s eta 0:00:01\r\u001b[K     |███████████████████████████▋    | 2.0 MB 9.9 MB/s eta 0:00:01\r\u001b[K     |███████████████████████████▊    | 2.0 MB 9.9 MB/s eta 0:00:01\r\u001b[K     |████████████████████████████    | 2.0 MB 9.9 MB/s eta 0:00:01\r\u001b[K     |████████████████████████████    | 2.0 MB 9.9 MB/s eta 0:00:01\r\u001b[K     |████████████████████████████▏   | 2.0 MB 9.9 MB/s eta 0:00:01\r\u001b[K     |████████████████████████████▎   | 2.0 MB 9.9 MB/s eta 0:00:01\r\u001b[K     |████████████████████████████▌   | 2.0 MB 9.9 MB/s eta 0:00:01\r\u001b[K     |████████████████████████████▋   | 2.0 MB 9.9 MB/s eta 0:00:01\r\u001b[K     |████████████████████████████▊   | 2.0 MB 9.9 MB/s eta 0:00:01\r\u001b[K     |█████████████████████████████   | 2.1 MB 9.9 MB/s eta 0:00:01\r\u001b[K     |█████████████████████████████   | 2.1 MB 9.9 MB/s eta 0:00:01\r\u001b[K     |█████████████████████████████▏  | 2.1 MB 9.9 MB/s eta 0:00:01\r\u001b[K     |█████████████████████████████▎  | 2.1 MB 9.9 MB/s eta 0:00:01\r\u001b[K     |█████████████████████████████▌  | 2.1 MB 9.9 MB/s eta 0:00:01\r\u001b[K     |█████████████████████████████▋  | 2.1 MB 9.9 MB/s eta 0:00:01\r\u001b[K     |█████████████████████████████▊  | 2.1 MB 9.9 MB/s eta 0:00:01\r\u001b[K     |██████████████████████████████  | 2.1 MB 9.9 MB/s eta 0:00:01\r\u001b[K     |██████████████████████████████  | 2.1 MB 9.9 MB/s eta 0:00:01\r\u001b[K     |██████████████████████████████▏ | 2.2 MB 9.9 MB/s eta 0:00:01\r\u001b[K     |██████████████████████████████▍ | 2.2 MB 9.9 MB/s eta 0:00:01\r\u001b[K     |██████████████████████████████▌ | 2.2 MB 9.9 MB/s eta 0:00:01\r\u001b[K     |██████████████████████████████▋ | 2.2 MB 9.9 MB/s eta 0:00:01\r\u001b[K     |██████████████████████████████▊ | 2.2 MB 9.9 MB/s eta 0:00:01\r\u001b[K     |███████████████████████████████ | 2.2 MB 9.9 MB/s eta 0:00:01\r\u001b[K     |███████████████████████████████ | 2.2 MB 9.9 MB/s eta 0:00:01\r\u001b[K     |███████████████████████████████▏| 2.2 MB 9.9 MB/s eta 0:00:01\r\u001b[K     |███████████████████████████████▍| 2.2 MB 9.9 MB/s eta 0:00:01\r\u001b[K     |███████████████████████████████▌| 2.2 MB 9.9 MB/s eta 0:00:01\r\u001b[K     |███████████████████████████████▋| 2.3 MB 9.9 MB/s eta 0:00:01\r\u001b[K     |███████████████████████████████▊| 2.3 MB 9.9 MB/s eta 0:00:01\r\u001b[K     |████████████████████████████████| 2.3 MB 9.9 MB/s eta 0:00:01\r\u001b[K     |████████████████████████████████| 2.3 MB 9.9 MB/s \n",
            "\u001b[?25h"
          ]
        }
      ],
      "source": [
        "! pip install -q biopython\n",
        "! pip install -q pyvis"
      ]
    },
    {
      "cell_type": "code",
      "source": [
        "# Fetching PubMed article metadata\n",
        "from Bio import Entrez, Medline\n",
        "\n",
        "# Graph creation and visualisation\n",
        "from pyvis.network import Network\n",
        "\n",
        "import time\n",
        "from tqdm import tqdm\n",
        "\n",
        "import pandas as pd"
      ],
      "metadata": {
        "id": "kuQJKRhXcmMg"
      },
      "execution_count": 2,
      "outputs": []
    },
    {
      "cell_type": "code",
      "source": [
        "starttime = time.time()"
      ],
      "metadata": {
        "id": "b9q8Kbns6G9G"
      },
      "execution_count": 3,
      "outputs": []
    },
    {
      "cell_type": "markdown",
      "source": [
        "## Helper Code"
      ],
      "metadata": {
        "id": "atOGGgRQvEbi"
      }
    },
    {
      "cell_type": "code",
      "source": [
        "def fetch_data(pmids):\n",
        "    \"\"\"Returns pubmed record associated with the PMID(s)\"\"\"\n",
        "    \n",
        "    Entrez.email = 'akishirsath@gmail.com'\n",
        "\n",
        "    handle = Entrez.efetch(db=\"pubmed\", \n",
        "                           id=pmids, \n",
        "                           rettype=\"medline\", \n",
        "                           retmode=\"text\")\n",
        "\n",
        "    records = Medline.parse(handle)    \n",
        "    \n",
        "    return list(records)"
      ],
      "metadata": {
        "id": "3CZOcwcYvFxp"
      },
      "execution_count": 4,
      "outputs": []
    },
    {
      "cell_type": "code",
      "source": [
        "def process_pmid_txt(text_file_path):\n",
        "\n",
        "  pmids = list()\n",
        "\n",
        "  f = open(text_file_path, \"r\")\n",
        "\n",
        "  for pmid in f.read().split('\\n'):\n",
        "    pmids.append(pmid.strip())  \n",
        "  \n",
        "  f.close()\n",
        "  \n",
        "  return pmids"
      ],
      "metadata": {
        "id": "sByQUmt_wPMp"
      },
      "execution_count": 5,
      "outputs": []
    },
    {
      "cell_type": "markdown",
      "source": [
        "## Processing PMIDs txt file"
      ],
      "metadata": {
        "id": "ad6-h9xIx39H"
      }
    },
    {
      "cell_type": "code",
      "source": [
        "cancer = process_pmid_txt(\"/content/pmid-cancer-set.txt\")\n",
        "covid = process_pmid_txt(\"/content/pmid-covid19-set.txt\")\n",
        "ebola = process_pmid_txt(\"/content/pmid-Ebola-set.txt\")"
      ],
      "metadata": {
        "id": "JTSW0OE3wh5R"
      },
      "execution_count": 6,
      "outputs": []
    },
    {
      "cell_type": "code",
      "source": [
        "print(len(cancer), cancer[:10])"
      ],
      "metadata": {
        "id": "trRhcReNv16Z",
        "colab": {
          "base_uri": "https://localhost:8080/"
        },
        "outputId": "13122084-acee-4147-99f2-fdbb1caf0f6d"
      },
      "execution_count": 7,
      "outputs": [
        {
          "output_type": "stream",
          "name": "stdout",
          "text": [
            "10000 ['31761807', '28244479', '27741350', '29949179', '26667886', '30713326', '28831912', '28574057', '19491253', '27839715']\n"
          ]
        }
      ]
    },
    {
      "cell_type": "code",
      "source": [
        "print(len(covid), covid[:10])"
      ],
      "metadata": {
        "id": "c2BlwHjTwnuJ",
        "colab": {
          "base_uri": "https://localhost:8080/"
        },
        "outputId": "b1df0479-97cb-4fbe-f260-3de1c19423ab"
      },
      "execution_count": 8,
      "outputs": [
        {
          "output_type": "stream",
          "name": "stdout",
          "text": [
            "10000 ['33308664', '33522478', '33189872', '33666147', '33139420', '32383182', '33126180', '33322035', '33572857', '33301459']\n"
          ]
        }
      ]
    },
    {
      "cell_type": "code",
      "source": [
        "print(len(ebola), ebola[:10])"
      ],
      "metadata": {
        "id": "Ezkgi5TRwxZw",
        "colab": {
          "base_uri": "https://localhost:8080/"
        },
        "outputId": "2a449e40-1224-4137-c8bd-d2ac17aca6b2"
      },
      "execution_count": 9,
      "outputs": [
        {
          "output_type": "stream",
          "name": "stdout",
          "text": [
            "10000 ['27959626', '32080199', '26923959', '25910510', '32441897', '25694096', '30777297', '31668200', '25694094', '31567063']\n"
          ]
        }
      ]
    },
    {
      "cell_type": "markdown",
      "source": [
        "## Fetching the records"
      ],
      "metadata": {
        "id": "fHzNvRk7xzeZ"
      }
    },
    {
      "cell_type": "code",
      "source": [
        "ebola_data = fetch_data(\",\".join(ebola))\n",
        "time.sleep(1)"
      ],
      "metadata": {
        "id": "GmCG9BGPxy9h"
      },
      "execution_count": 10,
      "outputs": []
    },
    {
      "cell_type": "code",
      "source": [
        "covid_data = fetch_data(\",\".join(covid))\n",
        "time.sleep(1)"
      ],
      "metadata": {
        "id": "-03lzCXHyC4p"
      },
      "execution_count": 11,
      "outputs": []
    },
    {
      "cell_type": "code",
      "source": [
        "cancer_data = fetch_data(\",\".join(cancer))"
      ],
      "metadata": {
        "id": "Zu997PoJyHrp"
      },
      "execution_count": 12,
      "outputs": []
    },
    {
      "cell_type": "markdown",
      "source": [
        "## Records to Pandas Dataframe\n"
      ],
      "metadata": {
        "id": "kdtgwspDyi9Q"
      }
    },
    {
      "cell_type": "markdown",
      "source": [
        "### Covid"
      ],
      "metadata": {
        "id": "aPb-Cu8L1hig"
      }
    },
    {
      "cell_type": "code",
      "source": [
        "len(covid_data)"
      ],
      "metadata": {
        "id": "I8tSw2VqymAQ",
        "colab": {
          "base_uri": "https://localhost:8080/"
        },
        "outputId": "68bfceb0-5523-4662-d470-4e3d97ed0539"
      },
      "execution_count": 13,
      "outputs": [
        {
          "output_type": "execute_result",
          "data": {
            "text/plain": [
              "10000"
            ]
          },
          "metadata": {},
          "execution_count": 13
        }
      ]
    },
    {
      "cell_type": "code",
      "source": [
        "covid_data[0]"
      ],
      "metadata": {
        "id": "vjUufgDU0BeQ",
        "colab": {
          "base_uri": "https://localhost:8080/"
        },
        "outputId": "d492dd1c-529f-42cf-e0fd-e3628fb0070d"
      },
      "execution_count": 14,
      "outputs": [
        {
          "output_type": "execute_result",
          "data": {
            "text/plain": [
              "{'AB': 'Accurate and rapid diagnostic tests are critical for achieving control of coronavirus disease 2019 (covid-19), a pandemic illness caused by severe acute respiratory syndrome coronavirus 2 (SARS-CoV-2). Diagnostic tests for covid-19 fall into two main categories: molecular tests that detect viral RNA, and serological tests that detect anti-SARS-CoV-2 immunoglobulins. Reverse transcriptase polymerase chain reaction (RT-PCR), a molecular test, has become the gold standard for diagnosis of covid-19; however, this test has many limitations that include potential false negative results, changes in diagnostic accuracy over the disease course, and precarious availability of test materials. Serological tests have generated substantial interest as an alternative or complement to RT-PCR and other Nucleic acid tests in the diagnosis of acute infection, as some might be cheaper and easier to implement at the point of care. A clear advantage of these tests over RT-PCR is that they can identify individuals previously infected by SARS-CoV-2, even if they never underwent testing while acutely ill. Many serological tests for covid-19 have become available in a short period, including some marketed for use as rapid, point-of-care tests. The pace of development has, however, exceeded that of rigorous evaluation, and important uncertainty about test accuracy remains.',\n",
              " 'AD': ['New Delhi Tuberculosis Centre, JLN Marg, New Delhi, India.',\n",
              "  'New Delhi Tuberculosis Centre, JLN Marg, New Delhi, India. Electronic address: irldlndc@rntcp.org.',\n",
              "  'New Delhi Tuberculosis Centre, JLN Marg, New Delhi, India.',\n",
              "  'New Delhi Tuberculosis Centre, JLN Marg, New Delhi, India.'],\n",
              " 'AID': ['S0019-5707(20)30128-1 [pii]', '10.1016/j.ijtb.2020.07.034 [doi]'],\n",
              " 'AU': ['Sidiq Z', 'Hanif M', 'Dwivedi KK', 'Chopra KK'],\n",
              " 'CI': ['Copyright (c) 2020 Tuberculosis Association of India. Published by Elsevier B.V.',\n",
              "  'All rights reserved.'],\n",
              " 'COIS': ['Conflicts of interest The authors have none to declare.'],\n",
              " 'CRDT': ['2020/12/14 10:01'],\n",
              " 'DCOM': '20201224',\n",
              " 'DEP': '20200806',\n",
              " 'DP': '2020 Dec',\n",
              " 'EDAT': '2020/12/15 06:00',\n",
              " 'FAU': ['Sidiq, Zeeshan',\n",
              "  'Hanif, M',\n",
              "  'Dwivedi, Kaushal Kumar',\n",
              "  'Chopra, K K'],\n",
              " 'IP': '4S',\n",
              " 'IS': '0019-5707 (Print) 0019-5707 (Linking)',\n",
              " 'JID': '0373027',\n",
              " 'JT': 'The Indian journal of tuberculosis',\n",
              " 'LA': ['eng'],\n",
              " 'LID': 'S0019-5707(20)30128-1 [pii] 10.1016/j.ijtb.2020.07.034 [doi]',\n",
              " 'LR': '20201224',\n",
              " 'MH': ['COVID-19/*diagnosis',\n",
              "  '*COVID-19 Serological Testing',\n",
              "  'Humans',\n",
              "  'SARS-CoV-2/*isolation & purification',\n",
              "  'Sensitivity and Specificity'],\n",
              " 'MHDA': '2020/12/29 06:00',\n",
              " 'OT': ['COVID-19', 'IgG', 'IgM', 'SARS CoV-2', 'Serology'],\n",
              " 'OTO': ['NOTNLM'],\n",
              " 'OWN': 'NLM',\n",
              " 'PG': 'S163-S166',\n",
              " 'PHST': ['2020/07/24 00:00 [received]',\n",
              "  '2020/07/31 00:00 [accepted]',\n",
              "  '2020/12/15 06:00 [pubmed]',\n",
              "  '2020/12/29 06:00 [medline]',\n",
              "  '2020/12/14 10:01 [entrez]'],\n",
              " 'PL': 'India',\n",
              " 'PMC': 'PMC7409828',\n",
              " 'PMID': '33308664',\n",
              " 'PST': 'ppublish',\n",
              " 'PT': ['Journal Article', 'Review'],\n",
              " 'SB': 'IM',\n",
              " 'SO': 'Indian J Tuberc. 2020 Dec;67(4S):S163-S166. doi: 10.1016/j.ijtb.2020.07.034. Epub 2020 Aug 6.',\n",
              " 'STAT': 'MEDLINE',\n",
              " 'TA': 'Indian J Tuberc',\n",
              " 'TI': 'Benefits and limitations of serological assays in COVID-19 infection.',\n",
              " 'VI': '67'}"
            ]
          },
          "metadata": {},
          "execution_count": 14
        }
      ]
    },
    {
      "cell_type": "code",
      "source": [
        "required_keys = ['PMID', 'TI', 'AB', 'AD', 'FAU', 'DP', 'TA', 'JT', 'LA', \n",
        "                 'MH', 'OAB', 'OT', 'PL', 'PST', 'PT', 'RN', 'SI']"
      ],
      "metadata": {
        "id": "5t7t7m3h0HU_"
      },
      "execution_count": 15,
      "outputs": []
    },
    {
      "cell_type": "code",
      "source": [
        "covid_data_for_df = list()\n",
        "\n",
        "for single_data in tqdm(covid_data):\n",
        "  temp = list()\n",
        "  for key in required_keys:\n",
        "    value = single_data.get(key, \"NONE\")\n",
        "    if isinstance(value, list):\n",
        "      value = \";\".join(set(value))\n",
        "      temp.append(value)\n",
        "    else:\n",
        "      temp.append(value)\n",
        "\n",
        "  covid_data_for_df.append(temp)"
      ],
      "metadata": {
        "id": "Tsooq1nk0w6X",
        "colab": {
          "base_uri": "https://localhost:8080/"
        },
        "outputId": "74137759-dfbd-4a2c-f5da-89ed775c9600"
      },
      "execution_count": 16,
      "outputs": [
        {
          "output_type": "stream",
          "name": "stderr",
          "text": [
            "100%|██████████| 10000/10000 [00:00<00:00, 41141.20it/s]\n"
          ]
        }
      ]
    },
    {
      "cell_type": "code",
      "source": [
        "covid_data_for_df[0]"
      ],
      "metadata": {
        "id": "zIbwfQyJ1Fh6",
        "colab": {
          "base_uri": "https://localhost:8080/"
        },
        "outputId": "47c97ebb-bc93-4939-d16f-ed5d99a4c610"
      },
      "execution_count": 17,
      "outputs": [
        {
          "output_type": "execute_result",
          "data": {
            "text/plain": [
              "['33308664',\n",
              " 'Benefits and limitations of serological assays in COVID-19 infection.',\n",
              " 'Accurate and rapid diagnostic tests are critical for achieving control of coronavirus disease 2019 (covid-19), a pandemic illness caused by severe acute respiratory syndrome coronavirus 2 (SARS-CoV-2). Diagnostic tests for covid-19 fall into two main categories: molecular tests that detect viral RNA, and serological tests that detect anti-SARS-CoV-2 immunoglobulins. Reverse transcriptase polymerase chain reaction (RT-PCR), a molecular test, has become the gold standard for diagnosis of covid-19; however, this test has many limitations that include potential false negative results, changes in diagnostic accuracy over the disease course, and precarious availability of test materials. Serological tests have generated substantial interest as an alternative or complement to RT-PCR and other Nucleic acid tests in the diagnosis of acute infection, as some might be cheaper and easier to implement at the point of care. A clear advantage of these tests over RT-PCR is that they can identify individuals previously infected by SARS-CoV-2, even if they never underwent testing while acutely ill. Many serological tests for covid-19 have become available in a short period, including some marketed for use as rapid, point-of-care tests. The pace of development has, however, exceeded that of rigorous evaluation, and important uncertainty about test accuracy remains.',\n",
              " 'New Delhi Tuberculosis Centre, JLN Marg, New Delhi, India.;New Delhi Tuberculosis Centre, JLN Marg, New Delhi, India. Electronic address: irldlndc@rntcp.org.',\n",
              " 'Chopra, K K;Hanif, M;Dwivedi, Kaushal Kumar;Sidiq, Zeeshan',\n",
              " '2020 Dec',\n",
              " 'Indian J Tuberc',\n",
              " 'The Indian journal of tuberculosis',\n",
              " 'eng',\n",
              " 'COVID-19/*diagnosis;Sensitivity and Specificity;SARS-CoV-2/*isolation & purification;Humans;*COVID-19 Serological Testing',\n",
              " 'NONE',\n",
              " 'SARS CoV-2;COVID-19;IgG;Serology;IgM',\n",
              " 'India',\n",
              " 'ppublish',\n",
              " 'Review;Journal Article',\n",
              " 'NONE',\n",
              " 'NONE']"
            ]
          },
          "metadata": {},
          "execution_count": 17
        }
      ]
    },
    {
      "cell_type": "code",
      "source": [
        "covid_dataframe = pd.DataFrame(covid_data_for_df, columns=required_keys)"
      ],
      "metadata": {
        "id": "IO2sTqK81F5P"
      },
      "execution_count": 18,
      "outputs": []
    },
    {
      "cell_type": "code",
      "source": [
        "covid_dataframe['RN']"
      ],
      "metadata": {
        "id": "4_BE73GK1ReL",
        "colab": {
          "base_uri": "https://localhost:8080/"
        },
        "outputId": "4e13c947-7589-47b4-f952-5b492cb1c44f"
      },
      "execution_count": 19,
      "outputs": [
        {
          "output_type": "execute_result",
          "data": {
            "text/plain": [
              "0                                                   NONE\n",
              "1                                  0 (COVID-19 Vaccines)\n",
              "2       0 (Antigens, Viral);0 (Reagent Kits, Diagnostic)\n",
              "3                                  0 (COVID-19 Vaccines)\n",
              "4       0 (Antigens, Viral);0 (Reagent Kits, Diagnostic)\n",
              "                              ...                       \n",
              "9995                               0 (COVID-19 Vaccines)\n",
              "9996                                                NONE\n",
              "9997                                                NONE\n",
              "9998                               0 (COVID-19 Vaccines)\n",
              "9999          0 (Antiviral Agents);0 (COVID-19 Vaccines)\n",
              "Name: RN, Length: 10000, dtype: object"
            ]
          },
          "metadata": {},
          "execution_count": 19
        }
      ]
    },
    {
      "cell_type": "code",
      "source": [
        "covid_dataframe['Class'] = ['COVID']*len(covid_dataframe)"
      ],
      "metadata": {
        "id": "loaR2d2I2-9J"
      },
      "execution_count": 20,
      "outputs": []
    },
    {
      "cell_type": "code",
      "source": [
        "covid_dataframe.head(3)"
      ],
      "metadata": {
        "id": "Hpsms3Yk3HF3",
        "colab": {
          "base_uri": "https://localhost:8080/",
          "height": 0
        },
        "outputId": "e5a27579-f02e-4ed1-b788-6eeb78c6cd93"
      },
      "execution_count": 21,
      "outputs": [
        {
          "output_type": "execute_result",
          "data": {
            "text/html": [
              "\n",
              "  <div id=\"df-bceec794-ba54-4681-aa4c-e27b78412f05\">\n",
              "    <div class=\"colab-df-container\">\n",
              "      <div>\n",
              "<style scoped>\n",
              "    .dataframe tbody tr th:only-of-type {\n",
              "        vertical-align: middle;\n",
              "    }\n",
              "\n",
              "    .dataframe tbody tr th {\n",
              "        vertical-align: top;\n",
              "    }\n",
              "\n",
              "    .dataframe thead th {\n",
              "        text-align: right;\n",
              "    }\n",
              "</style>\n",
              "<table border=\"1\" class=\"dataframe\">\n",
              "  <thead>\n",
              "    <tr style=\"text-align: right;\">\n",
              "      <th></th>\n",
              "      <th>PMID</th>\n",
              "      <th>TI</th>\n",
              "      <th>AB</th>\n",
              "      <th>AD</th>\n",
              "      <th>FAU</th>\n",
              "      <th>DP</th>\n",
              "      <th>TA</th>\n",
              "      <th>JT</th>\n",
              "      <th>LA</th>\n",
              "      <th>MH</th>\n",
              "      <th>OAB</th>\n",
              "      <th>OT</th>\n",
              "      <th>PL</th>\n",
              "      <th>PST</th>\n",
              "      <th>PT</th>\n",
              "      <th>RN</th>\n",
              "      <th>SI</th>\n",
              "      <th>Class</th>\n",
              "    </tr>\n",
              "  </thead>\n",
              "  <tbody>\n",
              "    <tr>\n",
              "      <th>0</th>\n",
              "      <td>33308664</td>\n",
              "      <td>Benefits and limitations of serological assays...</td>\n",
              "      <td>Accurate and rapid diagnostic tests are critic...</td>\n",
              "      <td>New Delhi Tuberculosis Centre, JLN Marg, New D...</td>\n",
              "      <td>Chopra, K K;Hanif, M;Dwivedi, Kaushal Kumar;Si...</td>\n",
              "      <td>2020 Dec</td>\n",
              "      <td>Indian J Tuberc</td>\n",
              "      <td>The Indian journal of tuberculosis</td>\n",
              "      <td>eng</td>\n",
              "      <td>COVID-19/*diagnosis;Sensitivity and Specificit...</td>\n",
              "      <td>NONE</td>\n",
              "      <td>SARS CoV-2;COVID-19;IgG;Serology;IgM</td>\n",
              "      <td>India</td>\n",
              "      <td>ppublish</td>\n",
              "      <td>Review;Journal Article</td>\n",
              "      <td>NONE</td>\n",
              "      <td>NONE</td>\n",
              "      <td>COVID</td>\n",
              "    </tr>\n",
              "    <tr>\n",
              "      <th>1</th>\n",
              "      <td>33522478</td>\n",
              "      <td>Postvaccination COVID-19 among Healthcare Work...</td>\n",
              "      <td>Coronavirus disease (COVID-19) symptoms can be...</td>\n",
              "      <td>NONE</td>\n",
              "      <td>Beni, Sharon Alexsandra;Biber, Asaf;Amit, Shar...</td>\n",
              "      <td>2021 Apr</td>\n",
              "      <td>Emerg Infect Dis</td>\n",
              "      <td>Emerging infectious diseases</td>\n",
              "      <td>eng</td>\n",
              "      <td>*COVID-19 Serological Testing/methods/statisti...</td>\n",
              "      <td>NONE</td>\n",
              "      <td>*COVID-19;*SARS;*Israel;*zoonoses;*vaccination...</td>\n",
              "      <td>United States</td>\n",
              "      <td>ppublish</td>\n",
              "      <td>Journal Article</td>\n",
              "      <td>0 (COVID-19 Vaccines)</td>\n",
              "      <td>NONE</td>\n",
              "      <td>COVID</td>\n",
              "    </tr>\n",
              "    <tr>\n",
              "      <th>2</th>\n",
              "      <td>33189872</td>\n",
              "      <td>Field evaluation of a rapid antigen test (Panb...</td>\n",
              "      <td>OBJECTIVES: To our knowledge no previous study...</td>\n",
              "      <td>Instituto Valenciano de Microbiologia, Betera,...</td>\n",
              "      <td>Navarro, David;Ferrer, Josep;Albert, Eliseo;Fe...</td>\n",
              "      <td>2021 Mar</td>\n",
              "      <td>Clin Microbiol Infect</td>\n",
              "      <td>Clinical microbiology and infection : the offi...</td>\n",
              "      <td>eng</td>\n",
              "      <td>COVID-19/*diagnosis;Infant;*Point-of-Care Test...</td>\n",
              "      <td>NONE</td>\n",
              "      <td>SARS-CoV-2;Primary healthcare centre;Early dia...</td>\n",
              "      <td>England</td>\n",
              "      <td>ppublish</td>\n",
              "      <td>Journal Article;Evaluation Study</td>\n",
              "      <td>0 (Antigens, Viral);0 (Reagent Kits, Diagnostic)</td>\n",
              "      <td>NONE</td>\n",
              "      <td>COVID</td>\n",
              "    </tr>\n",
              "  </tbody>\n",
              "</table>\n",
              "</div>\n",
              "      <button class=\"colab-df-convert\" onclick=\"convertToInteractive('df-bceec794-ba54-4681-aa4c-e27b78412f05')\"\n",
              "              title=\"Convert this dataframe to an interactive table.\"\n",
              "              style=\"display:none;\">\n",
              "        \n",
              "  <svg xmlns=\"http://www.w3.org/2000/svg\" height=\"24px\"viewBox=\"0 0 24 24\"\n",
              "       width=\"24px\">\n",
              "    <path d=\"M0 0h24v24H0V0z\" fill=\"none\"/>\n",
              "    <path d=\"M18.56 5.44l.94 2.06.94-2.06 2.06-.94-2.06-.94-.94-2.06-.94 2.06-2.06.94zm-11 1L8.5 8.5l.94-2.06 2.06-.94-2.06-.94L8.5 2.5l-.94 2.06-2.06.94zm10 10l.94 2.06.94-2.06 2.06-.94-2.06-.94-.94-2.06-.94 2.06-2.06.94z\"/><path d=\"M17.41 7.96l-1.37-1.37c-.4-.4-.92-.59-1.43-.59-.52 0-1.04.2-1.43.59L10.3 9.45l-7.72 7.72c-.78.78-.78 2.05 0 2.83L4 21.41c.39.39.9.59 1.41.59.51 0 1.02-.2 1.41-.59l7.78-7.78 2.81-2.81c.8-.78.8-2.07 0-2.86zM5.41 20L4 18.59l7.72-7.72 1.47 1.35L5.41 20z\"/>\n",
              "  </svg>\n",
              "      </button>\n",
              "      \n",
              "  <style>\n",
              "    .colab-df-container {\n",
              "      display:flex;\n",
              "      flex-wrap:wrap;\n",
              "      gap: 12px;\n",
              "    }\n",
              "\n",
              "    .colab-df-convert {\n",
              "      background-color: #E8F0FE;\n",
              "      border: none;\n",
              "      border-radius: 50%;\n",
              "      cursor: pointer;\n",
              "      display: none;\n",
              "      fill: #1967D2;\n",
              "      height: 32px;\n",
              "      padding: 0 0 0 0;\n",
              "      width: 32px;\n",
              "    }\n",
              "\n",
              "    .colab-df-convert:hover {\n",
              "      background-color: #E2EBFA;\n",
              "      box-shadow: 0px 1px 2px rgba(60, 64, 67, 0.3), 0px 1px 3px 1px rgba(60, 64, 67, 0.15);\n",
              "      fill: #174EA6;\n",
              "    }\n",
              "\n",
              "    [theme=dark] .colab-df-convert {\n",
              "      background-color: #3B4455;\n",
              "      fill: #D2E3FC;\n",
              "    }\n",
              "\n",
              "    [theme=dark] .colab-df-convert:hover {\n",
              "      background-color: #434B5C;\n",
              "      box-shadow: 0px 1px 3px 1px rgba(0, 0, 0, 0.15);\n",
              "      filter: drop-shadow(0px 1px 2px rgba(0, 0, 0, 0.3));\n",
              "      fill: #FFFFFF;\n",
              "    }\n",
              "  </style>\n",
              "\n",
              "      <script>\n",
              "        const buttonEl =\n",
              "          document.querySelector('#df-bceec794-ba54-4681-aa4c-e27b78412f05 button.colab-df-convert');\n",
              "        buttonEl.style.display =\n",
              "          google.colab.kernel.accessAllowed ? 'block' : 'none';\n",
              "\n",
              "        async function convertToInteractive(key) {\n",
              "          const element = document.querySelector('#df-bceec794-ba54-4681-aa4c-e27b78412f05');\n",
              "          const dataTable =\n",
              "            await google.colab.kernel.invokeFunction('convertToInteractive',\n",
              "                                                     [key], {});\n",
              "          if (!dataTable) return;\n",
              "\n",
              "          const docLinkHtml = 'Like what you see? Visit the ' +\n",
              "            '<a target=\"_blank\" href=https://colab.research.google.com/notebooks/data_table.ipynb>data table notebook</a>'\n",
              "            + ' to learn more about interactive tables.';\n",
              "          element.innerHTML = '';\n",
              "          dataTable['output_type'] = 'display_data';\n",
              "          await google.colab.output.renderOutput(dataTable, element);\n",
              "          const docLink = document.createElement('div');\n",
              "          docLink.innerHTML = docLinkHtml;\n",
              "          element.appendChild(docLink);\n",
              "        }\n",
              "      </script>\n",
              "    </div>\n",
              "  </div>\n",
              "  "
            ],
            "text/plain": [
              "       PMID                                                 TI  ...    SI  Class\n",
              "0  33308664  Benefits and limitations of serological assays...  ...  NONE  COVID\n",
              "1  33522478  Postvaccination COVID-19 among Healthcare Work...  ...  NONE  COVID\n",
              "2  33189872  Field evaluation of a rapid antigen test (Panb...  ...  NONE  COVID\n",
              "\n",
              "[3 rows x 18 columns]"
            ]
          },
          "metadata": {},
          "execution_count": 21
        }
      ]
    },
    {
      "cell_type": "code",
      "source": [
        "covid_dataframe.to_csv(\"10k-covid-pubmed-metadata.csv\", index=False)"
      ],
      "metadata": {
        "id": "wykiUxPL1RsP"
      },
      "execution_count": 22,
      "outputs": []
    },
    {
      "cell_type": "markdown",
      "source": [
        "### Cancer"
      ],
      "metadata": {
        "id": "RWrvafn51kJn"
      }
    },
    {
      "cell_type": "code",
      "source": [
        "len(cancer_data)"
      ],
      "metadata": {
        "id": "C1Ih4X0k1oqP",
        "colab": {
          "base_uri": "https://localhost:8080/"
        },
        "outputId": "153cac4e-3f87-4453-a21d-dea192a5068e"
      },
      "execution_count": 23,
      "outputs": [
        {
          "output_type": "execute_result",
          "data": {
            "text/plain": [
              "10000"
            ]
          },
          "metadata": {},
          "execution_count": 23
        }
      ]
    },
    {
      "cell_type": "code",
      "source": [
        "cancer_data[0]"
      ],
      "metadata": {
        "id": "EMYfTgOJ1oqP",
        "colab": {
          "base_uri": "https://localhost:8080/"
        },
        "outputId": "956b3680-400c-45f8-e342-46aa212c4522"
      },
      "execution_count": 24,
      "outputs": [
        {
          "output_type": "execute_result",
          "data": {
            "text/plain": [
              "{'AB': \"This essay focuses on themes in Explaining Cancer: Finding Order in Disorder (2018) by Anya Plutynski, a monograph that has important things to say about both the peculiarities of cancers and our theories about them. Cancer's agents of destruction are human cells that have been recruited and to some extent transformed into pathological organisms or the building blocks of tumors. Cancers both undermine and exploit mechanisms of multicellular organization, and understanding them gives rise to difficult philosophical problems. In addition to sketching Plutynski's discussion of these problems, this essay defends Christopher Boorse's account of disease from Plutynski's criticisms, and it expresses some qualms about her treatment of scientific explanation.\",\n",
              " 'AID': ['S1529879519400112 [pii]', '10.1353/pbm.2019.0046 [doi]'],\n",
              " 'AU': ['Hausman DM'],\n",
              " 'CRDT': ['2019/11/26 06:00'],\n",
              " 'DCOM': '20200529',\n",
              " 'DP': '2019',\n",
              " 'EDAT': '2019/11/26 06:00',\n",
              " 'FAU': ['Hausman, Daniel M'],\n",
              " 'IP': '4',\n",
              " 'IS': '1529-8795 (Electronic) 0031-5982 (Linking)',\n",
              " 'JID': '0401132',\n",
              " 'JT': 'Perspectives in biology and medicine',\n",
              " 'LA': ['eng'],\n",
              " 'LID': '10.1353/pbm.2019.0046 [doi]',\n",
              " 'LR': '20200529',\n",
              " 'MH': ['Humans', 'Neoplasms/*etiology', 'Philosophy, Medical'],\n",
              " 'MHDA': '2020/05/30 06:00',\n",
              " 'OWN': 'NLM',\n",
              " 'PG': '778-784',\n",
              " 'PHST': ['2019/11/26 06:00 [entrez]',\n",
              "  '2019/11/26 06:00 [pubmed]',\n",
              "  '2020/05/30 06:00 [medline]'],\n",
              " 'PL': 'United States',\n",
              " 'PMID': '31761807',\n",
              " 'PST': 'ppublish',\n",
              " 'PT': ['Journal Article'],\n",
              " 'SB': 'IM',\n",
              " 'SO': 'Perspect Biol Med. 2019;62(4):778-784. doi: 10.1353/pbm.2019.0046.',\n",
              " 'STAT': 'MEDLINE',\n",
              " 'TA': 'Perspect Biol Med',\n",
              " 'TI': 'What Is Cancer?',\n",
              " 'VI': '62'}"
            ]
          },
          "metadata": {},
          "execution_count": 24
        }
      ]
    },
    {
      "cell_type": "code",
      "source": [
        "required_keys = ['PMID', 'TI', 'AB', 'AD', 'FAU', 'DP', 'TA', 'JT', 'LA', \n",
        "                 'MH', 'OAB', 'OT', 'PL', 'PST', 'PT', 'RN', 'SI']"
      ],
      "metadata": {
        "id": "AQKJMdXt1oqR"
      },
      "execution_count": 25,
      "outputs": []
    },
    {
      "cell_type": "code",
      "source": [
        "cancer_data_for_df = list()\n",
        "\n",
        "for single_data in tqdm(cancer_data):\n",
        "  temp = list()\n",
        "  for key in required_keys:\n",
        "    value = single_data.get(key, \"NONE\")\n",
        "    if isinstance(value, list):\n",
        "      value = \";\".join(set(value))\n",
        "      temp.append(value)\n",
        "    else:\n",
        "      temp.append(value)\n",
        "\n",
        "  cancer_data_for_df.append(temp)"
      ],
      "metadata": {
        "id": "lbBdfRqG1oqR",
        "colab": {
          "base_uri": "https://localhost:8080/"
        },
        "outputId": "a453c3db-57cc-484d-eb53-01c4534d705f"
      },
      "execution_count": 26,
      "outputs": [
        {
          "output_type": "stream",
          "name": "stderr",
          "text": [
            "100%|██████████| 10000/10000 [00:00<00:00, 44186.99it/s]\n"
          ]
        }
      ]
    },
    {
      "cell_type": "code",
      "source": [
        "cancer_data_for_df[0]"
      ],
      "metadata": {
        "id": "EzsoLdVa1oqR",
        "colab": {
          "base_uri": "https://localhost:8080/"
        },
        "outputId": "9840bb2f-c75f-4a2a-fdf5-894428711b73"
      },
      "execution_count": 27,
      "outputs": [
        {
          "output_type": "execute_result",
          "data": {
            "text/plain": [
              "['31761807',\n",
              " 'What Is Cancer?',\n",
              " \"This essay focuses on themes in Explaining Cancer: Finding Order in Disorder (2018) by Anya Plutynski, a monograph that has important things to say about both the peculiarities of cancers and our theories about them. Cancer's agents of destruction are human cells that have been recruited and to some extent transformed into pathological organisms or the building blocks of tumors. Cancers both undermine and exploit mechanisms of multicellular organization, and understanding them gives rise to difficult philosophical problems. In addition to sketching Plutynski's discussion of these problems, this essay defends Christopher Boorse's account of disease from Plutynski's criticisms, and it expresses some qualms about her treatment of scientific explanation.\",\n",
              " 'NONE',\n",
              " 'Hausman, Daniel M',\n",
              " '2019',\n",
              " 'Perspect Biol Med',\n",
              " 'Perspectives in biology and medicine',\n",
              " 'eng',\n",
              " 'Philosophy, Medical;Humans;Neoplasms/*etiology',\n",
              " 'NONE',\n",
              " 'NONE',\n",
              " 'United States',\n",
              " 'ppublish',\n",
              " 'Journal Article',\n",
              " 'NONE',\n",
              " 'NONE']"
            ]
          },
          "metadata": {},
          "execution_count": 27
        }
      ]
    },
    {
      "cell_type": "code",
      "source": [
        "cancer_dataframe = pd.DataFrame(cancer_data_for_df, columns=required_keys)"
      ],
      "metadata": {
        "id": "LXZ6TCoX1oqR"
      },
      "execution_count": 28,
      "outputs": []
    },
    {
      "cell_type": "code",
      "source": [
        "cancer_dataframe['RN']"
      ],
      "metadata": {
        "id": "5xWB-0gr1oqR",
        "colab": {
          "base_uri": "https://localhost:8080/"
        },
        "outputId": "6e38f71e-18ba-4c66-a5c9-8d351983bfdf"
      },
      "execution_count": 29,
      "outputs": [
        {
          "output_type": "execute_result",
          "data": {
            "text/plain": [
              "0                                      NONE\n",
              "1                                      NONE\n",
              "2                                      NONE\n",
              "3                 0 (Antineoplastic Agents)\n",
              "4                                      NONE\n",
              "                       ...                 \n",
              "9995                                   NONE\n",
              "9996                                   NONE\n",
              "9997                                   NONE\n",
              "9998    0 (Chromates);0R0008Q3JB (Chromium)\n",
              "9999              0 (Antineoplastic Agents)\n",
              "Name: RN, Length: 10000, dtype: object"
            ]
          },
          "metadata": {},
          "execution_count": 29
        }
      ]
    },
    {
      "cell_type": "code",
      "source": [
        "cancer_dataframe['Class'] = ['CANCER']*len(cancer_dataframe)"
      ],
      "metadata": {
        "id": "5v9_J2Bf21SI"
      },
      "execution_count": 30,
      "outputs": []
    },
    {
      "cell_type": "code",
      "source": [
        "cancer_dataframe.to_csv(\"10k-cancer-pubmed-metadata.csv\", index=False)"
      ],
      "metadata": {
        "id": "O5-v1BYm1oqS"
      },
      "execution_count": 31,
      "outputs": []
    },
    {
      "cell_type": "markdown",
      "source": [
        "### Ebola"
      ],
      "metadata": {
        "id": "kFcLaKfk2EAW"
      }
    },
    {
      "cell_type": "code",
      "source": [
        "cancer_dataframe['RN']"
      ],
      "metadata": {
        "id": "JLljPLx8124a",
        "colab": {
          "base_uri": "https://localhost:8080/"
        },
        "outputId": "fc861d07-c1cb-4725-de82-4de2f85409ad"
      },
      "execution_count": 32,
      "outputs": [
        {
          "output_type": "execute_result",
          "data": {
            "text/plain": [
              "0                                      NONE\n",
              "1                                      NONE\n",
              "2                                      NONE\n",
              "3                 0 (Antineoplastic Agents)\n",
              "4                                      NONE\n",
              "                       ...                 \n",
              "9995                                   NONE\n",
              "9996                                   NONE\n",
              "9997                                   NONE\n",
              "9998    0 (Chromates);0R0008Q3JB (Chromium)\n",
              "9999              0 (Antineoplastic Agents)\n",
              "Name: RN, Length: 10000, dtype: object"
            ]
          },
          "metadata": {},
          "execution_count": 32
        }
      ]
    },
    {
      "cell_type": "code",
      "source": [
        "len(ebola_data)"
      ],
      "metadata": {
        "id": "dD-6TwxY2FrQ",
        "colab": {
          "base_uri": "https://localhost:8080/"
        },
        "outputId": "f93f8d21-16b2-4029-a311-4c9e8b2ab020"
      },
      "execution_count": 33,
      "outputs": [
        {
          "output_type": "execute_result",
          "data": {
            "text/plain": [
              "10000"
            ]
          },
          "metadata": {},
          "execution_count": 33
        }
      ]
    },
    {
      "cell_type": "code",
      "source": [
        "ebola_data[0]"
      ],
      "metadata": {
        "id": "4-oNiEFQ2FrR",
        "colab": {
          "base_uri": "https://localhost:8080/"
        },
        "outputId": "44d666ab-c93f-4372-c59b-9b96bdf90b77"
      },
      "execution_count": 34,
      "outputs": [
        {
          "output_type": "execute_result",
          "data": {
            "text/plain": [
              "{'AB': \"For almost 50 years, ebolaviruses and related filoviruses have been repeatedly reemerging across the vast equatorial belt of the African continent to cause epidemics of highly fatal hemorrhagic fever. The 2013-2015 West African epidemic, by far the most geographically extensive, most fatal, and longest lasting epidemic in Ebola's history, presented an enormous international public health challenge, but it also provided insights into Ebola's pathogenesis and natural history, clinical expression, treatment, prevention, and control. Growing understanding of ebolavirus pathogenetic mechanisms and important new clinical observations of the disease course provide fresh clues about prevention and treatment approaches. Although viral cytopathology and immune-mediated cell damage in ebolavirus disease often result in severe compromise of multiple organs, tissue repair and organ function recovery can be expected if patients receive supportive care with fluids and electrolytes; maintenance of oxygenation and tissue perfusion; and respiratory, renal, and cardiovascular support. Major challenges for managing future Ebola epidemics include establishment of early and aggressive epidemic control and earlier and better patient care and treatment in remote, resource-poor areas where Ebola typically reemerges. In addition, it will be important to further develop Ebola vaccines and to adopt policies for their use in epidemic and pre-epidemic situations.\",\n",
              " 'AD': ['Department of Veterinary Medicine and Surgery, University of Texas MD Anderson Cancer Center, Houston, Texas 77030.',\n",
              "  'Critical Care Medicine Department, Clinical Center, National Institute of Allergy and Infectious Diseases, National Institutes of Health, Bethesda, Maryland 20892.',\n",
              "  'Founder, Special Pathogens Branch, Centers for Disease Control and Prevention, Placitas, New Mexico 87043.',\n",
              "  'Laboratory of Virology, Division of Intramural Research, National Institute of Allergy and Infectious Diseases, National Institutes of Health, Hamilton, Montana 59840.',\n",
              "  'Office of the Director, National Institute of Allergy and Infectious Diseases, National Institutes of Health, Bethesda, Maryland 20892; email: dm270q@nih.gov.'],\n",
              " 'AID': ['10.1146/annurev-pathol-052016-100506 [doi]'],\n",
              " 'AU': ['Baseler L', 'Chertow DS', 'Johnson KM', 'Feldmann H', 'Morens DM'],\n",
              " 'CRDT': ['2016/12/14 06:00'],\n",
              " 'DCOM': '20170817',\n",
              " 'DP': '2017 Jan 24',\n",
              " 'EDAT': '2016/12/14 06:00',\n",
              " 'FAU': ['Baseler, Laura',\n",
              "  'Chertow, Daniel S',\n",
              "  'Johnson, Karl M',\n",
              "  'Feldmann, Heinz',\n",
              "  'Morens, David M'],\n",
              " 'IS': '1553-4014 (Electronic) 1553-4006 (Linking)',\n",
              " 'JID': '101275111',\n",
              " 'JT': 'Annual review of pathology',\n",
              " 'LA': ['eng'],\n",
              " 'LID': '10.1146/annurev-pathol-052016-100506 [doi]',\n",
              " 'LR': '20181202',\n",
              " 'MH': ['Disease Outbreaks/*prevention & control',\n",
              "  'Ebolavirus/*classification/isolation & purification/*pathogenicity',\n",
              "  'Hemorrhagic Fever, Ebola/*epidemiology/*pathology/transmission',\n",
              "  'Humans'],\n",
              " 'MHDA': '2017/08/18 06:00',\n",
              " 'OT': ['Ebola',\n",
              "  'ebolavirus',\n",
              "  'epidemic',\n",
              "  'filovirus',\n",
              "  'viral disease pathogenesis',\n",
              "  'viral hemorrhagic fever'],\n",
              " 'OTO': ['NOTNLM'],\n",
              " 'OWN': 'NLM',\n",
              " 'PG': '387-418',\n",
              " 'PHST': ['2016/12/14 06:00 [pubmed]',\n",
              "  '2017/08/18 06:00 [medline]',\n",
              "  '2016/12/14 06:00 [entrez]'],\n",
              " 'PL': 'United States',\n",
              " 'PMID': '27959626',\n",
              " 'PST': 'ppublish',\n",
              " 'PT': ['Journal Article', 'Review'],\n",
              " 'SB': 'IM',\n",
              " 'SO': 'Annu Rev Pathol. 2017 Jan 24;12:387-418. doi: 10.1146/annurev-pathol-052016-100506.',\n",
              " 'STAT': 'MEDLINE',\n",
              " 'TA': 'Annu Rev Pathol',\n",
              " 'TI': 'The Pathogenesis of Ebola Virus Disease.',\n",
              " 'VI': '12'}"
            ]
          },
          "metadata": {},
          "execution_count": 34
        }
      ]
    },
    {
      "cell_type": "code",
      "source": [
        "required_keys = ['PMID', 'TI', 'AB', 'AD', 'FAU', 'DP', 'TA', 'JT', 'LA', \n",
        "                 'MH', 'OAB', 'OT', 'PL', 'PST', 'PT', 'RN', 'SI']"
      ],
      "metadata": {
        "id": "scJBiEPp2FrR"
      },
      "execution_count": 35,
      "outputs": []
    },
    {
      "cell_type": "code",
      "source": [
        "ebola_data_for_df = list()\n",
        "\n",
        "for single_data in tqdm(ebola_data):\n",
        "  temp = list()\n",
        "  for key in required_keys:\n",
        "    value = single_data.get(key, \"NONE\")\n",
        "    if isinstance(value, list):\n",
        "      value = \";\".join(set(value))\n",
        "      temp.append(value)\n",
        "    else:\n",
        "      temp.append(value)\n",
        "\n",
        "  ebola_data_for_df.append(temp)"
      ],
      "metadata": {
        "id": "OONx7ot12FrR",
        "colab": {
          "base_uri": "https://localhost:8080/"
        },
        "outputId": "4f56c359-b6cf-4b77-9979-671c13e633ce"
      },
      "execution_count": 36,
      "outputs": [
        {
          "output_type": "stream",
          "name": "stderr",
          "text": [
            "100%|██████████| 10000/10000 [00:00<00:00, 42448.77it/s]\n"
          ]
        }
      ]
    },
    {
      "cell_type": "code",
      "source": [
        "ebola_data_for_df[0]"
      ],
      "metadata": {
        "id": "r-uGGo7t2FrS",
        "colab": {
          "base_uri": "https://localhost:8080/"
        },
        "outputId": "745e3939-66ec-4cca-c6c0-4d3a3a9b46ec"
      },
      "execution_count": 37,
      "outputs": [
        {
          "output_type": "execute_result",
          "data": {
            "text/plain": [
              "['27959626',\n",
              " 'The Pathogenesis of Ebola Virus Disease.',\n",
              " \"For almost 50 years, ebolaviruses and related filoviruses have been repeatedly reemerging across the vast equatorial belt of the African continent to cause epidemics of highly fatal hemorrhagic fever. The 2013-2015 West African epidemic, by far the most geographically extensive, most fatal, and longest lasting epidemic in Ebola's history, presented an enormous international public health challenge, but it also provided insights into Ebola's pathogenesis and natural history, clinical expression, treatment, prevention, and control. Growing understanding of ebolavirus pathogenetic mechanisms and important new clinical observations of the disease course provide fresh clues about prevention and treatment approaches. Although viral cytopathology and immune-mediated cell damage in ebolavirus disease often result in severe compromise of multiple organs, tissue repair and organ function recovery can be expected if patients receive supportive care with fluids and electrolytes; maintenance of oxygenation and tissue perfusion; and respiratory, renal, and cardiovascular support. Major challenges for managing future Ebola epidemics include establishment of early and aggressive epidemic control and earlier and better patient care and treatment in remote, resource-poor areas where Ebola typically reemerges. In addition, it will be important to further develop Ebola vaccines and to adopt policies for their use in epidemic and pre-epidemic situations.\",\n",
              " 'Office of the Director, National Institute of Allergy and Infectious Diseases, National Institutes of Health, Bethesda, Maryland 20892; email: dm270q@nih.gov.;Critical Care Medicine Department, Clinical Center, National Institute of Allergy and Infectious Diseases, National Institutes of Health, Bethesda, Maryland 20892.;Founder, Special Pathogens Branch, Centers for Disease Control and Prevention, Placitas, New Mexico 87043.;Laboratory of Virology, Division of Intramural Research, National Institute of Allergy and Infectious Diseases, National Institutes of Health, Hamilton, Montana 59840.;Department of Veterinary Medicine and Surgery, University of Texas MD Anderson Cancer Center, Houston, Texas 77030.',\n",
              " 'Morens, David M;Johnson, Karl M;Baseler, Laura;Feldmann, Heinz;Chertow, Daniel S',\n",
              " '2017 Jan 24',\n",
              " 'Annu Rev Pathol',\n",
              " 'Annual review of pathology',\n",
              " 'eng',\n",
              " 'Disease Outbreaks/*prevention & control;Ebolavirus/*classification/isolation & purification/*pathogenicity;Hemorrhagic Fever, Ebola/*epidemiology/*pathology/transmission;Humans',\n",
              " 'NONE',\n",
              " 'filovirus;epidemic;viral hemorrhagic fever;Ebola;viral disease pathogenesis;ebolavirus',\n",
              " 'United States',\n",
              " 'ppublish',\n",
              " 'Review;Journal Article',\n",
              " 'NONE',\n",
              " 'NONE']"
            ]
          },
          "metadata": {},
          "execution_count": 37
        }
      ]
    },
    {
      "cell_type": "code",
      "source": [
        "ebola_dataframe = pd.DataFrame(ebola_data_for_df, columns=required_keys)"
      ],
      "metadata": {
        "id": "Z4vblnMu2FrS"
      },
      "execution_count": 38,
      "outputs": []
    },
    {
      "cell_type": "code",
      "source": [
        "ebola_dataframe['RN']"
      ],
      "metadata": {
        "id": "dJIvms3i2FrS",
        "colab": {
          "base_uri": "https://localhost:8080/"
        },
        "outputId": "e1b637ea-1200-4b3b-fbd1-509e7aa8c7b5"
      },
      "execution_count": 39,
      "outputs": [
        {
          "output_type": "execute_result",
          "data": {
            "text/plain": [
              "0                                                    NONE\n",
              "1                                                    NONE\n",
              "2           0 (Ebola Vaccines);0 (Membrane Glycoproteins)\n",
              "3                 0 (Ebola Vaccines);0 (Antiviral Agents)\n",
              "4       OF5P57N2ZX (Alanine);3QKI37EEHE (remdesivir);0...\n",
              "                              ...                        \n",
              "9995                                                 NONE\n",
              "9996                                                 NONE\n",
              "9997           0 (Antiviral Agents);0 (Interferon Type I)\n",
              "9998                                                 NONE\n",
              "9999                                                 NONE\n",
              "Name: RN, Length: 10000, dtype: object"
            ]
          },
          "metadata": {},
          "execution_count": 39
        }
      ]
    },
    {
      "cell_type": "code",
      "source": [
        "ebola_dataframe['Class'] = ['EBOLA']*len(ebola_dataframe)"
      ],
      "metadata": {
        "id": "mbyTfEOX2nfa"
      },
      "execution_count": 40,
      "outputs": []
    },
    {
      "cell_type": "code",
      "source": [
        "ebola_dataframe.head(3)"
      ],
      "metadata": {
        "id": "eEGG7Soz3Nhy",
        "colab": {
          "base_uri": "https://localhost:8080/",
          "height": 0
        },
        "outputId": "34cdff31-d838-4991-ebad-dd4928a70c2b"
      },
      "execution_count": 41,
      "outputs": [
        {
          "output_type": "execute_result",
          "data": {
            "text/html": [
              "\n",
              "  <div id=\"df-01d6364e-45c4-4522-b909-276943590784\">\n",
              "    <div class=\"colab-df-container\">\n",
              "      <div>\n",
              "<style scoped>\n",
              "    .dataframe tbody tr th:only-of-type {\n",
              "        vertical-align: middle;\n",
              "    }\n",
              "\n",
              "    .dataframe tbody tr th {\n",
              "        vertical-align: top;\n",
              "    }\n",
              "\n",
              "    .dataframe thead th {\n",
              "        text-align: right;\n",
              "    }\n",
              "</style>\n",
              "<table border=\"1\" class=\"dataframe\">\n",
              "  <thead>\n",
              "    <tr style=\"text-align: right;\">\n",
              "      <th></th>\n",
              "      <th>PMID</th>\n",
              "      <th>TI</th>\n",
              "      <th>AB</th>\n",
              "      <th>AD</th>\n",
              "      <th>FAU</th>\n",
              "      <th>DP</th>\n",
              "      <th>TA</th>\n",
              "      <th>JT</th>\n",
              "      <th>LA</th>\n",
              "      <th>MH</th>\n",
              "      <th>OAB</th>\n",
              "      <th>OT</th>\n",
              "      <th>PL</th>\n",
              "      <th>PST</th>\n",
              "      <th>PT</th>\n",
              "      <th>RN</th>\n",
              "      <th>SI</th>\n",
              "      <th>Class</th>\n",
              "    </tr>\n",
              "  </thead>\n",
              "  <tbody>\n",
              "    <tr>\n",
              "      <th>0</th>\n",
              "      <td>27959626</td>\n",
              "      <td>The Pathogenesis of Ebola Virus Disease.</td>\n",
              "      <td>For almost 50 years, ebolaviruses and related ...</td>\n",
              "      <td>Office of the Director, National Institute of ...</td>\n",
              "      <td>Morens, David M;Johnson, Karl M;Baseler, Laura...</td>\n",
              "      <td>2017 Jan 24</td>\n",
              "      <td>Annu Rev Pathol</td>\n",
              "      <td>Annual review of pathology</td>\n",
              "      <td>eng</td>\n",
              "      <td>Disease Outbreaks/*prevention &amp; control;Ebolav...</td>\n",
              "      <td>NONE</td>\n",
              "      <td>filovirus;epidemic;viral hemorrhagic fever;Ebo...</td>\n",
              "      <td>United States</td>\n",
              "      <td>ppublish</td>\n",
              "      <td>Review;Journal Article</td>\n",
              "      <td>NONE</td>\n",
              "      <td>NONE</td>\n",
              "      <td>EBOLA</td>\n",
              "    </tr>\n",
              "    <tr>\n",
              "      <th>1</th>\n",
              "      <td>32080199</td>\n",
              "      <td>Ebola virus disease.</td>\n",
              "      <td>Ebola virus disease (EVD) is a severe and freq...</td>\n",
              "      <td>Global Health Security Department, Infectious ...</td>\n",
              "      <td>Kraft, Colleen S;Kuhn, Jens H;Vega, Marc-Antoi...</td>\n",
              "      <td>2020 Feb 20</td>\n",
              "      <td>Nat Rev Dis Primers</td>\n",
              "      <td>Nature reviews. Disease primers</td>\n",
              "      <td>eng</td>\n",
              "      <td>Africa, Western/epidemiology;Hemorrhagic Fever...</td>\n",
              "      <td>NONE</td>\n",
              "      <td>NONE</td>\n",
              "      <td>England</td>\n",
              "      <td>epublish</td>\n",
              "      <td>Research Support, U.S. Gov't, Non-P.H.S.;Journ...</td>\n",
              "      <td>NONE</td>\n",
              "      <td>NONE</td>\n",
              "      <td>EBOLA</td>\n",
              "    </tr>\n",
              "    <tr>\n",
              "      <th>2</th>\n",
              "      <td>26923959</td>\n",
              "      <td>Ebola vaccine and treatment.</td>\n",
              "      <td>Filoviruses (Ebola and Marburg viruses) cause ...</td>\n",
              "      <td>Hokkaido University Research Center for Zoonos...</td>\n",
              "      <td>Takada, Ayato</td>\n",
              "      <td>2015</td>\n",
              "      <td>Uirusu</td>\n",
              "      <td>Uirusu</td>\n",
              "      <td>jpn</td>\n",
              "      <td>Membrane Glycoproteins/chemistry/physiology;*D...</td>\n",
              "      <td>NONE</td>\n",
              "      <td>NONE</td>\n",
              "      <td>Japan</td>\n",
              "      <td>ppublish</td>\n",
              "      <td>Review;Journal Article</td>\n",
              "      <td>0 (Ebola Vaccines);0 (Membrane Glycoproteins)</td>\n",
              "      <td>NONE</td>\n",
              "      <td>EBOLA</td>\n",
              "    </tr>\n",
              "  </tbody>\n",
              "</table>\n",
              "</div>\n",
              "      <button class=\"colab-df-convert\" onclick=\"convertToInteractive('df-01d6364e-45c4-4522-b909-276943590784')\"\n",
              "              title=\"Convert this dataframe to an interactive table.\"\n",
              "              style=\"display:none;\">\n",
              "        \n",
              "  <svg xmlns=\"http://www.w3.org/2000/svg\" height=\"24px\"viewBox=\"0 0 24 24\"\n",
              "       width=\"24px\">\n",
              "    <path d=\"M0 0h24v24H0V0z\" fill=\"none\"/>\n",
              "    <path d=\"M18.56 5.44l.94 2.06.94-2.06 2.06-.94-2.06-.94-.94-2.06-.94 2.06-2.06.94zm-11 1L8.5 8.5l.94-2.06 2.06-.94-2.06-.94L8.5 2.5l-.94 2.06-2.06.94zm10 10l.94 2.06.94-2.06 2.06-.94-2.06-.94-.94-2.06-.94 2.06-2.06.94z\"/><path d=\"M17.41 7.96l-1.37-1.37c-.4-.4-.92-.59-1.43-.59-.52 0-1.04.2-1.43.59L10.3 9.45l-7.72 7.72c-.78.78-.78 2.05 0 2.83L4 21.41c.39.39.9.59 1.41.59.51 0 1.02-.2 1.41-.59l7.78-7.78 2.81-2.81c.8-.78.8-2.07 0-2.86zM5.41 20L4 18.59l7.72-7.72 1.47 1.35L5.41 20z\"/>\n",
              "  </svg>\n",
              "      </button>\n",
              "      \n",
              "  <style>\n",
              "    .colab-df-container {\n",
              "      display:flex;\n",
              "      flex-wrap:wrap;\n",
              "      gap: 12px;\n",
              "    }\n",
              "\n",
              "    .colab-df-convert {\n",
              "      background-color: #E8F0FE;\n",
              "      border: none;\n",
              "      border-radius: 50%;\n",
              "      cursor: pointer;\n",
              "      display: none;\n",
              "      fill: #1967D2;\n",
              "      height: 32px;\n",
              "      padding: 0 0 0 0;\n",
              "      width: 32px;\n",
              "    }\n",
              "\n",
              "    .colab-df-convert:hover {\n",
              "      background-color: #E2EBFA;\n",
              "      box-shadow: 0px 1px 2px rgba(60, 64, 67, 0.3), 0px 1px 3px 1px rgba(60, 64, 67, 0.15);\n",
              "      fill: #174EA6;\n",
              "    }\n",
              "\n",
              "    [theme=dark] .colab-df-convert {\n",
              "      background-color: #3B4455;\n",
              "      fill: #D2E3FC;\n",
              "    }\n",
              "\n",
              "    [theme=dark] .colab-df-convert:hover {\n",
              "      background-color: #434B5C;\n",
              "      box-shadow: 0px 1px 3px 1px rgba(0, 0, 0, 0.15);\n",
              "      filter: drop-shadow(0px 1px 2px rgba(0, 0, 0, 0.3));\n",
              "      fill: #FFFFFF;\n",
              "    }\n",
              "  </style>\n",
              "\n",
              "      <script>\n",
              "        const buttonEl =\n",
              "          document.querySelector('#df-01d6364e-45c4-4522-b909-276943590784 button.colab-df-convert');\n",
              "        buttonEl.style.display =\n",
              "          google.colab.kernel.accessAllowed ? 'block' : 'none';\n",
              "\n",
              "        async function convertToInteractive(key) {\n",
              "          const element = document.querySelector('#df-01d6364e-45c4-4522-b909-276943590784');\n",
              "          const dataTable =\n",
              "            await google.colab.kernel.invokeFunction('convertToInteractive',\n",
              "                                                     [key], {});\n",
              "          if (!dataTable) return;\n",
              "\n",
              "          const docLinkHtml = 'Like what you see? Visit the ' +\n",
              "            '<a target=\"_blank\" href=https://colab.research.google.com/notebooks/data_table.ipynb>data table notebook</a>'\n",
              "            + ' to learn more about interactive tables.';\n",
              "          element.innerHTML = '';\n",
              "          dataTable['output_type'] = 'display_data';\n",
              "          await google.colab.output.renderOutput(dataTable, element);\n",
              "          const docLink = document.createElement('div');\n",
              "          docLink.innerHTML = docLinkHtml;\n",
              "          element.appendChild(docLink);\n",
              "        }\n",
              "      </script>\n",
              "    </div>\n",
              "  </div>\n",
              "  "
            ],
            "text/plain": [
              "       PMID                                        TI  ...    SI  Class\n",
              "0  27959626  The Pathogenesis of Ebola Virus Disease.  ...  NONE  EBOLA\n",
              "1  32080199                      Ebola virus disease.  ...  NONE  EBOLA\n",
              "2  26923959              Ebola vaccine and treatment.  ...  NONE  EBOLA\n",
              "\n",
              "[3 rows x 18 columns]"
            ]
          },
          "metadata": {},
          "execution_count": 41
        }
      ]
    },
    {
      "cell_type": "code",
      "source": [
        "ebola_dataframe.to_csv(\"10k-ebola-pubmed-metadata.csv\", index=False)"
      ],
      "metadata": {
        "id": "k4p_AE6u2FrT"
      },
      "execution_count": 42,
      "outputs": []
    },
    {
      "cell_type": "markdown",
      "source": [
        "### Combing dataframes"
      ],
      "metadata": {
        "id": "nYugaY9D4P2n"
      }
    },
    {
      "cell_type": "code",
      "source": [
        "frames = [cancer_dataframe, ebola_dataframe, covid_dataframe]\n",
        "\n",
        "#concatenate dataframes\n",
        "main_dataframe = pd.concat(frames)\n",
        "\n",
        "# reset index\n",
        "main_dataframe.reset_index(drop=True, inplace=True)"
      ],
      "metadata": {
        "id": "UCfuBmLL2jiP"
      },
      "execution_count": 43,
      "outputs": []
    },
    {
      "cell_type": "code",
      "source": [
        "main_dataframe.info()"
      ],
      "metadata": {
        "id": "9Nc8BscK3l4I",
        "colab": {
          "base_uri": "https://localhost:8080/"
        },
        "outputId": "64395d55-1d33-45fe-9886-e709d8aeed08"
      },
      "execution_count": 44,
      "outputs": [
        {
          "output_type": "stream",
          "name": "stdout",
          "text": [
            "<class 'pandas.core.frame.DataFrame'>\n",
            "RangeIndex: 30000 entries, 0 to 29999\n",
            "Data columns (total 18 columns):\n",
            " #   Column  Non-Null Count  Dtype \n",
            "---  ------  --------------  ----- \n",
            " 0   PMID    30000 non-null  object\n",
            " 1   TI      30000 non-null  object\n",
            " 2   AB      30000 non-null  object\n",
            " 3   AD      30000 non-null  object\n",
            " 4   FAU     30000 non-null  object\n",
            " 5   DP      30000 non-null  object\n",
            " 6   TA      30000 non-null  object\n",
            " 7   JT      30000 non-null  object\n",
            " 8   LA      30000 non-null  object\n",
            " 9   MH      30000 non-null  object\n",
            " 10  OAB     30000 non-null  object\n",
            " 11  OT      30000 non-null  object\n",
            " 12  PL      30000 non-null  object\n",
            " 13  PST     30000 non-null  object\n",
            " 14  PT      30000 non-null  object\n",
            " 15  RN      30000 non-null  object\n",
            " 16  SI      30000 non-null  object\n",
            " 17  Class   30000 non-null  object\n",
            "dtypes: object(18)\n",
            "memory usage: 4.1+ MB\n"
          ]
        }
      ]
    },
    {
      "cell_type": "code",
      "source": [
        "main_dataframe.head()"
      ],
      "metadata": {
        "id": "WccA6etJ3mpP",
        "colab": {
          "base_uri": "https://localhost:8080/",
          "height": 704
        },
        "outputId": "03cabd53-e5d0-4052-8206-8505e6e01a1c"
      },
      "execution_count": 45,
      "outputs": [
        {
          "output_type": "execute_result",
          "data": {
            "text/html": [
              "\n",
              "  <div id=\"df-b65961f1-de5d-42ea-9a4f-e2032a4df102\">\n",
              "    <div class=\"colab-df-container\">\n",
              "      <div>\n",
              "<style scoped>\n",
              "    .dataframe tbody tr th:only-of-type {\n",
              "        vertical-align: middle;\n",
              "    }\n",
              "\n",
              "    .dataframe tbody tr th {\n",
              "        vertical-align: top;\n",
              "    }\n",
              "\n",
              "    .dataframe thead th {\n",
              "        text-align: right;\n",
              "    }\n",
              "</style>\n",
              "<table border=\"1\" class=\"dataframe\">\n",
              "  <thead>\n",
              "    <tr style=\"text-align: right;\">\n",
              "      <th></th>\n",
              "      <th>PMID</th>\n",
              "      <th>TI</th>\n",
              "      <th>AB</th>\n",
              "      <th>AD</th>\n",
              "      <th>FAU</th>\n",
              "      <th>DP</th>\n",
              "      <th>TA</th>\n",
              "      <th>JT</th>\n",
              "      <th>LA</th>\n",
              "      <th>MH</th>\n",
              "      <th>OAB</th>\n",
              "      <th>OT</th>\n",
              "      <th>PL</th>\n",
              "      <th>PST</th>\n",
              "      <th>PT</th>\n",
              "      <th>RN</th>\n",
              "      <th>SI</th>\n",
              "      <th>Class</th>\n",
              "    </tr>\n",
              "  </thead>\n",
              "  <tbody>\n",
              "    <tr>\n",
              "      <th>0</th>\n",
              "      <td>31761807</td>\n",
              "      <td>What Is Cancer?</td>\n",
              "      <td>This essay focuses on themes in Explaining Can...</td>\n",
              "      <td>NONE</td>\n",
              "      <td>Hausman, Daniel M</td>\n",
              "      <td>2019</td>\n",
              "      <td>Perspect Biol Med</td>\n",
              "      <td>Perspectives in biology and medicine</td>\n",
              "      <td>eng</td>\n",
              "      <td>Philosophy, Medical;Humans;Neoplasms/*etiology</td>\n",
              "      <td>NONE</td>\n",
              "      <td>NONE</td>\n",
              "      <td>United States</td>\n",
              "      <td>ppublish</td>\n",
              "      <td>Journal Article</td>\n",
              "      <td>NONE</td>\n",
              "      <td>NONE</td>\n",
              "      <td>CANCER</td>\n",
              "    </tr>\n",
              "    <tr>\n",
              "      <th>1</th>\n",
              "      <td>28244479</td>\n",
              "      <td>Cancer and cure: A critical analysis.</td>\n",
              "      <td>Cancer is one of the most dreaded diseases of ...</td>\n",
              "      <td>Department of Medical Oncology, Dr. B. Borooah...</td>\n",
              "      <td>Saikia, B J;Roy, P S</td>\n",
              "      <td>2016 Jul-Sep</td>\n",
              "      <td>Indian J Cancer</td>\n",
              "      <td>Indian journal of cancer</td>\n",
              "      <td>eng</td>\n",
              "      <td>Neoplasms/epidemiology/mortality/*pathology/*t...</td>\n",
              "      <td>NONE</td>\n",
              "      <td>NONE</td>\n",
              "      <td>India</td>\n",
              "      <td>ppublish</td>\n",
              "      <td>Review;Journal Article</td>\n",
              "      <td>NONE</td>\n",
              "      <td>NONE</td>\n",
              "      <td>CANCER</td>\n",
              "    </tr>\n",
              "    <tr>\n",
              "      <th>2</th>\n",
              "      <td>27741350</td>\n",
              "      <td>Measuring cancer evolution from the genome.</td>\n",
              "      <td>The temporal dynamics of cancer evolution rema...</td>\n",
              "      <td>Cancer Evolutionary Genomics and Modelling Lab...</td>\n",
              "      <td>Graham, Trevor A;Sottoriva, Andrea</td>\n",
              "      <td>2017 Jan</td>\n",
              "      <td>J Pathol</td>\n",
              "      <td>The Journal of pathology</td>\n",
              "      <td>eng</td>\n",
              "      <td>Neoplasms/*diagnosis/*genetics/pathology;*Gene...</td>\n",
              "      <td>NONE</td>\n",
              "      <td>*selection;*saltation;*punctuated equilibrium;...</td>\n",
              "      <td>England</td>\n",
              "      <td>ppublish</td>\n",
              "      <td>Review;Journal Article</td>\n",
              "      <td>NONE</td>\n",
              "      <td>NONE</td>\n",
              "      <td>CANCER</td>\n",
              "    </tr>\n",
              "    <tr>\n",
              "      <th>3</th>\n",
              "      <td>29949179</td>\n",
              "      <td>Tumor microenvironment: recent advances in var...</td>\n",
              "      <td>This is a review regarding different types of ...</td>\n",
              "      <td>Department of General Surgery, Chun'an First P...</td>\n",
              "      <td>Wang, J-J;Lei, K-F;Han, F</td>\n",
              "      <td>2018 Jun</td>\n",
              "      <td>Eur Rev Med Pharmacol Sci</td>\n",
              "      <td>European review for medical and pharmacologica...</td>\n",
              "      <td>eng</td>\n",
              "      <td>Antineoplastic Agents/therapeutic use;Radiatio...</td>\n",
              "      <td>NONE</td>\n",
              "      <td>NONE</td>\n",
              "      <td>Italy</td>\n",
              "      <td>ppublish</td>\n",
              "      <td>Review;Journal Article;Research Support, Non-U...</td>\n",
              "      <td>0 (Antineoplastic Agents)</td>\n",
              "      <td>NONE</td>\n",
              "      <td>CANCER</td>\n",
              "    </tr>\n",
              "    <tr>\n",
              "      <th>4</th>\n",
              "      <td>26667886</td>\n",
              "      <td>Global Cancer Incidence and Mortality Rates an...</td>\n",
              "      <td>There are limited published data on recent can...</td>\n",
              "      <td>American Cancer Society Surveillance and Healt...</td>\n",
              "      <td>Jemal, Ahmedin;Torre, Lindsey A;Siegel, Rebecc...</td>\n",
              "      <td>2016 Jan</td>\n",
              "      <td>Cancer Epidemiol Biomarkers Prev</td>\n",
              "      <td>Cancer epidemiology, biomarkers &amp; prevention :...</td>\n",
              "      <td>eng</td>\n",
              "      <td>Prognosis;Global Health/*statistics &amp; numerica...</td>\n",
              "      <td>NONE</td>\n",
              "      <td>NONE</td>\n",
              "      <td>United States</td>\n",
              "      <td>ppublish</td>\n",
              "      <td>Review;Journal Article</td>\n",
              "      <td>NONE</td>\n",
              "      <td>NONE</td>\n",
              "      <td>CANCER</td>\n",
              "    </tr>\n",
              "  </tbody>\n",
              "</table>\n",
              "</div>\n",
              "      <button class=\"colab-df-convert\" onclick=\"convertToInteractive('df-b65961f1-de5d-42ea-9a4f-e2032a4df102')\"\n",
              "              title=\"Convert this dataframe to an interactive table.\"\n",
              "              style=\"display:none;\">\n",
              "        \n",
              "  <svg xmlns=\"http://www.w3.org/2000/svg\" height=\"24px\"viewBox=\"0 0 24 24\"\n",
              "       width=\"24px\">\n",
              "    <path d=\"M0 0h24v24H0V0z\" fill=\"none\"/>\n",
              "    <path d=\"M18.56 5.44l.94 2.06.94-2.06 2.06-.94-2.06-.94-.94-2.06-.94 2.06-2.06.94zm-11 1L8.5 8.5l.94-2.06 2.06-.94-2.06-.94L8.5 2.5l-.94 2.06-2.06.94zm10 10l.94 2.06.94-2.06 2.06-.94-2.06-.94-.94-2.06-.94 2.06-2.06.94z\"/><path d=\"M17.41 7.96l-1.37-1.37c-.4-.4-.92-.59-1.43-.59-.52 0-1.04.2-1.43.59L10.3 9.45l-7.72 7.72c-.78.78-.78 2.05 0 2.83L4 21.41c.39.39.9.59 1.41.59.51 0 1.02-.2 1.41-.59l7.78-7.78 2.81-2.81c.8-.78.8-2.07 0-2.86zM5.41 20L4 18.59l7.72-7.72 1.47 1.35L5.41 20z\"/>\n",
              "  </svg>\n",
              "      </button>\n",
              "      \n",
              "  <style>\n",
              "    .colab-df-container {\n",
              "      display:flex;\n",
              "      flex-wrap:wrap;\n",
              "      gap: 12px;\n",
              "    }\n",
              "\n",
              "    .colab-df-convert {\n",
              "      background-color: #E8F0FE;\n",
              "      border: none;\n",
              "      border-radius: 50%;\n",
              "      cursor: pointer;\n",
              "      display: none;\n",
              "      fill: #1967D2;\n",
              "      height: 32px;\n",
              "      padding: 0 0 0 0;\n",
              "      width: 32px;\n",
              "    }\n",
              "\n",
              "    .colab-df-convert:hover {\n",
              "      background-color: #E2EBFA;\n",
              "      box-shadow: 0px 1px 2px rgba(60, 64, 67, 0.3), 0px 1px 3px 1px rgba(60, 64, 67, 0.15);\n",
              "      fill: #174EA6;\n",
              "    }\n",
              "\n",
              "    [theme=dark] .colab-df-convert {\n",
              "      background-color: #3B4455;\n",
              "      fill: #D2E3FC;\n",
              "    }\n",
              "\n",
              "    [theme=dark] .colab-df-convert:hover {\n",
              "      background-color: #434B5C;\n",
              "      box-shadow: 0px 1px 3px 1px rgba(0, 0, 0, 0.15);\n",
              "      filter: drop-shadow(0px 1px 2px rgba(0, 0, 0, 0.3));\n",
              "      fill: #FFFFFF;\n",
              "    }\n",
              "  </style>\n",
              "\n",
              "      <script>\n",
              "        const buttonEl =\n",
              "          document.querySelector('#df-b65961f1-de5d-42ea-9a4f-e2032a4df102 button.colab-df-convert');\n",
              "        buttonEl.style.display =\n",
              "          google.colab.kernel.accessAllowed ? 'block' : 'none';\n",
              "\n",
              "        async function convertToInteractive(key) {\n",
              "          const element = document.querySelector('#df-b65961f1-de5d-42ea-9a4f-e2032a4df102');\n",
              "          const dataTable =\n",
              "            await google.colab.kernel.invokeFunction('convertToInteractive',\n",
              "                                                     [key], {});\n",
              "          if (!dataTable) return;\n",
              "\n",
              "          const docLinkHtml = 'Like what you see? Visit the ' +\n",
              "            '<a target=\"_blank\" href=https://colab.research.google.com/notebooks/data_table.ipynb>data table notebook</a>'\n",
              "            + ' to learn more about interactive tables.';\n",
              "          element.innerHTML = '';\n",
              "          dataTable['output_type'] = 'display_data';\n",
              "          await google.colab.output.renderOutput(dataTable, element);\n",
              "          const docLink = document.createElement('div');\n",
              "          docLink.innerHTML = docLinkHtml;\n",
              "          element.appendChild(docLink);\n",
              "        }\n",
              "      </script>\n",
              "    </div>\n",
              "  </div>\n",
              "  "
            ],
            "text/plain": [
              "       PMID                                                 TI  ...    SI   Class\n",
              "0  31761807                                    What Is Cancer?  ...  NONE  CANCER\n",
              "1  28244479              Cancer and cure: A critical analysis.  ...  NONE  CANCER\n",
              "2  27741350        Measuring cancer evolution from the genome.  ...  NONE  CANCER\n",
              "3  29949179  Tumor microenvironment: recent advances in var...  ...  NONE  CANCER\n",
              "4  26667886  Global Cancer Incidence and Mortality Rates an...  ...  NONE  CANCER\n",
              "\n",
              "[5 rows x 18 columns]"
            ]
          },
          "metadata": {},
          "execution_count": 45
        }
      ]
    },
    {
      "cell_type": "code",
      "source": [
        "main_dataframe.to_csv(\"10k-combine-pubmed-metadata.csv\", index=False)"
      ],
      "metadata": {
        "id": "-veLRnpB3yio"
      },
      "execution_count": 46,
      "outputs": []
    },
    {
      "cell_type": "markdown",
      "source": [
        "#### Saving copy to Google Drive"
      ],
      "metadata": {
        "id": "qaeBj0uC4C0A"
      }
    },
    {
      "cell_type": "code",
      "source": [
        "! cp -r /content/10k-combine-pubmed-metadata.csv /content/drive/MyDrive/05-Data/enzyme-network/\n",
        "\n",
        "! cp -r /content/10k-ebola-pubmed-metadata.csv /content/drive/MyDrive/05-Data/enzyme-network/\n",
        "\n",
        "! cp -r /content/10k-covid-pubmed-metadata.csv /content/drive/MyDrive/05-Data/enzyme-network/\n",
        "\n",
        "! cp -r /content/10k-cancer-pubmed-metadata.csv /content/drive/MyDrive/05-Data/enzyme-network/"
      ],
      "metadata": {
        "id": "TNuwcHNW4GYF"
      },
      "execution_count": 47,
      "outputs": []
    },
    {
      "cell_type": "code",
      "source": [
        "!ls /content/drive/MyDrive/05-Data/enzyme-network/"
      ],
      "metadata": {
        "id": "4bB0N9GW5NOH",
        "colab": {
          "base_uri": "https://localhost:8080/"
        },
        "outputId": "377d241f-a48f-4f1d-c5f2-6393f9c20f03"
      },
      "execution_count": 48,
      "outputs": [
        {
          "output_type": "stream",
          "name": "stdout",
          "text": [
            "10k-cancer-pubmed-metadata.csv\t 10k-covid-pubmed-metadata.csv\n",
            "10k-combine-pubmed-metadata.csv  10k-ebola-pubmed-metadata.csv\n"
          ]
        }
      ]
    },
    {
      "cell_type": "code",
      "source": [
        "endtime = time.time()"
      ],
      "metadata": {
        "id": "LvaqY9W152hJ"
      },
      "execution_count": 49,
      "outputs": []
    },
    {
      "cell_type": "code",
      "source": [
        "print(f\"It took around ~{round(endtime-starttime)} Seconds to run whole notebook.\")"
      ],
      "metadata": {
        "id": "4NFWEbzK56bt",
        "colab": {
          "base_uri": "https://localhost:8080/"
        },
        "outputId": "f150189d-7bc7-4b9d-949c-421c73e437b9"
      },
      "execution_count": 50,
      "outputs": [
        {
          "output_type": "stream",
          "name": "stdout",
          "text": [
            "It took around ~263 Seconds to run whole notebook.\n"
          ]
        }
      ]
    }
  ]
}